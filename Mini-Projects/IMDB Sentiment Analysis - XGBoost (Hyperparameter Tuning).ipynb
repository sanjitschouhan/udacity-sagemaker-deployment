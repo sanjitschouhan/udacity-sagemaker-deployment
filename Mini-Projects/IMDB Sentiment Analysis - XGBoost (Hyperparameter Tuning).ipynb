{
 "cells": [
  {
   "cell_type": "markdown",
   "metadata": {},
   "source": [
    "# Sentiment Analysis\n",
    "\n",
    "## Using XGBoost in SageMaker\n",
    "\n",
    "_Deep Learning Nanodegree Program | Deployment_\n",
    "\n",
    "---\n",
    "\n",
    "In this example of using Amazon's SageMaker service we will construct a random tree model to predict the sentiment of a movie review. You may have seen a version of this example in a pervious lesson although it would have been done using the sklearn package. Instead, we will be using the XGBoost package as it is provided to us by Amazon.\n",
    "\n",
    "## Instructions\n",
    "\n",
    "Some template code has already been provided for you, and you will need to implement additional functionality to successfully complete this notebook. You will not need to modify the included code beyond what is requested. Sections that begin with '**TODO**' in the header indicate that you need to complete or implement some portion within them. Instructions will be provided for each section and the specifics of the implementation are marked in the code block with a `# TODO: ...` comment. Please be sure to read the instructions carefully!\n",
    "\n",
    "In addition to implementing code, there will be questions for you to answer which relate to the task and your implementation. Each section where you will answer a question is preceded by a '**Question:**' header. Carefully read each question and provide your answer below the '**Answer:**' header by editing the Markdown cell.\n",
    "\n",
    "> **Note**: Code and Markdown cells can be executed using the **Shift+Enter** keyboard shortcut. In addition, a cell can be edited by typically clicking it (double-click for Markdown cells) or by pressing **Enter** while it is highlighted."
   ]
  },
  {
   "cell_type": "code",
   "execution_count": 1,
   "metadata": {},
   "outputs": [
    {
     "name": "stdout",
     "output_type": "stream",
     "text": [
      "Collecting sagemaker==1.72.0\n",
      "  Using cached sagemaker-1.72.0-py2.py3-none-any.whl\n",
      "Requirement already satisfied: boto3>=1.14.12 in /home/ec2-user/anaconda3/envs/python3/lib/python3.6/site-packages (from sagemaker==1.72.0) (1.16.37)\n",
      "Requirement already satisfied: protobuf3-to-dict>=0.1.5 in /home/ec2-user/anaconda3/envs/python3/lib/python3.6/site-packages (from sagemaker==1.72.0) (0.1.5)\n",
      "Requirement already satisfied: scipy>=0.19.0 in /home/ec2-user/anaconda3/envs/python3/lib/python3.6/site-packages (from sagemaker==1.72.0) (1.4.1)\n",
      "Requirement already satisfied: numpy>=1.9.0 in /home/ec2-user/anaconda3/envs/python3/lib/python3.6/site-packages (from sagemaker==1.72.0) (1.19.4)\n",
      "Requirement already satisfied: protobuf>=3.1 in /home/ec2-user/anaconda3/envs/python3/lib/python3.6/site-packages (from sagemaker==1.72.0) (3.14.0)\n",
      "Requirement already satisfied: importlib-metadata>=1.4.0 in /home/ec2-user/anaconda3/envs/python3/lib/python3.6/site-packages (from sagemaker==1.72.0) (3.1.0)\n",
      "Requirement already satisfied: packaging>=20.0 in /home/ec2-user/anaconda3/envs/python3/lib/python3.6/site-packages (from sagemaker==1.72.0) (20.7)\n",
      "Requirement already satisfied: jmespath<1.0.0,>=0.7.1 in /home/ec2-user/anaconda3/envs/python3/lib/python3.6/site-packages (from boto3>=1.14.12->sagemaker==1.72.0) (0.10.0)\n",
      "Requirement already satisfied: s3transfer<0.4.0,>=0.3.0 in /home/ec2-user/anaconda3/envs/python3/lib/python3.6/site-packages (from boto3>=1.14.12->sagemaker==1.72.0) (0.3.3)\n",
      "Requirement already satisfied: botocore<1.20.0,>=1.19.37 in /home/ec2-user/anaconda3/envs/python3/lib/python3.6/site-packages (from boto3>=1.14.12->sagemaker==1.72.0) (1.19.37)\n",
      "Requirement already satisfied: python-dateutil<3.0.0,>=2.1 in /home/ec2-user/anaconda3/envs/python3/lib/python3.6/site-packages (from botocore<1.20.0,>=1.19.37->boto3>=1.14.12->sagemaker==1.72.0) (2.8.1)\n",
      "Requirement already satisfied: jmespath<1.0.0,>=0.7.1 in /home/ec2-user/anaconda3/envs/python3/lib/python3.6/site-packages (from boto3>=1.14.12->sagemaker==1.72.0) (0.10.0)\n",
      "Requirement already satisfied: urllib3<1.27,>=1.25.4 in /home/ec2-user/anaconda3/envs/python3/lib/python3.6/site-packages (from botocore<1.20.0,>=1.19.37->boto3>=1.14.12->sagemaker==1.72.0) (1.25.11)\n",
      "Requirement already satisfied: zipp>=0.5 in /home/ec2-user/anaconda3/envs/python3/lib/python3.6/site-packages (from importlib-metadata>=1.4.0->sagemaker==1.72.0) (3.4.0)\n",
      "Requirement already satisfied: pyparsing>=2.0.2 in /home/ec2-user/anaconda3/envs/python3/lib/python3.6/site-packages (from packaging>=20.0->sagemaker==1.72.0) (2.4.7)\n",
      "Requirement already satisfied: six>=1.9 in /home/ec2-user/anaconda3/envs/python3/lib/python3.6/site-packages (from protobuf>=3.1->sagemaker==1.72.0) (1.15.0)\n",
      "Requirement already satisfied: protobuf>=3.1 in /home/ec2-user/anaconda3/envs/python3/lib/python3.6/site-packages (from sagemaker==1.72.0) (3.14.0)\n",
      "Requirement already satisfied: six>=1.9 in /home/ec2-user/anaconda3/envs/python3/lib/python3.6/site-packages (from protobuf>=3.1->sagemaker==1.72.0) (1.15.0)\n",
      "Requirement already satisfied: six>=1.9 in /home/ec2-user/anaconda3/envs/python3/lib/python3.6/site-packages (from protobuf>=3.1->sagemaker==1.72.0) (1.15.0)\n",
      "Requirement already satisfied: botocore<1.20.0,>=1.19.37 in /home/ec2-user/anaconda3/envs/python3/lib/python3.6/site-packages (from boto3>=1.14.12->sagemaker==1.72.0) (1.19.37)\n",
      "Requirement already satisfied: numpy>=1.9.0 in /home/ec2-user/anaconda3/envs/python3/lib/python3.6/site-packages (from sagemaker==1.72.0) (1.19.4)\n",
      "Collecting smdebug-rulesconfig==0.1.4\n",
      "  Using cached smdebug_rulesconfig-0.1.4-py2.py3-none-any.whl (10 kB)\n",
      "Installing collected packages: smdebug-rulesconfig, sagemaker\n",
      "  Attempting uninstall: smdebug-rulesconfig\n",
      "    Found existing installation: smdebug-rulesconfig 1.0.0\n",
      "    Uninstalling smdebug-rulesconfig-1.0.0:\n",
      "      Successfully uninstalled smdebug-rulesconfig-1.0.0\n",
      "  Attempting uninstall: sagemaker\n",
      "    Found existing installation: sagemaker 2.19.0\n",
      "    Uninstalling sagemaker-2.19.0:\n",
      "      Successfully uninstalled sagemaker-2.19.0\n",
      "Successfully installed sagemaker-1.72.0 smdebug-rulesconfig-0.1.4\n",
      "\u001b[33mWARNING: You are using pip version 20.3; however, version 20.3.3 is available.\n",
      "You should consider upgrading via the '/home/ec2-user/anaconda3/envs/python3/bin/python -m pip install --upgrade pip' command.\u001b[0m\n"
     ]
    }
   ],
   "source": [
    "# Make sure that we use SageMaker 1.x\n",
    "!pip install sagemaker==1.72.0"
   ]
  },
  {
   "cell_type": "markdown",
   "metadata": {},
   "source": [
    "## Step 1: Downloading the data\n",
    "\n",
    "The dataset we are going to use is very popular among researchers in Natural Language Processing, usually referred to as the [IMDb dataset](http://ai.stanford.edu/~amaas/data/sentiment/). It consists of movie reviews from the website [imdb.com](http://www.imdb.com/), each labeled as either '**pos**itive', if the reviewer enjoyed the film, or '**neg**ative' otherwise.\n",
    "\n",
    "> Maas, Andrew L., et al. [Learning Word Vectors for Sentiment Analysis](http://ai.stanford.edu/~amaas/data/sentiment/). In _Proceedings of the 49th Annual Meeting of the Association for Computational Linguistics: Human Language Technologies_. Association for Computational Linguistics, 2011.\n",
    "\n",
    "We begin by using some Jupyter Notebook magic to download and extract the dataset."
   ]
  },
  {
   "cell_type": "code",
   "execution_count": 32,
   "metadata": {},
   "outputs": [
    {
     "name": "stdout",
     "output_type": "stream",
     "text": [
      "mkdir: cannot create directory ‘../data’: File exists\n",
      "--2021-01-06 18:17:24--  http://ai.stanford.edu/~amaas/data/sentiment/aclImdb_v1.tar.gz\n",
      "Resolving ai.stanford.edu (ai.stanford.edu)... 171.64.68.10\n",
      "Connecting to ai.stanford.edu (ai.stanford.edu)|171.64.68.10|:80... connected.\n",
      "HTTP request sent, awaiting response... 200 OK\n",
      "Length: 84125825 (80M) [application/x-gzip]\n",
      "Saving to: ‘../data/aclImdb_v1.tar.gz’\n",
      "\n",
      "../data/aclImdb_v1. 100%[===================>]  80.23M  24.3MB/s    in 4.7s    \n",
      "\n",
      "2021-01-06 18:17:28 (17.0 MB/s) - ‘../data/aclImdb_v1.tar.gz’ saved [84125825/84125825]\n",
      "\n"
     ]
    }
   ],
   "source": [
    "%mkdir ../data\n",
    "!wget -O ../data/aclImdb_v1.tar.gz http://ai.stanford.edu/~amaas/data/sentiment/aclImdb_v1.tar.gz\n",
    "!tar -zxf ../data/aclImdb_v1.tar.gz -C ../data"
   ]
  },
  {
   "cell_type": "markdown",
   "metadata": {},
   "source": [
    "## Step 2: Preparing the data\n",
    "\n",
    "The data we have downloaded is split into various files, each of which contains a single review. It will be much easier going forward if we combine these individual files into two large files, one for training and one for testing."
   ]
  },
  {
   "cell_type": "code",
   "execution_count": 33,
   "metadata": {},
   "outputs": [],
   "source": [
    "import os\n",
    "import glob\n",
    "\n",
    "def read_imdb_data(data_dir='../data/aclImdb'):\n",
    "    data = {}\n",
    "    labels = {}\n",
    "    \n",
    "    for data_type in ['train', 'test']:\n",
    "        data[data_type] = {}\n",
    "        labels[data_type] = {}\n",
    "        \n",
    "        for sentiment in ['pos', 'neg']:\n",
    "            data[data_type][sentiment] = []\n",
    "            labels[data_type][sentiment] = []\n",
    "            \n",
    "            path = os.path.join(data_dir, data_type, sentiment, '*.txt')\n",
    "            files = glob.glob(path)\n",
    "            \n",
    "            for f in files:\n",
    "                with open(f) as review:\n",
    "                    data[data_type][sentiment].append(review.read())\n",
    "                    # Here we represent a positive review by '1' and a negative review by '0'\n",
    "                    labels[data_type][sentiment].append(1 if sentiment == 'pos' else 0)\n",
    "                    \n",
    "            assert len(data[data_type][sentiment]) == len(labels[data_type][sentiment]), \\\n",
    "                    \"{}/{} data size does not match labels size\".format(data_type, sentiment)\n",
    "                \n",
    "    return data, labels"
   ]
  },
  {
   "cell_type": "code",
   "execution_count": 34,
   "metadata": {},
   "outputs": [
    {
     "name": "stdout",
     "output_type": "stream",
     "text": [
      "IMDB reviews: train = 12500 pos / 12500 neg, test = 12500 pos / 12500 neg\n"
     ]
    }
   ],
   "source": [
    "data, labels = read_imdb_data()\n",
    "print(\"IMDB reviews: train = {} pos / {} neg, test = {} pos / {} neg\".format(\n",
    "            len(data['train']['pos']), len(data['train']['neg']),\n",
    "            len(data['test']['pos']), len(data['test']['neg'])))"
   ]
  },
  {
   "cell_type": "code",
   "execution_count": 35,
   "metadata": {},
   "outputs": [],
   "source": [
    "from sklearn.utils import shuffle\n",
    "\n",
    "def prepare_imdb_data(data, labels):\n",
    "    \"\"\"Prepare training and test sets from IMDb movie reviews.\"\"\"\n",
    "    \n",
    "    #Combine positive and negative reviews and labels\n",
    "    data_train = data['train']['pos'] + data['train']['neg']\n",
    "    data_test = data['test']['pos'] + data['test']['neg']\n",
    "    labels_train = labels['train']['pos'] + labels['train']['neg']\n",
    "    labels_test = labels['test']['pos'] + labels['test']['neg']\n",
    "    \n",
    "    #Shuffle reviews and corresponding labels within training and test sets\n",
    "    data_train, labels_train = shuffle(data_train, labels_train)\n",
    "    data_test, labels_test = shuffle(data_test, labels_test)\n",
    "    \n",
    "    # Return a unified training data, test data, training labels, test labets\n",
    "    return data_train, data_test, labels_train, labels_test"
   ]
  },
  {
   "cell_type": "code",
   "execution_count": 36,
   "metadata": {},
   "outputs": [
    {
     "name": "stdout",
     "output_type": "stream",
     "text": [
      "IMDb reviews (combined): train = 25000, test = 25000\n"
     ]
    }
   ],
   "source": [
    "train_X, test_X, train_y, test_y = prepare_imdb_data(data, labels)\n",
    "print(\"IMDb reviews (combined): train = {}, test = {}\".format(len(train_X), len(test_X)))"
   ]
  },
  {
   "cell_type": "code",
   "execution_count": 37,
   "metadata": {},
   "outputs": [
    {
     "data": {
      "text/plain": [
       "'This is an interesting left turn for Reel 13 Indies. TWO HARBORS is a B&W 75 minute film from Minnesota that features non-actors and is about two people finding a connection through a search for alien life. I applaud the boldness of the Reel 13 programmers of thinking out-of-the-box when selecting this film. I just wish they had picked a stronger film to be bold with. As a matter of fact, I wonder if the choice had more to do with the uniqueness of the film than with the actual quality of the film itself (Not that TWO HARBORS is completely without merit, but I\\'ll get to that a little later). <br /><br />As is common with independent films, TWO HARBORS is limited in terms of location. There are only two real locations \\x96 a large junk dealership market and a very teeny trailer, which is the home of the middle-aged main character, Vic, played by Alex Cole. Writer/director James Vculek uses the market setting to provide exposition about Vic, who is one of the dealers there. He has various people walk up to Vic and start very long conversations that provides us with just two pieces of information \\x96 Vic sells space toys (he prefers to call them \"outer space action figures\") and he is a caustic asshole. This is emblematic of one of the two key problems with TWO HARBORS - all the chatting. I\\'ve said it before and I\\'ll say it again \\x96 we are dealing with a visual medium and filmmakers need to work harder to tell their stories visually. There are exceptions, of course, but generally, endless patter is not so engaging on film \\x96 particularly if the dialogue is being used as exposition. Pretty much all the conversations in the film are long and unnecessarily verbose. A notable example would be a few scenes which feature Vic trying to play himself off as a Boy Scout leader in order to get a discount at a store. He argues with the clerk back and forth and these scenes don\\'t even advance the plot one iota. This is the kind of thing that makes even a 75 minute film feel long.<br /><br />The other problem with TWO HARBORS is the acting. I may be a bit of a curmudgeon when it comes to performance in film, but I really don\\'t feel like there\\'s a good excuse for not having good actors in your films. There are plenty of good actors out there, many of which willing to work on low-budget projects \\x96 even in Minnesota. Many filmmakers eschew the importance of acting ability as being secondary to their visuals, but that is naïve. In narrative film-making, next to the story, nothing is more important than the acting/performances. If you don\\'t believe the people enacting your story, your audience is lost.<br /><br />Originally, I thought Vculek was using non-actors, but as the film went on, I decided that they were probably community theater-type actors. It wasn\\'t that they were uncomfortable on camera. It\\'s that they were overly theatrical (i.e. big). Granted, the best of the actors were the two leads \\x96 Cole and Catherine E. Johnson as Cassie, a lonely young girl that gets caught up in Vic\\'s extra-terrestrial hunt. They seemed to have the most training, but they were still a little rough around the edges. The eccentricities they displayed seemed to be surface only - not coming from a real, organic place within. Ms. Johnson, in particular, is an interesting case. She definitely has a presence \\x96 a Midwestern charm about her, but that charisma belies the multitude of issues her character is supposed to have. She struggles to portray the idiosyncrasies that stem from a supposed life of solitude and (slave?) labor, relying on stock gestures like eye rolls, lip biting and stammering to suggest her discomfort with the outside world.<br /><br />I mentioned in the first paragraph that TWO HARBORS is not completely without merit and here\\'s what I mean. Without giving too much away, there is a fade to white an hour into the film. After that, the story takes a stunning turn, which allows the last fifteen minutes to be evocative and downright powerful \\x96 it\\'s like a sucker punch to the gut, but in a good way. It\\'s almost a huge relief to feel something after so long with these characters. The last five minutes of the film don\\'t have any dialogue at all and the result is the best part of the film \\x96 subtle, detailed (Cole does his best work of the film) and most importantly, cinematic. Then, with the closing credits comes the most staggering revelation of all \\x96 that it\\'s based on a true story, which got me to thinking. With all the dialogue, the minimal locations and the lack of cinematic qualities, it occurred to me that with two kick ass actors and a tightening re-write, TWO HARBORS might make a really kick-ass stage play \\x96 maybe even a one-act. If there are any bold theater producers out there reading this, I definitely recommend seeing if you can get a hold of the film and contact the filmmaker, Reel 13 or whomever. There might be something to this story after all\\x85<br /><br />(For more information on this or any other Reel 13 film, check out their website at www.reel13.org)'"
      ]
     },
     "execution_count": 37,
     "metadata": {},
     "output_type": "execute_result"
    }
   ],
   "source": [
    "train_X[100]"
   ]
  },
  {
   "cell_type": "markdown",
   "metadata": {},
   "source": [
    "## Step 3: Processing the data\n",
    "\n",
    "Now that we have our training and testing datasets merged and ready to use, we need to start processing the raw data into something that will be useable by our machine learning algorithm. To begin with, we remove any html formatting that may appear in the reviews and perform some standard natural language processing in order to homogenize the data."
   ]
  },
  {
   "cell_type": "code",
   "execution_count": 38,
   "metadata": {},
   "outputs": [
    {
     "name": "stderr",
     "output_type": "stream",
     "text": [
      "[nltk_data] Downloading package stopwords to\n",
      "[nltk_data]     /home/ec2-user/nltk_data...\n",
      "[nltk_data]   Package stopwords is already up-to-date!\n"
     ]
    }
   ],
   "source": [
    "import nltk\n",
    "nltk.download(\"stopwords\")\n",
    "from nltk.corpus import stopwords\n",
    "from nltk.stem.porter import *\n",
    "stemmer = PorterStemmer()"
   ]
  },
  {
   "cell_type": "code",
   "execution_count": 39,
   "metadata": {},
   "outputs": [],
   "source": [
    "import re\n",
    "from bs4 import BeautifulSoup\n",
    "\n",
    "def review_to_words(review):\n",
    "    text = BeautifulSoup(review, \"html.parser\").get_text() # Remove HTML tags\n",
    "    text = re.sub(r\"[^a-zA-Z0-9]\", \" \", text.lower()) # Convert to lower case\n",
    "    words = text.split() # Split string into words\n",
    "    words = [w for w in words if w not in stopwords.words(\"english\")] # Remove stopwords\n",
    "    words = [PorterStemmer().stem(w) for w in words] # stem\n",
    "    \n",
    "    return words"
   ]
  },
  {
   "cell_type": "code",
   "execution_count": 40,
   "metadata": {},
   "outputs": [],
   "source": [
    "import pickle\n",
    "\n",
    "cache_dir = os.path.join(\"../cache\", \"sentiment_analysis\")  # where to store cache files\n",
    "os.makedirs(cache_dir, exist_ok=True)  # ensure cache directory exists\n",
    "\n",
    "def preprocess_data(data_train, data_test, labels_train, labels_test,\n",
    "                    cache_dir=cache_dir, cache_file=\"preprocessed_data.pkl\"):\n",
    "    \"\"\"Convert each review to words; read from cache if available.\"\"\"\n",
    "\n",
    "    # If cache_file is not None, try to read from it first\n",
    "    cache_data = None\n",
    "    if cache_file is not None:\n",
    "        try:\n",
    "            with open(os.path.join(cache_dir, cache_file), \"rb\") as f:\n",
    "                cache_data = pickle.load(f)\n",
    "            print(\"Read preprocessed data from cache file:\", cache_file)\n",
    "        except:\n",
    "            pass  # unable to read from cache, but that's okay\n",
    "    \n",
    "    # If cache is missing, then do the heavy lifting\n",
    "    if cache_data is None:\n",
    "        # Preprocess training and test data to obtain words for each review\n",
    "        #words_train = list(map(review_to_words, data_train))\n",
    "        #words_test = list(map(review_to_words, data_test))\n",
    "        words_train = [review_to_words(review) for review in data_train]\n",
    "        words_test = [review_to_words(review) for review in data_test]\n",
    "        \n",
    "        # Write to cache file for future runs\n",
    "        if cache_file is not None:\n",
    "            cache_data = dict(words_train=words_train, words_test=words_test,\n",
    "                              labels_train=labels_train, labels_test=labels_test)\n",
    "            with open(os.path.join(cache_dir, cache_file), \"wb\") as f:\n",
    "                pickle.dump(cache_data, f)\n",
    "            print(\"Wrote preprocessed data to cache file:\", cache_file)\n",
    "    else:\n",
    "        # Unpack data loaded from cache file\n",
    "        words_train, words_test, labels_train, labels_test = (cache_data['words_train'],\n",
    "                cache_data['words_test'], cache_data['labels_train'], cache_data['labels_test'])\n",
    "    \n",
    "    return words_train, words_test, labels_train, labels_test"
   ]
  },
  {
   "cell_type": "code",
   "execution_count": 46,
   "metadata": {},
   "outputs": [
    {
     "name": "stdout",
     "output_type": "stream",
     "text": [
      "Read preprocessed data from cache file: preprocessed_data.pkl\n"
     ]
    }
   ],
   "source": [
    "# Preprocess data\n",
    "train_X, test_X, train_y, test_y = preprocess_data(train_X, test_X, train_y, test_y)"
   ]
  },
  {
   "cell_type": "markdown",
   "metadata": {},
   "source": [
    "### Extract Bag-of-Words features\n",
    "\n",
    "For the model we will be implementing, rather than using the reviews directly, we are going to transform each review into a Bag-of-Words feature representation. Keep in mind that 'in the wild' we will only have access to the training set so our transformer can only use the training set to construct a representation."
   ]
  },
  {
   "cell_type": "code",
   "execution_count": 47,
   "metadata": {},
   "outputs": [],
   "source": [
    "import numpy as np\n",
    "from sklearn.feature_extraction.text import CountVectorizer\n",
    "from sklearn.externals import joblib\n",
    "# joblib is an enhanced version of pickle that is more efficient for storing NumPy arrays\n",
    "\n",
    "def extract_BoW_features(words_train, words_test, vocabulary_size=5000,\n",
    "                         cache_dir=cache_dir, cache_file=\"bow_features.pkl\"):\n",
    "    \"\"\"Extract Bag-of-Words for a given set of documents, already preprocessed into words.\"\"\"\n",
    "    \n",
    "    # If cache_file is not None, try to read from it first\n",
    "    cache_data = None\n",
    "    if cache_file is not None:\n",
    "        try:\n",
    "            with open(os.path.join(cache_dir, cache_file), \"rb\") as f:\n",
    "                cache_data = joblib.load(f)\n",
    "            print(\"Read features from cache file:\", cache_file)\n",
    "        except:\n",
    "            pass  # unable to read from cache, but that's okay\n",
    "    \n",
    "    # If cache is missing, then do the heavy lifting\n",
    "    if cache_data is None:\n",
    "        # Fit a vectorizer to training documents and use it to transform them\n",
    "        # NOTE: Training documents have already been preprocessed and tokenized into words;\n",
    "        #       pass in dummy functions to skip those steps, e.g. preprocessor=lambda x: x\n",
    "        vectorizer = CountVectorizer(max_features=vocabulary_size,\n",
    "                preprocessor=lambda x: x, tokenizer=lambda x: x)  # already preprocessed\n",
    "        features_train = vectorizer.fit_transform(words_train).toarray()\n",
    "\n",
    "        # Apply the same vectorizer to transform the test documents (ignore unknown words)\n",
    "        features_test = vectorizer.transform(words_test).toarray()\n",
    "        \n",
    "        # NOTE: Remember to convert the features using .toarray() for a compact representation\n",
    "        \n",
    "        # Write to cache file for future runs (store vocabulary as well)\n",
    "        if cache_file is not None:\n",
    "            vocabulary = vectorizer.vocabulary_\n",
    "            cache_data = dict(features_train=features_train, features_test=features_test,\n",
    "                             vocabulary=vocabulary)\n",
    "            with open(os.path.join(cache_dir, cache_file), \"wb\") as f:\n",
    "                joblib.dump(cache_data, f)\n",
    "            print(\"Wrote features to cache file:\", cache_file)\n",
    "    else:\n",
    "        # Unpack data loaded from cache file\n",
    "        features_train, features_test, vocabulary = (cache_data['features_train'],\n",
    "                cache_data['features_test'], cache_data['vocabulary'])\n",
    "    \n",
    "    # Return both the extracted features as well as the vocabulary\n",
    "    return features_train, features_test, vocabulary"
   ]
  },
  {
   "cell_type": "code",
   "execution_count": 48,
   "metadata": {},
   "outputs": [
    {
     "name": "stdout",
     "output_type": "stream",
     "text": [
      "Read features from cache file: bow_features.pkl\n"
     ]
    }
   ],
   "source": [
    "# Extract Bag of Words features for both training and test datasets\n",
    "train_X, test_X, vocabulary = extract_BoW_features(train_X, test_X)"
   ]
  },
  {
   "cell_type": "markdown",
   "metadata": {},
   "source": [
    "## Step 4: Classification using XGBoost\n",
    "\n",
    "Now that we have created the feature representation of our training (and testing) data, it is time to start setting up and using the XGBoost classifier provided by SageMaker.\n",
    "\n",
    "### Writing the dataset\n",
    "\n",
    "The XGBoost classifier that we will be using requires the dataset to be written to a file and stored using Amazon S3. To do this, we will start by splitting the training dataset into two parts, the data we will train the model with and a validation set. Then, we will write those datasets to a file and upload the files to S3. In addition, we will write the test set input to a file and upload the file to S3. This is so that we can use SageMakers Batch Transform functionality to test our model once we've fit it."
   ]
  },
  {
   "cell_type": "code",
   "execution_count": 49,
   "metadata": {},
   "outputs": [],
   "source": [
    "import pandas as pd\n",
    "\n",
    "val_X = pd.DataFrame(train_X[:10000])\n",
    "train_X = pd.DataFrame(train_X[10000:])\n",
    "\n",
    "val_y = pd.DataFrame(train_y[:10000])\n",
    "train_y = pd.DataFrame(train_y[10000:])\n",
    "\n",
    "test_y = pd.DataFrame(test_y)\n",
    "test_X = pd.DataFrame(test_X)"
   ]
  },
  {
   "cell_type": "markdown",
   "metadata": {},
   "source": [
    "The documentation for the XGBoost algorithm in SageMaker requires that the saved datasets should contain no headers or index and that for the training and validation data, the label should occur first for each sample.\n",
    "\n",
    "For more information about this and other algorithms, the SageMaker developer documentation can be found on __[Amazon's website.](https://docs.aws.amazon.com/sagemaker/latest/dg/)__"
   ]
  },
  {
   "cell_type": "code",
   "execution_count": 50,
   "metadata": {},
   "outputs": [],
   "source": [
    "# First we make sure that the local directory in which we'd like to store the training and validation csv files exists.\n",
    "data_dir = '../data/xgboost'\n",
    "if not os.path.exists(data_dir):\n",
    "    os.makedirs(data_dir)"
   ]
  },
  {
   "cell_type": "code",
   "execution_count": 51,
   "metadata": {},
   "outputs": [],
   "source": [
    "# First, save the test data to test.csv in the data_dir directory. Note that we do not save the associated ground truth\n",
    "# labels, instead we will use them later to compare with our model output.\n",
    "\n",
    "pd.DataFrame(test_X).to_csv(os.path.join(data_dir, 'test.csv'), header=False, index=False)\n",
    "pd.concat([val_y, val_X], axis=1).to_csv(os.path.join(data_dir, 'validation.csv'), header=False, index=False)\n",
    "pd.concat([train_y, train_X], axis=1).to_csv(os.path.join(data_dir, 'train.csv'), header=False, index=False)"
   ]
  },
  {
   "cell_type": "code",
   "execution_count": 52,
   "metadata": {},
   "outputs": [],
   "source": [
    "# To save a bit of memory we can set text_X, train_X, val_X, train_y and val_y to None.\n",
    "\n",
    "train_X = val_X = train_y = val_y = None"
   ]
  },
  {
   "cell_type": "markdown",
   "metadata": {},
   "source": [
    "### Uploading Training / Validation files to S3\n",
    "\n",
    "Amazon's S3 service allows us to store files that can be access by both the built-in training models such as the XGBoost model we will be using as well as custom models such as the one we will see a little later.\n",
    "\n",
    "For this, and most other tasks we will be doing using SageMaker, there are two methods we could use. The first is to use the low level functionality of SageMaker which requires knowing each of the objects involved in the SageMaker environment. The second is to use the high level functionality in which certain choices have been made on the user's behalf. The low level approach benefits from allowing the user a great deal of flexibility while the high level approach makes development much quicker. For our purposes we will opt to use the high level approach although using the low-level approach is certainly an option.\n",
    "\n",
    "Recall the method `upload_data()` which is a member of object representing our current SageMaker session. What this method does is upload the data to the default bucket (which is created if it does not exist) into the path described by the key_prefix variable. To see this for yourself, once you have uploaded the data files, go to the S3 console and look to see where the files have been uploaded.\n",
    "\n",
    "For additional resources, see the __[SageMaker API documentation](http://sagemaker.readthedocs.io/en/latest/)__ and in addition the __[SageMaker Developer Guide.](https://docs.aws.amazon.com/sagemaker/latest/dg/)__"
   ]
  },
  {
   "cell_type": "code",
   "execution_count": 53,
   "metadata": {},
   "outputs": [],
   "source": [
    "import sagemaker\n",
    "\n",
    "session = sagemaker.Session() # Store the current SageMaker session\n",
    "\n",
    "# S3 prefix (which folder will we use)\n",
    "prefix = 'sentiment-xgboost'\n",
    "\n",
    "test_location = session.upload_data(os.path.join(data_dir, 'test.csv'), key_prefix=prefix)\n",
    "val_location = session.upload_data(os.path.join(data_dir, 'validation.csv'), key_prefix=prefix)\n",
    "train_location = session.upload_data(os.path.join(data_dir, 'train.csv'), key_prefix=prefix)"
   ]
  },
  {
   "cell_type": "markdown",
   "metadata": {},
   "source": [
    "### (TODO) Creating a hypertuned XGBoost model\n",
    "\n",
    "Now that the data has been uploaded it is time to create the XGBoost model. As in the Boston Housing notebook, the first step is to create an estimator object which will be used as the *base* of your hyperparameter tuning job."
   ]
  },
  {
   "cell_type": "code",
   "execution_count": 19,
   "metadata": {},
   "outputs": [],
   "source": [
    "from sagemaker import get_execution_role\n",
    "\n",
    "# Our current execution role is require when creating the model as the training\n",
    "# and inference code will need to access the model artifacts.\n",
    "role = get_execution_role()"
   ]
  },
  {
   "cell_type": "code",
   "execution_count": 20,
   "metadata": {},
   "outputs": [
    {
     "name": "stderr",
     "output_type": "stream",
     "text": [
      "'get_image_uri' method will be deprecated in favor of 'ImageURIProvider' class in SageMaker Python SDK v2.\n",
      "There is a more up to date SageMaker XGBoost image. To use the newer image, please set 'repo_version'='1.0-1'. For example:\n",
      "\tget_image_uri(region, 'xgboost', '1.0-1').\n"
     ]
    }
   ],
   "source": [
    "# We need to retrieve the location of the container which is provided by Amazon for using XGBoost.\n",
    "# As a matter of convenience, the training and inference code both use the same container.\n",
    "from sagemaker.amazon.amazon_estimator import get_image_uri\n",
    "\n",
    "container = get_image_uri(session.boto_region_name, 'xgboost')"
   ]
  },
  {
   "cell_type": "code",
   "execution_count": 22,
   "metadata": {},
   "outputs": [
    {
     "name": "stderr",
     "output_type": "stream",
     "text": [
      "Parameter image_name will be renamed to image_uri in SageMaker Python SDK v2.\n"
     ]
    }
   ],
   "source": [
    "# TODO: Create a SageMaker estimator using the container location determined in the previous cell.\n",
    "#       It is recommended that you use a single training instance of type ml.m4.xlarge. It is also\n",
    "#       recommended that you use 's3://{}/{}/output'.format(session.default_bucket(), prefix) as the\n",
    "#       output path.\n",
    "\n",
    "xgb = sagemaker.estimator.Estimator(container,\n",
    "                                    role,\n",
    "                                    train_instance_count=1,\n",
    "                                    train_instance_type='ml.m4.xlarge',\n",
    "                                    output_path='s3://{}/{}/output'.format(session.default_bucket(), prefix),\n",
    "                                    sagemaker_session=session\n",
    "                                   )\n",
    "\n",
    "# TODO: Set the XGBoost hyperparameters in the xgb object. Don't forget that in this case we have a binary\n",
    "#       label so we should be using the 'binary:logistic' objective.\n",
    "\n",
    "xgb.set_hyperparameters(max_depth=5,\n",
    "                        eta=0.2,\n",
    "                        gamma=4,\n",
    "                        min_child_weight=6,\n",
    "                        subsample=0.8,\n",
    "                        objective='binary:logistic',\n",
    "                        early_stopping_rounds=10,\n",
    "                        num_round=500\n",
    "                       )"
   ]
  },
  {
   "cell_type": "markdown",
   "metadata": {},
   "source": [
    "### (TODO) Create the hyperparameter tuner\n",
    "\n",
    "Now that the base estimator has been set up we need to construct a hyperparameter tuner object which we will use to request SageMaker construct a hyperparameter tuning job.\n",
    "\n",
    "**Note:** Training a single sentiment analysis XGBoost model takes longer than training a Boston Housing XGBoost model so if you don't want the hyperparameter tuning job to take too long, make sure to not set the total number of models (jobs) too high."
   ]
  },
  {
   "cell_type": "code",
   "execution_count": 24,
   "metadata": {},
   "outputs": [],
   "source": [
    "# First, make sure to import the relevant objects used to construct the tuner\n",
    "from sagemaker.tuner import IntegerParameter, ContinuousParameter, HyperparameterTuner\n",
    "\n",
    "# TODO: Create the hyperparameter tuner object\n",
    "\n",
    "xgb_hyperparameter_tuner = HyperparameterTuner(estimator=xgb,\n",
    "                                               objective_metric_name='validation:error',\n",
    "                                               objective_type='Minimize',\n",
    "                                               max_jobs=10,\n",
    "                                               max_parallel_jobs=3,\n",
    "                                               hyperparameter_ranges={\n",
    "                                                   'max_depth': IntegerParameter(3, 12),\n",
    "                                                   'eta'      : ContinuousParameter(0.05, 0.5),\n",
    "                                                   'min_child_weight': IntegerParameter(2, 8),\n",
    "                                                   'subsample': ContinuousParameter(0.5, 0.9),\n",
    "                                                   'gamma'    : IntegerParameter(0, 10)\n",
    "                                               }\n",
    "                                              )\n",
    "\n"
   ]
  },
  {
   "cell_type": "markdown",
   "metadata": {},
   "source": [
    "### Fit the hyperparameter tuner\n",
    "\n",
    "Now that the hyperparameter tuner object has been constructed, it is time to fit the various models and find the best performing model."
   ]
  },
  {
   "cell_type": "code",
   "execution_count": 25,
   "metadata": {},
   "outputs": [
    {
     "name": "stderr",
     "output_type": "stream",
     "text": [
      "'s3_input' class will be renamed to 'TrainingInput' in SageMaker Python SDK v2.\n",
      "'s3_input' class will be renamed to 'TrainingInput' in SageMaker Python SDK v2.\n"
     ]
    }
   ],
   "source": [
    "s3_input_train = sagemaker.s3_input(s3_data=train_location, content_type='csv')\n",
    "s3_input_validation = sagemaker.s3_input(s3_data=val_location, content_type='csv')"
   ]
  },
  {
   "cell_type": "code",
   "execution_count": 26,
   "metadata": {},
   "outputs": [],
   "source": [
    "xgb_hyperparameter_tuner.fit({'train': s3_input_train, 'validation': s3_input_validation})"
   ]
  },
  {
   "cell_type": "markdown",
   "metadata": {},
   "source": [
    "Remember that the tuning job is constructed and run in the background so if we want to see the progress of our training job we need to call the `wait()` method."
   ]
  },
  {
   "cell_type": "code",
   "execution_count": 27,
   "metadata": {},
   "outputs": [
    {
     "name": "stdout",
     "output_type": "stream",
     "text": [
      ".......................................................................................................................................................................................................................................................................................__s\n"
     ]
    }
   ],
   "source": [
    "xgb_hyperparameter_tuner.wait()"
   ]
  },
  {
   "cell_type": "markdown",
   "metadata": {},
   "source": [
    "### (TODO) Testing the model\n",
    "\n",
    "Now that we've run our hyperparameter tuning job, it's time to see how well the best performing model actually performs. To do this we will use SageMaker's Batch Transform functionality. Batch Transform is a convenient way to perform inference on a large dataset in a way that is not realtime. That is, we don't necessarily need to use our model's results immediately and instead we can peform inference on a large number of samples. An example of this in industry might be peforming an end of month report. This method of inference can also be useful to us as it means to can perform inference on our entire test set. \n",
    "\n",
    "Remember that in order to create a transformer object to perform the batch transform job, we need a trained estimator object. We can do that using the `attach()` method, creating an estimator object which is attached to the best trained job."
   ]
  },
  {
   "cell_type": "code",
   "execution_count": 28,
   "metadata": {},
   "outputs": [
    {
     "name": "stderr",
     "output_type": "stream",
     "text": [
      "Parameter image_name will be renamed to image_uri in SageMaker Python SDK v2.\n"
     ]
    },
    {
     "name": "stdout",
     "output_type": "stream",
     "text": [
      "2021-01-06 18:08:13 Starting - Preparing the instances for training\n",
      "2021-01-06 18:08:13 Downloading - Downloading input data\n",
      "2021-01-06 18:08:13 Training - Training image download completed. Training in progress.\u001b[34mArguments: train\u001b[0m\n",
      "\u001b[34m[2021-01-06:18:03:13:INFO] Running standalone xgboost training.\u001b[0m\n",
      "\u001b[34m[2021-01-06:18:03:13:INFO] Setting up HPO optimized metric to be : error\u001b[0m\n",
      "\u001b[34m[2021-01-06:18:03:13:INFO] File size need to be processed in the node: 238.47mb. Available memory size in the node: 8438.46mb\u001b[0m\n",
      "\u001b[34m[2021-01-06:18:03:13:INFO] Determined delimiter of CSV input is ','\u001b[0m\n",
      "\u001b[34m[18:03:13] S3DistributionType set as FullyReplicated\u001b[0m\n",
      "\u001b[34m[18:03:15] 15000x5000 matrix with 75000000 entries loaded from /opt/ml/input/data/train?format=csv&label_column=0&delimiter=,\u001b[0m\n",
      "\u001b[34m[2021-01-06:18:03:15:INFO] Determined delimiter of CSV input is ','\u001b[0m\n",
      "\u001b[34m[18:03:15] S3DistributionType set as FullyReplicated\u001b[0m\n",
      "\u001b[34m[18:03:16] 10000x5000 matrix with 50000000 entries loaded from /opt/ml/input/data/validation?format=csv&label_column=0&delimiter=,\u001b[0m\n",
      "\u001b[34m[18:03:21] src/tree/updater_prune.cc:74: tree pruning end, 1 roots, 76 extra nodes, 46 pruned nodes, max_depth=10\u001b[0m\n",
      "\u001b[34m[0]#011train-error:0.258867#011validation-error:0.2678\u001b[0m\n",
      "\u001b[34mMultiple eval metrics have been passed: 'validation-error' will be used for early stopping.\n",
      "\u001b[0m\n",
      "\u001b[34mWill train until validation-error hasn't improved in 10 rounds.\u001b[0m\n",
      "\u001b[34m[18:03:24] src/tree/updater_prune.cc:74: tree pruning end, 1 roots, 78 extra nodes, 36 pruned nodes, max_depth=10\u001b[0m\n",
      "\u001b[34m[1]#011train-error:0.242667#011validation-error:0.2517\u001b[0m\n",
      "\u001b[34m[18:03:28] src/tree/updater_prune.cc:74: tree pruning end, 1 roots, 70 extra nodes, 54 pruned nodes, max_depth=10\u001b[0m\n",
      "\u001b[34m[2]#011train-error:0.228267#011validation-error:0.2453\u001b[0m\n",
      "\u001b[34m[18:03:31] src/tree/updater_prune.cc:74: tree pruning end, 1 roots, 64 extra nodes, 50 pruned nodes, max_depth=10\u001b[0m\n",
      "\u001b[34m[3]#011train-error:0.221933#011validation-error:0.2409\u001b[0m\n",
      "\u001b[34m[18:03:34] src/tree/updater_prune.cc:74: tree pruning end, 1 roots, 54 extra nodes, 46 pruned nodes, max_depth=10\u001b[0m\n",
      "\u001b[34m[4]#011train-error:0.215733#011validation-error:0.2376\u001b[0m\n",
      "\u001b[34m[18:03:37] src/tree/updater_prune.cc:74: tree pruning end, 1 roots, 58 extra nodes, 38 pruned nodes, max_depth=10\u001b[0m\n",
      "\u001b[34m[5]#011train-error:0.212667#011validation-error:0.2301\u001b[0m\n",
      "\u001b[34m[18:03:40] src/tree/updater_prune.cc:74: tree pruning end, 1 roots, 74 extra nodes, 56 pruned nodes, max_depth=10\u001b[0m\n",
      "\u001b[34m[6]#011train-error:0.204267#011validation-error:0.2264\u001b[0m\n",
      "\u001b[34m[18:03:43] src/tree/updater_prune.cc:74: tree pruning end, 1 roots, 50 extra nodes, 38 pruned nodes, max_depth=10\u001b[0m\n",
      "\u001b[34m[7]#011train-error:0.199067#011validation-error:0.2213\u001b[0m\n",
      "\u001b[34m[18:03:46] src/tree/updater_prune.cc:74: tree pruning end, 1 roots, 46 extra nodes, 34 pruned nodes, max_depth=10\u001b[0m\n",
      "\u001b[34m[8]#011train-error:0.192933#011validation-error:0.2142\u001b[0m\n",
      "\u001b[34m[18:03:49] src/tree/updater_prune.cc:74: tree pruning end, 1 roots, 42 extra nodes, 42 pruned nodes, max_depth=10\u001b[0m\n",
      "\u001b[34m[9]#011train-error:0.1872#011validation-error:0.2078\u001b[0m\n",
      "\u001b[34m[18:03:52] src/tree/updater_prune.cc:74: tree pruning end, 1 roots, 54 extra nodes, 42 pruned nodes, max_depth=10\u001b[0m\n",
      "\u001b[34m[10]#011train-error:0.179533#011validation-error:0.2015\u001b[0m\n",
      "\u001b[34m[18:03:55] src/tree/updater_prune.cc:74: tree pruning end, 1 roots, 50 extra nodes, 48 pruned nodes, max_depth=10\u001b[0m\n",
      "\u001b[34m[11]#011train-error:0.1758#011validation-error:0.2015\u001b[0m\n",
      "\u001b[34m[18:03:58] src/tree/updater_prune.cc:74: tree pruning end, 1 roots, 40 extra nodes, 40 pruned nodes, max_depth=10\u001b[0m\n",
      "\u001b[34m[12]#011train-error:0.172067#011validation-error:0.1988\u001b[0m\n",
      "\u001b[34m[18:04:01] src/tree/updater_prune.cc:74: tree pruning end, 1 roots, 54 extra nodes, 44 pruned nodes, max_depth=10\u001b[0m\n",
      "\u001b[34m[13]#011train-error:0.169733#011validation-error:0.1956\u001b[0m\n",
      "\u001b[34m[18:04:04] src/tree/updater_prune.cc:74: tree pruning end, 1 roots, 48 extra nodes, 50 pruned nodes, max_depth=10\u001b[0m\n",
      "\u001b[34m[14]#011train-error:0.166267#011validation-error:0.1942\u001b[0m\n",
      "\u001b[34m[18:04:07] src/tree/updater_prune.cc:74: tree pruning end, 1 roots, 60 extra nodes, 28 pruned nodes, max_depth=10\u001b[0m\n",
      "\u001b[34m[15]#011train-error:0.160333#011validation-error:0.1906\u001b[0m\n",
      "\u001b[34m[18:04:10] src/tree/updater_prune.cc:74: tree pruning end, 1 roots, 26 extra nodes, 34 pruned nodes, max_depth=10\u001b[0m\n",
      "\u001b[34m[16]#011train-error:0.1578#011validation-error:0.1868\u001b[0m\n",
      "\u001b[34m[18:04:12] src/tree/updater_prune.cc:74: tree pruning end, 1 roots, 32 extra nodes, 32 pruned nodes, max_depth=10\u001b[0m\n",
      "\u001b[34m[17]#011train-error:0.1562#011validation-error:0.1857\u001b[0m\n",
      "\u001b[34m[18:04:15] src/tree/updater_prune.cc:74: tree pruning end, 1 roots, 38 extra nodes, 12 pruned nodes, max_depth=10\u001b[0m\n",
      "\u001b[34m[18]#011train-error:0.153#011validation-error:0.1852\u001b[0m\n",
      "\u001b[34m[18:04:18] src/tree/updater_prune.cc:74: tree pruning end, 1 roots, 50 extra nodes, 48 pruned nodes, max_depth=10\u001b[0m\n",
      "\u001b[34m[19]#011train-error:0.149467#011validation-error:0.1815\u001b[0m\n",
      "\u001b[34m[18:04:21] src/tree/updater_prune.cc:74: tree pruning end, 1 roots, 34 extra nodes, 34 pruned nodes, max_depth=10\u001b[0m\n",
      "\u001b[34m[20]#011train-error:0.147733#011validation-error:0.1803\u001b[0m\n",
      "\u001b[34m[18:04:24] src/tree/updater_prune.cc:74: tree pruning end, 1 roots, 30 extra nodes, 26 pruned nodes, max_depth=10\u001b[0m\n",
      "\u001b[34m[21]#011train-error:0.1454#011validation-error:0.1792\u001b[0m\n",
      "\u001b[34m[18:04:27] src/tree/updater_prune.cc:74: tree pruning end, 1 roots, 26 extra nodes, 44 pruned nodes, max_depth=10\u001b[0m\n",
      "\u001b[34m[22]#011train-error:0.142533#011validation-error:0.1755\u001b[0m\n",
      "\u001b[34m[18:04:30] src/tree/updater_prune.cc:74: tree pruning end, 1 roots, 34 extra nodes, 18 pruned nodes, max_depth=10\u001b[0m\n",
      "\u001b[34m[23]#011train-error:0.141733#011validation-error:0.1752\u001b[0m\n",
      "\u001b[34m[18:04:33] src/tree/updater_prune.cc:74: tree pruning end, 1 roots, 54 extra nodes, 48 pruned nodes, max_depth=10\u001b[0m\n",
      "\u001b[34m[24]#011train-error:0.139667#011validation-error:0.1748\u001b[0m\n",
      "\u001b[34m[18:04:36] src/tree/updater_prune.cc:74: tree pruning end, 1 roots, 34 extra nodes, 32 pruned nodes, max_depth=10\u001b[0m\n",
      "\u001b[34m[25]#011train-error:0.137#011validation-error:0.1736\u001b[0m\n",
      "\u001b[34m[18:04:39] src/tree/updater_prune.cc:74: tree pruning end, 1 roots, 30 extra nodes, 14 pruned nodes, max_depth=10\u001b[0m\n",
      "\u001b[34m[26]#011train-error:0.135267#011validation-error:0.1705\u001b[0m\n",
      "\u001b[34m[18:04:42] src/tree/updater_prune.cc:74: tree pruning end, 1 roots, 20 extra nodes, 24 pruned nodes, max_depth=10\u001b[0m\n",
      "\u001b[34m[27]#011train-error:0.134133#011validation-error:0.1701\u001b[0m\n",
      "\u001b[34m[18:04:45] src/tree/updater_prune.cc:74: tree pruning end, 1 roots, 36 extra nodes, 32 pruned nodes, max_depth=10\u001b[0m\n",
      "\u001b[34m[28]#011train-error:0.132133#011validation-error:0.169\u001b[0m\n",
      "\u001b[34m[18:04:48] src/tree/updater_prune.cc:74: tree pruning end, 1 roots, 28 extra nodes, 22 pruned nodes, max_depth=10\u001b[0m\n",
      "\u001b[34m[29]#011train-error:0.1302#011validation-error:0.1688\u001b[0m\n",
      "\u001b[34m[18:04:51] src/tree/updater_prune.cc:74: tree pruning end, 1 roots, 40 extra nodes, 42 pruned nodes, max_depth=10\u001b[0m\n",
      "\u001b[34m[30]#011train-error:0.129333#011validation-error:0.1665\u001b[0m\n",
      "\u001b[34m[18:04:54] src/tree/updater_prune.cc:74: tree pruning end, 1 roots, 24 extra nodes, 20 pruned nodes, max_depth=10\u001b[0m\n",
      "\u001b[34m[31]#011train-error:0.129#011validation-error:0.1664\u001b[0m\n",
      "\u001b[34m[18:04:57] src/tree/updater_prune.cc:74: tree pruning end, 1 roots, 36 extra nodes, 26 pruned nodes, max_depth=10\u001b[0m\n",
      "\u001b[34m[32]#011train-error:0.126933#011validation-error:0.1647\u001b[0m\n",
      "\u001b[34m[18:05:00] src/tree/updater_prune.cc:74: tree pruning end, 1 roots, 38 extra nodes, 32 pruned nodes, max_depth=10\u001b[0m\n",
      "\u001b[34m[33]#011train-error:0.125133#011validation-error:0.1628\u001b[0m\n",
      "\u001b[34m[18:05:03] src/tree/updater_prune.cc:74: tree pruning end, 1 roots, 32 extra nodes, 16 pruned nodes, max_depth=10\u001b[0m\n",
      "\u001b[34m[34]#011train-error:0.123867#011validation-error:0.163\u001b[0m\n",
      "\u001b[34m[18:05:06] src/tree/updater_prune.cc:74: tree pruning end, 1 roots, 42 extra nodes, 32 pruned nodes, max_depth=10\u001b[0m\n",
      "\u001b[34m[35]#011train-error:0.122933#011validation-error:0.1615\u001b[0m\n",
      "\u001b[34m[18:05:09] src/tree/updater_prune.cc:74: tree pruning end, 1 roots, 24 extra nodes, 20 pruned nodes, max_depth=10\u001b[0m\n",
      "\u001b[34m[36]#011train-error:0.121133#011validation-error:0.1629\u001b[0m\n",
      "\u001b[34m[18:05:12] src/tree/updater_prune.cc:74: tree pruning end, 1 roots, 36 extra nodes, 16 pruned nodes, max_depth=10\u001b[0m\n",
      "\u001b[34m[37]#011train-error:0.1206#011validation-error:0.1634\u001b[0m\n",
      "\u001b[34m[18:05:15] src/tree/updater_prune.cc:74: tree pruning end, 1 roots, 42 extra nodes, 54 pruned nodes, max_depth=10\u001b[0m\n",
      "\u001b[34m[38]#011train-error:0.118533#011validation-error:0.1617\u001b[0m\n",
      "\u001b[34m[18:05:18] src/tree/updater_prune.cc:74: tree pruning end, 1 roots, 22 extra nodes, 18 pruned nodes, max_depth=10\u001b[0m\n",
      "\u001b[34m[39]#011train-error:0.117333#011validation-error:0.1615\u001b[0m\n",
      "\u001b[34m[18:05:21] src/tree/updater_prune.cc:74: tree pruning end, 1 roots, 26 extra nodes, 46 pruned nodes, max_depth=10\u001b[0m\n",
      "\u001b[34m[40]#011train-error:0.116533#011validation-error:0.1612\u001b[0m\n",
      "\u001b[34m[18:05:24] src/tree/updater_prune.cc:74: tree pruning end, 1 roots, 46 extra nodes, 34 pruned nodes, max_depth=10\u001b[0m\n",
      "\u001b[34m[41]#011train-error:0.114067#011validation-error:0.1611\u001b[0m\n",
      "\u001b[34m[18:05:27] src/tree/updater_prune.cc:74: tree pruning end, 1 roots, 24 extra nodes, 16 pruned nodes, max_depth=10\u001b[0m\n",
      "\u001b[34m[42]#011train-error:0.1136#011validation-error:0.1615\u001b[0m\n",
      "\u001b[34m[18:05:30] src/tree/updater_prune.cc:74: tree pruning end, 1 roots, 30 extra nodes, 38 pruned nodes, max_depth=10\u001b[0m\n",
      "\u001b[34m[43]#011train-error:0.1132#011validation-error:0.1599\u001b[0m\n",
      "\u001b[34m[18:05:33] src/tree/updater_prune.cc:74: tree pruning end, 1 roots, 32 extra nodes, 24 pruned nodes, max_depth=10\u001b[0m\n",
      "\u001b[34m[44]#011train-error:0.112067#011validation-error:0.1599\u001b[0m\n",
      "\u001b[34m[18:05:36] src/tree/updater_prune.cc:74: tree pruning end, 1 roots, 36 extra nodes, 28 pruned nodes, max_depth=10\u001b[0m\n",
      "\u001b[34m[45]#011train-error:0.1108#011validation-error:0.1588\u001b[0m\n",
      "\u001b[34m[18:05:39] src/tree/updater_prune.cc:74: tree pruning end, 1 roots, 30 extra nodes, 16 pruned nodes, max_depth=10\u001b[0m\n",
      "\u001b[34m[46]#011train-error:0.110533#011validation-error:0.1572\u001b[0m\n",
      "\u001b[34m[18:05:42] src/tree/updater_prune.cc:74: tree pruning end, 1 roots, 20 extra nodes, 4 pruned nodes, max_depth=10\u001b[0m\n",
      "\u001b[34m[47]#011train-error:0.1098#011validation-error:0.1572\u001b[0m\n",
      "\u001b[34m[18:05:45] src/tree/updater_prune.cc:74: tree pruning end, 1 roots, 34 extra nodes, 28 pruned nodes, max_depth=10\u001b[0m\n",
      "\u001b[34m[48]#011train-error:0.108#011validation-error:0.1566\u001b[0m\n",
      "\u001b[34m[18:05:48] src/tree/updater_prune.cc:74: tree pruning end, 1 roots, 26 extra nodes, 14 pruned nodes, max_depth=10\u001b[0m\n",
      "\u001b[34m[49]#011train-error:0.107667#011validation-error:0.1555\u001b[0m\n",
      "\u001b[34m[18:05:51] src/tree/updater_prune.cc:74: tree pruning end, 1 roots, 26 extra nodes, 34 pruned nodes, max_depth=10\u001b[0m\n",
      "\u001b[34m[50]#011train-error:0.107267#011validation-error:0.1555\u001b[0m\n",
      "\u001b[34m[18:05:54] src/tree/updater_prune.cc:74: tree pruning end, 1 roots, 20 extra nodes, 24 pruned nodes, max_depth=10\u001b[0m\n",
      "\u001b[34m[51]#011train-error:0.105733#011validation-error:0.1551\u001b[0m\n",
      "\u001b[34m[18:05:57] src/tree/updater_prune.cc:74: tree pruning end, 1 roots, 30 extra nodes, 32 pruned nodes, max_depth=10\u001b[0m\n",
      "\u001b[34m[52]#011train-error:0.104267#011validation-error:0.1557\u001b[0m\n",
      "\u001b[34m[18:06:00] src/tree/updater_prune.cc:74: tree pruning end, 1 roots, 32 extra nodes, 42 pruned nodes, max_depth=10\u001b[0m\n",
      "\u001b[34m[53]#011train-error:0.1036#011validation-error:0.1547\u001b[0m\n",
      "\u001b[34m[18:06:03] src/tree/updater_prune.cc:74: tree pruning end, 1 roots, 30 extra nodes, 28 pruned nodes, max_depth=10\u001b[0m\n",
      "\u001b[34m[54]#011train-error:0.102667#011validation-error:0.1544\u001b[0m\n",
      "\u001b[34m[18:06:06] src/tree/updater_prune.cc:74: tree pruning end, 1 roots, 22 extra nodes, 6 pruned nodes, max_depth=10\u001b[0m\n",
      "\u001b[34m[55]#011train-error:0.101267#011validation-error:0.1538\u001b[0m\n",
      "\u001b[34m[18:06:09] src/tree/updater_prune.cc:74: tree pruning end, 1 roots, 24 extra nodes, 16 pruned nodes, max_depth=10\u001b[0m\n",
      "\u001b[34m[56]#011train-error:0.101#011validation-error:0.1535\u001b[0m\n",
      "\u001b[34m[18:06:12] src/tree/updater_prune.cc:74: tree pruning end, 1 roots, 22 extra nodes, 18 pruned nodes, max_depth=10\u001b[0m\n",
      "\u001b[34m[57]#011train-error:0.100067#011validation-error:0.1524\u001b[0m\n",
      "\u001b[34m[18:06:15] src/tree/updater_prune.cc:74: tree pruning end, 1 roots, 26 extra nodes, 20 pruned nodes, max_depth=10\u001b[0m\n",
      "\u001b[34m[58]#011train-error:0.100467#011validation-error:0.151\u001b[0m\n",
      "\u001b[34m[18:06:18] src/tree/updater_prune.cc:74: tree pruning end, 1 roots, 22 extra nodes, 20 pruned nodes, max_depth=10\u001b[0m\n",
      "\u001b[34m[59]#011train-error:0.100733#011validation-error:0.1504\u001b[0m\n",
      "\u001b[34m[18:06:21] src/tree/updater_prune.cc:74: tree pruning end, 1 roots, 24 extra nodes, 12 pruned nodes, max_depth=10\u001b[0m\n",
      "\u001b[34m[60]#011train-error:0.100467#011validation-error:0.1499\u001b[0m\n",
      "\u001b[34m[18:06:24] src/tree/updater_prune.cc:74: tree pruning end, 1 roots, 22 extra nodes, 10 pruned nodes, max_depth=10\u001b[0m\n",
      "\u001b[34m[61]#011train-error:0.099533#011validation-error:0.15\u001b[0m\n",
      "\u001b[34m[18:06:27] src/tree/updater_prune.cc:74: tree pruning end, 1 roots, 24 extra nodes, 36 pruned nodes, max_depth=10\u001b[0m\n",
      "\u001b[34m[62]#011train-error:0.099267#011validation-error:0.15\u001b[0m\n",
      "\u001b[34m[18:06:30] src/tree/updater_prune.cc:74: tree pruning end, 1 roots, 30 extra nodes, 24 pruned nodes, max_depth=10\u001b[0m\n",
      "\u001b[34m[63]#011train-error:0.0986#011validation-error:0.1495\u001b[0m\n",
      "\u001b[34m[18:06:33] src/tree/updater_prune.cc:74: tree pruning end, 1 roots, 36 extra nodes, 24 pruned nodes, max_depth=10\u001b[0m\n",
      "\u001b[34m[64]#011train-error:0.097067#011validation-error:0.1486\u001b[0m\n",
      "\u001b[34m[18:06:36] src/tree/updater_prune.cc:74: tree pruning end, 1 roots, 24 extra nodes, 14 pruned nodes, max_depth=10\u001b[0m\n",
      "\u001b[34m[65]#011train-error:0.0974#011validation-error:0.148\u001b[0m\n",
      "\u001b[34m[18:06:39] src/tree/updater_prune.cc:74: tree pruning end, 1 roots, 24 extra nodes, 32 pruned nodes, max_depth=10\u001b[0m\n",
      "\u001b[34m[66]#011train-error:0.0974#011validation-error:0.1487\u001b[0m\n",
      "\u001b[34m[18:06:42] src/tree/updater_prune.cc:74: tree pruning end, 1 roots, 30 extra nodes, 44 pruned nodes, max_depth=10\u001b[0m\n",
      "\u001b[34m[67]#011train-error:0.097333#011validation-error:0.1486\u001b[0m\n",
      "\u001b[34m[18:06:45] src/tree/updater_prune.cc:74: tree pruning end, 1 roots, 28 extra nodes, 12 pruned nodes, max_depth=10\u001b[0m\n",
      "\u001b[34m[68]#011train-error:0.096067#011validation-error:0.1482\u001b[0m\n",
      "\u001b[34m[18:06:48] src/tree/updater_prune.cc:74: tree pruning end, 1 roots, 30 extra nodes, 10 pruned nodes, max_depth=10\u001b[0m\n",
      "\u001b[34m[69]#011train-error:0.096333#011validation-error:0.1483\u001b[0m\n",
      "\u001b[34m[18:06:51] src/tree/updater_prune.cc:74: tree pruning end, 1 roots, 24 extra nodes, 24 pruned nodes, max_depth=10\u001b[0m\n",
      "\u001b[34m[70]#011train-error:0.0956#011validation-error:0.148\u001b[0m\n",
      "\u001b[34m[18:06:54] src/tree/updater_prune.cc:74: tree pruning end, 1 roots, 20 extra nodes, 28 pruned nodes, max_depth=10\u001b[0m\n",
      "\u001b[34m[71]#011train-error:0.094867#011validation-error:0.1477\u001b[0m\n",
      "\u001b[34m[18:06:56] src/tree/updater_prune.cc:74: tree pruning end, 1 roots, 20 extra nodes, 20 pruned nodes, max_depth=10\u001b[0m\n",
      "\u001b[34m[72]#011train-error:0.094867#011validation-error:0.1476\u001b[0m\n",
      "\u001b[34m[18:06:59] src/tree/updater_prune.cc:74: tree pruning end, 1 roots, 20 extra nodes, 12 pruned nodes, max_depth=10\u001b[0m\n",
      "\u001b[34m[73]#011train-error:0.094267#011validation-error:0.1477\u001b[0m\n",
      "\u001b[34m[18:07:03] src/tree/updater_prune.cc:74: tree pruning end, 1 roots, 20 extra nodes, 10 pruned nodes, max_depth=10\u001b[0m\n",
      "\u001b[34m[74]#011train-error:0.0934#011validation-error:0.1473\u001b[0m\n",
      "\u001b[34m[18:07:05] src/tree/updater_prune.cc:74: tree pruning end, 1 roots, 22 extra nodes, 16 pruned nodes, max_depth=10\u001b[0m\n",
      "\u001b[34m[75]#011train-error:0.092867#011validation-error:0.1464\u001b[0m\n",
      "\u001b[34m[18:07:08] src/tree/updater_prune.cc:74: tree pruning end, 1 roots, 38 extra nodes, 26 pruned nodes, max_depth=10\u001b[0m\n",
      "\u001b[34m[76]#011train-error:0.093133#011validation-error:0.1469\u001b[0m\n",
      "\u001b[34m[18:07:11] src/tree/updater_prune.cc:74: tree pruning end, 1 roots, 26 extra nodes, 26 pruned nodes, max_depth=10\u001b[0m\n",
      "\u001b[34m[77]#011train-error:0.093867#011validation-error:0.1474\u001b[0m\n",
      "\u001b[34m[18:07:14] src/tree/updater_prune.cc:74: tree pruning end, 1 roots, 22 extra nodes, 20 pruned nodes, max_depth=10\u001b[0m\n",
      "\u001b[34m[78]#011train-error:0.093#011validation-error:0.1473\u001b[0m\n",
      "\u001b[34m[18:07:17] src/tree/updater_prune.cc:74: tree pruning end, 1 roots, 20 extra nodes, 2 pruned nodes, max_depth=10\u001b[0m\n",
      "\u001b[34m[79]#011train-error:0.0924#011validation-error:0.1466\u001b[0m\n",
      "\u001b[34m[18:07:20] src/tree/updater_prune.cc:74: tree pruning end, 1 roots, 22 extra nodes, 18 pruned nodes, max_depth=10\u001b[0m\n",
      "\u001b[34m[80]#011train-error:0.091133#011validation-error:0.1456\u001b[0m\n",
      "\u001b[34m[18:07:23] src/tree/updater_prune.cc:74: tree pruning end, 1 roots, 20 extra nodes, 22 pruned nodes, max_depth=10\u001b[0m\n",
      "\u001b[34m[81]#011train-error:0.090867#011validation-error:0.1456\u001b[0m\n",
      "\u001b[34m[18:07:26] src/tree/updater_prune.cc:74: tree pruning end, 1 roots, 20 extra nodes, 14 pruned nodes, max_depth=10\u001b[0m\n",
      "\u001b[34m[82]#011train-error:0.090267#011validation-error:0.145\u001b[0m\n",
      "\u001b[34m[18:07:29] src/tree/updater_prune.cc:74: tree pruning end, 1 roots, 24 extra nodes, 36 pruned nodes, max_depth=10\u001b[0m\n",
      "\u001b[34m[83]#011train-error:0.090133#011validation-error:0.1448\u001b[0m\n",
      "\u001b[34m[18:07:32] src/tree/updater_prune.cc:74: tree pruning end, 1 roots, 24 extra nodes, 10 pruned nodes, max_depth=10\u001b[0m\n",
      "\u001b[34m[84]#011train-error:0.088733#011validation-error:0.1446\u001b[0m\n",
      "\u001b[34m[18:07:35] src/tree/updater_prune.cc:74: tree pruning end, 1 roots, 20 extra nodes, 22 pruned nodes, max_depth=10\u001b[0m\n",
      "\u001b[34m[85]#011train-error:0.088733#011validation-error:0.1442\u001b[0m\n",
      "\u001b[34m[18:07:38] src/tree/updater_prune.cc:74: tree pruning end, 1 roots, 36 extra nodes, 36 pruned nodes, max_depth=10\u001b[0m\n",
      "\u001b[34m[86]#011train-error:0.086867#011validation-error:0.1436\u001b[0m\n",
      "\u001b[34m[18:07:41] src/tree/updater_prune.cc:74: tree pruning end, 1 roots, 34 extra nodes, 32 pruned nodes, max_depth=10\u001b[0m\n",
      "\u001b[34m[87]#011train-error:0.086733#011validation-error:0.1448\u001b[0m\n",
      "\u001b[34m[18:07:44] src/tree/updater_prune.cc:74: tree pruning end, 1 roots, 22 extra nodes, 24 pruned nodes, max_depth=10\u001b[0m\n",
      "\u001b[34m[88]#011train-error:0.0862#011validation-error:0.1437\u001b[0m\n",
      "\u001b[34m[18:07:47] src/tree/updater_prune.cc:74: tree pruning end, 1 roots, 24 extra nodes, 34 pruned nodes, max_depth=10\u001b[0m\n",
      "\u001b[34m[89]#011train-error:0.086333#011validation-error:0.1439\u001b[0m\n",
      "\u001b[34m[18:07:50] src/tree/updater_prune.cc:74: tree pruning end, 1 roots, 20 extra nodes, 36 pruned nodes, max_depth=9\u001b[0m\n",
      "\u001b[34m[90]#011train-error:0.085933#011validation-error:0.1428\u001b[0m\n",
      "\u001b[34m[18:07:53] src/tree/updater_prune.cc:74: tree pruning end, 1 roots, 24 extra nodes, 22 pruned nodes, max_depth=10\u001b[0m\n",
      "\u001b[34m[91]#011train-error:0.086333#011validation-error:0.1427\u001b[0m\n",
      "\u001b[34m[18:07:56] src/tree/updater_prune.cc:74: tree pruning end, 1 roots, 20 extra nodes, 32 pruned nodes, max_depth=10\u001b[0m\n",
      "\u001b[34m[92]#011train-error:0.0856#011validation-error:0.1423\u001b[0m\n",
      "\u001b[34m[18:07:59] src/tree/updater_prune.cc:74: tree pruning end, 1 roots, 20 extra nodes, 14 pruned nodes, max_depth=10\u001b[0m\n",
      "\u001b[34m[93]#011train-error:0.085133#011validation-error:0.1419\u001b[0m\n",
      "\u001b[34m[18:08:02] src/tree/updater_prune.cc:74: tree pruning end, 1 roots, 34 extra nodes, 38 pruned nodes, max_depth=10\u001b[0m\n",
      "\u001b[34m[94]#011train-error:0.084333#011validation-error:0.1419\u001b[0m\n",
      "\u001b[34m[18:08:05] src/tree/updater_prune.cc:74: tree pruning end, 1 roots, 38 extra nodes, 6 pruned nodes, max_depth=10\u001b[0m\n",
      "\u001b[34m[95]#011train-error:0.083867#011validation-error:0.1422\u001b[0m\n",
      "\u001b[34m[18:08:08] src/tree/updater_prune.cc:74: tree pruning end, 1 roots, 20 extra nodes, 26 pruned nodes, max_depth=10\u001b[0m\n",
      "\u001b[34m[96]#011train-error:0.083#011validation-error:0.1418\u001b[0m\n",
      "\u001b[34m[18:08:10] src/tree/updater_prune.cc:74: tree pruning end, 1 roots, 20 extra nodes, 8 pruned nodes, max_depth=10\u001b[0m\n",
      "\u001b[34m[97]#011train-error:0.082467#011validation-error:0.1415\u001b[0m\n",
      "\u001b[34m[18:08:13] src/tree/updater_prune.cc:74: tree pruning end, 1 roots, 22 extra nodes, 14 pruned nodes, max_depth=10\u001b[0m\n",
      "\u001b[34m[98]#011train-error:0.0826#011validation-error:0.1409\u001b[0m\n",
      "\u001b[34m[18:08:16] src/tree/updater_prune.cc:74: tree pruning end, 1 roots, 20 extra nodes, 20 pruned nodes, max_depth=10\u001b[0m\n",
      "\u001b[34m[99]#011train-error:0.081667#011validation-error:0.1409\u001b[0m\n"
     ]
    },
    {
     "name": "stdout",
     "output_type": "stream",
     "text": [
      "\u001b[34m[18:08:19] src/tree/updater_prune.cc:74: tree pruning end, 1 roots, 24 extra nodes, 30 pruned nodes, max_depth=10\u001b[0m\n",
      "\u001b[34m[100]#011train-error:0.0812#011validation-error:0.1411\u001b[0m\n",
      "\u001b[34m[18:08:22] src/tree/updater_prune.cc:74: tree pruning end, 1 roots, 22 extra nodes, 32 pruned nodes, max_depth=10\u001b[0m\n",
      "\u001b[34m[101]#011train-error:0.081#011validation-error:0.1417\u001b[0m\n",
      "\u001b[34m[18:08:25] src/tree/updater_prune.cc:74: tree pruning end, 1 roots, 20 extra nodes, 10 pruned nodes, max_depth=9\u001b[0m\n",
      "\u001b[34m[102]#011train-error:0.0804#011validation-error:0.1412\u001b[0m\n",
      "\u001b[34m[18:08:28] src/tree/updater_prune.cc:74: tree pruning end, 1 roots, 20 extra nodes, 12 pruned nodes, max_depth=10\u001b[0m\n",
      "\u001b[34m[103]#011train-error:0.080467#011validation-error:0.1408\u001b[0m\n",
      "\u001b[34m[18:08:31] src/tree/updater_prune.cc:74: tree pruning end, 1 roots, 22 extra nodes, 18 pruned nodes, max_depth=10\u001b[0m\n",
      "\u001b[34m[104]#011train-error:0.079667#011validation-error:0.1403\u001b[0m\n",
      "\u001b[34m[18:08:34] src/tree/updater_prune.cc:74: tree pruning end, 1 roots, 20 extra nodes, 16 pruned nodes, max_depth=10\u001b[0m\n",
      "\u001b[34m[105]#011train-error:0.079533#011validation-error:0.1401\u001b[0m\n",
      "\u001b[34m[18:08:37] src/tree/updater_prune.cc:74: tree pruning end, 1 roots, 22 extra nodes, 18 pruned nodes, max_depth=10\u001b[0m\n",
      "\u001b[34m[106]#011train-error:0.0792#011validation-error:0.14\u001b[0m\n",
      "\u001b[34m[18:08:40] src/tree/updater_prune.cc:74: tree pruning end, 1 roots, 26 extra nodes, 38 pruned nodes, max_depth=10\u001b[0m\n",
      "\u001b[34m[107]#011train-error:0.0802#011validation-error:0.141\u001b[0m\n",
      "\u001b[34m[18:08:43] src/tree/updater_prune.cc:74: tree pruning end, 1 roots, 16 extra nodes, 22 pruned nodes, max_depth=7\u001b[0m\n",
      "\u001b[34m[108]#011train-error:0.080267#011validation-error:0.1409\u001b[0m\n",
      "\u001b[34m[18:08:46] src/tree/updater_prune.cc:74: tree pruning end, 1 roots, 36 extra nodes, 24 pruned nodes, max_depth=10\u001b[0m\n",
      "\u001b[34m[109]#011train-error:0.079#011validation-error:0.1398\u001b[0m\n",
      "\u001b[34m[18:08:49] src/tree/updater_prune.cc:74: tree pruning end, 1 roots, 18 extra nodes, 24 pruned nodes, max_depth=9\u001b[0m\n",
      "\u001b[34m[110]#011train-error:0.079267#011validation-error:0.1391\u001b[0m\n",
      "\u001b[34m[18:08:52] src/tree/updater_prune.cc:74: tree pruning end, 1 roots, 18 extra nodes, 8 pruned nodes, max_depth=9\u001b[0m\n",
      "\u001b[34m[111]#011train-error:0.078733#011validation-error:0.1396\u001b[0m\n",
      "\u001b[34m[18:08:55] src/tree/updater_prune.cc:74: tree pruning end, 1 roots, 28 extra nodes, 42 pruned nodes, max_depth=9\u001b[0m\n",
      "\u001b[34m[112]#011train-error:0.0786#011validation-error:0.1388\u001b[0m\n",
      "\u001b[34m[18:08:58] src/tree/updater_prune.cc:74: tree pruning end, 1 roots, 24 extra nodes, 30 pruned nodes, max_depth=10\u001b[0m\n",
      "\u001b[34m[113]#011train-error:0.079333#011validation-error:0.1392\u001b[0m\n",
      "\u001b[34m[18:09:01] src/tree/updater_prune.cc:74: tree pruning end, 1 roots, 24 extra nodes, 26 pruned nodes, max_depth=10\u001b[0m\n",
      "\u001b[34m[114]#011train-error:0.079#011validation-error:0.1398\u001b[0m\n",
      "\u001b[34m[18:09:04] src/tree/updater_prune.cc:74: tree pruning end, 1 roots, 18 extra nodes, 12 pruned nodes, max_depth=9\u001b[0m\n",
      "\u001b[34m[115]#011train-error:0.0786#011validation-error:0.1404\u001b[0m\n",
      "\u001b[34m[18:09:07] src/tree/updater_prune.cc:74: tree pruning end, 1 roots, 22 extra nodes, 26 pruned nodes, max_depth=9\u001b[0m\n",
      "\u001b[34m[116]#011train-error:0.078333#011validation-error:0.1394\u001b[0m\n",
      "\u001b[34m[18:09:10] src/tree/updater_prune.cc:74: tree pruning end, 1 roots, 24 extra nodes, 12 pruned nodes, max_depth=10\u001b[0m\n",
      "\u001b[34m[117]#011train-error:0.0774#011validation-error:0.1388\u001b[0m\n",
      "\u001b[34m[18:09:13] src/tree/updater_prune.cc:74: tree pruning end, 1 roots, 20 extra nodes, 22 pruned nodes, max_depth=10\u001b[0m\n",
      "\u001b[34m[118]#011train-error:0.077733#011validation-error:0.1391\u001b[0m\n",
      "\u001b[34m[18:09:16] src/tree/updater_prune.cc:74: tree pruning end, 1 roots, 20 extra nodes, 12 pruned nodes, max_depth=10\u001b[0m\n",
      "\u001b[34m[119]#011train-error:0.076933#011validation-error:0.1381\u001b[0m\n",
      "\u001b[34m[18:09:19] src/tree/updater_prune.cc:74: tree pruning end, 1 roots, 20 extra nodes, 14 pruned nodes, max_depth=9\u001b[0m\n",
      "\u001b[34m[120]#011train-error:0.076067#011validation-error:0.1382\u001b[0m\n",
      "\u001b[34m[18:09:22] src/tree/updater_prune.cc:74: tree pruning end, 1 roots, 0 extra nodes, 36 pruned nodes, max_depth=0\u001b[0m\n",
      "\u001b[34m[121]#011train-error:0.0762#011validation-error:0.1382\u001b[0m\n",
      "\u001b[34m[18:09:25] src/tree/updater_prune.cc:74: tree pruning end, 1 roots, 22 extra nodes, 30 pruned nodes, max_depth=10\u001b[0m\n",
      "\u001b[34m[122]#011train-error:0.075867#011validation-error:0.1381\u001b[0m\n",
      "\u001b[34m[18:09:28] src/tree/updater_prune.cc:74: tree pruning end, 1 roots, 22 extra nodes, 24 pruned nodes, max_depth=9\u001b[0m\n",
      "\u001b[34m[123]#011train-error:0.075#011validation-error:0.137\u001b[0m\n",
      "\u001b[34m[18:09:31] src/tree/updater_prune.cc:74: tree pruning end, 1 roots, 22 extra nodes, 22 pruned nodes, max_depth=10\u001b[0m\n",
      "\u001b[34m[124]#011train-error:0.0754#011validation-error:0.1378\u001b[0m\n",
      "\u001b[34m[18:09:34] src/tree/updater_prune.cc:74: tree pruning end, 1 roots, 20 extra nodes, 14 pruned nodes, max_depth=10\u001b[0m\n",
      "\u001b[34m[125]#011train-error:0.075333#011validation-error:0.1372\u001b[0m\n",
      "\u001b[34m[18:09:37] src/tree/updater_prune.cc:74: tree pruning end, 1 roots, 20 extra nodes, 26 pruned nodes, max_depth=8\u001b[0m\n",
      "\u001b[34m[126]#011train-error:0.075067#011validation-error:0.136\u001b[0m\n",
      "\u001b[34m[18:09:40] src/tree/updater_prune.cc:74: tree pruning end, 1 roots, 18 extra nodes, 14 pruned nodes, max_depth=8\u001b[0m\n",
      "\u001b[34m[127]#011train-error:0.0752#011validation-error:0.1362\u001b[0m\n",
      "\u001b[34m[18:09:43] src/tree/updater_prune.cc:74: tree pruning end, 1 roots, 22 extra nodes, 12 pruned nodes, max_depth=10\u001b[0m\n",
      "\u001b[34m[128]#011train-error:0.075133#011validation-error:0.1371\u001b[0m\n",
      "\u001b[34m[18:09:46] src/tree/updater_prune.cc:74: tree pruning end, 1 roots, 20 extra nodes, 14 pruned nodes, max_depth=10\u001b[0m\n",
      "\u001b[34m[129]#011train-error:0.0744#011validation-error:0.1363\u001b[0m\n",
      "\u001b[34m[18:09:49] src/tree/updater_prune.cc:74: tree pruning end, 1 roots, 20 extra nodes, 16 pruned nodes, max_depth=10\u001b[0m\n",
      "\u001b[34m[130]#011train-error:0.0744#011validation-error:0.1376\u001b[0m\n",
      "\u001b[34m[18:09:52] src/tree/updater_prune.cc:74: tree pruning end, 1 roots, 4 extra nodes, 30 pruned nodes, max_depth=2\u001b[0m\n",
      "\u001b[34m[131]#011train-error:0.074533#011validation-error:0.137\u001b[0m\n",
      "\u001b[34m[18:09:55] src/tree/updater_prune.cc:74: tree pruning end, 1 roots, 22 extra nodes, 4 pruned nodes, max_depth=10\u001b[0m\n",
      "\u001b[34m[132]#011train-error:0.073333#011validation-error:0.1366\u001b[0m\n",
      "\u001b[34m[18:09:58] src/tree/updater_prune.cc:74: tree pruning end, 1 roots, 20 extra nodes, 20 pruned nodes, max_depth=10\u001b[0m\n",
      "\u001b[34m[133]#011train-error:0.073067#011validation-error:0.1367\u001b[0m\n",
      "\u001b[34m[18:10:01] src/tree/updater_prune.cc:74: tree pruning end, 1 roots, 20 extra nodes, 8 pruned nodes, max_depth=10\u001b[0m\n",
      "\u001b[34m[134]#011train-error:0.073133#011validation-error:0.1373\u001b[0m\n",
      "\u001b[34m[18:10:04] src/tree/updater_prune.cc:74: tree pruning end, 1 roots, 22 extra nodes, 40 pruned nodes, max_depth=9\u001b[0m\n",
      "\u001b[34m[135]#011train-error:0.072867#011validation-error:0.137\u001b[0m\n",
      "\u001b[34m[18:10:07] src/tree/updater_prune.cc:74: tree pruning end, 1 roots, 0 extra nodes, 26 pruned nodes, max_depth=0\u001b[0m\n",
      "\u001b[34m[136]#011train-error:0.072933#011validation-error:0.137\u001b[0m\n",
      "\u001b[34mStopping. Best iteration:\u001b[0m\n",
      "\u001b[34m[126]#011train-error:0.075067#011validation-error:0.136\n",
      "\u001b[0m\n",
      "\n",
      "2021-01-06 18:10:16 Uploading - Uploading generated training model\n",
      "2021-01-06 18:10:16 Completed - Training job completed\n",
      "Training seconds: 456\n",
      "Billable seconds: 456\n"
     ]
    }
   ],
   "source": [
    "# TODO: Create a new estimator object attached to the best training job found during hyperparameter tuning\n",
    "\n",
    "xgb_attached = sagemaker.estimator.Estimator.attach(xgb_hyperparameter_tuner.best_training_job())\n"
   ]
  },
  {
   "cell_type": "markdown",
   "metadata": {},
   "source": [
    "Now that we have an estimator object attached to the correct training job, we can proceed as we normally would and create a transformer object."
   ]
  },
  {
   "cell_type": "code",
   "execution_count": 29,
   "metadata": {},
   "outputs": [
    {
     "name": "stderr",
     "output_type": "stream",
     "text": [
      "Parameter image will be renamed to image_uri in SageMaker Python SDK v2.\n"
     ]
    }
   ],
   "source": [
    "# TODO: Create a transformer object from the attached estimator. Using an instance count of 1 and an instance type of ml.m4.xlarge\n",
    "#       should be more than enough.\n",
    "\n",
    "xgb_transformer = xgb_attached.transformer(instance_count = 1, instance_type = 'ml.m4.xlarge')\n"
   ]
  },
  {
   "cell_type": "markdown",
   "metadata": {},
   "source": [
    "Next we actually perform the transform job. When doing so we need to make sure to specify the type of data we are sending so that it is serialized correctly in the background. In our case we are providing our model with csv data so we specify `text/csv`. Also, if the test data that we have provided is too large to process all at once then we need to specify how the data file should be split up. Since each line is a single entry in our data set we tell SageMaker that it can split the input on each line."
   ]
  },
  {
   "cell_type": "code",
   "execution_count": 54,
   "metadata": {},
   "outputs": [],
   "source": [
    "# TODO: Start the transform job. Make sure to specify the content type and the split type of the test data.\n",
    "xgb_transformer.transform(test_location, content_type='text/csv', split_type='Line')"
   ]
  },
  {
   "cell_type": "markdown",
   "metadata": {},
   "source": [
    "Currently the transform job is running but it is doing so in the background. Since we wish to wait until the transform job is done and we would like a bit of feedback we can run the `wait()` method."
   ]
  },
  {
   "cell_type": "code",
   "execution_count": 55,
   "metadata": {},
   "outputs": [
    {
     "name": "stdout",
     "output_type": "stream",
     "text": [
      ".............................\u001b[32m2021-01-06T18:25:10.456:[sagemaker logs]: MaxConcurrentTransforms=4, MaxPayloadInMB=6, BatchStrategy=MULTI_RECORD\u001b[0m\n",
      "\u001b[34mArguments: serve\u001b[0m\n",
      "\u001b[34m[2021-01-06 18:25:10 +0000] [1] [INFO] Starting gunicorn 19.7.1\u001b[0m\n",
      "\u001b[34m[2021-01-06 18:25:10 +0000] [1] [INFO] Listening at: http://0.0.0.0:8080 (1)\u001b[0m\n",
      "\u001b[34m[2021-01-06 18:25:10 +0000] [1] [INFO] Using worker: gevent\u001b[0m\n",
      "\u001b[34m[2021-01-06 18:25:10 +0000] [37] [INFO] Booting worker with pid: 37\u001b[0m\n",
      "\u001b[34m[2021-01-06 18:25:10 +0000] [38] [INFO] Booting worker with pid: 38\u001b[0m\n",
      "\u001b[34m[2021-01-06 18:25:10 +0000] [39] [INFO] Booting worker with pid: 39\u001b[0m\n",
      "\u001b[34m[2021-01-06 18:25:10 +0000] [40] [INFO] Booting worker with pid: 40\u001b[0m\n",
      "\u001b[35mArguments: serve\u001b[0m\n",
      "\u001b[35m[2021-01-06 18:25:10 +0000] [1] [INFO] Starting gunicorn 19.7.1\u001b[0m\n",
      "\u001b[35m[2021-01-06 18:25:10 +0000] [1] [INFO] Listening at: http://0.0.0.0:8080 (1)\u001b[0m\n",
      "\u001b[35m[2021-01-06 18:25:10 +0000] [1] [INFO] Using worker: gevent\u001b[0m\n",
      "\u001b[35m[2021-01-06 18:25:10 +0000] [37] [INFO] Booting worker with pid: 37\u001b[0m\n",
      "\u001b[35m[2021-01-06 18:25:10 +0000] [38] [INFO] Booting worker with pid: 38\u001b[0m\n",
      "\u001b[35m[2021-01-06 18:25:10 +0000] [39] [INFO] Booting worker with pid: 39\u001b[0m\n",
      "\u001b[35m[2021-01-06 18:25:10 +0000] [40] [INFO] Booting worker with pid: 40\u001b[0m\n",
      "\u001b[34m[2021-01-06:18:25:10:INFO] Model loaded successfully for worker : 37\u001b[0m\n",
      "\u001b[34m[2021-01-06:18:25:10:INFO] Model loaded successfully for worker : 38\u001b[0m\n",
      "\u001b[34m[2021-01-06:18:25:10:INFO] Model loaded successfully for worker : 39\u001b[0m\n",
      "\u001b[34m[2021-01-06:18:25:10:INFO] Model loaded successfully for worker : 40\u001b[0m\n",
      "\u001b[34m[2021-01-06:18:25:10:INFO] Sniff delimiter as ','\u001b[0m\n",
      "\u001b[34m[2021-01-06:18:25:10:INFO] Determined delimiter of CSV input is ','\u001b[0m\n",
      "\u001b[34m[2021-01-06:18:25:10:INFO] Sniff delimiter as ','\u001b[0m\n",
      "\u001b[34m[2021-01-06:18:25:10:INFO] Determined delimiter of CSV input is ','\u001b[0m\n",
      "\u001b[35m[2021-01-06:18:25:10:INFO] Model loaded successfully for worker : 37\u001b[0m\n",
      "\u001b[35m[2021-01-06:18:25:10:INFO] Model loaded successfully for worker : 38\u001b[0m\n",
      "\u001b[35m[2021-01-06:18:25:10:INFO] Model loaded successfully for worker : 39\u001b[0m\n",
      "\u001b[35m[2021-01-06:18:25:10:INFO] Model loaded successfully for worker : 40\u001b[0m\n",
      "\u001b[35m[2021-01-06:18:25:10:INFO] Sniff delimiter as ','\u001b[0m\n",
      "\u001b[35m[2021-01-06:18:25:10:INFO] Determined delimiter of CSV input is ','\u001b[0m\n",
      "\u001b[35m[2021-01-06:18:25:10:INFO] Sniff delimiter as ','\u001b[0m\n",
      "\u001b[35m[2021-01-06:18:25:10:INFO] Determined delimiter of CSV input is ','\u001b[0m\n",
      "\u001b[34m[2021-01-06:18:25:11:INFO] Sniff delimiter as ','\u001b[0m\n",
      "\u001b[34m[2021-01-06:18:25:11:INFO] Determined delimiter of CSV input is ','\u001b[0m\n",
      "\u001b[34m[2021-01-06:18:25:11:INFO] Sniff delimiter as ','\u001b[0m\n",
      "\u001b[34m[2021-01-06:18:25:11:INFO] Determined delimiter of CSV input is ','\u001b[0m\n",
      "\u001b[35m[2021-01-06:18:25:11:INFO] Sniff delimiter as ','\u001b[0m\n",
      "\u001b[35m[2021-01-06:18:25:11:INFO] Determined delimiter of CSV input is ','\u001b[0m\n",
      "\u001b[35m[2021-01-06:18:25:11:INFO] Sniff delimiter as ','\u001b[0m\n",
      "\u001b[35m[2021-01-06:18:25:11:INFO] Determined delimiter of CSV input is ','\u001b[0m\n",
      "\u001b[34m[2021-01-06:18:25:13:INFO] Sniff delimiter as ','\u001b[0m\n",
      "\u001b[34m[2021-01-06:18:25:13:INFO] Determined delimiter of CSV input is ','\u001b[0m\n",
      "\u001b[34m[2021-01-06:18:25:13:INFO] Sniff delimiter as ','\u001b[0m\n",
      "\u001b[34m[2021-01-06:18:25:13:INFO] Determined delimiter of CSV input is ','\u001b[0m\n",
      "\u001b[34m[2021-01-06:18:25:13:INFO] Sniff delimiter as ','\u001b[0m\n",
      "\u001b[34m[2021-01-06:18:25:13:INFO] Determined delimiter of CSV input is ','\u001b[0m\n",
      "\u001b[35m[2021-01-06:18:25:13:INFO] Sniff delimiter as ','\u001b[0m\n",
      "\u001b[35m[2021-01-06:18:25:13:INFO] Determined delimiter of CSV input is ','\u001b[0m\n",
      "\u001b[35m[2021-01-06:18:25:13:INFO] Sniff delimiter as ','\u001b[0m\n",
      "\u001b[35m[2021-01-06:18:25:13:INFO] Determined delimiter of CSV input is ','\u001b[0m\n",
      "\u001b[35m[2021-01-06:18:25:13:INFO] Sniff delimiter as ','\u001b[0m\n",
      "\u001b[35m[2021-01-06:18:25:13:INFO] Determined delimiter of CSV input is ','\u001b[0m\n",
      "\u001b[34m[2021-01-06:18:25:13:INFO] Sniff delimiter as ','\u001b[0m\n",
      "\u001b[34m[2021-01-06:18:25:13:INFO] Determined delimiter of CSV input is ','\u001b[0m\n",
      "\u001b[35m[2021-01-06:18:25:13:INFO] Sniff delimiter as ','\u001b[0m\n",
      "\u001b[35m[2021-01-06:18:25:13:INFO] Determined delimiter of CSV input is ','\u001b[0m\n",
      "\u001b[34m[2021-01-06:18:25:15:INFO] Sniff delimiter as ','\u001b[0m\n",
      "\u001b[34m[2021-01-06:18:25:15:INFO] Determined delimiter of CSV input is ','\u001b[0m\n",
      "\u001b[34m[2021-01-06:18:25:15:INFO] Sniff delimiter as ','\u001b[0m\n",
      "\u001b[34m[2021-01-06:18:25:15:INFO] Determined delimiter of CSV input is ','\u001b[0m\n",
      "\u001b[35m[2021-01-06:18:25:15:INFO] Sniff delimiter as ','\u001b[0m\n",
      "\u001b[35m[2021-01-06:18:25:15:INFO] Determined delimiter of CSV input is ','\u001b[0m\n",
      "\u001b[35m[2021-01-06:18:25:15:INFO] Sniff delimiter as ','\u001b[0m\n",
      "\u001b[35m[2021-01-06:18:25:15:INFO] Determined delimiter of CSV input is ','\u001b[0m\n",
      "\u001b[34m[2021-01-06:18:25:15:INFO] Sniff delimiter as ','\u001b[0m\n",
      "\u001b[34m[2021-01-06:18:25:15:INFO] Determined delimiter of CSV input is ','\u001b[0m\n",
      "\u001b[34m[2021-01-06:18:25:16:INFO] Sniff delimiter as ','\u001b[0m\n",
      "\u001b[34m[2021-01-06:18:25:16:INFO] Determined delimiter of CSV input is ','\u001b[0m\n",
      "\u001b[35m[2021-01-06:18:25:15:INFO] Sniff delimiter as ','\u001b[0m\n",
      "\u001b[35m[2021-01-06:18:25:15:INFO] Determined delimiter of CSV input is ','\u001b[0m\n",
      "\u001b[35m[2021-01-06:18:25:16:INFO] Sniff delimiter as ','\u001b[0m\n",
      "\u001b[35m[2021-01-06:18:25:16:INFO] Determined delimiter of CSV input is ','\u001b[0m\n",
      "\u001b[34m[2021-01-06:18:25:18:INFO] Sniff delimiter as ','\u001b[0m\n",
      "\u001b[34m[2021-01-06:18:25:18:INFO] Determined delimiter of CSV input is ','\u001b[0m\n",
      "\u001b[34m[2021-01-06:18:25:18:INFO] Sniff delimiter as ','\u001b[0m\n",
      "\u001b[34m[2021-01-06:18:25:18:INFO] Determined delimiter of CSV input is ','\u001b[0m\n",
      "\u001b[34m[2021-01-06:18:25:18:INFO] Sniff delimiter as ','\u001b[0m\n",
      "\u001b[34m[2021-01-06:18:25:18:INFO] Determined delimiter of CSV input is ','\u001b[0m\n",
      "\u001b[34m[2021-01-06:18:25:18:INFO] Sniff delimiter as ','\u001b[0m\n",
      "\u001b[34m[2021-01-06:18:25:18:INFO] Determined delimiter of CSV input is ','\u001b[0m\n",
      "\u001b[35m[2021-01-06:18:25:18:INFO] Sniff delimiter as ','\u001b[0m\n",
      "\u001b[35m[2021-01-06:18:25:18:INFO] Determined delimiter of CSV input is ','\u001b[0m\n",
      "\u001b[35m[2021-01-06:18:25:18:INFO] Sniff delimiter as ','\u001b[0m\n",
      "\u001b[35m[2021-01-06:18:25:18:INFO] Determined delimiter of CSV input is ','\u001b[0m\n",
      "\u001b[35m[2021-01-06:18:25:18:INFO] Sniff delimiter as ','\u001b[0m\n",
      "\u001b[35m[2021-01-06:18:25:18:INFO] Determined delimiter of CSV input is ','\u001b[0m\n",
      "\u001b[35m[2021-01-06:18:25:18:INFO] Sniff delimiter as ','\u001b[0m\n",
      "\u001b[35m[2021-01-06:18:25:18:INFO] Determined delimiter of CSV input is ','\u001b[0m\n",
      "\u001b[34m[2021-01-06:18:25:22:INFO] Sniff delimiter as ','\u001b[0m\n",
      "\u001b[34m[2021-01-06:18:25:22:INFO] Determined delimiter of CSV input is ','\u001b[0m\n",
      "\u001b[34m[2021-01-06:18:25:23:INFO] Sniff delimiter as ','\u001b[0m\n",
      "\u001b[34m[2021-01-06:18:25:23:INFO] Determined delimiter of CSV input is ','\u001b[0m\n",
      "\u001b[34m[2021-01-06:18:25:23:INFO] Sniff delimiter as ','\u001b[0m\n",
      "\u001b[34m[2021-01-06:18:25:23:INFO] Determined delimiter of CSV input is ','\u001b[0m\n",
      "\u001b[34m[2021-01-06:18:25:23:INFO] Sniff delimiter as ','\u001b[0m\n",
      "\u001b[34m[2021-01-06:18:25:23:INFO] Determined delimiter of CSV input is ','\u001b[0m\n",
      "\u001b[35m[2021-01-06:18:25:22:INFO] Sniff delimiter as ','\u001b[0m\n",
      "\u001b[35m[2021-01-06:18:25:22:INFO] Determined delimiter of CSV input is ','\u001b[0m\n",
      "\u001b[35m[2021-01-06:18:25:23:INFO] Sniff delimiter as ','\u001b[0m\n",
      "\u001b[35m[2021-01-06:18:25:23:INFO] Determined delimiter of CSV input is ','\u001b[0m\n",
      "\u001b[35m[2021-01-06:18:25:23:INFO] Sniff delimiter as ','\u001b[0m\n",
      "\u001b[35m[2021-01-06:18:25:23:INFO] Determined delimiter of CSV input is ','\u001b[0m\n",
      "\u001b[35m[2021-01-06:18:25:23:INFO] Sniff delimiter as ','\u001b[0m\n",
      "\u001b[35m[2021-01-06:18:25:23:INFO] Determined delimiter of CSV input is ','\u001b[0m\n",
      "\u001b[34m[2021-01-06:18:25:25:INFO] Sniff delimiter as ','\u001b[0m\n",
      "\u001b[34m[2021-01-06:18:25:25:INFO] Determined delimiter of CSV input is ','\u001b[0m\n",
      "\u001b[34m[2021-01-06:18:25:25:INFO] Sniff delimiter as ','\u001b[0m\n",
      "\u001b[34m[2021-01-06:18:25:25:INFO] Determined delimiter of CSV input is ','\u001b[0m\n",
      "\u001b[34m[2021-01-06:18:25:25:INFO] Sniff delimiter as ','\u001b[0m\n",
      "\u001b[34m[2021-01-06:18:25:25:INFO] Determined delimiter of CSV input is ','\u001b[0m\n",
      "\u001b[35m[2021-01-06:18:25:25:INFO] Sniff delimiter as ','\u001b[0m\n",
      "\u001b[35m[2021-01-06:18:25:25:INFO] Determined delimiter of CSV input is ','\u001b[0m\n",
      "\u001b[35m[2021-01-06:18:25:25:INFO] Sniff delimiter as ','\u001b[0m\n",
      "\u001b[35m[2021-01-06:18:25:25:INFO] Determined delimiter of CSV input is ','\u001b[0m\n",
      "\u001b[35m[2021-01-06:18:25:25:INFO] Sniff delimiter as ','\u001b[0m\n",
      "\u001b[35m[2021-01-06:18:25:25:INFO] Determined delimiter of CSV input is ','\u001b[0m\n",
      "\u001b[34m[2021-01-06:18:25:25:INFO] Sniff delimiter as ','\u001b[0m\n",
      "\u001b[35m[2021-01-06:18:25:25:INFO] Sniff delimiter as ','\u001b[0m\n",
      "\u001b[34m[2021-01-06:18:25:25:INFO] Determined delimiter of CSV input is ','\u001b[0m\n",
      "\u001b[35m[2021-01-06:18:25:25:INFO] Determined delimiter of CSV input is ','\u001b[0m\n",
      "\u001b[34m[2021-01-06:18:25:27:INFO] Sniff delimiter as ','\u001b[0m\n",
      "\u001b[34m[2021-01-06:18:25:27:INFO] Determined delimiter of CSV input is ','\u001b[0m\n",
      "\u001b[34m[2021-01-06:18:25:28:INFO] Sniff delimiter as ','\u001b[0m\n",
      "\u001b[35m[2021-01-06:18:25:27:INFO] Sniff delimiter as ','\u001b[0m\n",
      "\u001b[35m[2021-01-06:18:25:27:INFO] Determined delimiter of CSV input is ','\u001b[0m\n",
      "\u001b[35m[2021-01-06:18:25:28:INFO] Sniff delimiter as ','\u001b[0m\n",
      "\u001b[34m[2021-01-06:18:25:28:INFO] Determined delimiter of CSV input is ','\u001b[0m\n",
      "\u001b[34m[2021-01-06:18:25:28:INFO] Sniff delimiter as ','\u001b[0m\n",
      "\u001b[34m[2021-01-06:18:25:28:INFO] Determined delimiter of CSV input is ','\u001b[0m\n",
      "\u001b[34m[2021-01-06:18:25:28:INFO] Sniff delimiter as ','\u001b[0m\n",
      "\u001b[34m[2021-01-06:18:25:28:INFO] Determined delimiter of CSV input is ','\u001b[0m\n",
      "\u001b[35m[2021-01-06:18:25:28:INFO] Determined delimiter of CSV input is ','\u001b[0m\n",
      "\u001b[35m[2021-01-06:18:25:28:INFO] Sniff delimiter as ','\u001b[0m\n",
      "\u001b[35m[2021-01-06:18:25:28:INFO] Determined delimiter of CSV input is ','\u001b[0m\n",
      "\u001b[35m[2021-01-06:18:25:28:INFO] Sniff delimiter as ','\u001b[0m\n",
      "\u001b[35m[2021-01-06:18:25:28:INFO] Determined delimiter of CSV input is ','\u001b[0m\n"
     ]
    },
    {
     "name": "stdout",
     "output_type": "stream",
     "text": [
      "\u001b[34m[2021-01-06:18:25:30:INFO] Determined delimiter of CSV input is ','\u001b[0m\n",
      "\u001b[35m[2021-01-06:18:25:30:INFO] Determined delimiter of CSV input is ','\u001b[0m\n",
      "\u001b[34m[2021-01-06:18:25:30:INFO] Sniff delimiter as ','\u001b[0m\n",
      "\u001b[34m[2021-01-06:18:25:30:INFO] Determined delimiter of CSV input is ','\u001b[0m\n",
      "\u001b[35m[2021-01-06:18:25:30:INFO] Sniff delimiter as ','\u001b[0m\n",
      "\u001b[35m[2021-01-06:18:25:30:INFO] Determined delimiter of CSV input is ','\u001b[0m\n",
      "\u001b[34m[2021-01-06:18:25:32:INFO] Sniff delimiter as ','\u001b[0m\n",
      "\u001b[34m[2021-01-06:18:25:32:INFO] Determined delimiter of CSV input is ','\u001b[0m\n",
      "\u001b[35m[2021-01-06:18:25:32:INFO] Sniff delimiter as ','\u001b[0m\n",
      "\u001b[35m[2021-01-06:18:25:32:INFO] Determined delimiter of CSV input is ','\u001b[0m\n",
      "\u001b[34m[2021-01-06:18:25:32:INFO] Sniff delimiter as ','\u001b[0m\n",
      "\u001b[34m[2021-01-06:18:25:32:INFO] Determined delimiter of CSV input is ','\u001b[0m\n",
      "\u001b[35m[2021-01-06:18:25:32:INFO] Sniff delimiter as ','\u001b[0m\n",
      "\u001b[35m[2021-01-06:18:25:32:INFO] Determined delimiter of CSV input is ','\u001b[0m\n",
      "\u001b[34m[2021-01-06:18:25:33:INFO] Sniff delimiter as ','\u001b[0m\n",
      "\u001b[34m[2021-01-06:18:25:33:INFO] Determined delimiter of CSV input is ','\u001b[0m\n",
      "\u001b[34m[2021-01-06:18:25:33:INFO] Sniff delimiter as ','\u001b[0m\n",
      "\u001b[34m[2021-01-06:18:25:33:INFO] Determined delimiter of CSV input is ','\u001b[0m\n",
      "\u001b[35m[2021-01-06:18:25:33:INFO] Sniff delimiter as ','\u001b[0m\n",
      "\u001b[35m[2021-01-06:18:25:33:INFO] Determined delimiter of CSV input is ','\u001b[0m\n",
      "\u001b[35m[2021-01-06:18:25:33:INFO] Sniff delimiter as ','\u001b[0m\n",
      "\u001b[35m[2021-01-06:18:25:33:INFO] Determined delimiter of CSV input is ','\u001b[0m\n",
      "\n"
     ]
    }
   ],
   "source": [
    "xgb_transformer.wait()"
   ]
  },
  {
   "cell_type": "markdown",
   "metadata": {},
   "source": [
    "Now the transform job has executed and the result, the estimated sentiment of each review, has been saved on S3. Since we would rather work on this file locally we can perform a bit of notebook magic to copy the file to the `data_dir`."
   ]
  },
  {
   "cell_type": "code",
   "execution_count": 56,
   "metadata": {},
   "outputs": [
    {
     "name": "stdout",
     "output_type": "stream",
     "text": [
      "Completed 256.0 KiB/372.5 KiB (3.6 MiB/s) with 1 file(s) remaining\r",
      "Completed 372.5 KiB/372.5 KiB (5.1 MiB/s) with 1 file(s) remaining\r",
      "download: s3://sagemaker-us-east-2-606098096513/xgboost-210106-1744-007-ff92c39e-2021-01-06-18-20-27-769/test.csv.out to ../data/xgboost/test.csv.out\r\n"
     ]
    }
   ],
   "source": [
    "!aws s3 cp --recursive $xgb_transformer.output_path $data_dir"
   ]
  },
  {
   "cell_type": "markdown",
   "metadata": {},
   "source": [
    "The last step is now to read in the output from our model, convert the output to something a little more usable, in this case we want the sentiment to be either `1` (positive) or `0` (negative), and then compare to the ground truth labels."
   ]
  },
  {
   "cell_type": "code",
   "execution_count": 57,
   "metadata": {},
   "outputs": [],
   "source": [
    "predictions = pd.read_csv(os.path.join(data_dir, 'test.csv.out'), header=None)\n",
    "predictions = [round(num) for num in predictions.squeeze().values]"
   ]
  },
  {
   "cell_type": "code",
   "execution_count": 58,
   "metadata": {},
   "outputs": [
    {
     "data": {
      "text/plain": [
       "0.86272"
      ]
     },
     "execution_count": 58,
     "metadata": {},
     "output_type": "execute_result"
    }
   ],
   "source": [
    "from sklearn.metrics import accuracy_score\n",
    "accuracy_score(test_y, predictions)"
   ]
  },
  {
   "cell_type": "markdown",
   "metadata": {},
   "source": [
    "## Optional: Clean up\n",
    "\n",
    "The default notebook instance on SageMaker doesn't have a lot of excess disk space available. As you continue to complete and execute notebooks you will eventually fill up this disk space, leading to errors which can be difficult to diagnose. Once you are completely finished using a notebook it is a good idea to remove the files that you created along the way. Of course, you can do this from the terminal or from the notebook hub if you would like. The cell below contains some commands to clean up the created files from within the notebook."
   ]
  },
  {
   "cell_type": "code",
   "execution_count": 59,
   "metadata": {},
   "outputs": [],
   "source": [
    "# First we will remove all of the files contained in the data_dir directory\n",
    "!rm $data_dir/*\n",
    "\n",
    "# And then we delete the directory itself\n",
    "!rmdir $data_dir\n",
    "\n",
    "# Similarly we will remove the files in the cache_dir directory and the directory itself\n",
    "# !rm $cache_dir/*\n",
    "# !rmdir $cache_dir"
   ]
  },
  {
   "cell_type": "code",
   "execution_count": null,
   "metadata": {},
   "outputs": [],
   "source": []
  }
 ],
 "metadata": {
  "kernelspec": {
   "display_name": "conda_python3",
   "language": "python",
   "name": "conda_python3"
  },
  "language_info": {
   "codemirror_mode": {
    "name": "ipython",
    "version": 3
   },
   "file_extension": ".py",
   "mimetype": "text/x-python",
   "name": "python",
   "nbconvert_exporter": "python",
   "pygments_lexer": "ipython3",
   "version": "3.6.10"
  }
 },
 "nbformat": 4,
 "nbformat_minor": 2
}
