{
 "cells": [
  {
   "cell_type": "markdown",
   "metadata": {},
   "source": [
    "# Sentiment Analysis Web App\n",
    "\n",
    "_Deep Learning Nanodegree Program | Deployment_\n",
    "\n",
    "---\n",
    "\n",
    "In this notebook we will use Amazon's SageMaker service to construct a random tree model to predict the sentiment of a movie review. In addition, we will deploy this model to an endpoint and construct a very simple web app which will interact with our model's deployed endpoint.\n",
    "\n",
    "## General Outline\n",
    "\n",
    "Typically, when using a notebook instance with SageMaker, you will proceed through the following steps. Of course, not every step will need to be done with each project. Also, there is quite a lot of room for variation in many of the steps, as you will see throughout these lessons.\n",
    "\n",
    "1. Download or otherwise retrieve the data.\n",
    "2. Process / Prepare the data.\n",
    "3. Upload the processed data to S3.\n",
    "4. Train a chosen model.\n",
    "5. Test the trained model (typically using a batch transform job).\n",
    "6. Deploy the trained model.\n",
    "7. Use the deployed model.\n",
    "\n",
    "In this notebook we will progress through each of the steps above. We will also see that the final step, using the deployed model, can be quite challenging."
   ]
  },
  {
   "cell_type": "code",
   "execution_count": 1,
   "metadata": {},
   "outputs": [
    {
     "name": "stdout",
     "output_type": "stream",
     "text": [
      "Collecting sagemaker==1.72.0\n",
      "  Using cached sagemaker-1.72.0-py2.py3-none-any.whl\n",
      "Requirement already satisfied: scipy>=0.19.0 in /home/ec2-user/anaconda3/envs/python3/lib/python3.6/site-packages (from sagemaker==1.72.0) (1.4.1)\n",
      "Requirement already satisfied: packaging>=20.0 in /home/ec2-user/anaconda3/envs/python3/lib/python3.6/site-packages (from sagemaker==1.72.0) (20.7)\n",
      "Requirement already satisfied: importlib-metadata>=1.4.0 in /home/ec2-user/anaconda3/envs/python3/lib/python3.6/site-packages (from sagemaker==1.72.0) (3.1.0)\n",
      "Requirement already satisfied: protobuf3-to-dict>=0.1.5 in /home/ec2-user/anaconda3/envs/python3/lib/python3.6/site-packages (from sagemaker==1.72.0) (0.1.5)\n",
      "Requirement already satisfied: numpy>=1.9.0 in /home/ec2-user/anaconda3/envs/python3/lib/python3.6/site-packages (from sagemaker==1.72.0) (1.19.4)\n",
      "Requirement already satisfied: boto3>=1.14.12 in /home/ec2-user/anaconda3/envs/python3/lib/python3.6/site-packages (from sagemaker==1.72.0) (1.16.37)\n",
      "Requirement already satisfied: protobuf>=3.1 in /home/ec2-user/anaconda3/envs/python3/lib/python3.6/site-packages (from sagemaker==1.72.0) (3.14.0)\n",
      "Requirement already satisfied: jmespath<1.0.0,>=0.7.1 in /home/ec2-user/anaconda3/envs/python3/lib/python3.6/site-packages (from boto3>=1.14.12->sagemaker==1.72.0) (0.10.0)\n",
      "Requirement already satisfied: s3transfer<0.4.0,>=0.3.0 in /home/ec2-user/anaconda3/envs/python3/lib/python3.6/site-packages (from boto3>=1.14.12->sagemaker==1.72.0) (0.3.3)\n",
      "Requirement already satisfied: botocore<1.20.0,>=1.19.37 in /home/ec2-user/anaconda3/envs/python3/lib/python3.6/site-packages (from boto3>=1.14.12->sagemaker==1.72.0) (1.19.37)\n",
      "Requirement already satisfied: jmespath<1.0.0,>=0.7.1 in /home/ec2-user/anaconda3/envs/python3/lib/python3.6/site-packages (from boto3>=1.14.12->sagemaker==1.72.0) (0.10.0)\n",
      "Requirement already satisfied: urllib3<1.27,>=1.25.4 in /home/ec2-user/anaconda3/envs/python3/lib/python3.6/site-packages (from botocore<1.20.0,>=1.19.37->boto3>=1.14.12->sagemaker==1.72.0) (1.25.11)\n",
      "Requirement already satisfied: python-dateutil<3.0.0,>=2.1 in /home/ec2-user/anaconda3/envs/python3/lib/python3.6/site-packages (from botocore<1.20.0,>=1.19.37->boto3>=1.14.12->sagemaker==1.72.0) (2.8.1)\n",
      "Requirement already satisfied: zipp>=0.5 in /home/ec2-user/anaconda3/envs/python3/lib/python3.6/site-packages (from importlib-metadata>=1.4.0->sagemaker==1.72.0) (3.4.0)\n",
      "Requirement already satisfied: pyparsing>=2.0.2 in /home/ec2-user/anaconda3/envs/python3/lib/python3.6/site-packages (from packaging>=20.0->sagemaker==1.72.0) (2.4.7)\n",
      "Requirement already satisfied: six>=1.9 in /home/ec2-user/anaconda3/envs/python3/lib/python3.6/site-packages (from protobuf>=3.1->sagemaker==1.72.0) (1.15.0)\n",
      "Requirement already satisfied: protobuf>=3.1 in /home/ec2-user/anaconda3/envs/python3/lib/python3.6/site-packages (from sagemaker==1.72.0) (3.14.0)\n",
      "Requirement already satisfied: six>=1.9 in /home/ec2-user/anaconda3/envs/python3/lib/python3.6/site-packages (from protobuf>=3.1->sagemaker==1.72.0) (1.15.0)\n",
      "Requirement already satisfied: six>=1.9 in /home/ec2-user/anaconda3/envs/python3/lib/python3.6/site-packages (from protobuf>=3.1->sagemaker==1.72.0) (1.15.0)\n",
      "Requirement already satisfied: botocore<1.20.0,>=1.19.37 in /home/ec2-user/anaconda3/envs/python3/lib/python3.6/site-packages (from boto3>=1.14.12->sagemaker==1.72.0) (1.19.37)\n",
      "Requirement already satisfied: numpy>=1.9.0 in /home/ec2-user/anaconda3/envs/python3/lib/python3.6/site-packages (from sagemaker==1.72.0) (1.19.4)\n",
      "Collecting smdebug-rulesconfig==0.1.4\n",
      "  Using cached smdebug_rulesconfig-0.1.4-py2.py3-none-any.whl (10 kB)\n",
      "Installing collected packages: smdebug-rulesconfig, sagemaker\n",
      "  Attempting uninstall: smdebug-rulesconfig\n",
      "    Found existing installation: smdebug-rulesconfig 1.0.0\n",
      "    Uninstalling smdebug-rulesconfig-1.0.0:\n",
      "      Successfully uninstalled smdebug-rulesconfig-1.0.0\n",
      "  Attempting uninstall: sagemaker\n",
      "    Found existing installation: sagemaker 2.19.0\n",
      "    Uninstalling sagemaker-2.19.0:\n",
      "      Successfully uninstalled sagemaker-2.19.0\n",
      "Successfully installed sagemaker-1.72.0 smdebug-rulesconfig-0.1.4\n",
      "\u001b[33mWARNING: You are using pip version 20.3; however, version 20.3.3 is available.\n",
      "You should consider upgrading via the '/home/ec2-user/anaconda3/envs/python3/bin/python -m pip install --upgrade pip' command.\u001b[0m\n"
     ]
    }
   ],
   "source": [
    "# Make sure that we use SageMaker 1.x\n",
    "!pip install sagemaker==1.72.0"
   ]
  },
  {
   "cell_type": "markdown",
   "metadata": {},
   "source": [
    "## Step 1: Downloading the data\n",
    "\n",
    "The dataset we are going to use is very popular among researchers in Natural Language Processing, usually referred to as the [IMDb dataset](http://ai.stanford.edu/~amaas/data/sentiment/). It consists of movie reviews from the website [imdb.com](http://www.imdb.com/), each labeled as either '**pos**itive', if the reviewer enjoyed the film, or '**neg**ative' otherwise.\n",
    "\n",
    "> Maas, Andrew L., et al. [Learning Word Vectors for Sentiment Analysis](http://ai.stanford.edu/~amaas/data/sentiment/). In _Proceedings of the 49th Annual Meeting of the Association for Computational Linguistics: Human Language Technologies_. Association for Computational Linguistics, 2011.\n",
    "\n",
    "We begin by using some Jupyter Notebook magic to download and extract the dataset."
   ]
  },
  {
   "cell_type": "code",
   "execution_count": 2,
   "metadata": {},
   "outputs": [
    {
     "name": "stdout",
     "output_type": "stream",
     "text": [
      "--2021-01-07 16:14:58--  http://ai.stanford.edu/~amaas/data/sentiment/aclImdb_v1.tar.gz\n",
      "Resolving ai.stanford.edu (ai.stanford.edu)... 171.64.68.10\n",
      "Connecting to ai.stanford.edu (ai.stanford.edu)|171.64.68.10|:80... connected.\n",
      "HTTP request sent, awaiting response... 200 OK\n",
      "Length: 84125825 (80M) [application/x-gzip]\n",
      "Saving to: ‘../data/aclImdb_v1.tar.gz’\n",
      "\n",
      "../data/aclImdb_v1. 100%[===================>]  80.23M  24.9MB/s    in 3.9s    \n",
      "\n",
      "2021-01-07 16:15:02 (20.3 MB/s) - ‘../data/aclImdb_v1.tar.gz’ saved [84125825/84125825]\n",
      "\n"
     ]
    }
   ],
   "source": [
    "%mkdir ../data\n",
    "!wget -O ../data/aclImdb_v1.tar.gz http://ai.stanford.edu/~amaas/data/sentiment/aclImdb_v1.tar.gz\n",
    "!tar -zxf ../data/aclImdb_v1.tar.gz -C ../data"
   ]
  },
  {
   "cell_type": "markdown",
   "metadata": {},
   "source": [
    "## Step 2: Preparing and Processing the data\n",
    "\n",
    "The data we have downloaded is split into various files, each of which contains a single review. It will be much easier going forward if we combine these individual files into two large files, one for training and one for testing."
   ]
  },
  {
   "cell_type": "code",
   "execution_count": 3,
   "metadata": {},
   "outputs": [],
   "source": [
    "import os\n",
    "import glob\n",
    "\n",
    "def read_imdb_data(data_dir='../data/aclImdb'):\n",
    "    data = {}\n",
    "    labels = {}\n",
    "    \n",
    "    for data_type in ['train', 'test']:\n",
    "        data[data_type] = {}\n",
    "        labels[data_type] = {}\n",
    "        \n",
    "        for sentiment in ['pos', 'neg']:\n",
    "            data[data_type][sentiment] = []\n",
    "            labels[data_type][sentiment] = []\n",
    "            \n",
    "            path = os.path.join(data_dir, data_type, sentiment, '*.txt')\n",
    "            files = glob.glob(path)\n",
    "            \n",
    "            for f in files:\n",
    "                with open(f) as review:\n",
    "                    data[data_type][sentiment].append(review.read())\n",
    "                    # Here we represent a positive review by '1' and a negative review by '0'\n",
    "                    labels[data_type][sentiment].append(1 if sentiment == 'pos' else 0)\n",
    "                    \n",
    "            assert len(data[data_type][sentiment]) == len(labels[data_type][sentiment]), \\\n",
    "                    \"{}/{} data size does not match labels size\".format(data_type, sentiment)\n",
    "                \n",
    "    return data, labels"
   ]
  },
  {
   "cell_type": "code",
   "execution_count": 4,
   "metadata": {},
   "outputs": [
    {
     "name": "stdout",
     "output_type": "stream",
     "text": [
      "IMDB reviews: train = 12500 pos / 12500 neg, test = 12500 pos / 12500 neg\n"
     ]
    }
   ],
   "source": [
    "data, labels = read_imdb_data()\n",
    "print(\"IMDB reviews: train = {} pos / {} neg, test = {} pos / {} neg\".format(\n",
    "            len(data['train']['pos']), len(data['train']['neg']),\n",
    "            len(data['test']['pos']), len(data['test']['neg'])))"
   ]
  },
  {
   "cell_type": "code",
   "execution_count": 5,
   "metadata": {},
   "outputs": [],
   "source": [
    "from sklearn.utils import shuffle\n",
    "\n",
    "def prepare_imdb_data(data, labels):\n",
    "    \"\"\"Prepare training and test sets from IMDb movie reviews.\"\"\"\n",
    "    \n",
    "    #Combine positive and negative reviews and labels\n",
    "    data_train = data['train']['pos'] + data['train']['neg']\n",
    "    data_test = data['test']['pos'] + data['test']['neg']\n",
    "    labels_train = labels['train']['pos'] + labels['train']['neg']\n",
    "    labels_test = labels['test']['pos'] + labels['test']['neg']\n",
    "    \n",
    "    #Shuffle reviews and corresponding labels within training and test sets\n",
    "    data_train, labels_train = shuffle(data_train, labels_train)\n",
    "    data_test, labels_test = shuffle(data_test, labels_test)\n",
    "    \n",
    "    # Return a unified training data, test data, training labels, test labets\n",
    "    return data_train, data_test, labels_train, labels_test"
   ]
  },
  {
   "cell_type": "code",
   "execution_count": 6,
   "metadata": {},
   "outputs": [
    {
     "name": "stdout",
     "output_type": "stream",
     "text": [
      "IMDb reviews (combined): train = 25000, test = 25000\n"
     ]
    }
   ],
   "source": [
    "train_X, test_X, train_y, test_y = prepare_imdb_data(data, labels)\n",
    "print(\"IMDb reviews (combined): train = {}, test = {}\".format(len(train_X), len(test_X)))"
   ]
  },
  {
   "cell_type": "code",
   "execution_count": 7,
   "metadata": {},
   "outputs": [
    {
     "data": {
      "text/plain": [
       "'good lord! (and that coming from an atheist), this \"movie\" is bad !<br /><br />much has already been said by the reviewers before (the ones who rated this piece 3 and below) to which I fully agree, I just like to add a few things: <br /><br />among the three guys who had to eat their own digestive end products, got chopped up by an Axe, raped by a broomstick, had their balls blown away - the ex-boyfriend suffers the worst torture while having to listen to the girl\\'s endless and pointless babble at the kitchen table (as do we, but at least we have the mercy of the mute button).<br /><br />had the director cut out the point- and endless graveyard and inverted scenes, our suffering would have been over after 30 minutes.<br /><br />the only things that made this flick at least somewhat bearable are Emily Haack\\'s tits (one point).<br /><br />forget it. don\\'t buy it. don\\'t waste your time. and your sanity. my brain is so fried after watching this I feel the urgent need to watch (and suffer?) \"Scrapbook\" right now.'"
      ]
     },
     "execution_count": 7,
     "metadata": {},
     "output_type": "execute_result"
    }
   ],
   "source": [
    "train_X[100]"
   ]
  },
  {
   "cell_type": "markdown",
   "metadata": {},
   "source": [
    "## Processing the data\n",
    "\n",
    "Now that we have our training and testing datasets merged and ready to use, we need to start processing the raw data into something that will be useable by our machine learning algorithm. To begin with, we remove any html formatting and any non-alpha numeric characters that may appear in the reviews. We will do this in a very simplistic way using Python's regular expression module. We will discuss the reason for this rather simplistic pre-processing later on."
   ]
  },
  {
   "cell_type": "code",
   "execution_count": 8,
   "metadata": {},
   "outputs": [],
   "source": [
    "import re\n",
    "\n",
    "REPLACE_NO_SPACE = re.compile(\"(\\.)|(\\;)|(\\:)|(\\!)|(\\')|(\\?)|(\\,)|(\\\")|(\\()|(\\))|(\\[)|(\\])\")\n",
    "REPLACE_WITH_SPACE = re.compile(\"(<br\\s*/><br\\s*/>)|(\\-)|(\\/)\")\n",
    "\n",
    "def review_to_words(review):\n",
    "    words = REPLACE_NO_SPACE.sub(\"\", review.lower())\n",
    "    words = REPLACE_WITH_SPACE.sub(\" \", words)\n",
    "    return words"
   ]
  },
  {
   "cell_type": "code",
   "execution_count": 9,
   "metadata": {},
   "outputs": [
    {
     "data": {
      "text/plain": [
       "'good lord and that coming from an atheist this movie is bad  much has already been said by the reviewers before the ones who rated this piece 3 and below to which i fully agree i just like to add a few things  among the three guys who had to eat their own digestive end products got chopped up by an axe raped by a broomstick had their balls blown away   the ex boyfriend suffers the worst torture while having to listen to the girls endless and pointless babble at the kitchen table as do we but at least we have the mercy of the mute button had the director cut out the point  and endless graveyard and inverted scenes our suffering would have been over after 30 minutes the only things that made this flick at least somewhat bearable are emily haacks tits one point forget it dont buy it dont waste your time and your sanity my brain is so fried after watching this i feel the urgent need to watch and suffer scrapbook right now'"
      ]
     },
     "execution_count": 9,
     "metadata": {},
     "output_type": "execute_result"
    }
   ],
   "source": [
    "review_to_words(train_X[100])"
   ]
  },
  {
   "cell_type": "code",
   "execution_count": 10,
   "metadata": {},
   "outputs": [],
   "source": [
    "import pickle\n",
    "\n",
    "cache_dir = os.path.join(\"../cache\", \"sentiment_web_app\")  # where to store cache files\n",
    "os.makedirs(cache_dir, exist_ok=True)  # ensure cache directory exists\n",
    "\n",
    "def preprocess_data(data_train, data_test, labels_train, labels_test,\n",
    "                    cache_dir=cache_dir, cache_file=\"preprocessed_data.pkl\"):\n",
    "    \"\"\"Convert each review to words; read from cache if available.\"\"\"\n",
    "\n",
    "    # If cache_file is not None, try to read from it first\n",
    "    cache_data = None\n",
    "    if cache_file is not None:\n",
    "        try:\n",
    "            with open(os.path.join(cache_dir, cache_file), \"rb\") as f:\n",
    "                cache_data = pickle.load(f)\n",
    "            print(\"Read preprocessed data from cache file:\", cache_file)\n",
    "        except:\n",
    "            pass  # unable to read from cache, but that's okay\n",
    "    \n",
    "    # If cache is missing, then do the heavy lifting\n",
    "    if cache_data is None:\n",
    "        # Preprocess training and test data to obtain words for each review\n",
    "        #words_train = list(map(review_to_words, data_train))\n",
    "        #words_test = list(map(review_to_words, data_test))\n",
    "        words_train = [review_to_words(review) for review in data_train]\n",
    "        words_test = [review_to_words(review) for review in data_test]\n",
    "        \n",
    "        # Write to cache file for future runs\n",
    "        if cache_file is not None:\n",
    "            cache_data = dict(words_train=words_train, words_test=words_test,\n",
    "                              labels_train=labels_train, labels_test=labels_test)\n",
    "            with open(os.path.join(cache_dir, cache_file), \"wb\") as f:\n",
    "                pickle.dump(cache_data, f)\n",
    "            print(\"Wrote preprocessed data to cache file:\", cache_file)\n",
    "    else:\n",
    "        # Unpack data loaded from cache file\n",
    "        words_train, words_test, labels_train, labels_test = (cache_data['words_train'],\n",
    "                cache_data['words_test'], cache_data['labels_train'], cache_data['labels_test'])\n",
    "    \n",
    "    return words_train, words_test, labels_train, labels_test"
   ]
  },
  {
   "cell_type": "code",
   "execution_count": 11,
   "metadata": {},
   "outputs": [
    {
     "name": "stdout",
     "output_type": "stream",
     "text": [
      "Read preprocessed data from cache file: preprocessed_data.pkl\n"
     ]
    }
   ],
   "source": [
    "# Preprocess data\n",
    "train_X, test_X, train_y, test_y = preprocess_data(train_X, test_X, train_y, test_y)"
   ]
  },
  {
   "cell_type": "markdown",
   "metadata": {},
   "source": [
    "### Extract Bag-of-Words features\n",
    "\n",
    "For the model we will be implementing, rather than using the reviews directly, we are going to transform each review into a Bag-of-Words feature representation. Keep in mind that 'in the wild' we will only have access to the training set so our transformer can only use the training set to construct a representation."
   ]
  },
  {
   "cell_type": "code",
   "execution_count": 12,
   "metadata": {},
   "outputs": [],
   "source": [
    "import numpy as np\n",
    "from sklearn.feature_extraction.text import CountVectorizer\n",
    "\n",
    "# sklearn.externals.joblib is deprecated in 0.21 and will be removed in 0.23. \n",
    "# from sklearn.externals import joblib\n",
    "\n",
    "# Import joblib package directly\n",
    "import joblib\n",
    "# joblib is an enhanced version of pickle that is more efficient for storing NumPy arrays\n",
    "\n",
    "def extract_BoW_features(words_train, words_test, vocabulary_size=5000,\n",
    "                         cache_dir=cache_dir, cache_file=\"bow_features.pkl\"):\n",
    "    \"\"\"Extract Bag-of-Words for a given set of documents, already preprocessed into words.\"\"\"\n",
    "    \n",
    "    # If cache_file is not None, try to read from it first\n",
    "    cache_data = None\n",
    "    if cache_file is not None:\n",
    "        try:\n",
    "            with open(os.path.join(cache_dir, cache_file), \"rb\") as f:\n",
    "                cache_data = joblib.load(f)\n",
    "            print(\"Read features from cache file:\", cache_file)\n",
    "        except:\n",
    "            pass  # unable to read from cache, but that's okay\n",
    "    \n",
    "    # If cache is missing, then do the heavy lifting\n",
    "    if cache_data is None:\n",
    "        # Fit a vectorizer to training documents and use it to transform them\n",
    "        # NOTE: Training documents have already been preprocessed and tokenized into words;\n",
    "        #       pass in dummy functions to skip those steps, e.g. preprocessor=lambda x: x\n",
    "        vectorizer = CountVectorizer(max_features=vocabulary_size)\n",
    "        features_train = vectorizer.fit_transform(words_train).toarray()\n",
    "\n",
    "        # Apply the same vectorizer to transform the test documents (ignore unknown words)\n",
    "        features_test = vectorizer.transform(words_test).toarray()\n",
    "        \n",
    "        # NOTE: Remember to convert the features using .toarray() for a compact representation\n",
    "        \n",
    "        # Write to cache file for future runs (store vocabulary as well)\n",
    "        if cache_file is not None:\n",
    "            vocabulary = vectorizer.vocabulary_\n",
    "            cache_data = dict(features_train=features_train, features_test=features_test,\n",
    "                             vocabulary=vocabulary)\n",
    "            with open(os.path.join(cache_dir, cache_file), \"wb\") as f:\n",
    "                joblib.dump(cache_data, f)\n",
    "            print(\"Wrote features to cache file:\", cache_file)\n",
    "    else:\n",
    "        # Unpack data loaded from cache file\n",
    "        features_train, features_test, vocabulary = (cache_data['features_train'],\n",
    "                cache_data['features_test'], cache_data['vocabulary'])\n",
    "    \n",
    "    # Return both the extracted features as well as the vocabulary\n",
    "    return features_train, features_test, vocabulary"
   ]
  },
  {
   "cell_type": "code",
   "execution_count": 13,
   "metadata": {},
   "outputs": [
    {
     "name": "stdout",
     "output_type": "stream",
     "text": [
      "Read features from cache file: bow_features.pkl\n"
     ]
    }
   ],
   "source": [
    "# Extract Bag of Words features for both training and test datasets\n",
    "train_X, test_X, vocabulary = extract_BoW_features(train_X, test_X)"
   ]
  },
  {
   "cell_type": "code",
   "execution_count": 14,
   "metadata": {},
   "outputs": [
    {
     "data": {
      "text/plain": [
       "5000"
      ]
     },
     "execution_count": 14,
     "metadata": {},
     "output_type": "execute_result"
    }
   ],
   "source": [
    "len(train_X[100])"
   ]
  },
  {
   "cell_type": "markdown",
   "metadata": {},
   "source": [
    "## Step 3: Upload data to S3\n",
    "\n",
    "Now that we have created the feature representation of our training (and testing) data, it is time to start setting up and using the XGBoost classifier provided by SageMaker.\n",
    "\n",
    "### Writing the datasets\n",
    "\n",
    "The XGBoost classifier that we will be using requires the dataset to be written to a file and stored using Amazon S3. To do this, we will start by splitting the training dataset into two parts, the data we will train the model with and a validation set. Then, we will write those datasets to a file locally and then upload the files to S3. In addition, we will write the test set to a file and upload that file to S3. This is so that we can use SageMakers Batch Transform functionality to test our model once we've fit it."
   ]
  },
  {
   "cell_type": "code",
   "execution_count": 15,
   "metadata": {},
   "outputs": [],
   "source": [
    "import pandas as pd\n",
    "\n",
    "# Earlier we shuffled the training dataset so to make things simple we can just assign\n",
    "# the first 10 000 reviews to the validation set and use the remaining reviews for training.\n",
    "val_X = pd.DataFrame(train_X[:10000])\n",
    "train_X = pd.DataFrame(train_X[10000:])\n",
    "\n",
    "val_y = pd.DataFrame(train_y[:10000])\n",
    "train_y = pd.DataFrame(train_y[10000:])"
   ]
  },
  {
   "cell_type": "markdown",
   "metadata": {},
   "source": [
    "The documentation for the XGBoost algorithm in SageMaker requires that the training and validation datasets should contain no headers or index and that the label should occur first for each sample.\n",
    "\n",
    "For more information about this and other algorithms, the SageMaker developer documentation can be found on __[Amazon's website.](https://docs.aws.amazon.com/sagemaker/latest/dg/)__"
   ]
  },
  {
   "cell_type": "code",
   "execution_count": 16,
   "metadata": {},
   "outputs": [],
   "source": [
    "# First we make sure that the local directory in which we'd like to store the training and validation csv files exists.\n",
    "data_dir = '../data/sentiment_web_app'\n",
    "if not os.path.exists(data_dir):\n",
    "    os.makedirs(data_dir)"
   ]
  },
  {
   "cell_type": "code",
   "execution_count": 18,
   "metadata": {},
   "outputs": [],
   "source": [
    "pd.DataFrame(test_X).to_csv(os.path.join(data_dir, 'test.csv'), header=False, index=False)\n",
    "\n",
    "pd.concat([val_y, val_X], axis=1).to_csv(os.path.join(data_dir, 'validation.csv'), header=False, index=False)\n",
    "pd.concat([train_y, train_X], axis=1).to_csv(os.path.join(data_dir, 'train.csv'), header=False, index=False)"
   ]
  },
  {
   "cell_type": "code",
   "execution_count": 19,
   "metadata": {},
   "outputs": [],
   "source": [
    "# To save a bit of memory we can set text_X, train_X, val_X, train_y and val_y to None.\n",
    "\n",
    "test_X = train_X = val_X = train_y = val_y = None"
   ]
  },
  {
   "cell_type": "markdown",
   "metadata": {},
   "source": [
    "### Uploading Training / Validation files to S3\n",
    "\n",
    "Amazon's S3 service allows us to store files that can be accessed by both the built-in training models such as the XGBoost model we will be using as well as custom models such as the one we will see a little later.\n",
    "\n",
    "For this and most other tasks we will be doing using SageMaker, there are two methods we could use. The first is to use the low level functionality of SageMaker which requires knowing each of the objects involved in the SageMaker environment. The second is to use the high level functionality in which certain choices have been made on the user's behalf. The low level approach benefits from allowing the user a great deal of flexibility while the high level approach makes development much quicker. For our purposes we will opt to use the high level approach although using the low-level approach is certainly an option.\n",
    "\n",
    "Recall the method `upload_data()` which is a member of the object representing our current SageMaker session. What this method does is upload the data to the default bucket (which is created if it does not exist) into the path described by the key_prefix variable. To see this for yourself, once you have uploaded the data files, go to the S3 console and look to see where the files have been uploaded.\n",
    "\n",
    "For additional resources, see the __[SageMaker API documentation](http://sagemaker.readthedocs.io/en/latest/)__ and in addition the __[SageMaker Developer Guide.](https://docs.aws.amazon.com/sagemaker/latest/dg/)__"
   ]
  },
  {
   "cell_type": "code",
   "execution_count": 20,
   "metadata": {},
   "outputs": [],
   "source": [
    "import sagemaker\n",
    "\n",
    "session = sagemaker.Session() # Store the current SageMaker session\n",
    "\n",
    "# S3 prefix (which folder will we use)\n",
    "prefix = 'sentiment-web-app'\n",
    "\n",
    "test_location = session.upload_data(os.path.join(data_dir, 'test.csv'), key_prefix=prefix)\n",
    "val_location = session.upload_data(os.path.join(data_dir, 'validation.csv'), key_prefix=prefix)\n",
    "train_location = session.upload_data(os.path.join(data_dir, 'train.csv'), key_prefix=prefix)"
   ]
  },
  {
   "cell_type": "markdown",
   "metadata": {},
   "source": [
    "## Step 4: Creating the XGBoost model\n",
    "\n",
    "Now that the data has been uploaded it is time to create the XGBoost model. To begin with, we need to do some setup. At this point it is worth discussing what a model is in SageMaker. It is easiest to think of a model of comprising three different objects in the SageMaker ecosystem, which interact with one another.\n",
    "\n",
    "- Model Artifacts\n",
    "- Training Code (Container)\n",
    "- Inference Code (Container)\n",
    "\n",
    "The Model Artifacts are what you might think of as the actual model itself. For example, if you were building a neural network, the model artifacts would be the weights of the various layers. In our case, for an XGBoost model, the artifacts are the actual trees that are created during training.\n",
    "\n",
    "The other two objects, the training code and the inference code are then used to manipulate the training artifacts. More precisely, the training code uses the training data that is provided and creates the model artifacts, while the inference code uses the model artifacts to make predictions on new data.\n",
    "\n",
    "The way that SageMaker runs the training and inference code is by making use of Docker containers. For now, think of a container as being a way of packaging code up so that dependencies aren't an issue."
   ]
  },
  {
   "cell_type": "code",
   "execution_count": 21,
   "metadata": {},
   "outputs": [],
   "source": [
    "from sagemaker import get_execution_role\n",
    "\n",
    "# Our current execution role is required when creating the model as the training\n",
    "# and inference code will need to access the model artifacts.\n",
    "role = get_execution_role()"
   ]
  },
  {
   "cell_type": "code",
   "execution_count": 22,
   "metadata": {},
   "outputs": [
    {
     "name": "stderr",
     "output_type": "stream",
     "text": [
      "'get_image_uri' method will be deprecated in favor of 'ImageURIProvider' class in SageMaker Python SDK v2.\n",
      "There is a more up to date SageMaker XGBoost image. To use the newer image, please set 'repo_version'='1.0-1'. For example:\n",
      "\tget_image_uri(region, 'xgboost', '1.0-1').\n"
     ]
    }
   ],
   "source": [
    "# We need to retrieve the location of the container which is provided by Amazon for using XGBoost.\n",
    "# As a matter of convenience, the training and inference code both use the same container.\n",
    "from sagemaker.amazon.amazon_estimator import get_image_uri\n",
    "\n",
    "container = get_image_uri(session.boto_region_name, 'xgboost')"
   ]
  },
  {
   "cell_type": "code",
   "execution_count": 23,
   "metadata": {},
   "outputs": [
    {
     "name": "stderr",
     "output_type": "stream",
     "text": [
      "Parameter image_name will be renamed to image_uri in SageMaker Python SDK v2.\n"
     ]
    }
   ],
   "source": [
    "# First we create a SageMaker estimator object for our model.\n",
    "xgb = sagemaker.estimator.Estimator(container, # The location of the container we wish to use\n",
    "                                    role,                                    # What is our current IAM Role\n",
    "                                    train_instance_count=1,                  # How many compute instances\n",
    "                                    train_instance_type='ml.m4.xlarge',      # What kind of compute instances\n",
    "                                    output_path='s3://{}/{}/output'.format(session.default_bucket(), prefix),\n",
    "                                    sagemaker_session=session)\n",
    "\n",
    "# And then set the algorithm specific parameters.\n",
    "xgb.set_hyperparameters(max_depth=5,\n",
    "                        eta=0.2,\n",
    "                        gamma=4,\n",
    "                        min_child_weight=6,\n",
    "                        subsample=0.8,\n",
    "                        silent=0,\n",
    "                        objective='binary:logistic',\n",
    "                        early_stopping_rounds=10,\n",
    "                        num_round=500)"
   ]
  },
  {
   "cell_type": "markdown",
   "metadata": {},
   "source": [
    "### Fit the XGBoost model\n",
    "\n",
    "Now that our model has been set up we simply need to attach the training and validation datasets and then ask SageMaker to set up the computation."
   ]
  },
  {
   "cell_type": "code",
   "execution_count": 24,
   "metadata": {},
   "outputs": [
    {
     "name": "stderr",
     "output_type": "stream",
     "text": [
      "'s3_input' class will be renamed to 'TrainingInput' in SageMaker Python SDK v2.\n",
      "'s3_input' class will be renamed to 'TrainingInput' in SageMaker Python SDK v2.\n"
     ]
    }
   ],
   "source": [
    "s3_input_train = sagemaker.s3_input(s3_data=train_location, content_type='csv')\n",
    "s3_input_validation = sagemaker.s3_input(s3_data=val_location, content_type='csv')"
   ]
  },
  {
   "cell_type": "code",
   "execution_count": 25,
   "metadata": {},
   "outputs": [
    {
     "name": "stdout",
     "output_type": "stream",
     "text": [
      "2021-01-07 16:19:54 Starting - Starting the training job...\n",
      "2021-01-07 16:19:55 Starting - Launching requested ML instances......\n",
      "2021-01-07 16:21:00 Starting - Preparing the instances for training...\n",
      "2021-01-07 16:21:51 Downloading - Downloading input data......\n",
      "2021-01-07 16:22:45 Training - Training image download completed. Training in progress.\u001b[34mArguments: train\u001b[0m\n",
      "\u001b[34m[2021-01-07:16:22:46:INFO] Running standalone xgboost training.\u001b[0m\n",
      "\u001b[34m[2021-01-07:16:22:46:INFO] File size need to be processed in the node: 238.5mb. Available memory size in the node: 8433.53mb\u001b[0m\n",
      "\u001b[34m[2021-01-07:16:22:46:INFO] Determined delimiter of CSV input is ','\u001b[0m\n",
      "\u001b[34m[16:22:46] S3DistributionType set as FullyReplicated\u001b[0m\n",
      "\u001b[34m[16:22:48] 15000x5000 matrix with 75000000 entries loaded from /opt/ml/input/data/train?format=csv&label_column=0&delimiter=,\u001b[0m\n",
      "\u001b[34m[2021-01-07:16:22:48:INFO] Determined delimiter of CSV input is ','\u001b[0m\n",
      "\u001b[34m[16:22:48] S3DistributionType set as FullyReplicated\u001b[0m\n",
      "\u001b[34m[16:22:49] 10000x5000 matrix with 50000000 entries loaded from /opt/ml/input/data/validation?format=csv&label_column=0&delimiter=,\u001b[0m\n",
      "\u001b[34m[16:22:53] src/tree/updater_prune.cc:74: tree pruning end, 1 roots, 42 extra nodes, 2 pruned nodes, max_depth=5\u001b[0m\n",
      "\u001b[34m[0]#011train-error:0.302933#011validation-error:0.3124\u001b[0m\n",
      "\u001b[34mMultiple eval metrics have been passed: 'validation-error' will be used for early stopping.\n",
      "\u001b[0m\n",
      "\u001b[34mWill train until validation-error hasn't improved in 10 rounds.\u001b[0m\n",
      "\u001b[34m[16:22:54] src/tree/updater_prune.cc:74: tree pruning end, 1 roots, 38 extra nodes, 6 pruned nodes, max_depth=5\u001b[0m\n",
      "\u001b[34m[1]#011train-error:0.303867#011validation-error:0.3107\u001b[0m\n",
      "\u001b[34m[16:22:56] src/tree/updater_prune.cc:74: tree pruning end, 1 roots, 46 extra nodes, 0 pruned nodes, max_depth=5\u001b[0m\n",
      "\u001b[34m[2]#011train-error:0.278933#011validation-error:0.2884\u001b[0m\n",
      "\u001b[34m[16:22:57] src/tree/updater_prune.cc:74: tree pruning end, 1 roots, 32 extra nodes, 4 pruned nodes, max_depth=5\u001b[0m\n",
      "\u001b[34m[3]#011train-error:0.2788#011validation-error:0.2872\u001b[0m\n",
      "\u001b[34m[16:22:58] src/tree/updater_prune.cc:74: tree pruning end, 1 roots, 42 extra nodes, 10 pruned nodes, max_depth=5\u001b[0m\n",
      "\u001b[34m[4]#011train-error:0.269467#011validation-error:0.2828\u001b[0m\n",
      "\u001b[34m[16:22:59] src/tree/updater_prune.cc:74: tree pruning end, 1 roots, 36 extra nodes, 2 pruned nodes, max_depth=5\u001b[0m\n",
      "\u001b[34m[5]#011train-error:0.2672#011validation-error:0.2808\u001b[0m\n",
      "\u001b[34m[16:23:01] src/tree/updater_prune.cc:74: tree pruning end, 1 roots, 44 extra nodes, 8 pruned nodes, max_depth=5\u001b[0m\n",
      "\u001b[34m[6]#011train-error:0.250667#011validation-error:0.2652\u001b[0m\n",
      "\u001b[34m[16:23:02] src/tree/updater_prune.cc:74: tree pruning end, 1 roots, 36 extra nodes, 8 pruned nodes, max_depth=5\u001b[0m\n",
      "\u001b[34m[7]#011train-error:0.247867#011validation-error:0.263\u001b[0m\n",
      "\u001b[34m[16:23:04] src/tree/updater_prune.cc:74: tree pruning end, 1 roots, 24 extra nodes, 12 pruned nodes, max_depth=5\u001b[0m\n",
      "\u001b[34m[8]#011train-error:0.2372#011validation-error:0.2562\u001b[0m\n",
      "\u001b[34m[16:23:06] src/tree/updater_prune.cc:74: tree pruning end, 1 roots, 28 extra nodes, 8 pruned nodes, max_depth=5\u001b[0m\n",
      "\u001b[34m[9]#011train-error:0.2306#011validation-error:0.2507\u001b[0m\n",
      "\u001b[34m[16:23:07] src/tree/updater_prune.cc:74: tree pruning end, 1 roots, 38 extra nodes, 6 pruned nodes, max_depth=5\u001b[0m\n",
      "\u001b[34m[10]#011train-error:0.222467#011validation-error:0.2431\u001b[0m\n",
      "\u001b[34m[16:23:08] src/tree/updater_prune.cc:74: tree pruning end, 1 roots, 32 extra nodes, 8 pruned nodes, max_depth=5\u001b[0m\n",
      "\u001b[34m[11]#011train-error:0.220467#011validation-error:0.2372\u001b[0m\n",
      "\u001b[34m[16:23:09] src/tree/updater_prune.cc:74: tree pruning end, 1 roots, 32 extra nodes, 8 pruned nodes, max_depth=5\u001b[0m\n",
      "\u001b[34m[12]#011train-error:0.2152#011validation-error:0.2358\u001b[0m\n",
      "\u001b[34m[16:23:11] src/tree/updater_prune.cc:74: tree pruning end, 1 roots, 24 extra nodes, 6 pruned nodes, max_depth=5\u001b[0m\n",
      "\u001b[34m[13]#011train-error:0.2102#011validation-error:0.2318\u001b[0m\n",
      "\u001b[34m[16:23:12] src/tree/updater_prune.cc:74: tree pruning end, 1 roots, 46 extra nodes, 2 pruned nodes, max_depth=5\u001b[0m\n",
      "\u001b[34m[14]#011train-error:0.203733#011validation-error:0.2259\u001b[0m\n",
      "\u001b[34m[16:23:13] src/tree/updater_prune.cc:74: tree pruning end, 1 roots, 22 extra nodes, 10 pruned nodes, max_depth=5\u001b[0m\n",
      "\u001b[34m[15]#011train-error:0.201067#011validation-error:0.2225\u001b[0m\n",
      "\u001b[34m[16:23:15] src/tree/updater_prune.cc:74: tree pruning end, 1 roots, 36 extra nodes, 12 pruned nodes, max_depth=5\u001b[0m\n",
      "\u001b[34m[16]#011train-error:0.1996#011validation-error:0.2205\u001b[0m\n",
      "\u001b[34m[16:23:16] src/tree/updater_prune.cc:74: tree pruning end, 1 roots, 24 extra nodes, 12 pruned nodes, max_depth=5\u001b[0m\n",
      "\u001b[34m[17]#011train-error:0.1956#011validation-error:0.218\u001b[0m\n",
      "\u001b[34m[16:23:17] src/tree/updater_prune.cc:74: tree pruning end, 1 roots, 22 extra nodes, 10 pruned nodes, max_depth=5\u001b[0m\n",
      "\u001b[34m[18]#011train-error:0.189533#011validation-error:0.2162\u001b[0m\n",
      "\u001b[34m[16:23:18] src/tree/updater_prune.cc:74: tree pruning end, 1 roots, 38 extra nodes, 6 pruned nodes, max_depth=5\u001b[0m\n",
      "\u001b[34m[19]#011train-error:0.188067#011validation-error:0.215\u001b[0m\n",
      "\u001b[34m[16:23:20] src/tree/updater_prune.cc:74: tree pruning end, 1 roots, 22 extra nodes, 10 pruned nodes, max_depth=5\u001b[0m\n",
      "\u001b[34m[20]#011train-error:0.1864#011validation-error:0.2105\u001b[0m\n",
      "\u001b[34m[16:23:21] src/tree/updater_prune.cc:74: tree pruning end, 1 roots, 42 extra nodes, 4 pruned nodes, max_depth=5\u001b[0m\n",
      "\u001b[34m[21]#011train-error:0.182133#011validation-error:0.2085\u001b[0m\n",
      "\u001b[34m[16:23:22] src/tree/updater_prune.cc:74: tree pruning end, 1 roots, 30 extra nodes, 8 pruned nodes, max_depth=5\u001b[0m\n",
      "\u001b[34m[22]#011train-error:0.179733#011validation-error:0.2075\u001b[0m\n",
      "\u001b[34m[16:23:24] src/tree/updater_prune.cc:74: tree pruning end, 1 roots, 48 extra nodes, 2 pruned nodes, max_depth=5\u001b[0m\n",
      "\u001b[34m[23]#011train-error:0.176067#011validation-error:0.2067\u001b[0m\n",
      "\u001b[34m[16:23:25] src/tree/updater_prune.cc:74: tree pruning end, 1 roots, 40 extra nodes, 8 pruned nodes, max_depth=5\u001b[0m\n",
      "\u001b[34m[24]#011train-error:0.1738#011validation-error:0.2054\u001b[0m\n",
      "\u001b[34m[16:23:26] src/tree/updater_prune.cc:74: tree pruning end, 1 roots, 40 extra nodes, 4 pruned nodes, max_depth=5\u001b[0m\n",
      "\u001b[34m[25]#011train-error:0.170667#011validation-error:0.2041\u001b[0m\n",
      "\u001b[34m[16:23:27] src/tree/updater_prune.cc:74: tree pruning end, 1 roots, 28 extra nodes, 4 pruned nodes, max_depth=5\u001b[0m\n",
      "\u001b[34m[26]#011train-error:0.169667#011validation-error:0.2014\u001b[0m\n",
      "\u001b[34m[16:23:29] src/tree/updater_prune.cc:74: tree pruning end, 1 roots, 28 extra nodes, 2 pruned nodes, max_depth=5\u001b[0m\n",
      "\u001b[34m[27]#011train-error:0.167#011validation-error:0.201\u001b[0m\n",
      "\u001b[34m[16:23:30] src/tree/updater_prune.cc:74: tree pruning end, 1 roots, 24 extra nodes, 8 pruned nodes, max_depth=5\u001b[0m\n",
      "\u001b[34m[28]#011train-error:0.164867#011validation-error:0.1988\u001b[0m\n",
      "\u001b[34m[16:23:31] src/tree/updater_prune.cc:74: tree pruning end, 1 roots, 20 extra nodes, 12 pruned nodes, max_depth=5\u001b[0m\n",
      "\u001b[34m[29]#011train-error:0.1624#011validation-error:0.2005\u001b[0m\n",
      "\u001b[34m[16:23:33] src/tree/updater_prune.cc:74: tree pruning end, 1 roots, 24 extra nodes, 8 pruned nodes, max_depth=5\u001b[0m\n",
      "\u001b[34m[30]#011train-error:0.160133#011validation-error:0.1982\u001b[0m\n",
      "\u001b[34m[16:23:34] src/tree/updater_prune.cc:74: tree pruning end, 1 roots, 30 extra nodes, 8 pruned nodes, max_depth=5\u001b[0m\n",
      "\u001b[34m[31]#011train-error:0.157867#011validation-error:0.1973\u001b[0m\n",
      "\u001b[34m[16:23:35] src/tree/updater_prune.cc:74: tree pruning end, 1 roots, 12 extra nodes, 10 pruned nodes, max_depth=5\u001b[0m\n",
      "\u001b[34m[32]#011train-error:0.158#011validation-error:0.1963\u001b[0m\n",
      "\u001b[34m[16:23:36] src/tree/updater_prune.cc:74: tree pruning end, 1 roots, 26 extra nodes, 8 pruned nodes, max_depth=5\u001b[0m\n",
      "\u001b[34m[33]#011train-error:0.1566#011validation-error:0.1958\u001b[0m\n",
      "\u001b[34m[16:23:38] src/tree/updater_prune.cc:74: tree pruning end, 1 roots, 20 extra nodes, 16 pruned nodes, max_depth=5\u001b[0m\n",
      "\u001b[34m[34]#011train-error:0.156733#011validation-error:0.1944\u001b[0m\n",
      "\u001b[34m[16:23:39] src/tree/updater_prune.cc:74: tree pruning end, 1 roots, 26 extra nodes, 14 pruned nodes, max_depth=5\u001b[0m\n",
      "\u001b[34m[35]#011train-error:0.154733#011validation-error:0.1919\u001b[0m\n",
      "\u001b[34m[16:23:40] src/tree/updater_prune.cc:74: tree pruning end, 1 roots, 24 extra nodes, 4 pruned nodes, max_depth=5\u001b[0m\n",
      "\u001b[34m[36]#011train-error:0.151733#011validation-error:0.1904\u001b[0m\n",
      "\u001b[34m[16:23:42] src/tree/updater_prune.cc:74: tree pruning end, 1 roots, 20 extra nodes, 10 pruned nodes, max_depth=5\u001b[0m\n",
      "\u001b[34m[37]#011train-error:0.150267#011validation-error:0.1904\u001b[0m\n",
      "\u001b[34m[16:23:43] src/tree/updater_prune.cc:74: tree pruning end, 1 roots, 22 extra nodes, 14 pruned nodes, max_depth=5\u001b[0m\n",
      "\u001b[34m[38]#011train-error:0.1492#011validation-error:0.1889\u001b[0m\n"
     ]
    },
    {
     "name": "stdout",
     "output_type": "stream",
     "text": [
      "\u001b[34m[16:23:44] src/tree/updater_prune.cc:74: tree pruning end, 1 roots, 18 extra nodes, 12 pruned nodes, max_depth=5\u001b[0m\n",
      "\u001b[34m[39]#011train-error:0.148333#011validation-error:0.1883\u001b[0m\n",
      "\u001b[34m[16:23:45] src/tree/updater_prune.cc:74: tree pruning end, 1 roots, 28 extra nodes, 12 pruned nodes, max_depth=5\u001b[0m\n",
      "\u001b[34m[40]#011train-error:0.146733#011validation-error:0.1867\u001b[0m\n",
      "\u001b[34m[16:23:47] src/tree/updater_prune.cc:74: tree pruning end, 1 roots, 30 extra nodes, 10 pruned nodes, max_depth=5\u001b[0m\n",
      "\u001b[34m[41]#011train-error:0.1452#011validation-error:0.186\u001b[0m\n",
      "\u001b[34m[16:23:48] src/tree/updater_prune.cc:74: tree pruning end, 1 roots, 16 extra nodes, 10 pruned nodes, max_depth=5\u001b[0m\n",
      "\u001b[34m[42]#011train-error:0.143667#011validation-error:0.1853\u001b[0m\n",
      "\u001b[34m[16:23:49] src/tree/updater_prune.cc:74: tree pruning end, 1 roots, 42 extra nodes, 8 pruned nodes, max_depth=5\u001b[0m\n",
      "\u001b[34m[43]#011train-error:0.142867#011validation-error:0.1867\u001b[0m\n",
      "\u001b[34m[16:23:51] src/tree/updater_prune.cc:74: tree pruning end, 1 roots, 48 extra nodes, 6 pruned nodes, max_depth=5\u001b[0m\n",
      "\u001b[34m[44]#011train-error:0.1422#011validation-error:0.1851\u001b[0m\n",
      "\u001b[34m[16:23:52] src/tree/updater_prune.cc:74: tree pruning end, 1 roots, 22 extra nodes, 4 pruned nodes, max_depth=5\u001b[0m\n",
      "\u001b[34m[45]#011train-error:0.141867#011validation-error:0.1832\u001b[0m\n",
      "\u001b[34m[16:23:53] src/tree/updater_prune.cc:74: tree pruning end, 1 roots, 14 extra nodes, 14 pruned nodes, max_depth=5\u001b[0m\n",
      "\u001b[34m[46]#011train-error:0.140933#011validation-error:0.1825\u001b[0m\n",
      "\u001b[34m[16:23:54] src/tree/updater_prune.cc:74: tree pruning end, 1 roots, 16 extra nodes, 12 pruned nodes, max_depth=5\u001b[0m\n",
      "\u001b[34m[47]#011train-error:0.139533#011validation-error:0.1819\u001b[0m\n",
      "\u001b[34m[16:23:56] src/tree/updater_prune.cc:74: tree pruning end, 1 roots, 30 extra nodes, 10 pruned nodes, max_depth=5\u001b[0m\n",
      "\u001b[34m[48]#011train-error:0.1384#011validation-error:0.1812\u001b[0m\n",
      "\u001b[34m[16:23:57] src/tree/updater_prune.cc:74: tree pruning end, 1 roots, 18 extra nodes, 8 pruned nodes, max_depth=5\u001b[0m\n",
      "\u001b[34m[49]#011train-error:0.136667#011validation-error:0.1795\u001b[0m\n",
      "\u001b[34m[16:23:58] src/tree/updater_prune.cc:74: tree pruning end, 1 roots, 32 extra nodes, 10 pruned nodes, max_depth=5\u001b[0m\n",
      "\u001b[34m[50]#011train-error:0.135733#011validation-error:0.1798\u001b[0m\n",
      "\u001b[34m[16:23:59] src/tree/updater_prune.cc:74: tree pruning end, 1 roots, 28 extra nodes, 6 pruned nodes, max_depth=5\u001b[0m\n",
      "\u001b[34m[51]#011train-error:0.134267#011validation-error:0.1792\u001b[0m\n",
      "\u001b[34m[16:24:01] src/tree/updater_prune.cc:74: tree pruning end, 1 roots, 26 extra nodes, 10 pruned nodes, max_depth=5\u001b[0m\n",
      "\u001b[34m[52]#011train-error:0.132867#011validation-error:0.1795\u001b[0m\n",
      "\u001b[34m[16:24:02] src/tree/updater_prune.cc:74: tree pruning end, 1 roots, 24 extra nodes, 10 pruned nodes, max_depth=5\u001b[0m\n",
      "\u001b[34m[53]#011train-error:0.130933#011validation-error:0.1781\u001b[0m\n",
      "\u001b[34m[16:24:04] src/tree/updater_prune.cc:74: tree pruning end, 1 roots, 22 extra nodes, 12 pruned nodes, max_depth=5\u001b[0m\n",
      "\u001b[34m[54]#011train-error:0.131333#011validation-error:0.1782\u001b[0m\n",
      "\u001b[34m[16:24:06] src/tree/updater_prune.cc:74: tree pruning end, 1 roots, 10 extra nodes, 8 pruned nodes, max_depth=5\u001b[0m\n",
      "\u001b[34m[55]#011train-error:0.1304#011validation-error:0.1787\u001b[0m\n",
      "\u001b[34m[16:24:07] src/tree/updater_prune.cc:74: tree pruning end, 1 roots, 32 extra nodes, 12 pruned nodes, max_depth=5\u001b[0m\n",
      "\u001b[34m[56]#011train-error:0.128467#011validation-error:0.1795\u001b[0m\n",
      "\u001b[34m[16:24:08] src/tree/updater_prune.cc:74: tree pruning end, 1 roots, 20 extra nodes, 8 pruned nodes, max_depth=5\u001b[0m\n",
      "\u001b[34m[57]#011train-error:0.128133#011validation-error:0.1788\u001b[0m\n",
      "\u001b[34m[16:24:09] src/tree/updater_prune.cc:74: tree pruning end, 1 roots, 14 extra nodes, 16 pruned nodes, max_depth=5\u001b[0m\n",
      "\u001b[34m[58]#011train-error:0.126667#011validation-error:0.1763\u001b[0m\n",
      "\u001b[34m[16:24:11] src/tree/updater_prune.cc:74: tree pruning end, 1 roots, 26 extra nodes, 6 pruned nodes, max_depth=5\u001b[0m\n",
      "\u001b[34m[59]#011train-error:0.126067#011validation-error:0.1775\u001b[0m\n",
      "\u001b[34m[16:24:12] src/tree/updater_prune.cc:74: tree pruning end, 1 roots, 30 extra nodes, 10 pruned nodes, max_depth=5\u001b[0m\n",
      "\u001b[34m[60]#011train-error:0.124133#011validation-error:0.1775\u001b[0m\n",
      "\u001b[34m[16:24:13] src/tree/updater_prune.cc:74: tree pruning end, 1 roots, 18 extra nodes, 12 pruned nodes, max_depth=5\u001b[0m\n",
      "\u001b[34m[61]#011train-error:0.124333#011validation-error:0.1752\u001b[0m\n",
      "\u001b[34m[16:24:15] src/tree/updater_prune.cc:74: tree pruning end, 1 roots, 36 extra nodes, 10 pruned nodes, max_depth=5\u001b[0m\n",
      "\u001b[34m[62]#011train-error:0.123#011validation-error:0.1746\u001b[0m\n",
      "\u001b[34m[16:24:16] src/tree/updater_prune.cc:74: tree pruning end, 1 roots, 20 extra nodes, 6 pruned nodes, max_depth=5\u001b[0m\n",
      "\u001b[34m[63]#011train-error:0.123133#011validation-error:0.1745\u001b[0m\n",
      "\u001b[34m[16:24:17] src/tree/updater_prune.cc:74: tree pruning end, 1 roots, 32 extra nodes, 4 pruned nodes, max_depth=5\u001b[0m\n",
      "\u001b[34m[64]#011train-error:0.122267#011validation-error:0.174\u001b[0m\n",
      "\u001b[34m[16:24:18] src/tree/updater_prune.cc:74: tree pruning end, 1 roots, 16 extra nodes, 16 pruned nodes, max_depth=5\u001b[0m\n",
      "\u001b[34m[65]#011train-error:0.1226#011validation-error:0.1732\u001b[0m\n",
      "\u001b[34m[16:24:20] src/tree/updater_prune.cc:74: tree pruning end, 1 roots, 26 extra nodes, 4 pruned nodes, max_depth=5\u001b[0m\n",
      "\u001b[34m[66]#011train-error:0.121067#011validation-error:0.1726\u001b[0m\n",
      "\u001b[34m[16:24:21] src/tree/updater_prune.cc:74: tree pruning end, 1 roots, 14 extra nodes, 10 pruned nodes, max_depth=5\u001b[0m\n",
      "\u001b[34m[67]#011train-error:0.120333#011validation-error:0.1717\u001b[0m\n",
      "\u001b[34m[16:24:22] src/tree/updater_prune.cc:74: tree pruning end, 1 roots, 26 extra nodes, 8 pruned nodes, max_depth=5\u001b[0m\n",
      "\u001b[34m[68]#011train-error:0.119267#011validation-error:0.1717\u001b[0m\n",
      "\u001b[34m[16:24:24] src/tree/updater_prune.cc:74: tree pruning end, 1 roots, 14 extra nodes, 18 pruned nodes, max_depth=5\u001b[0m\n",
      "\u001b[34m[69]#011train-error:0.1184#011validation-error:0.1705\u001b[0m\n",
      "\u001b[34m[16:24:25] src/tree/updater_prune.cc:74: tree pruning end, 1 roots, 12 extra nodes, 8 pruned nodes, max_depth=5\u001b[0m\n",
      "\u001b[34m[70]#011train-error:0.118267#011validation-error:0.1704\u001b[0m\n",
      "\u001b[34m[16:24:26] src/tree/updater_prune.cc:74: tree pruning end, 1 roots, 16 extra nodes, 6 pruned nodes, max_depth=5\u001b[0m\n",
      "\u001b[34m[71]#011train-error:0.118067#011validation-error:0.1687\u001b[0m\n",
      "\u001b[34m[16:24:27] src/tree/updater_prune.cc:74: tree pruning end, 1 roots, 22 extra nodes, 12 pruned nodes, max_depth=5\u001b[0m\n",
      "\u001b[34m[72]#011train-error:0.117333#011validation-error:0.168\u001b[0m\n",
      "\u001b[34m[16:24:29] src/tree/updater_prune.cc:74: tree pruning end, 1 roots, 20 extra nodes, 12 pruned nodes, max_depth=5\u001b[0m\n",
      "\u001b[34m[73]#011train-error:0.116533#011validation-error:0.1681\u001b[0m\n",
      "\u001b[34m[16:24:30] src/tree/updater_prune.cc:74: tree pruning end, 1 roots, 30 extra nodes, 6 pruned nodes, max_depth=5\u001b[0m\n",
      "\u001b[34m[74]#011train-error:0.116#011validation-error:0.1676\u001b[0m\n",
      "\u001b[34m[16:24:31] src/tree/updater_prune.cc:74: tree pruning end, 1 roots, 24 extra nodes, 12 pruned nodes, max_depth=5\u001b[0m\n",
      "\u001b[34m[75]#011train-error:0.1152#011validation-error:0.1672\u001b[0m\n",
      "\u001b[34m[16:24:32] src/tree/updater_prune.cc:74: tree pruning end, 1 roots, 14 extra nodes, 12 pruned nodes, max_depth=5\u001b[0m\n",
      "\u001b[34m[76]#011train-error:0.1154#011validation-error:0.1667\u001b[0m\n",
      "\u001b[34m[16:24:34] src/tree/updater_prune.cc:74: tree pruning end, 1 roots, 22 extra nodes, 4 pruned nodes, max_depth=5\u001b[0m\n",
      "\u001b[34m[77]#011train-error:0.1142#011validation-error:0.1664\u001b[0m\n",
      "\u001b[34m[16:24:35] src/tree/updater_prune.cc:74: tree pruning end, 1 roots, 16 extra nodes, 12 pruned nodes, max_depth=5\u001b[0m\n",
      "\u001b[34m[78]#011train-error:0.113067#011validation-error:0.1669\u001b[0m\n",
      "\u001b[34m[16:24:36] src/tree/updater_prune.cc:74: tree pruning end, 1 roots, 30 extra nodes, 6 pruned nodes, max_depth=5\u001b[0m\n",
      "\u001b[34m[79]#011train-error:0.112333#011validation-error:0.1661\u001b[0m\n",
      "\u001b[34m[16:24:38] src/tree/updater_prune.cc:74: tree pruning end, 1 roots, 12 extra nodes, 6 pruned nodes, max_depth=5\u001b[0m\n",
      "\u001b[34m[80]#011train-error:0.112867#011validation-error:0.1661\u001b[0m\n",
      "\u001b[34m[16:24:39] src/tree/updater_prune.cc:74: tree pruning end, 1 roots, 24 extra nodes, 8 pruned nodes, max_depth=5\u001b[0m\n",
      "\u001b[34m[81]#011train-error:0.111133#011validation-error:0.1654\u001b[0m\n",
      "\u001b[34m[16:24:40] src/tree/updater_prune.cc:74: tree pruning end, 1 roots, 22 extra nodes, 4 pruned nodes, max_depth=5\u001b[0m\n",
      "\u001b[34m[82]#011train-error:0.110267#011validation-error:0.1649\u001b[0m\n",
      "\u001b[34m[16:24:42] src/tree/updater_prune.cc:74: tree pruning end, 1 roots, 16 extra nodes, 6 pruned nodes, max_depth=5\u001b[0m\n",
      "\u001b[34m[83]#011train-error:0.1096#011validation-error:0.1646\u001b[0m\n",
      "\u001b[34m[16:24:43] src/tree/updater_prune.cc:74: tree pruning end, 1 roots, 10 extra nodes, 12 pruned nodes, max_depth=5\u001b[0m\n",
      "\u001b[34m[84]#011train-error:0.108933#011validation-error:0.1648\u001b[0m\n",
      "\u001b[34m[16:24:44] src/tree/updater_prune.cc:74: tree pruning end, 1 roots, 12 extra nodes, 4 pruned nodes, max_depth=5\u001b[0m\n",
      "\u001b[34m[85]#011train-error:0.108133#011validation-error:0.1644\u001b[0m\n",
      "\u001b[34m[16:24:45] src/tree/updater_prune.cc:74: tree pruning end, 1 roots, 16 extra nodes, 16 pruned nodes, max_depth=5\u001b[0m\n",
      "\u001b[34m[86]#011train-error:0.108067#011validation-error:0.1638\u001b[0m\n",
      "\u001b[34m[16:24:47] src/tree/updater_prune.cc:74: tree pruning end, 1 roots, 36 extra nodes, 6 pruned nodes, max_depth=5\u001b[0m\n",
      "\u001b[34m[87]#011train-error:0.107133#011validation-error:0.1638\u001b[0m\n",
      "\u001b[34m[16:24:48] src/tree/updater_prune.cc:74: tree pruning end, 1 roots, 10 extra nodes, 6 pruned nodes, max_depth=5\u001b[0m\n",
      "\u001b[34m[88]#011train-error:0.106533#011validation-error:0.1638\u001b[0m\n",
      "\u001b[34m[16:24:49] src/tree/updater_prune.cc:74: tree pruning end, 1 roots, 20 extra nodes, 8 pruned nodes, max_depth=5\u001b[0m\n",
      "\u001b[34m[89]#011train-error:0.106733#011validation-error:0.1622\u001b[0m\n",
      "\u001b[34m[16:24:51] src/tree/updater_prune.cc:74: tree pruning end, 1 roots, 16 extra nodes, 6 pruned nodes, max_depth=5\u001b[0m\n",
      "\u001b[34m[90]#011train-error:0.106533#011validation-error:0.162\u001b[0m\n"
     ]
    },
    {
     "name": "stdout",
     "output_type": "stream",
     "text": [
      "\u001b[34m[16:24:52] src/tree/updater_prune.cc:74: tree pruning end, 1 roots, 28 extra nodes, 14 pruned nodes, max_depth=5\u001b[0m\n",
      "\u001b[34m[91]#011train-error:0.1052#011validation-error:0.1607\u001b[0m\n",
      "\u001b[34m[16:24:53] src/tree/updater_prune.cc:74: tree pruning end, 1 roots, 20 extra nodes, 12 pruned nodes, max_depth=5\u001b[0m\n",
      "\u001b[34m[92]#011train-error:0.105133#011validation-error:0.1608\u001b[0m\n",
      "\u001b[34m[16:24:54] src/tree/updater_prune.cc:74: tree pruning end, 1 roots, 12 extra nodes, 8 pruned nodes, max_depth=5\u001b[0m\n",
      "\u001b[34m[93]#011train-error:0.104733#011validation-error:0.1617\u001b[0m\n",
      "\u001b[34m[16:24:56] src/tree/updater_prune.cc:74: tree pruning end, 1 roots, 10 extra nodes, 6 pruned nodes, max_depth=5\u001b[0m\n",
      "\u001b[34m[94]#011train-error:0.104067#011validation-error:0.161\u001b[0m\n",
      "\u001b[34m[16:24:57] src/tree/updater_prune.cc:74: tree pruning end, 1 roots, 14 extra nodes, 12 pruned nodes, max_depth=5\u001b[0m\n",
      "\u001b[34m[95]#011train-error:0.103267#011validation-error:0.1615\u001b[0m\n",
      "\u001b[34m[16:24:58] src/tree/updater_prune.cc:74: tree pruning end, 1 roots, 12 extra nodes, 12 pruned nodes, max_depth=5\u001b[0m\n",
      "\u001b[34m[96]#011train-error:0.103#011validation-error:0.1609\u001b[0m\n",
      "\u001b[34m[16:25:00] src/tree/updater_prune.cc:74: tree pruning end, 1 roots, 12 extra nodes, 10 pruned nodes, max_depth=5\u001b[0m\n",
      "\u001b[34m[97]#011train-error:0.1028#011validation-error:0.1603\u001b[0m\n",
      "\u001b[34m[16:25:01] src/tree/updater_prune.cc:74: tree pruning end, 1 roots, 30 extra nodes, 0 pruned nodes, max_depth=5\u001b[0m\n",
      "\u001b[34m[98]#011train-error:0.101467#011validation-error:0.1601\u001b[0m\n",
      "\u001b[34m[16:25:02] src/tree/updater_prune.cc:74: tree pruning end, 1 roots, 14 extra nodes, 14 pruned nodes, max_depth=5\u001b[0m\n",
      "\u001b[34m[99]#011train-error:0.100933#011validation-error:0.1594\u001b[0m\n",
      "\u001b[34m[16:25:03] src/tree/updater_prune.cc:74: tree pruning end, 1 roots, 16 extra nodes, 16 pruned nodes, max_depth=5\u001b[0m\n",
      "\u001b[34m[100]#011train-error:0.1008#011validation-error:0.1597\u001b[0m\n",
      "\u001b[34m[16:25:05] src/tree/updater_prune.cc:74: tree pruning end, 1 roots, 18 extra nodes, 8 pruned nodes, max_depth=5\u001b[0m\n",
      "\u001b[34m[101]#011train-error:0.1002#011validation-error:0.1595\u001b[0m\n",
      "\u001b[34m[16:25:06] src/tree/updater_prune.cc:74: tree pruning end, 1 roots, 26 extra nodes, 10 pruned nodes, max_depth=5\u001b[0m\n",
      "\u001b[34m[102]#011train-error:0.098333#011validation-error:0.1587\u001b[0m\n",
      "\u001b[34m[16:25:08] src/tree/updater_prune.cc:74: tree pruning end, 1 roots, 14 extra nodes, 2 pruned nodes, max_depth=5\u001b[0m\n",
      "\u001b[34m[103]#011train-error:0.098067#011validation-error:0.1579\u001b[0m\n",
      "\u001b[34m[16:25:09] src/tree/updater_prune.cc:74: tree pruning end, 1 roots, 18 extra nodes, 12 pruned nodes, max_depth=5\u001b[0m\n",
      "\u001b[34m[104]#011train-error:0.098733#011validation-error:0.1577\u001b[0m\n",
      "\u001b[34m[16:25:11] src/tree/updater_prune.cc:74: tree pruning end, 1 roots, 14 extra nodes, 6 pruned nodes, max_depth=5\u001b[0m\n",
      "\u001b[34m[105]#011train-error:0.099#011validation-error:0.1561\u001b[0m\n",
      "\u001b[34m[16:25:12] src/tree/updater_prune.cc:74: tree pruning end, 1 roots, 20 extra nodes, 18 pruned nodes, max_depth=5\u001b[0m\n",
      "\u001b[34m[106]#011train-error:0.099667#011validation-error:0.1561\u001b[0m\n",
      "\n",
      "2021-01-07 16:25:29 Uploading - Uploading generated training model\u001b[34m[16:25:13] src/tree/updater_prune.cc:74: tree pruning end, 1 roots, 38 extra nodes, 6 pruned nodes, max_depth=5\u001b[0m\n",
      "\u001b[34m[107]#011train-error:0.0984#011validation-error:0.1563\u001b[0m\n",
      "\u001b[34m[16:25:14] src/tree/updater_prune.cc:74: tree pruning end, 1 roots, 18 extra nodes, 12 pruned nodes, max_depth=5\u001b[0m\n",
      "\u001b[34m[108]#011train-error:0.097733#011validation-error:0.157\u001b[0m\n",
      "\u001b[34m[16:25:16] src/tree/updater_prune.cc:74: tree pruning end, 1 roots, 14 extra nodes, 6 pruned nodes, max_depth=5\u001b[0m\n",
      "\u001b[34m[109]#011train-error:0.0976#011validation-error:0.1567\u001b[0m\n",
      "\u001b[34m[16:25:17] src/tree/updater_prune.cc:74: tree pruning end, 1 roots, 10 extra nodes, 6 pruned nodes, max_depth=5\u001b[0m\n",
      "\u001b[34m[110]#011train-error:0.097#011validation-error:0.1569\u001b[0m\n",
      "\u001b[34m[16:25:18] src/tree/updater_prune.cc:74: tree pruning end, 1 roots, 18 extra nodes, 2 pruned nodes, max_depth=5\u001b[0m\n",
      "\u001b[34m[111]#011train-error:0.096067#011validation-error:0.1567\u001b[0m\n",
      "\u001b[34m[16:25:20] src/tree/updater_prune.cc:74: tree pruning end, 1 roots, 38 extra nodes, 6 pruned nodes, max_depth=5\u001b[0m\n",
      "\u001b[34m[112]#011train-error:0.096267#011validation-error:0.1566\u001b[0m\n",
      "\u001b[34m[16:25:21] src/tree/updater_prune.cc:74: tree pruning end, 1 roots, 20 extra nodes, 12 pruned nodes, max_depth=5\u001b[0m\n",
      "\u001b[34m[113]#011train-error:0.0946#011validation-error:0.1569\u001b[0m\n",
      "\u001b[34m[16:25:22] src/tree/updater_prune.cc:74: tree pruning end, 1 roots, 26 extra nodes, 20 pruned nodes, max_depth=5\u001b[0m\n",
      "\u001b[34m[114]#011train-error:0.094733#011validation-error:0.1563\u001b[0m\n",
      "\u001b[34m[16:25:24] src/tree/updater_prune.cc:74: tree pruning end, 1 roots, 18 extra nodes, 8 pruned nodes, max_depth=5\u001b[0m\n",
      "\u001b[34m[115]#011train-error:0.093933#011validation-error:0.1565\u001b[0m\n",
      "\u001b[34mStopping. Best iteration:\u001b[0m\n",
      "\u001b[34m[105]#011train-error:0.099#011validation-error:0.1561\n",
      "\u001b[0m\n",
      "\n",
      "2021-01-07 16:25:35 Completed - Training job completed\n",
      "Training seconds: 224\n",
      "Billable seconds: 224\n"
     ]
    }
   ],
   "source": [
    "xgb.fit({'train': s3_input_train, 'validation': s3_input_validation})"
   ]
  },
  {
   "cell_type": "markdown",
   "metadata": {},
   "source": [
    "## Step 5: Testing the model\n",
    "\n",
    "Now that we've fit our XGBoost model, it's time to see how well it performs. To do this we will use SageMakers Batch Transform functionality. Batch Transform is a convenient way to perform inference on a large dataset in a way that is not realtime. That is, we don't necessarily need to use our model's results immediately and instead we can perform inference on a large number of samples. An example of this in industry might be performing an end of month report. This method of inference can also be useful to us as it means that we can perform inference on our entire test set. \n",
    "\n",
    "To perform a Batch Transformation we need to first create a transformer objects from our trained estimator object."
   ]
  },
  {
   "cell_type": "code",
   "execution_count": 26,
   "metadata": {},
   "outputs": [
    {
     "name": "stderr",
     "output_type": "stream",
     "text": [
      "Parameter image will be renamed to image_uri in SageMaker Python SDK v2.\n"
     ]
    }
   ],
   "source": [
    "xgb_transformer = xgb.transformer(instance_count = 1, instance_type = 'ml.m4.xlarge')"
   ]
  },
  {
   "cell_type": "markdown",
   "metadata": {},
   "source": [
    "Next we actually perform the transform job. When doing so we need to make sure to specify the type of data we are sending so that it is serialized correctly in the background. In our case we are providing our model with csv data so we specify `text/csv`. Also, if the test data that we have provided is too large to process all at once then we need to specify how the data file should be split up. Since each line is a single entry in our data set we tell SageMaker that it can split the input on each line."
   ]
  },
  {
   "cell_type": "code",
   "execution_count": 27,
   "metadata": {},
   "outputs": [],
   "source": [
    "xgb_transformer.transform(test_location, content_type='text/csv', split_type='Line')"
   ]
  },
  {
   "cell_type": "markdown",
   "metadata": {},
   "source": [
    "Currently the transform job is running but it is doing so in the background. Since we wish to wait until the transform job is done and we would like a bit of feedback we can run the `wait()` method."
   ]
  },
  {
   "cell_type": "code",
   "execution_count": 28,
   "metadata": {},
   "outputs": [
    {
     "name": "stdout",
     "output_type": "stream",
     "text": [
      ".............................\u001b[32m2021-01-07T16:30:52.886:[sagemaker logs]: MaxConcurrentTransforms=4, MaxPayloadInMB=6, BatchStrategy=MULTI_RECORD\u001b[0m\n",
      "\u001b[34mArguments: serve\u001b[0m\n",
      "\u001b[34m[2021-01-07 16:30:52 +0000] [1] [INFO] Starting gunicorn 19.7.1\u001b[0m\n",
      "\u001b[34m[2021-01-07 16:30:52 +0000] [1] [INFO] Listening at: http://0.0.0.0:8080 (1)\u001b[0m\n",
      "\u001b[34m[2021-01-07 16:30:52 +0000] [1] [INFO] Using worker: gevent\u001b[0m\n",
      "\u001b[34m[2021-01-07 16:30:52 +0000] [36] [INFO] Booting worker with pid: 36\u001b[0m\n",
      "\u001b[34m[2021-01-07 16:30:52 +0000] [37] [INFO] Booting worker with pid: 37\u001b[0m\n",
      "\u001b[34m[2021-01-07:16:30:52:INFO] Model loaded successfully for worker : 36\u001b[0m\n",
      "\u001b[34m[2021-01-07:16:30:52:INFO] Model loaded successfully for worker : 37\u001b[0m\n",
      "\u001b[34m[2021-01-07 16:30:52 +0000] [38] [INFO] Booting worker with pid: 38\u001b[0m\n",
      "\u001b[34m[2021-01-07 16:30:52 +0000] [39] [INFO] Booting worker with pid: 39\u001b[0m\n",
      "\u001b[34m[2021-01-07:16:30:53:INFO] Model loaded successfully for worker : 39\u001b[0m\n",
      "\u001b[34m[2021-01-07:16:30:53:INFO] Model loaded successfully for worker : 38\u001b[0m\n",
      "\u001b[34m[2021-01-07:16:30:53:INFO] Sniff delimiter as ','\u001b[0m\n",
      "\u001b[34m[2021-01-07:16:30:53:INFO] Determined delimiter of CSV input is ','\u001b[0m\n",
      "\u001b[34m[2021-01-07:16:30:53:INFO] Sniff delimiter as ','\u001b[0m\n",
      "\u001b[34m[2021-01-07:16:30:53:INFO] Determined delimiter of CSV input is ','\u001b[0m\n",
      "\u001b[34m[2021-01-07:16:30:53:INFO] Sniff delimiter as ','\u001b[0m\n",
      "\u001b[34m[2021-01-07:16:30:53:INFO] Determined delimiter of CSV input is ','\u001b[0m\n",
      "\u001b[35mArguments: serve\u001b[0m\n",
      "\u001b[35m[2021-01-07 16:30:52 +0000] [1] [INFO] Starting gunicorn 19.7.1\u001b[0m\n",
      "\u001b[35m[2021-01-07 16:30:52 +0000] [1] [INFO] Listening at: http://0.0.0.0:8080 (1)\u001b[0m\n",
      "\u001b[35m[2021-01-07 16:30:52 +0000] [1] [INFO] Using worker: gevent\u001b[0m\n",
      "\u001b[35m[2021-01-07 16:30:52 +0000] [36] [INFO] Booting worker with pid: 36\u001b[0m\n",
      "\u001b[35m[2021-01-07 16:30:52 +0000] [37] [INFO] Booting worker with pid: 37\u001b[0m\n",
      "\u001b[35m[2021-01-07:16:30:52:INFO] Model loaded successfully for worker : 36\u001b[0m\n",
      "\u001b[35m[2021-01-07:16:30:52:INFO] Model loaded successfully for worker : 37\u001b[0m\n",
      "\u001b[35m[2021-01-07 16:30:52 +0000] [38] [INFO] Booting worker with pid: 38\u001b[0m\n",
      "\u001b[35m[2021-01-07 16:30:52 +0000] [39] [INFO] Booting worker with pid: 39\u001b[0m\n",
      "\u001b[35m[2021-01-07:16:30:53:INFO] Model loaded successfully for worker : 39\u001b[0m\n",
      "\u001b[35m[2021-01-07:16:30:53:INFO] Model loaded successfully for worker : 38\u001b[0m\n",
      "\u001b[35m[2021-01-07:16:30:53:INFO] Sniff delimiter as ','\u001b[0m\n",
      "\u001b[35m[2021-01-07:16:30:53:INFO] Determined delimiter of CSV input is ','\u001b[0m\n",
      "\u001b[35m[2021-01-07:16:30:53:INFO] Sniff delimiter as ','\u001b[0m\n",
      "\u001b[35m[2021-01-07:16:30:53:INFO] Determined delimiter of CSV input is ','\u001b[0m\n",
      "\u001b[35m[2021-01-07:16:30:53:INFO] Sniff delimiter as ','\u001b[0m\n",
      "\u001b[35m[2021-01-07:16:30:53:INFO] Determined delimiter of CSV input is ','\u001b[0m\n",
      "\u001b[34m[2021-01-07:16:30:55:INFO] Sniff delimiter as ','\u001b[0m\n",
      "\u001b[34m[2021-01-07:16:30:55:INFO] Determined delimiter of CSV input is ','\u001b[0m\n",
      "\u001b[34m[2021-01-07:16:30:55:INFO] Sniff delimiter as ','\u001b[0m\n",
      "\u001b[34m[2021-01-07:16:30:55:INFO] Determined delimiter of CSV input is ','\u001b[0m\n",
      "\u001b[34m[2021-01-07:16:30:55:INFO] Sniff delimiter as ','\u001b[0m\n",
      "\u001b[34m[2021-01-07:16:30:55:INFO] Determined delimiter of CSV input is ','\u001b[0m\n",
      "\u001b[35m[2021-01-07:16:30:55:INFO] Sniff delimiter as ','\u001b[0m\n",
      "\u001b[35m[2021-01-07:16:30:55:INFO] Determined delimiter of CSV input is ','\u001b[0m\n",
      "\u001b[35m[2021-01-07:16:30:55:INFO] Sniff delimiter as ','\u001b[0m\n",
      "\u001b[35m[2021-01-07:16:30:55:INFO] Determined delimiter of CSV input is ','\u001b[0m\n",
      "\u001b[35m[2021-01-07:16:30:55:INFO] Sniff delimiter as ','\u001b[0m\n",
      "\u001b[35m[2021-01-07:16:30:55:INFO] Determined delimiter of CSV input is ','\u001b[0m\n",
      "\u001b[34m[2021-01-07:16:30:56:INFO] Sniff delimiter as ','\u001b[0m\n",
      "\u001b[34m[2021-01-07:16:30:56:INFO] Determined delimiter of CSV input is ','\u001b[0m\n",
      "\u001b[34m[2021-01-07:16:30:57:INFO] Sniff delimiter as ','\u001b[0m\n",
      "\u001b[34m[2021-01-07:16:30:57:INFO] Determined delimiter of CSV input is ','\u001b[0m\n",
      "\u001b[34m[2021-01-07:16:30:57:INFO] Sniff delimiter as ','\u001b[0m\n",
      "\u001b[34m[2021-01-07:16:30:57:INFO] Determined delimiter of CSV input is ','\u001b[0m\n",
      "\u001b[34m[2021-01-07:16:30:57:INFO] Sniff delimiter as ','\u001b[0m\n",
      "\u001b[35m[2021-01-07:16:30:56:INFO] Sniff delimiter as ','\u001b[0m\n",
      "\u001b[35m[2021-01-07:16:30:56:INFO] Determined delimiter of CSV input is ','\u001b[0m\n",
      "\u001b[35m[2021-01-07:16:30:57:INFO] Sniff delimiter as ','\u001b[0m\n",
      "\u001b[35m[2021-01-07:16:30:57:INFO] Determined delimiter of CSV input is ','\u001b[0m\n",
      "\u001b[35m[2021-01-07:16:30:57:INFO] Sniff delimiter as ','\u001b[0m\n",
      "\u001b[35m[2021-01-07:16:30:57:INFO] Determined delimiter of CSV input is ','\u001b[0m\n",
      "\u001b[35m[2021-01-07:16:30:57:INFO] Sniff delimiter as ','\u001b[0m\n",
      "\u001b[34m[2021-01-07:16:30:57:INFO] Determined delimiter of CSV input is ','\u001b[0m\n",
      "\u001b[35m[2021-01-07:16:30:57:INFO] Determined delimiter of CSV input is ','\u001b[0m\n",
      "\u001b[34m[2021-01-07:16:30:59:INFO] Determined delimiter of CSV input is ','\u001b[0m\n",
      "\u001b[34m[2021-01-07:16:30:59:INFO] Sniff delimiter as ','\u001b[0m\n",
      "\u001b[34m[2021-01-07:16:30:59:INFO] Determined delimiter of CSV input is ','\u001b[0m\n",
      "\u001b[35m[2021-01-07:16:30:59:INFO] Determined delimiter of CSV input is ','\u001b[0m\n",
      "\u001b[35m[2021-01-07:16:30:59:INFO] Sniff delimiter as ','\u001b[0m\n",
      "\u001b[35m[2021-01-07:16:30:59:INFO] Determined delimiter of CSV input is ','\u001b[0m\n",
      "\u001b[34m[2021-01-07:16:30:59:INFO] Sniff delimiter as ','\u001b[0m\n",
      "\u001b[34m[2021-01-07:16:30:59:INFO] Determined delimiter of CSV input is ','\u001b[0m\n",
      "\u001b[34m[2021-01-07:16:31:00:INFO] Sniff delimiter as ','\u001b[0m\n",
      "\u001b[34m[2021-01-07:16:31:00:INFO] Determined delimiter of CSV input is ','\u001b[0m\n",
      "\u001b[35m[2021-01-07:16:30:59:INFO] Sniff delimiter as ','\u001b[0m\n",
      "\u001b[35m[2021-01-07:16:30:59:INFO] Determined delimiter of CSV input is ','\u001b[0m\n",
      "\u001b[35m[2021-01-07:16:31:00:INFO] Sniff delimiter as ','\u001b[0m\n",
      "\u001b[35m[2021-01-07:16:31:00:INFO] Determined delimiter of CSV input is ','\u001b[0m\n",
      "\u001b[34m[2021-01-07:16:31:01:INFO] Sniff delimiter as ','\u001b[0m\n",
      "\u001b[34m[2021-01-07:16:31:01:INFO] Determined delimiter of CSV input is ','\u001b[0m\n",
      "\u001b[34m[2021-01-07:16:31:02:INFO] Sniff delimiter as ','\u001b[0m\n",
      "\u001b[34m[2021-01-07:16:31:02:INFO] Determined delimiter of CSV input is ','\u001b[0m\n",
      "\u001b[34m[2021-01-07:16:31:02:INFO] Sniff delimiter as ','\u001b[0m\n",
      "\u001b[34m[2021-01-07:16:31:02:INFO] Determined delimiter of CSV input is ','\u001b[0m\n",
      "\u001b[35m[2021-01-07:16:31:01:INFO] Sniff delimiter as ','\u001b[0m\n",
      "\u001b[35m[2021-01-07:16:31:01:INFO] Determined delimiter of CSV input is ','\u001b[0m\n",
      "\u001b[35m[2021-01-07:16:31:02:INFO] Sniff delimiter as ','\u001b[0m\n",
      "\u001b[35m[2021-01-07:16:31:02:INFO] Determined delimiter of CSV input is ','\u001b[0m\n",
      "\u001b[35m[2021-01-07:16:31:02:INFO] Sniff delimiter as ','\u001b[0m\n",
      "\u001b[35m[2021-01-07:16:31:02:INFO] Determined delimiter of CSV input is ','\u001b[0m\n",
      "\u001b[34m[2021-01-07:16:31:02:INFO] Sniff delimiter as ','\u001b[0m\n",
      "\u001b[34m[2021-01-07:16:31:02:INFO] Determined delimiter of CSV input is ','\u001b[0m\n",
      "\u001b[35m[2021-01-07:16:31:02:INFO] Sniff delimiter as ','\u001b[0m\n",
      "\u001b[35m[2021-01-07:16:31:02:INFO] Determined delimiter of CSV input is ','\u001b[0m\n",
      "\u001b[34m[2021-01-07:16:31:04:INFO] Sniff delimiter as ','\u001b[0m\n",
      "\u001b[34m[2021-01-07:16:31:04:INFO] Determined delimiter of CSV input is ','\u001b[0m\n",
      "\u001b[35m[2021-01-07:16:31:04:INFO] Sniff delimiter as ','\u001b[0m\n",
      "\u001b[35m[2021-01-07:16:31:04:INFO] Determined delimiter of CSV input is ','\u001b[0m\n",
      "\u001b[34m[2021-01-07:16:31:04:INFO] Sniff delimiter as ','\u001b[0m\n",
      "\u001b[34m[2021-01-07:16:31:04:INFO] Determined delimiter of CSV input is ','\u001b[0m\n",
      "\u001b[34m[2021-01-07:16:31:04:INFO] Sniff delimiter as ','\u001b[0m\n",
      "\u001b[34m[2021-01-07:16:31:04:INFO] Determined delimiter of CSV input is ','\u001b[0m\n",
      "\u001b[34m[2021-01-07:16:31:05:INFO] Sniff delimiter as ','\u001b[0m\n",
      "\u001b[34m[2021-01-07:16:31:05:INFO] Determined delimiter of CSV input is ','\u001b[0m\n",
      "\u001b[35m[2021-01-07:16:31:04:INFO] Sniff delimiter as ','\u001b[0m\n",
      "\u001b[35m[2021-01-07:16:31:04:INFO] Determined delimiter of CSV input is ','\u001b[0m\n",
      "\u001b[35m[2021-01-07:16:31:04:INFO] Sniff delimiter as ','\u001b[0m\n",
      "\u001b[35m[2021-01-07:16:31:04:INFO] Determined delimiter of CSV input is ','\u001b[0m\n",
      "\u001b[35m[2021-01-07:16:31:05:INFO] Sniff delimiter as ','\u001b[0m\n",
      "\u001b[35m[2021-01-07:16:31:05:INFO] Determined delimiter of CSV input is ','\u001b[0m\n",
      "\u001b[34m[2021-01-07:16:31:06:INFO] Sniff delimiter as ','\u001b[0m\n",
      "\u001b[34m[2021-01-07:16:31:06:INFO] Determined delimiter of CSV input is ','\u001b[0m\n",
      "\u001b[34m[2021-01-07:16:31:07:INFO] Sniff delimiter as ','\u001b[0m\n",
      "\u001b[34m[2021-01-07:16:31:07:INFO] Determined delimiter of CSV input is ','\u001b[0m\n",
      "\u001b[34m[2021-01-07:16:31:07:INFO] Sniff delimiter as ','\u001b[0m\n",
      "\u001b[34m[2021-01-07:16:31:07:INFO] Determined delimiter of CSV input is ','\u001b[0m\n",
      "\u001b[35m[2021-01-07:16:31:06:INFO] Sniff delimiter as ','\u001b[0m\n",
      "\u001b[35m[2021-01-07:16:31:06:INFO] Determined delimiter of CSV input is ','\u001b[0m\n",
      "\u001b[35m[2021-01-07:16:31:07:INFO] Sniff delimiter as ','\u001b[0m\n",
      "\u001b[35m[2021-01-07:16:31:07:INFO] Determined delimiter of CSV input is ','\u001b[0m\n",
      "\u001b[35m[2021-01-07:16:31:07:INFO] Sniff delimiter as ','\u001b[0m\n",
      "\u001b[35m[2021-01-07:16:31:07:INFO] Determined delimiter of CSV input is ','\u001b[0m\n",
      "\u001b[34m[2021-01-07:16:31:07:INFO] Sniff delimiter as ','\u001b[0m\n",
      "\u001b[35m[2021-01-07:16:31:07:INFO] Sniff delimiter as ','\u001b[0m\n",
      "\u001b[34m[2021-01-07:16:31:07:INFO] Determined delimiter of CSV input is ','\u001b[0m\n",
      "\u001b[35m[2021-01-07:16:31:07:INFO] Determined delimiter of CSV input is ','\u001b[0m\n"
     ]
    },
    {
     "name": "stdout",
     "output_type": "stream",
     "text": [
      "\u001b[34m[2021-01-07:16:31:09:INFO] Determined delimiter of CSV input is ','\u001b[0m\n",
      "\u001b[34m[2021-01-07:16:31:09:INFO] Sniff delimiter as ','\u001b[0m\n",
      "\u001b[34m[2021-01-07:16:31:09:INFO] Determined delimiter of CSV input is ','\u001b[0m\n",
      "\u001b[35m[2021-01-07:16:31:09:INFO] Determined delimiter of CSV input is ','\u001b[0m\n",
      "\u001b[35m[2021-01-07:16:31:09:INFO] Sniff delimiter as ','\u001b[0m\n",
      "\u001b[35m[2021-01-07:16:31:09:INFO] Determined delimiter of CSV input is ','\u001b[0m\n",
      "\u001b[34m[2021-01-07:16:31:09:INFO] Sniff delimiter as ','\u001b[0m\n",
      "\u001b[34m[2021-01-07:16:31:09:INFO] Determined delimiter of CSV input is ','\u001b[0m\n",
      "\u001b[34m[2021-01-07:16:31:10:INFO] Sniff delimiter as ','\u001b[0m\n",
      "\u001b[34m[2021-01-07:16:31:10:INFO] Determined delimiter of CSV input is ','\u001b[0m\n",
      "\u001b[35m[2021-01-07:16:31:09:INFO] Sniff delimiter as ','\u001b[0m\n",
      "\u001b[35m[2021-01-07:16:31:09:INFO] Determined delimiter of CSV input is ','\u001b[0m\n",
      "\u001b[35m[2021-01-07:16:31:10:INFO] Sniff delimiter as ','\u001b[0m\n",
      "\u001b[35m[2021-01-07:16:31:10:INFO] Determined delimiter of CSV input is ','\u001b[0m\n",
      "\u001b[34m[2021-01-07:16:31:11:INFO] Sniff delimiter as ','\u001b[0m\n",
      "\u001b[34m[2021-01-07:16:31:11:INFO] Determined delimiter of CSV input is ','\u001b[0m\n",
      "\u001b[34m[2021-01-07:16:31:11:INFO] Sniff delimiter as ','\u001b[0m\n",
      "\u001b[34m[2021-01-07:16:31:11:INFO] Determined delimiter of CSV input is ','\u001b[0m\n",
      "\u001b[34m[2021-01-07:16:31:12:INFO] Sniff delimiter as ','\u001b[0m\n",
      "\u001b[34m[2021-01-07:16:31:12:INFO] Determined delimiter of CSV input is ','\u001b[0m\n",
      "\u001b[35m[2021-01-07:16:31:11:INFO] Sniff delimiter as ','\u001b[0m\n",
      "\u001b[35m[2021-01-07:16:31:11:INFO] Determined delimiter of CSV input is ','\u001b[0m\n",
      "\u001b[35m[2021-01-07:16:31:11:INFO] Sniff delimiter as ','\u001b[0m\n",
      "\u001b[35m[2021-01-07:16:31:11:INFO] Determined delimiter of CSV input is ','\u001b[0m\n",
      "\u001b[35m[2021-01-07:16:31:12:INFO] Sniff delimiter as ','\u001b[0m\n",
      "\u001b[35m[2021-01-07:16:31:12:INFO] Determined delimiter of CSV input is ','\u001b[0m\n",
      "\u001b[34m[2021-01-07:16:31:12:INFO] Sniff delimiter as ','\u001b[0m\n",
      "\u001b[35m[2021-01-07:16:31:12:INFO] Sniff delimiter as ','\u001b[0m\n",
      "\u001b[34m[2021-01-07:16:31:12:INFO] Determined delimiter of CSV input is ','\u001b[0m\n",
      "\u001b[35m[2021-01-07:16:31:12:INFO] Determined delimiter of CSV input is ','\u001b[0m\n",
      "\u001b[34m[2021-01-07:16:31:14:INFO] Sniff delimiter as ','\u001b[0m\n",
      "\u001b[34m[2021-01-07:16:31:14:INFO] Determined delimiter of CSV input is ','\u001b[0m\n",
      "\u001b[34m[2021-01-07:16:31:14:INFO] Sniff delimiter as ','\u001b[0m\n",
      "\u001b[34m[2021-01-07:16:31:14:INFO] Determined delimiter of CSV input is ','\u001b[0m\n",
      "\u001b[35m[2021-01-07:16:31:14:INFO] Sniff delimiter as ','\u001b[0m\n",
      "\u001b[35m[2021-01-07:16:31:14:INFO] Determined delimiter of CSV input is ','\u001b[0m\n",
      "\u001b[35m[2021-01-07:16:31:14:INFO] Sniff delimiter as ','\u001b[0m\n",
      "\u001b[35m[2021-01-07:16:31:14:INFO] Determined delimiter of CSV input is ','\u001b[0m\n",
      "\u001b[34m[2021-01-07:16:31:14:INFO] Sniff delimiter as ','\u001b[0m\n",
      "\u001b[34m[2021-01-07:16:31:14:INFO] Determined delimiter of CSV input is ','\u001b[0m\n",
      "\u001b[34m[2021-01-07:16:31:15:INFO] Sniff delimiter as ','\u001b[0m\n",
      "\u001b[34m[2021-01-07:16:31:15:INFO] Determined delimiter of CSV input is ','\u001b[0m\n",
      "\u001b[35m[2021-01-07:16:31:14:INFO] Sniff delimiter as ','\u001b[0m\n",
      "\u001b[35m[2021-01-07:16:31:14:INFO] Determined delimiter of CSV input is ','\u001b[0m\n",
      "\u001b[35m[2021-01-07:16:31:15:INFO] Sniff delimiter as ','\u001b[0m\n",
      "\u001b[35m[2021-01-07:16:31:15:INFO] Determined delimiter of CSV input is ','\u001b[0m\n",
      "\u001b[34m[2021-01-07:16:31:16:INFO] Sniff delimiter as ','\u001b[0m\n",
      "\u001b[34m[2021-01-07:16:31:16:INFO] Determined delimiter of CSV input is ','\u001b[0m\n",
      "\u001b[34m[2021-01-07:16:31:16:INFO] Sniff delimiter as ','\u001b[0m\n",
      "\u001b[34m[2021-01-07:16:31:16:INFO] Determined delimiter of CSV input is ','\u001b[0m\n",
      "\u001b[35m[2021-01-07:16:31:16:INFO] Sniff delimiter as ','\u001b[0m\n",
      "\u001b[35m[2021-01-07:16:31:16:INFO] Determined delimiter of CSV input is ','\u001b[0m\n",
      "\u001b[35m[2021-01-07:16:31:16:INFO] Sniff delimiter as ','\u001b[0m\n",
      "\u001b[35m[2021-01-07:16:31:16:INFO] Determined delimiter of CSV input is ','\u001b[0m\n",
      "\n"
     ]
    }
   ],
   "source": [
    "xgb_transformer.wait()"
   ]
  },
  {
   "cell_type": "markdown",
   "metadata": {},
   "source": [
    "Now the transform job has executed and the result, the estimated sentiment of each review, has been saved on S3. Since we would rather work on this file locally we can perform a bit of notebook magic to copy the file to the `data_dir`."
   ]
  },
  {
   "cell_type": "code",
   "execution_count": 29,
   "metadata": {},
   "outputs": [
    {
     "name": "stdout",
     "output_type": "stream",
     "text": [
      "Completed 256.0 KiB/368.7 KiB (3.1 MiB/s) with 1 file(s) remaining\r",
      "Completed 368.7 KiB/368.7 KiB (4.2 MiB/s) with 1 file(s) remaining\r",
      "download: s3://sagemaker-us-east-2-606098096513/xgboost-2021-01-07-16-26-11-492/test.csv.out to ../data/sentiment_web_app/test.csv.out\r\n"
     ]
    }
   ],
   "source": [
    "!aws s3 cp --recursive $xgb_transformer.output_path $data_dir"
   ]
  },
  {
   "cell_type": "markdown",
   "metadata": {},
   "source": [
    "The last step is now to read in the output from our model, convert the output to something a little more usable, in this case we want the sentiment to be either `1` (positive) or `0` (negative), and then compare to the ground truth labels."
   ]
  },
  {
   "cell_type": "code",
   "execution_count": 30,
   "metadata": {},
   "outputs": [],
   "source": [
    "predictions = pd.read_csv(os.path.join(data_dir, 'test.csv.out'), header=None)\n",
    "predictions = [round(num) for num in predictions.squeeze().values]"
   ]
  },
  {
   "cell_type": "code",
   "execution_count": 31,
   "metadata": {},
   "outputs": [
    {
     "data": {
      "text/plain": [
       "0.85024"
      ]
     },
     "execution_count": 31,
     "metadata": {},
     "output_type": "execute_result"
    }
   ],
   "source": [
    "from sklearn.metrics import accuracy_score\n",
    "accuracy_score(test_y, predictions)"
   ]
  },
  {
   "cell_type": "markdown",
   "metadata": {},
   "source": [
    "## Step 6: Deploying the model\n",
    "\n",
    "Once we construct and fit our model, SageMaker stores the resulting model artifacts and we can use those to deploy an endpoint (inference code). To see this, look in the SageMaker console and you should see that a model has been created along with a link to the S3 location where the model artifacts have been stored.\n",
    "\n",
    "Deploying an endpoint is a lot like training the model with a few important differences. The first is that a deployed model doesn't change the model artifacts, so as you send it various testing instances the model won't change. Another difference is that since we aren't performing a fixed computation, as we were in the training step or while performing a batch transform, the compute instance that gets started stays running until we tell it to stop. This is important to note as if we forget and leave it running we will be charged the entire time.\n",
    "\n",
    "In other words **If you are no longer using a deployed endpoint, shut it down!**"
   ]
  },
  {
   "cell_type": "code",
   "execution_count": 32,
   "metadata": {},
   "outputs": [
    {
     "name": "stderr",
     "output_type": "stream",
     "text": [
      "Parameter image will be renamed to image_uri in SageMaker Python SDK v2.\n",
      "Using already existing model: xgboost-2021-01-07-16-19-53-946\n"
     ]
    },
    {
     "name": "stdout",
     "output_type": "stream",
     "text": [
      "-------------!"
     ]
    }
   ],
   "source": [
    "xgb_predictor = xgb.deploy(initial_instance_count = 1, instance_type = 'ml.m4.xlarge')"
   ]
  },
  {
   "cell_type": "markdown",
   "metadata": {},
   "source": [
    "### Testing the model (again)\n",
    "\n",
    "Now that we have deployed our endpoint, we can send the testing data to it and get back the inference results. We already did this earlier using the batch transform functionality of SageMaker, however, we will test our model again using the newly deployed endpoint so that we can make sure that it works properly and to get a bit of a feel for how the endpoint works.\n",
    "\n",
    "When using the created endpoint it is important to know that we are limited in the amount of information we can send in each call so we need to break the testing data up into chunks and then send each chunk. Also, we need to serialize our data before we send it to the endpoint to ensure that our data is transmitted properly. Fortunately, SageMaker can do the serialization part for us provided we tell it the format of our data."
   ]
  },
  {
   "cell_type": "code",
   "execution_count": 33,
   "metadata": {},
   "outputs": [],
   "source": [
    "from sagemaker.predictor import csv_serializer\n",
    "\n",
    "# We need to tell the endpoint what format the data we are sending is in so that SageMaker can perform the serialization.\n",
    "xgb_predictor.content_type = 'text/csv'\n",
    "xgb_predictor.serializer = csv_serializer"
   ]
  },
  {
   "cell_type": "code",
   "execution_count": 34,
   "metadata": {},
   "outputs": [],
   "source": [
    "# We split the data into chunks and send each chunk seperately, accumulating the results.\n",
    "\n",
    "def predict(data, rows=512):\n",
    "    split_array = np.array_split(data, int(data.shape[0] / float(rows) + 1))\n",
    "    predictions = ''\n",
    "    for array in split_array:\n",
    "        predictions = ','.join([predictions, xgb_predictor.predict(array).decode('utf-8')])\n",
    "    \n",
    "    return np.fromstring(predictions[1:], sep=',')"
   ]
  },
  {
   "cell_type": "code",
   "execution_count": 35,
   "metadata": {},
   "outputs": [],
   "source": [
    "test_X = pd.read_csv(os.path.join(data_dir, 'test.csv'), header=None).values\n",
    "\n",
    "predictions = predict(test_X)\n",
    "predictions = [round(num) for num in predictions]"
   ]
  },
  {
   "cell_type": "markdown",
   "metadata": {},
   "source": [
    "Lastly, we check to see what the accuracy of our model is."
   ]
  },
  {
   "cell_type": "code",
   "execution_count": 36,
   "metadata": {},
   "outputs": [
    {
     "data": {
      "text/plain": [
       "0.85024"
      ]
     },
     "execution_count": 36,
     "metadata": {},
     "output_type": "execute_result"
    }
   ],
   "source": [
    "from sklearn.metrics import accuracy_score\n",
    "accuracy_score(test_y, predictions)"
   ]
  },
  {
   "cell_type": "markdown",
   "metadata": {},
   "source": [
    "And the results here should agree with the model testing that we did earlier using the batch transform job.\n",
    "\n",
    "### Cleaning up\n",
    "\n",
    "Now that we've determined that deploying our model works as expected, we are going to shut it down. Remember that the longer the endpoint is left running, the greater the cost and since we have a bit more work to do before we are able to use our endpoint with our simple web app, we should shut everything down."
   ]
  },
  {
   "cell_type": "code",
   "execution_count": 37,
   "metadata": {},
   "outputs": [],
   "source": [
    "xgb_predictor.delete_endpoint()"
   ]
  },
  {
   "cell_type": "markdown",
   "metadata": {},
   "source": [
    "## Step 7: Putting our model to work\n",
    "\n",
    "As we've mentioned a few times now, our goal is to have our model deployed and then access it using a very simple web app. The intent is for this web app to take some user submitted data (a review), send it off to our endpoint (the model) and then display the result.\n",
    "\n",
    "However, there is a small catch. Currently the only way we can access the endpoint to send it data is using the SageMaker API. We can, if we wish, expose the actual URL that our model's endpoint is receiving data from, however, if we just send it data ourselves we will not get anything in return. This is because the endpoint created by SageMaker requires the entity accessing it have the correct permissions. So, we would need to somehow authenticate our web app with AWS.\n",
    "\n",
    "Having a website that authenticates to AWS seems a bit beyond the scope of this lesson so we will opt for an alternative approach. Namely, we will create a new endpoint which does not require authentication and which acts as a proxy for the SageMaker endpoint.\n",
    "\n",
    "As an additional constraint, we will try to avoid doing any data processing in the web app itself. Remember that when we constructed and tested our model we started with a movie review, then we simplified it by removing any html formatting and punctuation, then we constructed a bag of words embedding and the resulting vector is what we sent to our model. All of this needs to be done to our user input as well.\n",
    "\n",
    "Fortunately we can do all of this data processing in the backend, using Amazon's Lambda service.\n",
    "\n",
    "<img src=\"Web App Diagram.svg\">\n",
    "\n",
    "The diagram above gives an overview of how the various services will work together. On the far right is the model which we trained above and which will be deployed using SageMaker. On the far left is our web app that collects a user's movie review, sends it off and expects a positive or negative sentiment in return.\n",
    "\n",
    "In the middle is where some of the magic happens. We will construct a Lambda function, which you can think of as a straightforward Python function that can be executed whenever a specified event occurs. This Python function will do the data processing we need to perform on a user submitted review. In addition, we will give this function permission to send and recieve data from a SageMaker endpoint.\n",
    "\n",
    "Lastly, the method we will use to execute the Lambda function is a new endpoint that we will create using API Gateway. This endpoint will be a url that listens for data to be sent to it. Once it gets some data it will pass that data on to the Lambda function and then return whatever the Lambda function returns. Essentially it will act as an interface that lets our web app communicate with the Lambda function.\n",
    "\n",
    "### Processing a single review\n",
    "\n",
    "For now, suppose we are given a movie review by our user in the form of a string, like so:"
   ]
  },
  {
   "cell_type": "code",
   "execution_count": 38,
   "metadata": {},
   "outputs": [],
   "source": [
    "test_review = \"Nothing but a disgusting materialistic pageant of glistening abed remote control greed zombies, totally devoid of any heart or heat. A romantic comedy that has zero romantic chemestry and zero laughs!\""
   ]
  },
  {
   "cell_type": "markdown",
   "metadata": {},
   "source": [
    "How do we go from this string to the bag of words feature vector that is expected by our model?\n",
    "\n",
    "If we recall at the beginning of this notebook, the first step is to remove any unnecessary characters using the `review_to_words` method. Remember that we intentionally did this in a very simplistic way. This is because we are going to have to copy this method to our (eventual) Lambda function (we will go into more detail later) and this means it needs to be rather simplistic."
   ]
  },
  {
   "cell_type": "code",
   "execution_count": 39,
   "metadata": {},
   "outputs": [
    {
     "name": "stdout",
     "output_type": "stream",
     "text": [
      "nothing but a disgusting materialistic pageant of glistening abed remote control greed zombies totally devoid of any heart or heat a romantic comedy that has zero romantic chemestry and zero laughs\n"
     ]
    }
   ],
   "source": [
    "test_words = review_to_words(test_review)\n",
    "print(test_words)"
   ]
  },
  {
   "cell_type": "markdown",
   "metadata": {},
   "source": [
    "Next, we need to construct a bag of words embedding of the `test_words` string. To do this, remember that a bag of words embedding uses a `vocabulary` consisting of the most frequently appearing words in a set of documents. Then, for each word in the vocabulary we record the number of times that word appears in `test_words`. We constructed the `vocabulary` earlier using the training set for our problem so encoding `test_words` is relatively straightforward."
   ]
  },
  {
   "cell_type": "code",
   "execution_count": 40,
   "metadata": {},
   "outputs": [],
   "source": [
    "def bow_encoding(words, vocabulary):\n",
    "    bow = [0] * len(vocabulary) # Start by setting the count for each word in the vocabulary to zero.\n",
    "    for word in words.split():  # For each word in the string\n",
    "        if word in vocabulary:  # If the word is one that occurs in the vocabulary, increase its count.\n",
    "            bow[vocabulary[word]] += 1\n",
    "    return bow"
   ]
  },
  {
   "cell_type": "code",
   "execution_count": 41,
   "metadata": {},
   "outputs": [
    {
     "name": "stdout",
     "output_type": "stream",
     "text": [
      "[0, 0, 0, 0, 0, 0, 0, 0, 0, 0, 0, 0, 0, 0, 0, 0, 0, 0, 0, 0, 0, 0, 0, 0, 0, 0, 0, 0, 0, 0, 0, 0, 0, 0, 0, 0, 0, 0, 0, 0, 0, 0, 0, 0, 0, 0, 0, 0, 0, 0, 0, 0, 0, 0, 0, 0, 0, 0, 0, 0, 0, 0, 0, 0, 0, 0, 0, 0, 0, 0, 0, 0, 0, 0, 0, 0, 0, 0, 0, 0, 0, 0, 0, 0, 0, 0, 0, 0, 0, 0, 0, 0, 0, 0, 0, 0, 0, 0, 0, 0, 0, 0, 0, 0, 0, 0, 0, 0, 0, 0, 0, 0, 0, 0, 0, 0, 0, 0, 0, 0, 0, 0, 0, 0, 0, 0, 0, 0, 0, 0, 0, 0, 0, 0, 0, 0, 0, 0, 0, 0, 0, 0, 0, 0, 0, 0, 0, 0, 0, 0, 0, 0, 0, 0, 0, 0, 0, 0, 0, 0, 0, 0, 0, 0, 0, 0, 0, 0, 0, 0, 0, 0, 0, 0, 0, 0, 0, 0, 0, 0, 0, 0, 0, 0, 0, 0, 0, 0, 0, 0, 0, 0, 0, 0, 0, 0, 0, 0, 0, 0, 0, 0, 0, 0, 0, 0, 0, 0, 0, 0, 0, 0, 0, 0, 0, 0, 0, 0, 0, 0, 0, 0, 0, 0, 0, 0, 1, 0, 0, 0, 0, 0, 0, 0, 0, 0, 0, 0, 0, 0, 0, 0, 0, 0, 0, 0, 0, 0, 0, 0, 0, 0, 0, 0, 0, 0, 1, 0, 0, 0, 0, 0, 0, 0, 0, 0, 0, 0, 0, 0, 0, 0, 0, 0, 0, 0, 0, 0, 0, 0, 0, 0, 0, 0, 0, 0, 0, 0, 0, 0, 0, 0, 0, 0, 0, 0, 0, 0, 0, 0, 0, 0, 0, 0, 0, 0, 0, 0, 0, 0, 0, 0, 0, 0, 0, 0, 0, 0, 0, 0, 0, 0, 0, 0, 0, 0, 0, 0, 0, 0, 0, 0, 0, 0, 0, 0, 0, 0, 0, 0, 0, 0, 0, 0, 0, 0, 0, 0, 0, 0, 0, 0, 0, 0, 0, 0, 0, 0, 0, 0, 0, 0, 0, 0, 0, 0, 0, 0, 0, 0, 0, 0, 0, 0, 0, 0, 0, 0, 0, 0, 0, 0, 0, 0, 0, 0, 0, 0, 0, 0, 0, 0, 0, 0, 0, 0, 0, 0, 0, 0, 0, 0, 0, 0, 0, 0, 0, 0, 0, 0, 0, 0, 0, 0, 0, 0, 0, 0, 0, 0, 0, 0, 0, 0, 0, 0, 0, 0, 0, 0, 0, 0, 0, 0, 0, 0, 0, 0, 0, 0, 0, 0, 0, 0, 0, 0, 0, 0, 0, 0, 0, 0, 0, 0, 0, 0, 0, 0, 0, 0, 0, 0, 0, 0, 0, 0, 0, 0, 0, 0, 0, 0, 0, 0, 0, 0, 0, 0, 0, 0, 0, 0, 0, 0, 0, 0, 0, 0, 0, 0, 0, 0, 0, 0, 0, 0, 0, 0, 0, 0, 0, 0, 0, 0, 0, 0, 0, 0, 0, 0, 0, 0, 0, 0, 0, 0, 0, 0, 0, 0, 0, 0, 0, 0, 0, 0, 0, 0, 0, 0, 0, 0, 0, 0, 0, 0, 0, 0, 0, 0, 0, 0, 0, 0, 0, 0, 0, 0, 0, 0, 0, 0, 0, 0, 0, 0, 0, 0, 0, 0, 0, 0, 0, 0, 0, 0, 0, 0, 0, 0, 0, 0, 0, 0, 0, 0, 0, 0, 0, 0, 0, 0, 0, 0, 0, 0, 0, 0, 0, 0, 0, 0, 0, 0, 0, 0, 0, 0, 0, 0, 0, 0, 0, 0, 0, 0, 0, 0, 0, 0, 0, 0, 0, 0, 0, 0, 0, 0, 0, 0, 0, 0, 0, 0, 0, 0, 0, 0, 0, 0, 0, 0, 0, 0, 0, 0, 1, 0, 0, 0, 0, 0, 0, 0, 0, 0, 0, 0, 0, 0, 0, 0, 0, 0, 0, 0, 0, 0, 0, 0, 0, 0, 0, 0, 0, 0, 0, 0, 0, 0, 0, 0, 0, 0, 0, 0, 0, 0, 0, 0, 0, 0, 0, 0, 0, 0, 0, 0, 0, 0, 0, 0, 0, 0, 0, 0, 0, 0, 0, 0, 0, 0, 0, 0, 0, 0, 0, 0, 0, 0, 0, 0, 0, 0, 0, 0, 0, 0, 0, 0, 0, 0, 0, 0, 0, 0, 0, 0, 0, 0, 0, 0, 0, 0, 0, 0, 0, 0, 0, 0, 0, 0, 0, 0, 0, 0, 0, 0, 0, 0, 0, 0, 0, 0, 0, 0, 0, 0, 0, 0, 0, 0, 0, 0, 0, 0, 0, 0, 0, 0, 0, 0, 0, 0, 0, 0, 0, 0, 0, 0, 0, 0, 0, 0, 0, 0, 0, 0, 0, 0, 0, 0, 0, 0, 0, 0, 0, 0, 0, 0, 0, 0, 0, 0, 0, 0, 0, 0, 0, 0, 0, 0, 0, 0, 0, 0, 0, 0, 0, 0, 0, 0, 0, 0, 0, 0, 0, 0, 0, 0, 0, 0, 0, 0, 0, 0, 0, 0, 0, 0, 0, 0, 0, 0, 0, 0, 0, 0, 0, 0, 0, 0, 0, 0, 0, 0, 0, 0, 0, 0, 0, 0, 0, 0, 0, 0, 0, 0, 0, 0, 0, 0, 0, 0, 0, 0, 0, 0, 0, 0, 0, 0, 0, 0, 0, 0, 0, 0, 0, 0, 1, 0, 0, 0, 0, 0, 0, 0, 0, 0, 0, 0, 0, 0, 0, 0, 0, 0, 0, 0, 0, 0, 0, 0, 0, 0, 0, 0, 0, 0, 0, 0, 0, 0, 0, 0, 0, 0, 0, 0, 0, 0, 0, 0, 0, 0, 0, 0, 0, 0, 0, 0, 0, 0, 0, 0, 0, 0, 0, 0, 0, 0, 0, 0, 0, 0, 0, 0, 0, 0, 0, 0, 0, 0, 0, 0, 0, 0, 0, 0, 0, 0, 0, 0, 0, 0, 0, 1, 0, 0, 0, 0, 0, 0, 0, 0, 0, 0, 0, 0, 0, 0, 0, 0, 0, 0, 0, 0, 0, 0, 0, 0, 0, 0, 0, 0, 0, 0, 0, 0, 0, 0, 0, 0, 0, 0, 0, 0, 0, 0, 0, 0, 0, 0, 0, 0, 0, 0, 0, 0, 0, 0, 0, 0, 0, 0, 0, 0, 0, 0, 0, 0, 0, 0, 0, 0, 0, 0, 0, 0, 0, 0, 0, 0, 0, 0, 0, 0, 0, 0, 0, 0, 0, 0, 0, 0, 0, 0, 0, 0, 0, 0, 0, 0, 0, 0, 0, 0, 0, 0, 0, 0, 0, 0, 0, 0, 0, 0, 0, 0, 0, 0, 0, 0, 0, 0, 0, 0, 0, 0, 0, 0, 0, 0, 0, 0, 0, 0, 0, 0, 0, 0, 0, 0, 0, 0, 0, 0, 0, 0, 0, 0, 0, 0, 0, 0, 0, 0, 0, 0, 0, 0, 0, 0, 0, 0, 0, 0, 0, 0, 0, 0, 0, 0, 0, 0, 0, 0, 0, 0, 0, 0, 0, 0, 0, 0, 0, 0, 0, 0, 0, 0, 0, 0, 0, 0, 0, 0, 0, 0, 0, 0, 0, 0, 0, 0, 0, 0, 0, 0, 0, 0, 0, 0, 0, 0, 0, 0, 0, 0, 0, 0, 0, 0, 0, 0, 0, 0, 0, 0, 0, 0, 0, 0, 0, 0, 0, 0, 0, 0, 0, 0, 0, 0, 0, 0, 0, 0, 0, 0, 0, 0, 0, 0, 0, 0, 0, 0, 0, 0, 1, 0, 0, 0, 0, 0, 0, 0, 0, 0, 0, 0, 0, 0, 0, 0, 0, 0, 0, 0, 0, 0, 0, 0, 0, 0, 0, 0, 0, 0, 0, 0, 0, 0, 0, 0, 0, 0, 0, 0, 0, 0, 0, 0, 0, 0, 0, 0, 0, 0, 0, 0, 0, 0, 0, 0, 1, 0, 0, 0, 0, 0, 0, 0, 0, 0, 0, 0, 0, 0, 0, 0, 0, 0, 0, 0, 0, 0, 0, 0, 0, 0, 0, 0, 0, 0, 0, 0, 0, 0, 0, 0, 0, 0, 0, 0, 0, 0, 0, 0, 0, 0, 0, 0, 0, 0, 0, 0, 0, 0, 0, 0, 0, 0, 0, 0, 0, 0, 0, 0, 0, 0, 0, 0, 0, 0, 0, 0, 0, 0, 0, 0, 0, 0, 0, 0, 0, 0, 0, 0, 0, 0, 0, 0, 0, 0, 0, 0, 0, 0, 0, 0, 0, 0, 0, 0, 0, 0, 0, 0, 0, 0, 0, 0, 0, 0, 0, 0, 0, 0, 0, 0, 0, 0, 0, 0, 0, 0, 0, 0, 0, 0, 0, 0, 0, 0, 0, 0, 0, 0, 0, 0, 0, 0, 0, 0, 0, 0, 0, 0, 0, 0, 0, 0, 0, 0, 0, 0, 0, 0, 0, 0, 0, 0, 0, 0, 0, 0, 0, 0, 0, 0, 0, 0, 0, 0, 0, 0, 0, 0, 0, 0, 0, 0, 0, 0, 0, 0, 0, 0, 0, 0, 0, 0, 0, 0, 0, 0, 0, 0, 0, 0, 0, 0, 0, 0, 0, 0, 0, 0, 0, 0, 0, 0, 0, 0, 0, 0, 0, 0, 0, 0, 0, 0, 0, 0, 0, 0, 0, 0, 0, 0, 0, 0, 0, 0, 0, 0, 0, 0, 0, 0, 0, 0, 0, 0, 0, 0, 0, 0, 0, 0, 0, 0, 0, 0, 0, 0, 0, 0, 0, 0, 0, 0, 0, 0, 0, 0, 0, 0, 0, 0, 0, 0, 0, 0, 0, 0, 0, 0, 0, 0, 0, 0, 0, 0, 0, 0, 0, 0, 0, 0, 0, 0, 0, 0, 0, 0, 0, 0, 0, 0, 0, 0, 0, 0, 0, 0, 0, 0, 0, 0, 0, 0, 0, 0, 0, 0, 0, 0, 0, 0, 0, 0, 0, 0, 0, 0, 0, 0, 0, 0, 0, 0, 0, 0, 0, 0, 0, 0, 0, 0, 0, 0, 0, 0, 0, 0, 0, 0, 0, 0, 0, 0, 0, 0, 0, 0, 0, 0, 0, 0, 0, 0, 0, 0, 0, 0, 0, 0, 0, 0, 0, 0, 0, 0, 0, 0, 0, 0, 0, 0, 0, 0, 0, 0, 0, 0, 0, 0, 0, 0, 0, 0, 0, 0, 0, 0, 0, 0, 0, 0, 0, 0, 0, 0, 0, 0, 0, 0, 0, 0, 0, 0, 0, 0, 0, 0, 0, 0, 0, 0, 0, 0, 0, 0, 0, 0, 0, 0, 0, 0, 0, 0, 0, 0, 0, 0, 0, 0, 0, 0, 0, 0, 0, 0, 0, 0, 0, 0, 0, 0, 0, 0, 0, 0, 0, 0, 0, 0, 0, 0, 0, 0, 0, 0, 0, 0, 0, 0, 0, 0, 0, 0, 0, 0, 0, 0, 0, 0, 0, 0, 0, 0, 0, 0, 0, 0, 0, 0, 0, 0, 0, 0, 0, 0, 0, 0, 0, 0, 0, 0, 0, 0, 0, 0, 0, 0, 0, 0, 0, 0, 0, 0, 0, 0, 0, 0, 0, 0, 0, 0, 0, 0, 0, 0, 0, 0, 0, 0, 0, 0, 0, 0, 0, 0, 0, 0, 0, 0, 0, 0, 0, 0, 0, 0, 0, 0, 0, 0, 0, 0, 0, 0, 0, 0, 0, 0, 0, 0, 0, 0, 0, 0, 0, 0, 0, 0, 0, 0, 0, 0, 0, 0, 0, 0, 0, 0, 0, 0, 0, 0, 0, 0, 0, 0, 0, 0, 0, 0, 0, 0, 0, 0, 0, 0, 0, 0, 0, 0, 0, 0, 0, 0, 0, 0, 0, 0, 0, 0, 0, 0, 0, 0, 0, 0, 0, 0, 0, 0, 0, 0, 0, 0, 0, 0, 0, 0, 0, 0, 0, 0, 0, 0, 0, 0, 0, 0, 0, 0, 0, 0, 0, 0, 0, 0, 0, 0, 0, 0, 0, 0, 0, 0, 0, 0, 0, 0, 0, 0, 0, 0, 0, 0, 0, 0, 0, 0, 0, 0, 0, 0, 0, 0, 0, 0, 0, 0, 0, 0, 0, 0, 0, 0, 0, 0, 0, 0, 1, 0, 0, 0, 0, 0, 0, 0, 0, 0, 0, 0, 0, 0, 0, 0, 0, 0, 0, 0, 0, 0, 0, 0, 0, 0, 0, 0, 0, 0, 0, 0, 0, 0, 0, 0, 0, 0, 0, 0, 0, 0, 0, 0, 0, 0, 0, 0, 0, 0, 0, 0, 0, 0, 0, 0, 0, 0, 0, 0, 0, 0, 0, 0, 0, 0, 0, 0, 0, 0, 0, 0, 0, 0, 0, 1, 0, 0, 0, 0, 0, 0, 0, 0, 0, 0, 0, 0, 0, 0, 0, 0, 0, 0, 0, 0, 1, 0, 0, 1, 0, 0, 0, 0, 0, 0, 0, 0, 0, 0, 0, 0, 0, 0, 0, 0, 0, 0, 0, 0, 0, 0, 0, 0, 0, 0, 0, 0, 0, 0, 0, 0, 0, 0, 0, 0, 0, 0, 0, 0, 0, 0, 0, 0, 0, 0, 0, 0, 0, 0, 0, 0, 0, 0, 0, 0, 0, 0, 0, 0, 0, 0, 0, 0, 0, 0, 0, 0, 0, 0, 0, 0, 0, 0, 0, 0, 0, 0, 0, 0, 0, 0, 0, 0, 0, 0, 0, 0, 0, 0, 0, 0, 0, 0, 0, 0, 0, 0, 0, 0, 0, 0, 0, 0, 0, 0, 0, 0, 0, 0, 0, 0, 0, 0, 0, 0, 0, 0, 0, 0, 0, 0, 0, 0, 0, 0, 0, 0, 0, 0, 0, 0, 0, 0, 0, 0, 0, 0, 0, 0, 0, 0, 0, 0, 0, 0, 0, 0, 0, 0, 0, 0, 0, 0, 0, 0, 0, 0, 0, 0, 0, 0, 0, 0, 0, 0, 0, 0, 0, 0, 0, 0, 0, 0, 0, 0, 0, 0, 0, 0, 0, 0, 0, 0, 0, 0, 0, 0, 0, 0, 0, 0, 0, 0, 0, 0, 0, 0, 0, 0, 0, 0, 0, 0, 0, 0, 0, 0, 0, 0, 0, 0, 0, 0, 0, 0, 0, 0, 0, 0, 0, 0, 0, 0, 0, 0, 0, 0, 0, 0, 0, 0, 0, 0, 0, 0, 0, 0, 0, 0, 0, 0, 0, 0, 0, 0, 0, 0, 0, 0, 0, 0, 0, 0, 0, 0, 0, 0, 0, 0, 0, 0, 0, 0, 0, 0, 0, 0, 0, 0, 0, 0, 0, 0, 0, 0, 0, 0, 0, 0, 0, 0, 0, 0, 0, 0, 0, 0, 0, 0, 0, 0, 0, 0, 0, 0, 0, 0, 0, 0, 0, 0, 0, 0, 0, 0, 0, 0, 0, 0, 0, 0, 0, 0, 0, 0, 0, 0, 0, 0, 0, 0, 0, 0, 0, 0, 0, 0, 0, 0, 0, 0, 0, 0, 0, 0, 0, 0, 0, 0, 0, 0, 0, 0, 0, 0, 0, 0, 0, 0, 0, 0, 0, 0, 0, 0, 0, 0, 0, 0, 0, 0, 0, 0, 0, 0, 0, 0, 0, 0, 0, 0, 0, 0, 0, 0, 0, 0, 0, 0, 0, 0, 0, 0, 0, 0, 0, 0, 0, 0, 0, 0, 0, 0, 0, 0, 0, 0, 0, 0, 0, 0, 0, 0, 0, 0, 0, 0, 0, 0, 0, 0, 0, 0, 0, 0, 0, 0, 0, 0, 0, 0, 0, 0, 0, 0, 0, 0, 0, 0, 0, 0, 0, 0, 0, 0, 0, 0, 0, 0, 0, 0, 0, 0, 0, 0, 0, 0, 0, 0, 0, 0, 0, 0, 0, 0, 0, 0, 0, 0, 0, 0, 0, 0, 0, 0, 1, 0, 0, 0, 0, 0, 0, 0, 0, 0, 0, 0, 0, 0, 0, 0, 0, 0, 0, 0, 0, 0, 0, 0, 0, 0, 0, 0, 0, 0, 0, 0, 0, 0, 0, 0, 0, 0, 0, 0, 0, 0, 0, 0, 0, 0, 0, 0, 0, 0, 0, 0, 0, 0, 0, 0, 0, 0, 0, 0, 0, 0, 0, 0, 0, 0, 0, 0, 0, 0, 0, 0, 0, 0, 0, 0, 0, 0, 0, 0, 0, 0, 0, 0, 0, 0, 0, 0, 0, 0, 0, 0, 0, 0, 0, 0, 0, 0, 0, 0, 0, 0, 0, 0, 0, 0, 0, 0, 0, 0, 0, 0, 0, 0, 0, 0, 0, 0, 0, 0, 0, 0, 0, 0, 0, 0, 0, 0, 0, 0, 0, 0, 0, 0, 0, 0, 0, 0, 0, 0, 0, 0, 0, 0, 0, 0, 0, 0, 0, 0, 0, 0, 0, 0, 0, 0, 0, 0, 0, 0, 0, 0, 0, 0, 0, 0, 0, 0, 0, 0, 0, 0, 0, 0, 0, 0, 0, 0, 0, 0, 0, 0, 0, 0, 0, 0, 0, 0, 0, 0, 0, 0, 0, 0, 0, 0, 0, 0, 0, 0, 0, 0, 0, 0, 0, 0, 0, 0, 0, 0, 0, 0, 0, 0, 0, 0, 0, 0, 0, 0, 0, 0, 0, 0, 0, 0, 0, 0, 0, 0, 0, 0, 0, 0, 0, 0, 0, 0, 0, 0, 0, 0, 0, 0, 0, 0, 0, 0, 0, 0, 0, 0, 0, 0, 0, 0, 0, 0, 0, 0, 0, 0, 0, 0, 0, 0, 0, 0, 0, 0, 0, 0, 0, 0, 0, 0, 0, 0, 0, 0, 0, 0, 0, 0, 0, 0, 0, 0, 0, 0, 0, 0, 0, 0, 0, 0, 0, 0, 0, 0, 0, 0, 0, 0, 0, 0, 0, 0, 0, 0, 0, 0, 0, 0, 0, 0, 0, 0, 0, 0, 0, 0, 0, 0, 0, 0, 0, 0, 0, 0, 0, 0, 0, 0, 0, 0, 0, 0, 0, 0, 0, 0, 0, 0, 0, 0, 0, 0, 0, 0, 0, 0, 0, 0, 0, 0, 0, 0, 0, 0, 0, 0, 0, 0, 0, 0, 0, 0, 0, 0, 0, 0, 0, 0, 0, 0, 0, 0, 0, 0, 0, 0, 0, 0, 0, 0, 0, 0, 0, 0, 0, 0, 0, 0, 0, 0, 0, 0, 0, 0, 0, 0, 0, 0, 0, 0, 0, 0, 0, 0, 0, 0, 0, 0, 0, 0, 0, 0, 0, 0, 0, 0, 0, 0, 0, 0, 0, 0, 0, 0, 0, 0, 0, 0, 0, 0, 0, 0, 0, 0, 0, 0, 0, 0, 0, 0, 0, 0, 0, 0, 0, 0, 0, 0, 0, 0, 0, 0, 0, 0, 0, 0, 0, 0, 0, 0, 0, 0, 0, 0, 0, 0, 0, 0, 0, 0, 0, 0, 0, 0, 0, 0, 0, 0, 0, 0, 0, 0, 0, 0, 0, 0, 0, 0, 0, 0, 0, 0, 0, 0, 0, 0, 0, 0, 0, 0, 0, 0, 0, 0, 0, 0, 0, 1, 0, 0, 0, 0, 0, 0, 0, 0, 0, 0, 0, 0, 0, 0, 0, 0, 0, 0, 0, 0, 0, 0, 0, 0, 0, 0, 0, 0, 0, 0, 0, 0, 0, 0, 0, 2, 0, 0, 0, 0, 0, 0, 0, 0, 0, 0, 0, 0, 0, 0, 0, 0, 0, 0, 0, 0, 0, 0, 0, 0, 0, 0, 0, 0, 0, 0, 0, 0, 0, 0, 0, 0, 0, 0, 0, 0, 1, 0, 0, 0, 0, 0, 0, 0, 0, 0, 0, 0, 0, 0, 0, 0, 0, 0, 0, 0, 0, 0, 0, 0, 0, 0, 0, 0, 0, 0, 0, 0, 0, 0, 0, 0, 0, 0, 0, 0, 0, 0, 0, 0, 0, 0, 0, 0, 0, 0, 0, 0, 0, 0, 0, 0, 0, 0, 0, 0, 0, 0, 0, 0, 0, 0, 0, 0, 0, 0, 0, 0, 0, 0, 0, 0, 0, 0, 0, 0, 0, 0, 0, 0, 0, 0, 0, 0, 0, 0, 0, 0, 0, 0, 0, 0, 0, 0, 0, 0, 0, 0, 0, 0, 0, 0, 0, 0, 0, 0, 0, 0, 0, 0, 0, 0, 0, 0, 0, 0, 0, 0, 0, 0, 0, 0, 0, 0, 0, 0, 0, 0, 0, 0, 0, 0, 0, 0, 0, 0, 0, 0, 0, 0, 0, 0, 0, 0, 0, 0, 0, 0, 0, 0, 0, 0, 0, 0, 0, 0, 0, 0, 0, 0, 0, 0, 0, 0, 0, 0, 0, 0, 0, 0, 0, 0, 0, 0, 0, 0, 0, 0, 0, 0, 0, 0, 0, 0, 0, 0, 0, 0, 0, 0, 0, 0, 0, 0, 0, 0, 0, 0, 0, 0, 0, 0, 0, 0, 0, 0, 0, 0, 0, 0, 0, 0, 0, 0, 0, 0, 0, 0, 0, 0, 0, 0, 0, 0, 0, 0, 0, 0, 0, 0, 0, 0, 0, 0, 0, 0, 0, 0, 0, 0, 0, 0, 0, 0, 0, 0, 0, 0, 0, 0, 0, 0, 0, 0, 0, 0, 0, 0, 0, 0, 0, 0, 0, 0, 0, 0, 0, 0, 0, 0, 0, 0, 0, 0, 0, 0, 0, 0, 0, 0, 0, 0, 0, 0, 0, 0, 0, 0, 0, 0, 0, 0, 0, 0, 0, 0, 0, 0, 0, 0, 0, 0, 0, 0, 0, 0, 0, 0, 0, 0, 0, 0, 0, 0, 0, 0, 0, 0, 0, 0, 0, 0, 0, 0, 0, 0, 0, 0, 0, 0, 0, 0, 0, 0, 0, 0, 0, 0, 0, 0, 0, 0, 0, 0, 0, 0, 0, 0, 0, 0, 0, 0, 0, 0, 0, 0, 0, 0, 0, 0, 0, 0, 0, 0, 0, 0, 0, 0, 0, 0, 0, 0, 0, 0, 0, 0, 0, 0, 0, 0, 0, 0, 0, 0, 0, 0, 0, 0, 0, 0, 0, 0, 0, 0, 0, 0, 0, 0, 0, 0, 0, 0, 0, 0, 0, 0, 0, 0, 0, 0, 0, 0, 0, 0, 0, 0, 0, 0, 0, 0, 0, 0, 0, 0, 0, 0, 0, 0, 0, 0, 0, 0, 0, 0, 0, 0, 0, 0, 0, 0, 0, 0, 0, 0, 0, 0, 0, 0, 0, 0, 0, 0, 0, 0, 0, 0, 0, 0, 0, 0, 0, 0, 0, 0, 0, 0, 0, 0, 0, 0, 0, 0, 0, 0, 0, 0, 0, 0, 0, 0, 0, 0, 0, 0, 0, 0, 0, 0, 0, 0, 0, 0, 0, 0, 1, 0, 0, 0, 0, 0, 0, 0, 0, 0, 0, 0, 0, 0, 0, 0, 0, 0, 0, 0, 0, 0, 0, 0, 0, 0, 0, 0, 0, 0, 0, 0, 0, 0, 0, 0, 0, 0, 0, 0, 0, 0, 0, 0, 0, 0, 0, 0, 0, 0, 0, 0, 0, 0, 0, 0, 0, 0, 0, 0, 0, 0, 0, 0, 0, 0, 0, 0, 0, 0, 0, 0, 0, 0, 0, 0, 0, 0, 0, 0, 0, 0, 0, 0, 0, 0, 0, 0, 0, 0, 0, 0, 0, 0, 0, 0, 0, 0, 0, 0, 0, 0, 0, 0, 0, 0, 0, 0, 0, 0, 0, 2, 0, 0, 0, 0, 0, 0, 0, 0, 0, 0, 0, 0, 0, 0, 0, 0, 0, 0, 0, 0, 0, 0, 0, 0, 0, 0, 0, 0, 0, 0, 0, 0, 0, 0, 0, 0, 0, 0, 0, 0, 0, 0, 0, 0, 0, 0, 0, 0, 0, 0, 0, 0, 0, 0, 0, 0, 0, 0, 0, 0, 0, 0, 0, 0, 0, 0, 0, 0, 0, 0, 0, 0, 0, 0, 0, 0, 0, 0, 0, 0, 0, 0, 0, 0, 0, 0, 0, 0, 0, 0, 0, 0, 0, 0, 0, 0, 0, 0, 0, 0, 0, 0, 0, 0, 0, 0, 0, 0, 0, 0, 0, 0, 0, 0, 0, 0, 0, 0, 0, 0, 0, 0, 0, 0, 0, 0, 0, 0, 0, 0, 0, 0, 0, 0, 0, 0, 0, 0, 0, 0, 0, 0, 0, 0, 0, 0, 0, 0, 0, 0, 0, 0, 0, 0, 0, 0, 0, 0, 0, 0, 0, 0, 0, 0, 0, 0, 0, 0, 0, 0, 0, 0, 0, 0, 0, 0, 0, 0, 0, 0, 0, 0, 0, 0, 0, 0, 0, 0, 0, 0, 0, 0, 0, 0, 0, 0, 0, 0, 0, 0, 0, 0, 0, 0, 0, 0, 0, 0, 0, 0, 0, 0, 0, 0, 0, 0, 0, 0, 0, 0, 0, 0, 0, 0, 0, 0, 0, 0, 0, 0, 0, 0, 0, 0, 0, 0, 0, 0, 0, 0, 0, 0, 0, 0, 0, 0, 0, 0, 0, 0, 0, 0, 0, 0, 0, 0, 0, 0, 0, 0, 0, 0, 0, 0, 0, 0, 0, 0, 0, 0, 0, 0, 0, 0, 0, 0, 0, 0, 0, 0, 0, 0, 0, 0, 0, 0, 0, 0, 0, 0, 0, 0, 0, 0, 0, 0, 0, 0, 0, 0, 0, 0, 0, 0, 0, 0, 0, 0, 0, 0, 0, 0, 0, 0, 0, 0, 0, 0, 0, 0, 0, 0, 0, 0, 0, 0, 0, 0, 0, 0, 0, 0, 0, 0, 0, 0, 0, 0, 0, 0, 0, 0, 0, 0, 0, 0, 0, 0, 0, 0, 0, 0, 0, 0, 0, 0, 0, 0, 0, 0, 0, 0, 0, 0, 0, 0, 0, 0, 0, 0, 0, 0, 0, 0, 0, 0, 0, 0, 0, 0, 0, 0, 0, 0, 0, 0, 0, 0, 0, 0, 0, 0, 0, 0, 0, 0, 0, 0, 0, 0, 0, 0, 0, 0, 0, 0, 0, 0, 0, 0, 0, 0, 0, 0, 0, 0, 0, 0, 0, 0, 0, 0, 0, 0, 0, 0, 0, 0, 0, 0, 0, 0, 0, 0, 0, 0, 0, 0, 0, 0, 0, 0, 0, 0, 0, 0, 0, 0, 0, 0, 0, 0, 0, 0, 0, 0, 0, 0, 0, 0, 0, 0, 0, 0, 0, 0, 0, 0, 0, 0, 0, 0, 0, 0, 0, 0, 0, 0, 0, 0, 0, 0, 0, 0, 0, 0, 0, 0, 0, 0, 0, 0, 0, 0, 0, 0, 0, 0, 0, 0, 0, 0, 0, 0, 0, 0, 0, 0, 0, 0, 0, 0, 0, 0, 0, 0, 0, 0, 0, 0, 0, 0, 0, 0, 0, 0, 0, 0, 0, 0, 0, 0, 0, 0, 0, 0, 0, 0, 0, 0, 0, 0, 0, 0, 0, 0, 0, 0, 0, 0, 0, 0, 0, 0, 0, 0, 0, 0, 0, 0, 0, 0, 0, 0, 0, 0, 0, 0, 0, 0, 0, 0, 0, 0, 0, 0, 0, 0, 0, 0, 0, 0, 0, 0, 0, 0, 0, 0, 0, 0, 0, 0, 0, 0, 0, 0, 0, 0, 0, 0, 0, 0, 0, 0, 0, 0, 0, 0, 0, 0, 0, 0, 0, 0, 0, 0, 0, 0, 0, 0, 0, 0, 0, 0, 0, 0, 0, 0, 0, 0, 0, 0, 0, 0, 0, 0, 0, 0, 0, 0, 0, 0, 0, 0, 0, 0, 0, 0, 0, 0, 0, 0, 0, 0, 0, 0, 0, 0, 0, 0, 0, 0, 0, 0, 0, 0, 0, 0, 0, 0, 0, 0, 0, 0, 0, 0, 0, 0, 0, 0, 0, 0, 0, 0, 0, 0, 0, 0, 0, 0, 1, 0, 0, 0, 0, 0, 0, 0, 0, 0, 0, 0, 0, 0, 0, 0, 0, 0, 0, 0, 0, 0, 0, 0, 0, 0, 0, 0, 0, 0, 0, 0, 0, 0, 0, 0, 0, 0, 0, 0, 0, 0, 0, 0, 0, 0, 0, 0, 0, 0, 0, 0, 0, 0, 0, 0, 0, 0, 0, 0, 0, 0, 0, 0, 0, 0, 0, 0, 0, 0, 0, 0, 0, 0, 0, 0, 0, 0, 0, 0, 0, 0, 0, 0, 0, 0, 0, 0, 0, 0, 0, 0, 0, 0, 0, 0, 0, 0, 0, 0, 0, 0, 0, 0, 0, 0, 0, 0, 1, 0, 0, 0, 0, 0, 0, 0, 0, 0, 0, 0, 0, 0, 0, 0, 0, 0, 0, 0, 0, 0, 0, 0, 0, 0, 0, 0, 0, 0, 0, 0, 0, 0, 0, 0, 0, 0, 0, 0, 0, 0, 0, 0, 0, 0, 0, 0, 0, 0, 0, 0, 0, 0, 0, 0, 0, 0, 0, 0, 0, 0, 0, 0, 0, 0, 0, 0, 0, 0, 0, 0, 0, 0, 0, 0, 0, 0, 0, 0, 0, 0, 0, 0, 0, 0, 0, 0, 0, 0, 0, 0, 0, 0, 0, 0, 0, 0, 0, 0, 0, 0, 0, 0, 0, 0, 0, 0, 0, 0, 0, 0, 0, 0, 0, 0, 0, 0, 0, 0, 0, 0, 0, 0, 0, 0, 0, 0, 0, 0, 0, 0, 0, 0, 0, 0, 0, 0, 0, 0, 0, 0, 0, 0, 0, 0, 0, 0, 0, 0, 0, 0, 0, 0, 0, 0, 0, 0, 0, 0, 0, 0, 0, 0, 0, 0, 0, 0, 0, 0, 0, 0, 0, 0, 0, 0, 0, 0, 0, 0, 0, 0, 0, 0, 0, 0, 0, 0, 0, 0, 0, 0, 0, 0, 0, 0, 0, 0, 0, 0, 0, 0, 0, 0, 0, 0, 0, 0, 0, 0, 0, 0, 0, 0, 0, 0, 0, 0, 0, 0, 0, 0, 0, 0, 0, 0, 0, 0, 0, 0, 0, 0, 0, 0, 0, 0, 0, 0, 0, 0, 0, 0, 0, 0, 0, 0, 0, 0, 0, 0, 0, 0, 0, 0, 0, 0, 0, 0, 0, 0, 0, 0, 0, 0, 0, 0, 0, 0, 0, 0, 0, 0, 0, 0, 0, 0, 0, 0, 0, 0, 0, 0, 0, 0, 0, 0, 0, 0, 0, 0, 0, 0, 0, 0, 0, 0, 0, 0, 0, 0, 0, 0, 0, 0, 0, 0, 0, 0, 0, 0, 0, 0, 0, 0, 0, 0, 0, 0, 0, 0, 0, 0, 0, 0, 0, 0, 0, 0, 0, 0, 0, 0, 0, 0, 0, 0, 0, 0, 0, 0, 0, 0, 0, 0, 0, 0, 0, 0, 0, 0, 0, 0, 0, 0, 0, 0, 0, 0, 0, 0, 0, 0, 0, 0, 0, 0, 0, 0, 0, 0, 0, 0, 0, 0, 0, 0, 0, 0, 0, 0, 0, 0, 0, 0, 0, 0, 0, 0, 0, 0, 0, 0, 0, 0, 0, 0, 0, 0, 0, 0, 0, 0, 0, 0, 0, 0, 0, 0, 0, 0, 0, 0, 0, 0, 0, 0, 0, 0, 0, 0, 0, 0, 0, 0, 0, 0, 0, 0, 0, 0, 0, 0, 0, 0, 0, 0, 0, 0, 0, 0, 0, 0, 0, 0, 0, 0, 0, 0, 0, 0, 0, 0, 0, 0, 0, 0, 0, 0, 0, 0, 0, 0, 0, 0, 2, 0, 1, 0]\n"
     ]
    }
   ],
   "source": [
    "test_bow = bow_encoding(test_words, vocabulary)\n",
    "print(test_bow)"
   ]
  },
  {
   "cell_type": "code",
   "execution_count": 42,
   "metadata": {},
   "outputs": [
    {
     "data": {
      "text/plain": [
       "5000"
      ]
     },
     "execution_count": 42,
     "metadata": {},
     "output_type": "execute_result"
    }
   ],
   "source": [
    "len(test_bow)"
   ]
  },
  {
   "cell_type": "markdown",
   "metadata": {},
   "source": [
    "So now we know how to construct a bag of words encoding of a user provided review, how to we send it to our endpoint? First, we need to start the endpoint back up."
   ]
  },
  {
   "cell_type": "code",
   "execution_count": 43,
   "metadata": {},
   "outputs": [
    {
     "name": "stderr",
     "output_type": "stream",
     "text": [
      "Parameter image will be renamed to image_uri in SageMaker Python SDK v2.\n",
      "Using already existing model: xgboost-2021-01-07-16-19-53-946\n"
     ]
    },
    {
     "name": "stdout",
     "output_type": "stream",
     "text": [
      "---------------!"
     ]
    }
   ],
   "source": [
    "xgb_predictor = xgb.deploy(initial_instance_count = 1, instance_type = 'ml.m4.xlarge')"
   ]
  },
  {
   "cell_type": "markdown",
   "metadata": {},
   "source": [
    "At this point we could just do the same thing that we did earlier when we tested our deployed model and send `test_bow` to our endpoint using the `xgb_predictor` object. However, when we eventually construct our Lambda function we won't have access to this object, so how do we call a SageMaker endpoint?\n",
    "\n",
    "It turns out that Python functions that are used in Lambda have access to another Amazon library called `boto3`. This library provides an API for working with Amazon services, including SageMaker. To start with, we need to get a handle to the SageMaker runtime."
   ]
  },
  {
   "cell_type": "code",
   "execution_count": 44,
   "metadata": {},
   "outputs": [],
   "source": [
    "import boto3\n",
    "\n",
    "runtime = boto3.Session().client('sagemaker-runtime')"
   ]
  },
  {
   "cell_type": "markdown",
   "metadata": {},
   "source": [
    "And now that we have access to the SageMaker runtime, we can ask it to make use of (invoke) an endpoint that has already been created. However, we need to provide SageMaker with the name of the deployed endpoint. To find this out we can print it out using the `xgb_predictor` object."
   ]
  },
  {
   "cell_type": "code",
   "execution_count": 45,
   "metadata": {},
   "outputs": [
    {
     "data": {
      "text/plain": [
       "'xgboost-2021-01-07-16-19-53-946'"
      ]
     },
     "execution_count": 45,
     "metadata": {},
     "output_type": "execute_result"
    }
   ],
   "source": [
    "xgb_predictor.endpoint"
   ]
  },
  {
   "cell_type": "markdown",
   "metadata": {},
   "source": [
    "Using the SageMaker runtime and the name of our endpoint, we can invoke the endpoint and send it the `test_bow` data."
   ]
  },
  {
   "cell_type": "code",
   "execution_count": 46,
   "metadata": {},
   "outputs": [
    {
     "ename": "ParamValidationError",
     "evalue": "Parameter validation failed:\nInvalid type for parameter Body, value: [0, 0, 0, 0, 0, 0, 0, 0, 0, 0, 0, 0, 0, 0, 0, 0, 0, 0, 0, 0, 0, 0, 0, 0, 0, 0, 0, 0, 0, 0, 0, 0, 0, 0, 0, 0, 0, 0, 0, 0, 0, 0, 0, 0, 0, 0, 0, 0, 0, 0, 0, 0, 0, 0, 0, 0, 0, 0, 0, 0, 0, 0, 0, 0, 0, 0, 0, 0, 0, 0, 0, 0, 0, 0, 0, 0, 0, 0, 0, 0, 0, 0, 0, 0, 0, 0, 0, 0, 0, 0, 0, 0, 0, 0, 0, 0, 0, 0, 0, 0, 0, 0, 0, 0, 0, 0, 0, 0, 0, 0, 0, 0, 0, 0, 0, 0, 0, 0, 0, 0, 0, 0, 0, 0, 0, 0, 0, 0, 0, 0, 0, 0, 0, 0, 0, 0, 0, 0, 0, 0, 0, 0, 0, 0, 0, 0, 0, 0, 0, 0, 0, 0, 0, 0, 0, 0, 0, 0, 0, 0, 0, 0, 0, 0, 0, 0, 0, 0, 0, 0, 0, 0, 0, 0, 0, 0, 0, 0, 0, 0, 0, 0, 0, 0, 0, 0, 0, 0, 0, 0, 0, 0, 0, 0, 0, 0, 0, 0, 0, 0, 0, 0, 0, 0, 0, 0, 0, 0, 0, 0, 0, 0, 0, 0, 0, 0, 0, 0, 0, 0, 0, 0, 0, 0, 0, 0, 1, 0, 0, 0, 0, 0, 0, 0, 0, 0, 0, 0, 0, 0, 0, 0, 0, 0, 0, 0, 0, 0, 0, 0, 0, 0, 0, 0, 0, 0, 1, 0, 0, 0, 0, 0, 0, 0, 0, 0, 0, 0, 0, 0, 0, 0, 0, 0, 0, 0, 0, 0, 0, 0, 0, 0, 0, 0, 0, 0, 0, 0, 0, 0, 0, 0, 0, 0, 0, 0, 0, 0, 0, 0, 0, 0, 0, 0, 0, 0, 0, 0, 0, 0, 0, 0, 0, 0, 0, 0, 0, 0, 0, 0, 0, 0, 0, 0, 0, 0, 0, 0, 0, 0, 0, 0, 0, 0, 0, 0, 0, 0, 0, 0, 0, 0, 0, 0, 0, 0, 0, 0, 0, 0, 0, 0, 0, 0, 0, 0, 0, 0, 0, 0, 0, 0, 0, 0, 0, 0, 0, 0, 0, 0, 0, 0, 0, 0, 0, 0, 0, 0, 0, 0, 0, 0, 0, 0, 0, 0, 0, 0, 0, 0, 0, 0, 0, 0, 0, 0, 0, 0, 0, 0, 0, 0, 0, 0, 0, 0, 0, 0, 0, 0, 0, 0, 0, 0, 0, 0, 0, 0, 0, 0, 0, 0, 0, 0, 0, 0, 0, 0, 0, 0, 0, 0, 0, 0, 0, 0, 0, 0, 0, 0, 0, 0, 0, 0, 0, 0, 0, 0, 0, 0, 0, 0, 0, 0, 0, 0, 0, 0, 0, 0, 0, 0, 0, 0, 0, 0, 0, 0, 0, 0, 0, 0, 0, 0, 0, 0, 0, 0, 0, 0, 0, 0, 0, 0, 0, 0, 0, 0, 0, 0, 0, 0, 0, 0, 0, 0, 0, 0, 0, 0, 0, 0, 0, 0, 0, 0, 0, 0, 0, 0, 0, 0, 0, 0, 0, 0, 0, 0, 0, 0, 0, 0, 0, 0, 0, 0, 0, 0, 0, 0, 0, 0, 0, 0, 0, 0, 0, 0, 0, 0, 0, 0, 0, 0, 0, 0, 0, 0, 0, 0, 0, 0, 0, 0, 0, 0, 0, 0, 0, 0, 0, 0, 0, 0, 0, 0, 0, 0, 0, 0, 0, 0, 0, 0, 0, 0, 0, 0, 0, 0, 0, 0, 0, 0, 0, 0, 0, 0, 0, 0, 0, 0, 0, 0, 0, 0, 0, 0, 0, 0, 0, 0, 0, 0, 0, 0, 0, 0, 0, 0, 0, 0, 0, 0, 0, 0, 0, 0, 0, 0, 0, 0, 0, 0, 0, 0, 0, 0, 0, 0, 0, 0, 0, 0, 0, 0, 1, 0, 0, 0, 0, 0, 0, 0, 0, 0, 0, 0, 0, 0, 0, 0, 0, 0, 0, 0, 0, 0, 0, 0, 0, 0, 0, 0, 0, 0, 0, 0, 0, 0, 0, 0, 0, 0, 0, 0, 0, 0, 0, 0, 0, 0, 0, 0, 0, 0, 0, 0, 0, 0, 0, 0, 0, 0, 0, 0, 0, 0, 0, 0, 0, 0, 0, 0, 0, 0, 0, 0, 0, 0, 0, 0, 0, 0, 0, 0, 0, 0, 0, 0, 0, 0, 0, 0, 0, 0, 0, 0, 0, 0, 0, 0, 0, 0, 0, 0, 0, 0, 0, 0, 0, 0, 0, 0, 0, 0, 0, 0, 0, 0, 0, 0, 0, 0, 0, 0, 0, 0, 0, 0, 0, 0, 0, 0, 0, 0, 0, 0, 0, 0, 0, 0, 0, 0, 0, 0, 0, 0, 0, 0, 0, 0, 0, 0, 0, 0, 0, 0, 0, 0, 0, 0, 0, 0, 0, 0, 0, 0, 0, 0, 0, 0, 0, 0, 0, 0, 0, 0, 0, 0, 0, 0, 0, 0, 0, 0, 0, 0, 0, 0, 0, 0, 0, 0, 0, 0, 0, 0, 0, 0, 0, 0, 0, 0, 0, 0, 0, 0, 0, 0, 0, 0, 0, 0, 0, 0, 0, 0, 0, 0, 0, 0, 0, 0, 0, 0, 0, 0, 0, 0, 0, 0, 0, 0, 0, 0, 0, 0, 0, 0, 0, 0, 0, 0, 0, 0, 0, 0, 0, 0, 0, 0, 0, 0, 0, 0, 0, 0, 0, 0, 1, 0, 0, 0, 0, 0, 0, 0, 0, 0, 0, 0, 0, 0, 0, 0, 0, 0, 0, 0, 0, 0, 0, 0, 0, 0, 0, 0, 0, 0, 0, 0, 0, 0, 0, 0, 0, 0, 0, 0, 0, 0, 0, 0, 0, 0, 0, 0, 0, 0, 0, 0, 0, 0, 0, 0, 0, 0, 0, 0, 0, 0, 0, 0, 0, 0, 0, 0, 0, 0, 0, 0, 0, 0, 0, 0, 0, 0, 0, 0, 0, 0, 0, 0, 0, 0, 0, 1, 0, 0, 0, 0, 0, 0, 0, 0, 0, 0, 0, 0, 0, 0, 0, 0, 0, 0, 0, 0, 0, 0, 0, 0, 0, 0, 0, 0, 0, 0, 0, 0, 0, 0, 0, 0, 0, 0, 0, 0, 0, 0, 0, 0, 0, 0, 0, 0, 0, 0, 0, 0, 0, 0, 0, 0, 0, 0, 0, 0, 0, 0, 0, 0, 0, 0, 0, 0, 0, 0, 0, 0, 0, 0, 0, 0, 0, 0, 0, 0, 0, 0, 0, 0, 0, 0, 0, 0, 0, 0, 0, 0, 0, 0, 0, 0, 0, 0, 0, 0, 0, 0, 0, 0, 0, 0, 0, 0, 0, 0, 0, 0, 0, 0, 0, 0, 0, 0, 0, 0, 0, 0, 0, 0, 0, 0, 0, 0, 0, 0, 0, 0, 0, 0, 0, 0, 0, 0, 0, 0, 0, 0, 0, 0, 0, 0, 0, 0, 0, 0, 0, 0, 0, 0, 0, 0, 0, 0, 0, 0, 0, 0, 0, 0, 0, 0, 0, 0, 0, 0, 0, 0, 0, 0, 0, 0, 0, 0, 0, 0, 0, 0, 0, 0, 0, 0, 0, 0, 0, 0, 0, 0, 0, 0, 0, 0, 0, 0, 0, 0, 0, 0, 0, 0, 0, 0, 0, 0, 0, 0, 0, 0, 0, 0, 0, 0, 0, 0, 0, 0, 0, 0, 0, 0, 0, 0, 0, 0, 0, 0, 0, 0, 0, 0, 0, 0, 0, 0, 0, 0, 0, 0, 0, 0, 0, 0, 0, 0, 0, 0, 0, 0, 1, 0, 0, 0, 0, 0, 0, 0, 0, 0, 0, 0, 0, 0, 0, 0, 0, 0, 0, 0, 0, 0, 0, 0, 0, 0, 0, 0, 0, 0, 0, 0, 0, 0, 0, 0, 0, 0, 0, 0, 0, 0, 0, 0, 0, 0, 0, 0, 0, 0, 0, 0, 0, 0, 0, 0, 1, 0, 0, 0, 0, 0, 0, 0, 0, 0, 0, 0, 0, 0, 0, 0, 0, 0, 0, 0, 0, 0, 0, 0, 0, 0, 0, 0, 0, 0, 0, 0, 0, 0, 0, 0, 0, 0, 0, 0, 0, 0, 0, 0, 0, 0, 0, 0, 0, 0, 0, 0, 0, 0, 0, 0, 0, 0, 0, 0, 0, 0, 0, 0, 0, 0, 0, 0, 0, 0, 0, 0, 0, 0, 0, 0, 0, 0, 0, 0, 0, 0, 0, 0, 0, 0, 0, 0, 0, 0, 0, 0, 0, 0, 0, 0, 0, 0, 0, 0, 0, 0, 0, 0, 0, 0, 0, 0, 0, 0, 0, 0, 0, 0, 0, 0, 0, 0, 0, 0, 0, 0, 0, 0, 0, 0, 0, 0, 0, 0, 0, 0, 0, 0, 0, 0, 0, 0, 0, 0, 0, 0, 0, 0, 0, 0, 0, 0, 0, 0, 0, 0, 0, 0, 0, 0, 0, 0, 0, 0, 0, 0, 0, 0, 0, 0, 0, 0, 0, 0, 0, 0, 0, 0, 0, 0, 0, 0, 0, 0, 0, 0, 0, 0, 0, 0, 0, 0, 0, 0, 0, 0, 0, 0, 0, 0, 0, 0, 0, 0, 0, 0, 0, 0, 0, 0, 0, 0, 0, 0, 0, 0, 0, 0, 0, 0, 0, 0, 0, 0, 0, 0, 0, 0, 0, 0, 0, 0, 0, 0, 0, 0, 0, 0, 0, 0, 0, 0, 0, 0, 0, 0, 0, 0, 0, 0, 0, 0, 0, 0, 0, 0, 0, 0, 0, 0, 0, 0, 0, 0, 0, 0, 0, 0, 0, 0, 0, 0, 0, 0, 0, 0, 0, 0, 0, 0, 0, 0, 0, 0, 0, 0, 0, 0, 0, 0, 0, 0, 0, 0, 0, 0, 0, 0, 0, 0, 0, 0, 0, 0, 0, 0, 0, 0, 0, 0, 0, 0, 0, 0, 0, 0, 0, 0, 0, 0, 0, 0, 0, 0, 0, 0, 0, 0, 0, 0, 0, 0, 0, 0, 0, 0, 0, 0, 0, 0, 0, 0, 0, 0, 0, 0, 0, 0, 0, 0, 0, 0, 0, 0, 0, 0, 0, 0, 0, 0, 0, 0, 0, 0, 0, 0, 0, 0, 0, 0, 0, 0, 0, 0, 0, 0, 0, 0, 0, 0, 0, 0, 0, 0, 0, 0, 0, 0, 0, 0, 0, 0, 0, 0, 0, 0, 0, 0, 0, 0, 0, 0, 0, 0, 0, 0, 0, 0, 0, 0, 0, 0, 0, 0, 0, 0, 0, 0, 0, 0, 0, 0, 0, 0, 0, 0, 0, 0, 0, 0, 0, 0, 0, 0, 0, 0, 0, 0, 0, 0, 0, 0, 0, 0, 0, 0, 0, 0, 0, 0, 0, 0, 0, 0, 0, 0, 0, 0, 0, 0, 0, 0, 0, 0, 0, 0, 0, 0, 0, 0, 0, 0, 0, 0, 0, 0, 0, 0, 0, 0, 0, 0, 0, 0, 0, 0, 0, 0, 0, 0, 0, 0, 0, 0, 0, 0, 0, 0, 0, 0, 0, 0, 0, 0, 0, 0, 0, 0, 0, 0, 0, 0, 0, 0, 0, 0, 0, 0, 0, 0, 0, 0, 0, 0, 0, 0, 0, 0, 0, 0, 0, 0, 0, 0, 0, 0, 0, 0, 0, 0, 0, 0, 0, 0, 0, 0, 0, 0, 0, 0, 0, 0, 0, 0, 0, 0, 0, 0, 0, 0, 0, 0, 0, 0, 0, 0, 0, 0, 0, 0, 0, 0, 0, 0, 0, 0, 0, 0, 0, 0, 0, 0, 0, 0, 0, 0, 0, 0, 0, 0, 0, 0, 0, 0, 0, 0, 0, 0, 0, 0, 0, 0, 0, 0, 0, 0, 0, 0, 0, 0, 0, 0, 0, 0, 0, 0, 0, 0, 0, 0, 0, 0, 0, 0, 0, 0, 0, 0, 0, 0, 0, 0, 0, 0, 0, 0, 0, 0, 0, 0, 0, 0, 0, 0, 0, 0, 0, 0, 0, 0, 0, 0, 0, 0, 0, 0, 0, 0, 0, 0, 0, 0, 0, 0, 0, 0, 0, 0, 0, 0, 0, 0, 0, 0, 0, 0, 0, 0, 0, 0, 0, 0, 0, 0, 0, 0, 1, 0, 0, 0, 0, 0, 0, 0, 0, 0, 0, 0, 0, 0, 0, 0, 0, 0, 0, 0, 0, 0, 0, 0, 0, 0, 0, 0, 0, 0, 0, 0, 0, 0, 0, 0, 0, 0, 0, 0, 0, 0, 0, 0, 0, 0, 0, 0, 0, 0, 0, 0, 0, 0, 0, 0, 0, 0, 0, 0, 0, 0, 0, 0, 0, 0, 0, 0, 0, 0, 0, 0, 0, 0, 0, 1, 0, 0, 0, 0, 0, 0, 0, 0, 0, 0, 0, 0, 0, 0, 0, 0, 0, 0, 0, 0, 1, 0, 0, 1, 0, 0, 0, 0, 0, 0, 0, 0, 0, 0, 0, 0, 0, 0, 0, 0, 0, 0, 0, 0, 0, 0, 0, 0, 0, 0, 0, 0, 0, 0, 0, 0, 0, 0, 0, 0, 0, 0, 0, 0, 0, 0, 0, 0, 0, 0, 0, 0, 0, 0, 0, 0, 0, 0, 0, 0, 0, 0, 0, 0, 0, 0, 0, 0, 0, 0, 0, 0, 0, 0, 0, 0, 0, 0, 0, 0, 0, 0, 0, 0, 0, 0, 0, 0, 0, 0, 0, 0, 0, 0, 0, 0, 0, 0, 0, 0, 0, 0, 0, 0, 0, 0, 0, 0, 0, 0, 0, 0, 0, 0, 0, 0, 0, 0, 0, 0, 0, 0, 0, 0, 0, 0, 0, 0, 0, 0, 0, 0, 0, 0, 0, 0, 0, 0, 0, 0, 0, 0, 0, 0, 0, 0, 0, 0, 0, 0, 0, 0, 0, 0, 0, 0, 0, 0, 0, 0, 0, 0, 0, 0, 0, 0, 0, 0, 0, 0, 0, 0, 0, 0, 0, 0, 0, 0, 0, 0, 0, 0, 0, 0, 0, 0, 0, 0, 0, 0, 0, 0, 0, 0, 0, 0, 0, 0, 0, 0, 0, 0, 0, 0, 0, 0, 0, 0, 0, 0, 0, 0, 0, 0, 0, 0, 0, 0, 0, 0, 0, 0, 0, 0, 0, 0, 0, 0, 0, 0, 0, 0, 0, 0, 0, 0, 0, 0, 0, 0, 0, 0, 0, 0, 0, 0, 0, 0, 0, 0, 0, 0, 0, 0, 0, 0, 0, 0, 0, 0, 0, 0, 0, 0, 0, 0, 0, 0, 0, 0, 0, 0, 0, 0, 0, 0, 0, 0, 0, 0, 0, 0, 0, 0, 0, 0, 0, 0, 0, 0, 0, 0, 0, 0, 0, 0, 0, 0, 0, 0, 0, 0, 0, 0, 0, 0, 0, 0, 0, 0, 0, 0, 0, 0, 0, 0, 0, 0, 0, 0, 0, 0, 0, 0, 0, 0, 0, 0, 0, 0, 0, 0, 0, 0, 0, 0, 0, 0, 0, 0, 0, 0, 0, 0, 0, 0, 0, 0, 0, 0, 0, 0, 0, 0, 0, 0, 0, 0, 0, 0, 0, 0, 0, 0, 0, 0, 0, 0, 0, 0, 0, 0, 0, 0, 0, 0, 0, 0, 0, 0, 0, 0, 0, 0, 0, 0, 0, 0, 0, 0, 0, 0, 0, 0, 0, 0, 0, 0, 0, 0, 0, 0, 0, 0, 0, 0, 0, 0, 0, 0, 0, 0, 0, 0, 0, 0, 0, 0, 0, 0, 0, 0, 0, 0, 0, 0, 0, 0, 0, 0, 0, 0, 0, 0, 0, 0, 0, 0, 0, 0, 0, 0, 0, 0, 0, 0, 0, 0, 0, 0, 0, 0, 0, 0, 0, 0, 0, 0, 0, 0, 0, 0, 0, 0, 0, 0, 0, 0, 0, 0, 1, 0, 0, 0, 0, 0, 0, 0, 0, 0, 0, 0, 0, 0, 0, 0, 0, 0, 0, 0, 0, 0, 0, 0, 0, 0, 0, 0, 0, 0, 0, 0, 0, 0, 0, 0, 0, 0, 0, 0, 0, 0, 0, 0, 0, 0, 0, 0, 0, 0, 0, 0, 0, 0, 0, 0, 0, 0, 0, 0, 0, 0, 0, 0, 0, 0, 0, 0, 0, 0, 0, 0, 0, 0, 0, 0, 0, 0, 0, 0, 0, 0, 0, 0, 0, 0, 0, 0, 0, 0, 0, 0, 0, 0, 0, 0, 0, 0, 0, 0, 0, 0, 0, 0, 0, 0, 0, 0, 0, 0, 0, 0, 0, 0, 0, 0, 0, 0, 0, 0, 0, 0, 0, 0, 0, 0, 0, 0, 0, 0, 0, 0, 0, 0, 0, 0, 0, 0, 0, 0, 0, 0, 0, 0, 0, 0, 0, 0, 0, 0, 0, 0, 0, 0, 0, 0, 0, 0, 0, 0, 0, 0, 0, 0, 0, 0, 0, 0, 0, 0, 0, 0, 0, 0, 0, 0, 0, 0, 0, 0, 0, 0, 0, 0, 0, 0, 0, 0, 0, 0, 0, 0, 0, 0, 0, 0, 0, 0, 0, 0, 0, 0, 0, 0, 0, 0, 0, 0, 0, 0, 0, 0, 0, 0, 0, 0, 0, 0, 0, 0, 0, 0, 0, 0, 0, 0, 0, 0, 0, 0, 0, 0, 0, 0, 0, 0, 0, 0, 0, 0, 0, 0, 0, 0, 0, 0, 0, 0, 0, 0, 0, 0, 0, 0, 0, 0, 0, 0, 0, 0, 0, 0, 0, 0, 0, 0, 0, 0, 0, 0, 0, 0, 0, 0, 0, 0, 0, 0, 0, 0, 0, 0, 0, 0, 0, 0, 0, 0, 0, 0, 0, 0, 0, 0, 0, 0, 0, 0, 0, 0, 0, 0, 0, 0, 0, 0, 0, 0, 0, 0, 0, 0, 0, 0, 0, 0, 0, 0, 0, 0, 0, 0, 0, 0, 0, 0, 0, 0, 0, 0, 0, 0, 0, 0, 0, 0, 0, 0, 0, 0, 0, 0, 0, 0, 0, 0, 0, 0, 0, 0, 0, 0, 0, 0, 0, 0, 0, 0, 0, 0, 0, 0, 0, 0, 0, 0, 0, 0, 0, 0, 0, 0, 0, 0, 0, 0, 0, 0, 0, 0, 0, 0, 0, 0, 0, 0, 0, 0, 0, 0, 0, 0, 0, 0, 0, 0, 0, 0, 0, 0, 0, 0, 0, 0, 0, 0, 0, 0, 0, 0, 0, 0, 0, 0, 0, 0, 0, 0, 0, 0, 0, 0, 0, 0, 0, 0, 0, 0, 0, 0, 0, 0, 0, 0, 0, 0, 0, 0, 0, 0, 0, 0, 0, 0, 0, 0, 0, 0, 0, 0, 0, 0, 0, 0, 0, 0, 0, 0, 0, 0, 0, 0, 0, 0, 0, 0, 0, 0, 0, 0, 0, 0, 0, 0, 0, 0, 0, 0, 0, 0, 0, 0, 0, 0, 0, 0, 0, 0, 0, 0, 0, 0, 0, 0, 0, 0, 0, 0, 0, 0, 0, 0, 0, 0, 0, 0, 0, 0, 0, 0, 0, 0, 0, 1, 0, 0, 0, 0, 0, 0, 0, 0, 0, 0, 0, 0, 0, 0, 0, 0, 0, 0, 0, 0, 0, 0, 0, 0, 0, 0, 0, 0, 0, 0, 0, 0, 0, 0, 0, 2, 0, 0, 0, 0, 0, 0, 0, 0, 0, 0, 0, 0, 0, 0, 0, 0, 0, 0, 0, 0, 0, 0, 0, 0, 0, 0, 0, 0, 0, 0, 0, 0, 0, 0, 0, 0, 0, 0, 0, 0, 1, 0, 0, 0, 0, 0, 0, 0, 0, 0, 0, 0, 0, 0, 0, 0, 0, 0, 0, 0, 0, 0, 0, 0, 0, 0, 0, 0, 0, 0, 0, 0, 0, 0, 0, 0, 0, 0, 0, 0, 0, 0, 0, 0, 0, 0, 0, 0, 0, 0, 0, 0, 0, 0, 0, 0, 0, 0, 0, 0, 0, 0, 0, 0, 0, 0, 0, 0, 0, 0, 0, 0, 0, 0, 0, 0, 0, 0, 0, 0, 0, 0, 0, 0, 0, 0, 0, 0, 0, 0, 0, 0, 0, 0, 0, 0, 0, 0, 0, 0, 0, 0, 0, 0, 0, 0, 0, 0, 0, 0, 0, 0, 0, 0, 0, 0, 0, 0, 0, 0, 0, 0, 0, 0, 0, 0, 0, 0, 0, 0, 0, 0, 0, 0, 0, 0, 0, 0, 0, 0, 0, 0, 0, 0, 0, 0, 0, 0, 0, 0, 0, 0, 0, 0, 0, 0, 0, 0, 0, 0, 0, 0, 0, 0, 0, 0, 0, 0, 0, 0, 0, 0, 0, 0, 0, 0, 0, 0, 0, 0, 0, 0, 0, 0, 0, 0, 0, 0, 0, 0, 0, 0, 0, 0, 0, 0, 0, 0, 0, 0, 0, 0, 0, 0, 0, 0, 0, 0, 0, 0, 0, 0, 0, 0, 0, 0, 0, 0, 0, 0, 0, 0, 0, 0, 0, 0, 0, 0, 0, 0, 0, 0, 0, 0, 0, 0, 0, 0, 0, 0, 0, 0, 0, 0, 0, 0, 0, 0, 0, 0, 0, 0, 0, 0, 0, 0, 0, 0, 0, 0, 0, 0, 0, 0, 0, 0, 0, 0, 0, 0, 0, 0, 0, 0, 0, 0, 0, 0, 0, 0, 0, 0, 0, 0, 0, 0, 0, 0, 0, 0, 0, 0, 0, 0, 0, 0, 0, 0, 0, 0, 0, 0, 0, 0, 0, 0, 0, 0, 0, 0, 0, 0, 0, 0, 0, 0, 0, 0, 0, 0, 0, 0, 0, 0, 0, 0, 0, 0, 0, 0, 0, 0, 0, 0, 0, 0, 0, 0, 0, 0, 0, 0, 0, 0, 0, 0, 0, 0, 0, 0, 0, 0, 0, 0, 0, 0, 0, 0, 0, 0, 0, 0, 0, 0, 0, 0, 0, 0, 0, 0, 0, 0, 0, 0, 0, 0, 0, 0, 0, 0, 0, 0, 0, 0, 0, 0, 0, 0, 0, 0, 0, 0, 0, 0, 0, 0, 0, 0, 0, 0, 0, 0, 0, 0, 0, 0, 0, 0, 0, 0, 0, 0, 0, 0, 0, 0, 0, 0, 0, 0, 0, 0, 0, 0, 0, 0, 0, 0, 0, 0, 0, 0, 0, 0, 0, 0, 0, 0, 0, 0, 0, 0, 0, 0, 0, 0, 0, 0, 0, 0, 0, 0, 0, 0, 0, 0, 0, 0, 0, 0, 0, 0, 0, 0, 0, 0, 0, 0, 0, 0, 0, 0, 0, 0, 0, 0, 0, 0, 0, 0, 0, 0, 0, 0, 0, 0, 0, 0, 0, 0, 0, 0, 0, 0, 0, 0, 0, 0, 1, 0, 0, 0, 0, 0, 0, 0, 0, 0, 0, 0, 0, 0, 0, 0, 0, 0, 0, 0, 0, 0, 0, 0, 0, 0, 0, 0, 0, 0, 0, 0, 0, 0, 0, 0, 0, 0, 0, 0, 0, 0, 0, 0, 0, 0, 0, 0, 0, 0, 0, 0, 0, 0, 0, 0, 0, 0, 0, 0, 0, 0, 0, 0, 0, 0, 0, 0, 0, 0, 0, 0, 0, 0, 0, 0, 0, 0, 0, 0, 0, 0, 0, 0, 0, 0, 0, 0, 0, 0, 0, 0, 0, 0, 0, 0, 0, 0, 0, 0, 0, 0, 0, 0, 0, 0, 0, 0, 0, 0, 0, 2, 0, 0, 0, 0, 0, 0, 0, 0, 0, 0, 0, 0, 0, 0, 0, 0, 0, 0, 0, 0, 0, 0, 0, 0, 0, 0, 0, 0, 0, 0, 0, 0, 0, 0, 0, 0, 0, 0, 0, 0, 0, 0, 0, 0, 0, 0, 0, 0, 0, 0, 0, 0, 0, 0, 0, 0, 0, 0, 0, 0, 0, 0, 0, 0, 0, 0, 0, 0, 0, 0, 0, 0, 0, 0, 0, 0, 0, 0, 0, 0, 0, 0, 0, 0, 0, 0, 0, 0, 0, 0, 0, 0, 0, 0, 0, 0, 0, 0, 0, 0, 0, 0, 0, 0, 0, 0, 0, 0, 0, 0, 0, 0, 0, 0, 0, 0, 0, 0, 0, 0, 0, 0, 0, 0, 0, 0, 0, 0, 0, 0, 0, 0, 0, 0, 0, 0, 0, 0, 0, 0, 0, 0, 0, 0, 0, 0, 0, 0, 0, 0, 0, 0, 0, 0, 0, 0, 0, 0, 0, 0, 0, 0, 0, 0, 0, 0, 0, 0, 0, 0, 0, 0, 0, 0, 0, 0, 0, 0, 0, 0, 0, 0, 0, 0, 0, 0, 0, 0, 0, 0, 0, 0, 0, 0, 0, 0, 0, 0, 0, 0, 0, 0, 0, 0, 0, 0, 0, 0, 0, 0, 0, 0, 0, 0, 0, 0, 0, 0, 0, 0, 0, 0, 0, 0, 0, 0, 0, 0, 0, 0, 0, 0, 0, 0, 0, 0, 0, 0, 0, 0, 0, 0, 0, 0, 0, 0, 0, 0, 0, 0, 0, 0, 0, 0, 0, 0, 0, 0, 0, 0, 0, 0, 0, 0, 0, 0, 0, 0, 0, 0, 0, 0, 0, 0, 0, 0, 0, 0, 0, 0, 0, 0, 0, 0, 0, 0, 0, 0, 0, 0, 0, 0, 0, 0, 0, 0, 0, 0, 0, 0, 0, 0, 0, 0, 0, 0, 0, 0, 0, 0, 0, 0, 0, 0, 0, 0, 0, 0, 0, 0, 0, 0, 0, 0, 0, 0, 0, 0, 0, 0, 0, 0, 0, 0, 0, 0, 0, 0, 0, 0, 0, 0, 0, 0, 0, 0, 0, 0, 0, 0, 0, 0, 0, 0, 0, 0, 0, 0, 0, 0, 0, 0, 0, 0, 0, 0, 0, 0, 0, 0, 0, 0, 0, 0, 0, 0, 0, 0, 0, 0, 0, 0, 0, 0, 0, 0, 0, 0, 0, 0, 0, 0, 0, 0, 0, 0, 0, 0, 0, 0, 0, 0, 0, 0, 0, 0, 0, 0, 0, 0, 0, 0, 0, 0, 0, 0, 0, 0, 0, 0, 0, 0, 0, 0, 0, 0, 0, 0, 0, 0, 0, 0, 0, 0, 0, 0, 0, 0, 0, 0, 0, 0, 0, 0, 0, 0, 0, 0, 0, 0, 0, 0, 0, 0, 0, 0, 0, 0, 0, 0, 0, 0, 0, 0, 0, 0, 0, 0, 0, 0, 0, 0, 0, 0, 0, 0, 0, 0, 0, 0, 0, 0, 0, 0, 0, 0, 0, 0, 0, 0, 0, 0, 0, 0, 0, 0, 0, 0, 0, 0, 0, 0, 0, 0, 0, 0, 0, 0, 0, 0, 0, 0, 0, 0, 0, 0, 0, 0, 0, 0, 0, 0, 0, 0, 0, 0, 0, 0, 0, 0, 0, 0, 0, 0, 0, 0, 0, 0, 0, 0, 0, 0, 0, 0, 0, 0, 0, 0, 0, 0, 0, 0, 0, 0, 0, 0, 0, 0, 0, 0, 0, 0, 0, 0, 0, 0, 0, 0, 0, 0, 0, 0, 0, 0, 0, 0, 0, 0, 0, 0, 0, 0, 0, 0, 0, 0, 0, 0, 0, 0, 0, 0, 0, 0, 0, 0, 0, 0, 0, 0, 0, 0, 0, 0, 0, 0, 0, 0, 0, 0, 0, 0, 0, 0, 0, 0, 0, 0, 0, 0, 0, 0, 0, 0, 0, 0, 0, 0, 0, 0, 0, 0, 0, 0, 0, 0, 0, 0, 0, 0, 0, 0, 0, 0, 0, 0, 0, 0, 0, 0, 0, 0, 0, 0, 0, 0, 0, 0, 0, 0, 0, 0, 0, 0, 0, 0, 0, 0, 0, 0, 0, 0, 0, 0, 0, 0, 0, 0, 0, 0, 0, 0, 0, 0, 0, 0, 0, 0, 0, 0, 1, 0, 0, 0, 0, 0, 0, 0, 0, 0, 0, 0, 0, 0, 0, 0, 0, 0, 0, 0, 0, 0, 0, 0, 0, 0, 0, 0, 0, 0, 0, 0, 0, 0, 0, 0, 0, 0, 0, 0, 0, 0, 0, 0, 0, 0, 0, 0, 0, 0, 0, 0, 0, 0, 0, 0, 0, 0, 0, 0, 0, 0, 0, 0, 0, 0, 0, 0, 0, 0, 0, 0, 0, 0, 0, 0, 0, 0, 0, 0, 0, 0, 0, 0, 0, 0, 0, 0, 0, 0, 0, 0, 0, 0, 0, 0, 0, 0, 0, 0, 0, 0, 0, 0, 0, 0, 0, 0, 1, 0, 0, 0, 0, 0, 0, 0, 0, 0, 0, 0, 0, 0, 0, 0, 0, 0, 0, 0, 0, 0, 0, 0, 0, 0, 0, 0, 0, 0, 0, 0, 0, 0, 0, 0, 0, 0, 0, 0, 0, 0, 0, 0, 0, 0, 0, 0, 0, 0, 0, 0, 0, 0, 0, 0, 0, 0, 0, 0, 0, 0, 0, 0, 0, 0, 0, 0, 0, 0, 0, 0, 0, 0, 0, 0, 0, 0, 0, 0, 0, 0, 0, 0, 0, 0, 0, 0, 0, 0, 0, 0, 0, 0, 0, 0, 0, 0, 0, 0, 0, 0, 0, 0, 0, 0, 0, 0, 0, 0, 0, 0, 0, 0, 0, 0, 0, 0, 0, 0, 0, 0, 0, 0, 0, 0, 0, 0, 0, 0, 0, 0, 0, 0, 0, 0, 0, 0, 0, 0, 0, 0, 0, 0, 0, 0, 0, 0, 0, 0, 0, 0, 0, 0, 0, 0, 0, 0, 0, 0, 0, 0, 0, 0, 0, 0, 0, 0, 0, 0, 0, 0, 0, 0, 0, 0, 0, 0, 0, 0, 0, 0, 0, 0, 0, 0, 0, 0, 0, 0, 0, 0, 0, 0, 0, 0, 0, 0, 0, 0, 0, 0, 0, 0, 0, 0, 0, 0, 0, 0, 0, 0, 0, 0, 0, 0, 0, 0, 0, 0, 0, 0, 0, 0, 0, 0, 0, 0, 0, 0, 0, 0, 0, 0, 0, 0, 0, 0, 0, 0, 0, 0, 0, 0, 0, 0, 0, 0, 0, 0, 0, 0, 0, 0, 0, 0, 0, 0, 0, 0, 0, 0, 0, 0, 0, 0, 0, 0, 0, 0, 0, 0, 0, 0, 0, 0, 0, 0, 0, 0, 0, 0, 0, 0, 0, 0, 0, 0, 0, 0, 0, 0, 0, 0, 0, 0, 0, 0, 0, 0, 0, 0, 0, 0, 0, 0, 0, 0, 0, 0, 0, 0, 0, 0, 0, 0, 0, 0, 0, 0, 0, 0, 0, 0, 0, 0, 0, 0, 0, 0, 0, 0, 0, 0, 0, 0, 0, 0, 0, 0, 0, 0, 0, 0, 0, 0, 0, 0, 0, 0, 0, 0, 0, 0, 0, 0, 0, 0, 0, 0, 0, 0, 0, 0, 0, 0, 0, 0, 0, 0, 0, 0, 0, 0, 0, 0, 0, 0, 0, 0, 0, 0, 0, 0, 0, 0, 0, 0, 0, 0, 0, 0, 0, 0, 0, 0, 0, 0, 0, 0, 0, 0, 0, 0, 0, 0, 0, 0, 0, 0, 0, 0, 0, 0, 0, 0, 0, 0, 0, 0, 0, 0, 0, 0, 0, 0, 0, 0, 0, 0, 0, 0, 0, 0, 0, 0, 0, 0, 0, 0, 0, 0, 0, 0, 0, 0, 0, 0, 0, 0, 0, 0, 0, 0, 0, 0, 0, 0, 0, 0, 0, 0, 0, 0, 2, 0, 1, 0], type: <class 'list'>, valid types: <class 'bytes'>, <class 'bytearray'>, file-like object",
     "output_type": "error",
     "traceback": [
      "\u001b[0;31m---------------------------------------------------------------------------\u001b[0m",
      "\u001b[0;31mParamValidationError\u001b[0m                      Traceback (most recent call last)",
      "\u001b[0;32m<ipython-input-46-c9ab54ae3a48>\u001b[0m in \u001b[0;36m<module>\u001b[0;34m\u001b[0m\n\u001b[1;32m      1\u001b[0m response = runtime.invoke_endpoint(EndpointName = xgb_predictor.endpoint, # The name of the endpoint we created\n\u001b[1;32m      2\u001b[0m                                        \u001b[0mContentType\u001b[0m \u001b[0;34m=\u001b[0m \u001b[0;34m'text/csv'\u001b[0m\u001b[0;34m,\u001b[0m                     \u001b[0;31m# The data format that is expected\u001b[0m\u001b[0;34m\u001b[0m\u001b[0;34m\u001b[0m\u001b[0m\n\u001b[0;32m----> 3\u001b[0;31m                                        Body = test_bow)\n\u001b[0m",
      "\u001b[0;32m~/anaconda3/envs/python3/lib/python3.6/site-packages/botocore/client.py\u001b[0m in \u001b[0;36m_api_call\u001b[0;34m(self, *args, **kwargs)\u001b[0m\n\u001b[1;32m    355\u001b[0m                     \"%s() only accepts keyword arguments.\" % py_operation_name)\n\u001b[1;32m    356\u001b[0m             \u001b[0;31m# The \"self\" in this scope is referring to the BaseClient.\u001b[0m\u001b[0;34m\u001b[0m\u001b[0;34m\u001b[0m\u001b[0;34m\u001b[0m\u001b[0m\n\u001b[0;32m--> 357\u001b[0;31m             \u001b[0;32mreturn\u001b[0m \u001b[0mself\u001b[0m\u001b[0;34m.\u001b[0m\u001b[0m_make_api_call\u001b[0m\u001b[0;34m(\u001b[0m\u001b[0moperation_name\u001b[0m\u001b[0;34m,\u001b[0m \u001b[0mkwargs\u001b[0m\u001b[0;34m)\u001b[0m\u001b[0;34m\u001b[0m\u001b[0;34m\u001b[0m\u001b[0m\n\u001b[0m\u001b[1;32m    358\u001b[0m \u001b[0;34m\u001b[0m\u001b[0m\n\u001b[1;32m    359\u001b[0m         \u001b[0m_api_call\u001b[0m\u001b[0;34m.\u001b[0m\u001b[0m__name__\u001b[0m \u001b[0;34m=\u001b[0m \u001b[0mstr\u001b[0m\u001b[0;34m(\u001b[0m\u001b[0mpy_operation_name\u001b[0m\u001b[0;34m)\u001b[0m\u001b[0;34m\u001b[0m\u001b[0;34m\u001b[0m\u001b[0m\n",
      "\u001b[0;32m~/anaconda3/envs/python3/lib/python3.6/site-packages/botocore/client.py\u001b[0m in \u001b[0;36m_make_api_call\u001b[0;34m(self, operation_name, api_params)\u001b[0m\n\u001b[1;32m    647\u001b[0m         }\n\u001b[1;32m    648\u001b[0m         request_dict = self._convert_to_request_dict(\n\u001b[0;32m--> 649\u001b[0;31m             api_params, operation_model, context=request_context)\n\u001b[0m\u001b[1;32m    650\u001b[0m \u001b[0;34m\u001b[0m\u001b[0m\n\u001b[1;32m    651\u001b[0m         \u001b[0mservice_id\u001b[0m \u001b[0;34m=\u001b[0m \u001b[0mself\u001b[0m\u001b[0;34m.\u001b[0m\u001b[0m_service_model\u001b[0m\u001b[0;34m.\u001b[0m\u001b[0mservice_id\u001b[0m\u001b[0;34m.\u001b[0m\u001b[0mhyphenize\u001b[0m\u001b[0;34m(\u001b[0m\u001b[0;34m)\u001b[0m\u001b[0;34m\u001b[0m\u001b[0;34m\u001b[0m\u001b[0m\n",
      "\u001b[0;32m~/anaconda3/envs/python3/lib/python3.6/site-packages/botocore/client.py\u001b[0m in \u001b[0;36m_convert_to_request_dict\u001b[0;34m(self, api_params, operation_model, context)\u001b[0m\n\u001b[1;32m    695\u001b[0m             api_params, operation_model, context)\n\u001b[1;32m    696\u001b[0m         request_dict = self._serializer.serialize_to_request(\n\u001b[0;32m--> 697\u001b[0;31m             api_params, operation_model)\n\u001b[0m\u001b[1;32m    698\u001b[0m         \u001b[0;32mif\u001b[0m \u001b[0;32mnot\u001b[0m \u001b[0mself\u001b[0m\u001b[0;34m.\u001b[0m\u001b[0m_client_config\u001b[0m\u001b[0;34m.\u001b[0m\u001b[0minject_host_prefix\u001b[0m\u001b[0;34m:\u001b[0m\u001b[0;34m\u001b[0m\u001b[0;34m\u001b[0m\u001b[0m\n\u001b[1;32m    699\u001b[0m             \u001b[0mrequest_dict\u001b[0m\u001b[0;34m.\u001b[0m\u001b[0mpop\u001b[0m\u001b[0;34m(\u001b[0m\u001b[0;34m'host_prefix'\u001b[0m\u001b[0;34m,\u001b[0m \u001b[0;32mNone\u001b[0m\u001b[0;34m)\u001b[0m\u001b[0;34m\u001b[0m\u001b[0;34m\u001b[0m\u001b[0m\n",
      "\u001b[0;32m~/anaconda3/envs/python3/lib/python3.6/site-packages/botocore/validate.py\u001b[0m in \u001b[0;36mserialize_to_request\u001b[0;34m(self, parameters, operation_model)\u001b[0m\n\u001b[1;32m    295\u001b[0m                                                     operation_model.input_shape)\n\u001b[1;32m    296\u001b[0m             \u001b[0;32mif\u001b[0m \u001b[0mreport\u001b[0m\u001b[0;34m.\u001b[0m\u001b[0mhas_errors\u001b[0m\u001b[0;34m(\u001b[0m\u001b[0;34m)\u001b[0m\u001b[0;34m:\u001b[0m\u001b[0;34m\u001b[0m\u001b[0;34m\u001b[0m\u001b[0m\n\u001b[0;32m--> 297\u001b[0;31m                 \u001b[0;32mraise\u001b[0m \u001b[0mParamValidationError\u001b[0m\u001b[0;34m(\u001b[0m\u001b[0mreport\u001b[0m\u001b[0;34m=\u001b[0m\u001b[0mreport\u001b[0m\u001b[0;34m.\u001b[0m\u001b[0mgenerate_report\u001b[0m\u001b[0;34m(\u001b[0m\u001b[0;34m)\u001b[0m\u001b[0;34m)\u001b[0m\u001b[0;34m\u001b[0m\u001b[0;34m\u001b[0m\u001b[0m\n\u001b[0m\u001b[1;32m    298\u001b[0m         return self._serializer.serialize_to_request(parameters,\n\u001b[1;32m    299\u001b[0m                                                      operation_model)\n",
      "\u001b[0;31mParamValidationError\u001b[0m: Parameter validation failed:\nInvalid type for parameter Body, value: [0, 0, 0, 0, 0, 0, 0, 0, 0, 0, 0, 0, 0, 0, 0, 0, 0, 0, 0, 0, 0, 0, 0, 0, 0, 0, 0, 0, 0, 0, 0, 0, 0, 0, 0, 0, 0, 0, 0, 0, 0, 0, 0, 0, 0, 0, 0, 0, 0, 0, 0, 0, 0, 0, 0, 0, 0, 0, 0, 0, 0, 0, 0, 0, 0, 0, 0, 0, 0, 0, 0, 0, 0, 0, 0, 0, 0, 0, 0, 0, 0, 0, 0, 0, 0, 0, 0, 0, 0, 0, 0, 0, 0, 0, 0, 0, 0, 0, 0, 0, 0, 0, 0, 0, 0, 0, 0, 0, 0, 0, 0, 0, 0, 0, 0, 0, 0, 0, 0, 0, 0, 0, 0, 0, 0, 0, 0, 0, 0, 0, 0, 0, 0, 0, 0, 0, 0, 0, 0, 0, 0, 0, 0, 0, 0, 0, 0, 0, 0, 0, 0, 0, 0, 0, 0, 0, 0, 0, 0, 0, 0, 0, 0, 0, 0, 0, 0, 0, 0, 0, 0, 0, 0, 0, 0, 0, 0, 0, 0, 0, 0, 0, 0, 0, 0, 0, 0, 0, 0, 0, 0, 0, 0, 0, 0, 0, 0, 0, 0, 0, 0, 0, 0, 0, 0, 0, 0, 0, 0, 0, 0, 0, 0, 0, 0, 0, 0, 0, 0, 0, 0, 0, 0, 0, 0, 0, 1, 0, 0, 0, 0, 0, 0, 0, 0, 0, 0, 0, 0, 0, 0, 0, 0, 0, 0, 0, 0, 0, 0, 0, 0, 0, 0, 0, 0, 0, 1, 0, 0, 0, 0, 0, 0, 0, 0, 0, 0, 0, 0, 0, 0, 0, 0, 0, 0, 0, 0, 0, 0, 0, 0, 0, 0, 0, 0, 0, 0, 0, 0, 0, 0, 0, 0, 0, 0, 0, 0, 0, 0, 0, 0, 0, 0, 0, 0, 0, 0, 0, 0, 0, 0, 0, 0, 0, 0, 0, 0, 0, 0, 0, 0, 0, 0, 0, 0, 0, 0, 0, 0, 0, 0, 0, 0, 0, 0, 0, 0, 0, 0, 0, 0, 0, 0, 0, 0, 0, 0, 0, 0, 0, 0, 0, 0, 0, 0, 0, 0, 0, 0, 0, 0, 0, 0, 0, 0, 0, 0, 0, 0, 0, 0, 0, 0, 0, 0, 0, 0, 0, 0, 0, 0, 0, 0, 0, 0, 0, 0, 0, 0, 0, 0, 0, 0, 0, 0, 0, 0, 0, 0, 0, 0, 0, 0, 0, 0, 0, 0, 0, 0, 0, 0, 0, 0, 0, 0, 0, 0, 0, 0, 0, 0, 0, 0, 0, 0, 0, 0, 0, 0, 0, 0, 0, 0, 0, 0, 0, 0, 0, 0, 0, 0, 0, 0, 0, 0, 0, 0, 0, 0, 0, 0, 0, 0, 0, 0, 0, 0, 0, 0, 0, 0, 0, 0, 0, 0, 0, 0, 0, 0, 0, 0, 0, 0, 0, 0, 0, 0, 0, 0, 0, 0, 0, 0, 0, 0, 0, 0, 0, 0, 0, 0, 0, 0, 0, 0, 0, 0, 0, 0, 0, 0, 0, 0, 0, 0, 0, 0, 0, 0, 0, 0, 0, 0, 0, 0, 0, 0, 0, 0, 0, 0, 0, 0, 0, 0, 0, 0, 0, 0, 0, 0, 0, 0, 0, 0, 0, 0, 0, 0, 0, 0, 0, 0, 0, 0, 0, 0, 0, 0, 0, 0, 0, 0, 0, 0, 0, 0, 0, 0, 0, 0, 0, 0, 0, 0, 0, 0, 0, 0, 0, 0, 0, 0, 0, 0, 0, 0, 0, 0, 0, 0, 0, 0, 0, 0, 0, 0, 0, 0, 0, 0, 0, 0, 0, 0, 0, 0, 0, 0, 0, 0, 0, 0, 0, 0, 0, 0, 0, 0, 0, 0, 0, 0, 0, 0, 0, 0, 0, 0, 0, 0, 0, 0, 0, 0, 0, 0, 0, 0, 0, 0, 0, 0, 0, 0, 0, 1, 0, 0, 0, 0, 0, 0, 0, 0, 0, 0, 0, 0, 0, 0, 0, 0, 0, 0, 0, 0, 0, 0, 0, 0, 0, 0, 0, 0, 0, 0, 0, 0, 0, 0, 0, 0, 0, 0, 0, 0, 0, 0, 0, 0, 0, 0, 0, 0, 0, 0, 0, 0, 0, 0, 0, 0, 0, 0, 0, 0, 0, 0, 0, 0, 0, 0, 0, 0, 0, 0, 0, 0, 0, 0, 0, 0, 0, 0, 0, 0, 0, 0, 0, 0, 0, 0, 0, 0, 0, 0, 0, 0, 0, 0, 0, 0, 0, 0, 0, 0, 0, 0, 0, 0, 0, 0, 0, 0, 0, 0, 0, 0, 0, 0, 0, 0, 0, 0, 0, 0, 0, 0, 0, 0, 0, 0, 0, 0, 0, 0, 0, 0, 0, 0, 0, 0, 0, 0, 0, 0, 0, 0, 0, 0, 0, 0, 0, 0, 0, 0, 0, 0, 0, 0, 0, 0, 0, 0, 0, 0, 0, 0, 0, 0, 0, 0, 0, 0, 0, 0, 0, 0, 0, 0, 0, 0, 0, 0, 0, 0, 0, 0, 0, 0, 0, 0, 0, 0, 0, 0, 0, 0, 0, 0, 0, 0, 0, 0, 0, 0, 0, 0, 0, 0, 0, 0, 0, 0, 0, 0, 0, 0, 0, 0, 0, 0, 0, 0, 0, 0, 0, 0, 0, 0, 0, 0, 0, 0, 0, 0, 0, 0, 0, 0, 0, 0, 0, 0, 0, 0, 0, 0, 0, 0, 0, 0, 0, 0, 0, 0, 0, 0, 0, 1, 0, 0, 0, 0, 0, 0, 0, 0, 0, 0, 0, 0, 0, 0, 0, 0, 0, 0, 0, 0, 0, 0, 0, 0, 0, 0, 0, 0, 0, 0, 0, 0, 0, 0, 0, 0, 0, 0, 0, 0, 0, 0, 0, 0, 0, 0, 0, 0, 0, 0, 0, 0, 0, 0, 0, 0, 0, 0, 0, 0, 0, 0, 0, 0, 0, 0, 0, 0, 0, 0, 0, 0, 0, 0, 0, 0, 0, 0, 0, 0, 0, 0, 0, 0, 0, 0, 1, 0, 0, 0, 0, 0, 0, 0, 0, 0, 0, 0, 0, 0, 0, 0, 0, 0, 0, 0, 0, 0, 0, 0, 0, 0, 0, 0, 0, 0, 0, 0, 0, 0, 0, 0, 0, 0, 0, 0, 0, 0, 0, 0, 0, 0, 0, 0, 0, 0, 0, 0, 0, 0, 0, 0, 0, 0, 0, 0, 0, 0, 0, 0, 0, 0, 0, 0, 0, 0, 0, 0, 0, 0, 0, 0, 0, 0, 0, 0, 0, 0, 0, 0, 0, 0, 0, 0, 0, 0, 0, 0, 0, 0, 0, 0, 0, 0, 0, 0, 0, 0, 0, 0, 0, 0, 0, 0, 0, 0, 0, 0, 0, 0, 0, 0, 0, 0, 0, 0, 0, 0, 0, 0, 0, 0, 0, 0, 0, 0, 0, 0, 0, 0, 0, 0, 0, 0, 0, 0, 0, 0, 0, 0, 0, 0, 0, 0, 0, 0, 0, 0, 0, 0, 0, 0, 0, 0, 0, 0, 0, 0, 0, 0, 0, 0, 0, 0, 0, 0, 0, 0, 0, 0, 0, 0, 0, 0, 0, 0, 0, 0, 0, 0, 0, 0, 0, 0, 0, 0, 0, 0, 0, 0, 0, 0, 0, 0, 0, 0, 0, 0, 0, 0, 0, 0, 0, 0, 0, 0, 0, 0, 0, 0, 0, 0, 0, 0, 0, 0, 0, 0, 0, 0, 0, 0, 0, 0, 0, 0, 0, 0, 0, 0, 0, 0, 0, 0, 0, 0, 0, 0, 0, 0, 0, 0, 0, 0, 0, 0, 0, 0, 0, 1, 0, 0, 0, 0, 0, 0, 0, 0, 0, 0, 0, 0, 0, 0, 0, 0, 0, 0, 0, 0, 0, 0, 0, 0, 0, 0, 0, 0, 0, 0, 0, 0, 0, 0, 0, 0, 0, 0, 0, 0, 0, 0, 0, 0, 0, 0, 0, 0, 0, 0, 0, 0, 0, 0, 0, 1, 0, 0, 0, 0, 0, 0, 0, 0, 0, 0, 0, 0, 0, 0, 0, 0, 0, 0, 0, 0, 0, 0, 0, 0, 0, 0, 0, 0, 0, 0, 0, 0, 0, 0, 0, 0, 0, 0, 0, 0, 0, 0, 0, 0, 0, 0, 0, 0, 0, 0, 0, 0, 0, 0, 0, 0, 0, 0, 0, 0, 0, 0, 0, 0, 0, 0, 0, 0, 0, 0, 0, 0, 0, 0, 0, 0, 0, 0, 0, 0, 0, 0, 0, 0, 0, 0, 0, 0, 0, 0, 0, 0, 0, 0, 0, 0, 0, 0, 0, 0, 0, 0, 0, 0, 0, 0, 0, 0, 0, 0, 0, 0, 0, 0, 0, 0, 0, 0, 0, 0, 0, 0, 0, 0, 0, 0, 0, 0, 0, 0, 0, 0, 0, 0, 0, 0, 0, 0, 0, 0, 0, 0, 0, 0, 0, 0, 0, 0, 0, 0, 0, 0, 0, 0, 0, 0, 0, 0, 0, 0, 0, 0, 0, 0, 0, 0, 0, 0, 0, 0, 0, 0, 0, 0, 0, 0, 0, 0, 0, 0, 0, 0, 0, 0, 0, 0, 0, 0, 0, 0, 0, 0, 0, 0, 0, 0, 0, 0, 0, 0, 0, 0, 0, 0, 0, 0, 0, 0, 0, 0, 0, 0, 0, 0, 0, 0, 0, 0, 0, 0, 0, 0, 0, 0, 0, 0, 0, 0, 0, 0, 0, 0, 0, 0, 0, 0, 0, 0, 0, 0, 0, 0, 0, 0, 0, 0, 0, 0, 0, 0, 0, 0, 0, 0, 0, 0, 0, 0, 0, 0, 0, 0, 0, 0, 0, 0, 0, 0, 0, 0, 0, 0, 0, 0, 0, 0, 0, 0, 0, 0, 0, 0, 0, 0, 0, 0, 0, 0, 0, 0, 0, 0, 0, 0, 0, 0, 0, 0, 0, 0, 0, 0, 0, 0, 0, 0, 0, 0, 0, 0, 0, 0, 0, 0, 0, 0, 0, 0, 0, 0, 0, 0, 0, 0, 0, 0, 0, 0, 0, 0, 0, 0, 0, 0, 0, 0, 0, 0, 0, 0, 0, 0, 0, 0, 0, 0, 0, 0, 0, 0, 0, 0, 0, 0, 0, 0, 0, 0, 0, 0, 0, 0, 0, 0, 0, 0, 0, 0, 0, 0, 0, 0, 0, 0, 0, 0, 0, 0, 0, 0, 0, 0, 0, 0, 0, 0, 0, 0, 0, 0, 0, 0, 0, 0, 0, 0, 0, 0, 0, 0, 0, 0, 0, 0, 0, 0, 0, 0, 0, 0, 0, 0, 0, 0, 0, 0, 0, 0, 0, 0, 0, 0, 0, 0, 0, 0, 0, 0, 0, 0, 0, 0, 0, 0, 0, 0, 0, 0, 0, 0, 0, 0, 0, 0, 0, 0, 0, 0, 0, 0, 0, 0, 0, 0, 0, 0, 0, 0, 0, 0, 0, 0, 0, 0, 0, 0, 0, 0, 0, 0, 0, 0, 0, 0, 0, 0, 0, 0, 0, 0, 0, 0, 0, 0, 0, 0, 0, 0, 0, 0, 0, 0, 0, 0, 0, 0, 0, 0, 0, 0, 0, 0, 0, 0, 0, 0, 0, 0, 0, 0, 0, 0, 0, 0, 0, 0, 0, 0, 0, 0, 0, 0, 0, 0, 0, 0, 0, 0, 0, 0, 0, 0, 0, 0, 0, 0, 0, 0, 0, 0, 0, 0, 0, 0, 0, 0, 0, 0, 0, 0, 0, 0, 0, 0, 0, 0, 0, 0, 0, 0, 0, 0, 0, 0, 0, 0, 0, 0, 0, 0, 0, 0, 0, 0, 0, 0, 0, 0, 0, 0, 0, 0, 0, 0, 0, 0, 0, 0, 0, 0, 0, 0, 0, 0, 0, 0, 0, 0, 0, 0, 0, 0, 0, 0, 0, 0, 0, 0, 0, 0, 0, 0, 0, 0, 0, 0, 0, 0, 0, 0, 0, 0, 0, 0, 0, 0, 0, 0, 0, 0, 0, 0, 0, 0, 0, 0, 0, 0, 0, 0, 0, 0, 0, 0, 0, 0, 0, 0, 0, 0, 0, 0, 0, 0, 0, 0, 0, 0, 0, 0, 0, 0, 0, 0, 0, 0, 0, 0, 0, 0, 0, 0, 0, 0, 0, 0, 0, 0, 0, 0, 0, 1, 0, 0, 0, 0, 0, 0, 0, 0, 0, 0, 0, 0, 0, 0, 0, 0, 0, 0, 0, 0, 0, 0, 0, 0, 0, 0, 0, 0, 0, 0, 0, 0, 0, 0, 0, 0, 0, 0, 0, 0, 0, 0, 0, 0, 0, 0, 0, 0, 0, 0, 0, 0, 0, 0, 0, 0, 0, 0, 0, 0, 0, 0, 0, 0, 0, 0, 0, 0, 0, 0, 0, 0, 0, 0, 1, 0, 0, 0, 0, 0, 0, 0, 0, 0, 0, 0, 0, 0, 0, 0, 0, 0, 0, 0, 0, 1, 0, 0, 1, 0, 0, 0, 0, 0, 0, 0, 0, 0, 0, 0, 0, 0, 0, 0, 0, 0, 0, 0, 0, 0, 0, 0, 0, 0, 0, 0, 0, 0, 0, 0, 0, 0, 0, 0, 0, 0, 0, 0, 0, 0, 0, 0, 0, 0, 0, 0, 0, 0, 0, 0, 0, 0, 0, 0, 0, 0, 0, 0, 0, 0, 0, 0, 0, 0, 0, 0, 0, 0, 0, 0, 0, 0, 0, 0, 0, 0, 0, 0, 0, 0, 0, 0, 0, 0, 0, 0, 0, 0, 0, 0, 0, 0, 0, 0, 0, 0, 0, 0, 0, 0, 0, 0, 0, 0, 0, 0, 0, 0, 0, 0, 0, 0, 0, 0, 0, 0, 0, 0, 0, 0, 0, 0, 0, 0, 0, 0, 0, 0, 0, 0, 0, 0, 0, 0, 0, 0, 0, 0, 0, 0, 0, 0, 0, 0, 0, 0, 0, 0, 0, 0, 0, 0, 0, 0, 0, 0, 0, 0, 0, 0, 0, 0, 0, 0, 0, 0, 0, 0, 0, 0, 0, 0, 0, 0, 0, 0, 0, 0, 0, 0, 0, 0, 0, 0, 0, 0, 0, 0, 0, 0, 0, 0, 0, 0, 0, 0, 0, 0, 0, 0, 0, 0, 0, 0, 0, 0, 0, 0, 0, 0, 0, 0, 0, 0, 0, 0, 0, 0, 0, 0, 0, 0, 0, 0, 0, 0, 0, 0, 0, 0, 0, 0, 0, 0, 0, 0, 0, 0, 0, 0, 0, 0, 0, 0, 0, 0, 0, 0, 0, 0, 0, 0, 0, 0, 0, 0, 0, 0, 0, 0, 0, 0, 0, 0, 0, 0, 0, 0, 0, 0, 0, 0, 0, 0, 0, 0, 0, 0, 0, 0, 0, 0, 0, 0, 0, 0, 0, 0, 0, 0, 0, 0, 0, 0, 0, 0, 0, 0, 0, 0, 0, 0, 0, 0, 0, 0, 0, 0, 0, 0, 0, 0, 0, 0, 0, 0, 0, 0, 0, 0, 0, 0, 0, 0, 0, 0, 0, 0, 0, 0, 0, 0, 0, 0, 0, 0, 0, 0, 0, 0, 0, 0, 0, 0, 0, 0, 0, 0, 0, 0, 0, 0, 0, 0, 0, 0, 0, 0, 0, 0, 0, 0, 0, 0, 0, 0, 0, 0, 0, 0, 0, 0, 0, 0, 0, 0, 0, 0, 0, 0, 0, 0, 0, 0, 0, 0, 0, 0, 0, 0, 0, 0, 0, 0, 0, 0, 0, 0, 0, 0, 0, 0, 0, 0, 0, 0, 0, 0, 0, 0, 0, 0, 0, 0, 0, 0, 0, 0, 0, 0, 0, 0, 0, 0, 0, 0, 0, 0, 0, 0, 0, 0, 0, 0, 0, 0, 0, 0, 0, 0, 0, 0, 0, 0, 0, 0, 0, 0, 0, 0, 0, 0, 0, 0, 0, 0, 0, 0, 0, 0, 0, 0, 0, 0, 0, 1, 0, 0, 0, 0, 0, 0, 0, 0, 0, 0, 0, 0, 0, 0, 0, 0, 0, 0, 0, 0, 0, 0, 0, 0, 0, 0, 0, 0, 0, 0, 0, 0, 0, 0, 0, 0, 0, 0, 0, 0, 0, 0, 0, 0, 0, 0, 0, 0, 0, 0, 0, 0, 0, 0, 0, 0, 0, 0, 0, 0, 0, 0, 0, 0, 0, 0, 0, 0, 0, 0, 0, 0, 0, 0, 0, 0, 0, 0, 0, 0, 0, 0, 0, 0, 0, 0, 0, 0, 0, 0, 0, 0, 0, 0, 0, 0, 0, 0, 0, 0, 0, 0, 0, 0, 0, 0, 0, 0, 0, 0, 0, 0, 0, 0, 0, 0, 0, 0, 0, 0, 0, 0, 0, 0, 0, 0, 0, 0, 0, 0, 0, 0, 0, 0, 0, 0, 0, 0, 0, 0, 0, 0, 0, 0, 0, 0, 0, 0, 0, 0, 0, 0, 0, 0, 0, 0, 0, 0, 0, 0, 0, 0, 0, 0, 0, 0, 0, 0, 0, 0, 0, 0, 0, 0, 0, 0, 0, 0, 0, 0, 0, 0, 0, 0, 0, 0, 0, 0, 0, 0, 0, 0, 0, 0, 0, 0, 0, 0, 0, 0, 0, 0, 0, 0, 0, 0, 0, 0, 0, 0, 0, 0, 0, 0, 0, 0, 0, 0, 0, 0, 0, 0, 0, 0, 0, 0, 0, 0, 0, 0, 0, 0, 0, 0, 0, 0, 0, 0, 0, 0, 0, 0, 0, 0, 0, 0, 0, 0, 0, 0, 0, 0, 0, 0, 0, 0, 0, 0, 0, 0, 0, 0, 0, 0, 0, 0, 0, 0, 0, 0, 0, 0, 0, 0, 0, 0, 0, 0, 0, 0, 0, 0, 0, 0, 0, 0, 0, 0, 0, 0, 0, 0, 0, 0, 0, 0, 0, 0, 0, 0, 0, 0, 0, 0, 0, 0, 0, 0, 0, 0, 0, 0, 0, 0, 0, 0, 0, 0, 0, 0, 0, 0, 0, 0, 0, 0, 0, 0, 0, 0, 0, 0, 0, 0, 0, 0, 0, 0, 0, 0, 0, 0, 0, 0, 0, 0, 0, 0, 0, 0, 0, 0, 0, 0, 0, 0, 0, 0, 0, 0, 0, 0, 0, 0, 0, 0, 0, 0, 0, 0, 0, 0, 0, 0, 0, 0, 0, 0, 0, 0, 0, 0, 0, 0, 0, 0, 0, 0, 0, 0, 0, 0, 0, 0, 0, 0, 0, 0, 0, 0, 0, 0, 0, 0, 0, 0, 0, 0, 0, 0, 0, 0, 0, 0, 0, 0, 0, 0, 0, 0, 0, 0, 0, 0, 0, 0, 0, 0, 0, 0, 0, 0, 0, 0, 0, 0, 0, 0, 0, 0, 0, 0, 0, 0, 0, 0, 0, 0, 0, 0, 0, 0, 0, 0, 0, 0, 0, 0, 0, 0, 0, 0, 0, 0, 0, 0, 0, 0, 0, 0, 0, 0, 0, 0, 0, 0, 0, 0, 0, 0, 0, 0, 0, 0, 0, 0, 0, 0, 0, 0, 0, 0, 0, 0, 0, 0, 0, 0, 0, 0, 0, 0, 0, 0, 0, 0, 0, 0, 0, 0, 0, 0, 1, 0, 0, 0, 0, 0, 0, 0, 0, 0, 0, 0, 0, 0, 0, 0, 0, 0, 0, 0, 0, 0, 0, 0, 0, 0, 0, 0, 0, 0, 0, 0, 0, 0, 0, 0, 2, 0, 0, 0, 0, 0, 0, 0, 0, 0, 0, 0, 0, 0, 0, 0, 0, 0, 0, 0, 0, 0, 0, 0, 0, 0, 0, 0, 0, 0, 0, 0, 0, 0, 0, 0, 0, 0, 0, 0, 0, 1, 0, 0, 0, 0, 0, 0, 0, 0, 0, 0, 0, 0, 0, 0, 0, 0, 0, 0, 0, 0, 0, 0, 0, 0, 0, 0, 0, 0, 0, 0, 0, 0, 0, 0, 0, 0, 0, 0, 0, 0, 0, 0, 0, 0, 0, 0, 0, 0, 0, 0, 0, 0, 0, 0, 0, 0, 0, 0, 0, 0, 0, 0, 0, 0, 0, 0, 0, 0, 0, 0, 0, 0, 0, 0, 0, 0, 0, 0, 0, 0, 0, 0, 0, 0, 0, 0, 0, 0, 0, 0, 0, 0, 0, 0, 0, 0, 0, 0, 0, 0, 0, 0, 0, 0, 0, 0, 0, 0, 0, 0, 0, 0, 0, 0, 0, 0, 0, 0, 0, 0, 0, 0, 0, 0, 0, 0, 0, 0, 0, 0, 0, 0, 0, 0, 0, 0, 0, 0, 0, 0, 0, 0, 0, 0, 0, 0, 0, 0, 0, 0, 0, 0, 0, 0, 0, 0, 0, 0, 0, 0, 0, 0, 0, 0, 0, 0, 0, 0, 0, 0, 0, 0, 0, 0, 0, 0, 0, 0, 0, 0, 0, 0, 0, 0, 0, 0, 0, 0, 0, 0, 0, 0, 0, 0, 0, 0, 0, 0, 0, 0, 0, 0, 0, 0, 0, 0, 0, 0, 0, 0, 0, 0, 0, 0, 0, 0, 0, 0, 0, 0, 0, 0, 0, 0, 0, 0, 0, 0, 0, 0, 0, 0, 0, 0, 0, 0, 0, 0, 0, 0, 0, 0, 0, 0, 0, 0, 0, 0, 0, 0, 0, 0, 0, 0, 0, 0, 0, 0, 0, 0, 0, 0, 0, 0, 0, 0, 0, 0, 0, 0, 0, 0, 0, 0, 0, 0, 0, 0, 0, 0, 0, 0, 0, 0, 0, 0, 0, 0, 0, 0, 0, 0, 0, 0, 0, 0, 0, 0, 0, 0, 0, 0, 0, 0, 0, 0, 0, 0, 0, 0, 0, 0, 0, 0, 0, 0, 0, 0, 0, 0, 0, 0, 0, 0, 0, 0, 0, 0, 0, 0, 0, 0, 0, 0, 0, 0, 0, 0, 0, 0, 0, 0, 0, 0, 0, 0, 0, 0, 0, 0, 0, 0, 0, 0, 0, 0, 0, 0, 0, 0, 0, 0, 0, 0, 0, 0, 0, 0, 0, 0, 0, 0, 0, 0, 0, 0, 0, 0, 0, 0, 0, 0, 0, 0, 0, 0, 0, 0, 0, 0, 0, 0, 0, 0, 0, 0, 0, 0, 0, 0, 0, 0, 0, 0, 0, 0, 0, 0, 0, 0, 0, 0, 0, 0, 0, 0, 0, 0, 0, 0, 0, 0, 0, 0, 0, 0, 0, 0, 0, 0, 0, 0, 0, 0, 0, 0, 0, 0, 0, 0, 0, 0, 0, 0, 0, 0, 0, 0, 0, 0, 0, 0, 0, 0, 0, 0, 0, 0, 0, 0, 0, 0, 0, 0, 0, 0, 0, 0, 0, 0, 0, 0, 0, 0, 0, 0, 0, 0, 0, 0, 0, 0, 0, 0, 0, 0, 0, 0, 0, 0, 0, 0, 0, 0, 0, 0, 0, 1, 0, 0, 0, 0, 0, 0, 0, 0, 0, 0, 0, 0, 0, 0, 0, 0, 0, 0, 0, 0, 0, 0, 0, 0, 0, 0, 0, 0, 0, 0, 0, 0, 0, 0, 0, 0, 0, 0, 0, 0, 0, 0, 0, 0, 0, 0, 0, 0, 0, 0, 0, 0, 0, 0, 0, 0, 0, 0, 0, 0, 0, 0, 0, 0, 0, 0, 0, 0, 0, 0, 0, 0, 0, 0, 0, 0, 0, 0, 0, 0, 0, 0, 0, 0, 0, 0, 0, 0, 0, 0, 0, 0, 0, 0, 0, 0, 0, 0, 0, 0, 0, 0, 0, 0, 0, 0, 0, 0, 0, 0, 2, 0, 0, 0, 0, 0, 0, 0, 0, 0, 0, 0, 0, 0, 0, 0, 0, 0, 0, 0, 0, 0, 0, 0, 0, 0, 0, 0, 0, 0, 0, 0, 0, 0, 0, 0, 0, 0, 0, 0, 0, 0, 0, 0, 0, 0, 0, 0, 0, 0, 0, 0, 0, 0, 0, 0, 0, 0, 0, 0, 0, 0, 0, 0, 0, 0, 0, 0, 0, 0, 0, 0, 0, 0, 0, 0, 0, 0, 0, 0, 0, 0, 0, 0, 0, 0, 0, 0, 0, 0, 0, 0, 0, 0, 0, 0, 0, 0, 0, 0, 0, 0, 0, 0, 0, 0, 0, 0, 0, 0, 0, 0, 0, 0, 0, 0, 0, 0, 0, 0, 0, 0, 0, 0, 0, 0, 0, 0, 0, 0, 0, 0, 0, 0, 0, 0, 0, 0, 0, 0, 0, 0, 0, 0, 0, 0, 0, 0, 0, 0, 0, 0, 0, 0, 0, 0, 0, 0, 0, 0, 0, 0, 0, 0, 0, 0, 0, 0, 0, 0, 0, 0, 0, 0, 0, 0, 0, 0, 0, 0, 0, 0, 0, 0, 0, 0, 0, 0, 0, 0, 0, 0, 0, 0, 0, 0, 0, 0, 0, 0, 0, 0, 0, 0, 0, 0, 0, 0, 0, 0, 0, 0, 0, 0, 0, 0, 0, 0, 0, 0, 0, 0, 0, 0, 0, 0, 0, 0, 0, 0, 0, 0, 0, 0, 0, 0, 0, 0, 0, 0, 0, 0, 0, 0, 0, 0, 0, 0, 0, 0, 0, 0, 0, 0, 0, 0, 0, 0, 0, 0, 0, 0, 0, 0, 0, 0, 0, 0, 0, 0, 0, 0, 0, 0, 0, 0, 0, 0, 0, 0, 0, 0, 0, 0, 0, 0, 0, 0, 0, 0, 0, 0, 0, 0, 0, 0, 0, 0, 0, 0, 0, 0, 0, 0, 0, 0, 0, 0, 0, 0, 0, 0, 0, 0, 0, 0, 0, 0, 0, 0, 0, 0, 0, 0, 0, 0, 0, 0, 0, 0, 0, 0, 0, 0, 0, 0, 0, 0, 0, 0, 0, 0, 0, 0, 0, 0, 0, 0, 0, 0, 0, 0, 0, 0, 0, 0, 0, 0, 0, 0, 0, 0, 0, 0, 0, 0, 0, 0, 0, 0, 0, 0, 0, 0, 0, 0, 0, 0, 0, 0, 0, 0, 0, 0, 0, 0, 0, 0, 0, 0, 0, 0, 0, 0, 0, 0, 0, 0, 0, 0, 0, 0, 0, 0, 0, 0, 0, 0, 0, 0, 0, 0, 0, 0, 0, 0, 0, 0, 0, 0, 0, 0, 0, 0, 0, 0, 0, 0, 0, 0, 0, 0, 0, 0, 0, 0, 0, 0, 0, 0, 0, 0, 0, 0, 0, 0, 0, 0, 0, 0, 0, 0, 0, 0, 0, 0, 0, 0, 0, 0, 0, 0, 0, 0, 0, 0, 0, 0, 0, 0, 0, 0, 0, 0, 0, 0, 0, 0, 0, 0, 0, 0, 0, 0, 0, 0, 0, 0, 0, 0, 0, 0, 0, 0, 0, 0, 0, 0, 0, 0, 0, 0, 0, 0, 0, 0, 0, 0, 0, 0, 0, 0, 0, 0, 0, 0, 0, 0, 0, 0, 0, 0, 0, 0, 0, 0, 0, 0, 0, 0, 0, 0, 0, 0, 0, 0, 0, 0, 0, 0, 0, 0, 0, 0, 0, 0, 0, 0, 0, 0, 0, 0, 0, 0, 0, 0, 0, 0, 0, 0, 0, 0, 0, 0, 0, 0, 0, 0, 0, 0, 0, 0, 0, 0, 0, 0, 0, 0, 0, 0, 0, 0, 0, 0, 0, 0, 0, 0, 0, 0, 0, 0, 0, 0, 0, 0, 0, 0, 0, 0, 0, 0, 0, 0, 0, 0, 0, 0, 0, 0, 0, 0, 0, 0, 0, 0, 0, 0, 0, 0, 0, 0, 0, 0, 0, 0, 0, 0, 0, 0, 0, 0, 0, 0, 0, 0, 0, 0, 0, 0, 0, 0, 0, 0, 0, 0, 0, 0, 0, 0, 0, 0, 0, 0, 0, 0, 0, 0, 0, 0, 0, 0, 0, 0, 0, 0, 0, 0, 0, 0, 0, 0, 0, 0, 0, 0, 0, 0, 0, 0, 0, 0, 0, 0, 0, 0, 0, 0, 0, 0, 0, 1, 0, 0, 0, 0, 0, 0, 0, 0, 0, 0, 0, 0, 0, 0, 0, 0, 0, 0, 0, 0, 0, 0, 0, 0, 0, 0, 0, 0, 0, 0, 0, 0, 0, 0, 0, 0, 0, 0, 0, 0, 0, 0, 0, 0, 0, 0, 0, 0, 0, 0, 0, 0, 0, 0, 0, 0, 0, 0, 0, 0, 0, 0, 0, 0, 0, 0, 0, 0, 0, 0, 0, 0, 0, 0, 0, 0, 0, 0, 0, 0, 0, 0, 0, 0, 0, 0, 0, 0, 0, 0, 0, 0, 0, 0, 0, 0, 0, 0, 0, 0, 0, 0, 0, 0, 0, 0, 0, 1, 0, 0, 0, 0, 0, 0, 0, 0, 0, 0, 0, 0, 0, 0, 0, 0, 0, 0, 0, 0, 0, 0, 0, 0, 0, 0, 0, 0, 0, 0, 0, 0, 0, 0, 0, 0, 0, 0, 0, 0, 0, 0, 0, 0, 0, 0, 0, 0, 0, 0, 0, 0, 0, 0, 0, 0, 0, 0, 0, 0, 0, 0, 0, 0, 0, 0, 0, 0, 0, 0, 0, 0, 0, 0, 0, 0, 0, 0, 0, 0, 0, 0, 0, 0, 0, 0, 0, 0, 0, 0, 0, 0, 0, 0, 0, 0, 0, 0, 0, 0, 0, 0, 0, 0, 0, 0, 0, 0, 0, 0, 0, 0, 0, 0, 0, 0, 0, 0, 0, 0, 0, 0, 0, 0, 0, 0, 0, 0, 0, 0, 0, 0, 0, 0, 0, 0, 0, 0, 0, 0, 0, 0, 0, 0, 0, 0, 0, 0, 0, 0, 0, 0, 0, 0, 0, 0, 0, 0, 0, 0, 0, 0, 0, 0, 0, 0, 0, 0, 0, 0, 0, 0, 0, 0, 0, 0, 0, 0, 0, 0, 0, 0, 0, 0, 0, 0, 0, 0, 0, 0, 0, 0, 0, 0, 0, 0, 0, 0, 0, 0, 0, 0, 0, 0, 0, 0, 0, 0, 0, 0, 0, 0, 0, 0, 0, 0, 0, 0, 0, 0, 0, 0, 0, 0, 0, 0, 0, 0, 0, 0, 0, 0, 0, 0, 0, 0, 0, 0, 0, 0, 0, 0, 0, 0, 0, 0, 0, 0, 0, 0, 0, 0, 0, 0, 0, 0, 0, 0, 0, 0, 0, 0, 0, 0, 0, 0, 0, 0, 0, 0, 0, 0, 0, 0, 0, 0, 0, 0, 0, 0, 0, 0, 0, 0, 0, 0, 0, 0, 0, 0, 0, 0, 0, 0, 0, 0, 0, 0, 0, 0, 0, 0, 0, 0, 0, 0, 0, 0, 0, 0, 0, 0, 0, 0, 0, 0, 0, 0, 0, 0, 0, 0, 0, 0, 0, 0, 0, 0, 0, 0, 0, 0, 0, 0, 0, 0, 0, 0, 0, 0, 0, 0, 0, 0, 0, 0, 0, 0, 0, 0, 0, 0, 0, 0, 0, 0, 0, 0, 0, 0, 0, 0, 0, 0, 0, 0, 0, 0, 0, 0, 0, 0, 0, 0, 0, 0, 0, 0, 0, 0, 0, 0, 0, 0, 0, 0, 0, 0, 0, 0, 0, 0, 0, 0, 0, 0, 0, 0, 0, 0, 0, 0, 0, 0, 0, 0, 0, 0, 0, 0, 0, 0, 0, 0, 0, 0, 0, 0, 0, 0, 0, 0, 0, 0, 0, 0, 0, 0, 0, 0, 0, 0, 0, 0, 0, 0, 0, 0, 0, 0, 0, 0, 0, 0, 0, 0, 0, 0, 0, 0, 0, 0, 0, 0, 0, 0, 0, 0, 0, 0, 0, 0, 0, 2, 0, 1, 0], type: <class 'list'>, valid types: <class 'bytes'>, <class 'bytearray'>, file-like object"
     ]
    }
   ],
   "source": [
    "response = runtime.invoke_endpoint(EndpointName = xgb_predictor.endpoint, # The name of the endpoint we created\n",
    "                                       ContentType = 'text/csv',                     # The data format that is expected\n",
    "                                       Body = test_bow)"
   ]
  },
  {
   "cell_type": "markdown",
   "metadata": {},
   "source": [
    "So why did we get an error?\n",
    "\n",
    "Because we tried to send the endpoint a list of integers but it expected us to send data of type `text/csv`. So, we need to convert it."
   ]
  },
  {
   "cell_type": "code",
   "execution_count": 47,
   "metadata": {},
   "outputs": [],
   "source": [
    "response = runtime.invoke_endpoint(EndpointName = xgb_predictor.endpoint, # The name of the endpoint we created\n",
    "                                       ContentType = 'text/csv',                     # The data format that is expected\n",
    "                                       Body = ','.join([str(val) for val in test_bow]).encode('utf-8'))"
   ]
  },
  {
   "cell_type": "code",
   "execution_count": 48,
   "metadata": {},
   "outputs": [
    {
     "name": "stdout",
     "output_type": "stream",
     "text": [
      "{'ResponseMetadata': {'RequestId': 'b9815b74-355e-4bff-9484-e1815dce73e7', 'HTTPStatusCode': 200, 'HTTPHeaders': {'x-amzn-requestid': 'b9815b74-355e-4bff-9484-e1815dce73e7', 'x-amzn-invoked-production-variant': 'AllTraffic', 'date': 'Thu, 7 Jan 2021 16:52:37 GMT', 'content-type': 'text/csv; charset=utf-8', 'content-length': '14'}, 'RetryAttempts': 0}, 'ContentType': 'text/csv; charset=utf-8', 'InvokedProductionVariant': 'AllTraffic', 'Body': <botocore.response.StreamingBody object at 0x7f726e1fae48>}\n"
     ]
    }
   ],
   "source": [
    "print(response)"
   ]
  },
  {
   "cell_type": "markdown",
   "metadata": {},
   "source": [
    "As we can see, the response from our model is a somewhat complicated looking dict that contains a bunch of information. The bit that we are most interested in is `'Body'` object which is a streaming object that we need to `read` in order to make use of."
   ]
  },
  {
   "cell_type": "code",
   "execution_count": 49,
   "metadata": {},
   "outputs": [
    {
     "name": "stdout",
     "output_type": "stream",
     "text": [
      "0.434711813927\n"
     ]
    }
   ],
   "source": [
    "response = response['Body'].read().decode('utf-8')\n",
    "print(response)"
   ]
  },
  {
   "cell_type": "markdown",
   "metadata": {},
   "source": [
    "Now that we know how to process the incoming user data we can start setting up the infrastructure to make our simple web app work. To do this we will make use of two different services. Amazon's Lambda and API Gateway services.\n",
    "\n",
    "Lambda is a service which allows someone to write some relatively simple code and have it executed whenever a chosen trigger occurs. For example, you may want to update a database whenever new data is uploaded to a folder stored on S3.\n",
    "\n",
    "API Gateway is a service that allows you to create HTTP endpoints (url addresses) which are connected to other AWS services. One of the benefits to this is that you get to decide what credentials, if any, are required to access these endpoints.\n",
    "\n",
    "In our case we are going to set up an HTTP endpoint through API Gateway which is open to the public. Then, whenever anyone sends data to our public endpoint we will trigger a Lambda function which will send the input (in our case a review) to our model's endpoint and then return the result."
   ]
  },
  {
   "cell_type": "markdown",
   "metadata": {},
   "source": [
    "### Setting up a Lambda function\n",
    "\n",
    "The first thing we are going to do is set up a Lambda function. This Lambda function will be executed whenever our public API has data sent to it. When it is executed it will receive the data, perform any sort of processing that is required, send the data (the review) to the SageMaker endpoint we've created and then return the result.\n",
    "\n",
    "#### Part A: Create an IAM Role for the Lambda function\n",
    "\n",
    "Since we want the Lambda function to call a SageMaker endpoint, we need to make sure that it has permission to do so. To do this, we will construct a role that we can later give the Lambda function.\n",
    "\n",
    "Using the AWS Console, navigate to the **IAM** page and click on **Roles**. Then, click on **Create role**. Make sure that the **AWS service** is the type of trusted entity selected and choose **Lambda** as the service that will use this role, then click **Next: Permissions**.\n",
    "\n",
    "In the search box type `sagemaker` and select the check box next to the **AmazonSageMakerFullAccess** policy. Then, click on **Next: Review**.\n",
    "\n",
    "Lastly, give this role a name. Make sure you use a name that you will remember later on, for example `LambdaSageMakerRole`. Then, click on **Create role**."
   ]
  },
  {
   "cell_type": "markdown",
   "metadata": {},
   "source": [
    "#### Part B: Create a Lambda function\n",
    "\n",
    "Now it is time to actually create the Lambda function. Remember from earlier that in order to process the user provided input and send it to our endpoint we need to gather two pieces of information:\n",
    "\n",
    " - The name of the endpoint, and\n",
    " - the vocabulary object.\n",
    "\n",
    "We will copy these pieces of information to our Lambda function after we create it.\n",
    "\n",
    "To start, using the AWS Console, navigate to the AWS Lambda page and click on **Create a function**. When you get to the next page, make sure that **Author from scratch** is selected. Now, name your Lambda function, using a name that you will remember later on, for example `sentiment_analysis_xgboost_func`. Make sure that the **Python 3.6** runtime is selected and then choose the role that you created in the previous part. Then, click on **Create Function**.\n",
    "\n",
    "On the next page you will see some information about the Lambda function you've just created. If you scroll down you should see an editor in which you can write the code that will be executed when your Lambda function is triggered. Collecting the code we wrote above to process a single review and adding it to the provided example `lambda_handler` we arrive at the following.\n",
    "\n",
    "```python\n",
    "# We need to use the low-level library to interact with SageMaker since the SageMaker API\n",
    "# is not available natively through Lambda.\n",
    "import boto3\n",
    "\n",
    "# And we need the regular expression library to do some of the data processing\n",
    "import re\n",
    "\n",
    "REPLACE_NO_SPACE = re.compile(\"(\\.)|(\\;)|(\\:)|(\\!)|(\\')|(\\?)|(\\,)|(\\\")|(\\()|(\\))|(\\[)|(\\])\")\n",
    "REPLACE_WITH_SPACE = re.compile(\"(<br\\s*/><br\\s*/>)|(\\-)|(\\/)\")\n",
    "\n",
    "def review_to_words(review):\n",
    "    words = REPLACE_NO_SPACE.sub(\"\", review.lower())\n",
    "    words = REPLACE_WITH_SPACE.sub(\" \", words)\n",
    "    return words\n",
    "    \n",
    "def bow_encoding(words, vocabulary):\n",
    "    bow = [0] * len(vocabulary) # Start by setting the count for each word in the vocabulary to zero.\n",
    "    for word in words.split():  # For each word in the string\n",
    "        if word in vocabulary:  # If the word is one that occurs in the vocabulary, increase its count.\n",
    "            bow[vocabulary[word]] += 1\n",
    "    return bow\n",
    "\n",
    "\n",
    "def lambda_handler(event, context):\n",
    "    \n",
    "    vocab = \"*** ACTUAL VOCABULARY GOES HERE ***\"\n",
    "    \n",
    "    words = review_to_words(event['body'])\n",
    "    bow = bow_encoding(words, vocab)\n",
    "\n",
    "    # The SageMaker runtime is what allows us to invoke the endpoint that we've created.\n",
    "    runtime = boto3.Session().client('sagemaker-runtime')\n",
    "\n",
    "    # Now we use the SageMaker runtime to invoke our endpoint, sending the review we were given\n",
    "    response = runtime.invoke_endpoint(EndpointName = '***ENDPOINT NAME HERE***',# The name of the endpoint we created\n",
    "                                       ContentType = 'text/csv',                 # The data format that is expected\n",
    "                                       Body = ','.join([str(val) for val in bow]).encode('utf-8')) # The actual review\n",
    "\n",
    "    # The response is an HTTP response whose body contains the result of our inference\n",
    "    result = response['Body'].read().decode('utf-8')\n",
    "    \n",
    "    # Round the result so that our web app only gets '1' or '0' as a response.\n",
    "    result = round(float(result))\n",
    "\n",
    "    return {\n",
    "        'statusCode' : 200,\n",
    "        'headers' : { 'Content-Type' : 'text/plain', 'Access-Control-Allow-Origin' : '*' },\n",
    "        'body' : str(result)\n",
    "    }\n",
    "```"
   ]
  },
  {
   "cell_type": "markdown",
   "metadata": {},
   "source": [
    "Once you have copy and pasted the code above into the Lambda code editor, replace the `**ENDPOINT NAME HERE**` portion with the name of the endpoint that we deployed earlier. You can determine the name of the endpoint using the code cell below."
   ]
  },
  {
   "cell_type": "code",
   "execution_count": 50,
   "metadata": {},
   "outputs": [
    {
     "data": {
      "text/plain": [
       "'xgboost-2021-01-07-16-19-53-946'"
      ]
     },
     "execution_count": 50,
     "metadata": {},
     "output_type": "execute_result"
    }
   ],
   "source": [
    "xgb_predictor.endpoint"
   ]
  },
  {
   "cell_type": "markdown",
   "metadata": {},
   "source": [
    "In addition, you will need to copy the vocabulary dict to the appropriate place in the code at the beginning of the `lambda_handler` method. The cell below prints out the vocabulary dict in a way that is easy to copy and paste."
   ]
  },
  {
   "cell_type": "code",
   "execution_count": 51,
   "metadata": {},
   "outputs": [
    {
     "name": "stdout",
     "output_type": "stream",
     "text": [
      "{'the': 4426, 'lead': 2545, 'characters': 760, 'in': 2257, 'this': 4457, 'movie': 2926, 'fall': 1637, 'into': 2332, 'two': 4620, 'smart': 4035, 'and': 226, 'stupid': 4247, 'simple': 3983, 'enough': 1491, 'plays': 3301, 'guy': 2000, 'who': 4871, 'gets': 1900, 'arrested': 298, 'for': 1784, 'crime': 1055, 'he': 2056, 'did': 1241, 'not': 3040, 'commit': 904, 'when': 4862, 'tries': 4585, 'to': 4507, 'get': 1899, 'by': 642, 'his': 2118, 'evil': 1548, 'former': 1800, 'boss': 546, 'situation': 4008, 'out': 3141, 'of': 3083, 'control': 977, 'while': 4868, 'is': 2360, 'genuinely': 1892, 'but': 636, 'buddy': 609, 'an': 223, 'absolute': 71, 'idiot': 2218, 'everything': 1544, 'manages': 2725, 'say': 3799, 'do': 1302, 'wrong': 4973, 'thing': 4450, 'every': 1539, 'time': 4495, 'without': 4913, 'might': 2835, 'stand': 4143, 'chance': 747, 'going': 1931, 'through': 4477, 'life': 2592, 'with': 4911, 'some': 4061, 'degree': 1164, 'success': 4265, 'will': 4886, 'never': 3001, 'be': 418, 'boring': 543, 'it': 2366, 'sure': 4308, 'wont': 4932, 'lot': 2661, 'genius': 1887, 'type': 4621, 'hitler': 2124, 'try': 4600, 'kill': 2468, 'keep': 2449, 'secrets': 3852, 'safe': 3771, 'am': 204, 'very': 4723, 'impressed': 2251, 'high': 2100, 'quality': 3484, 'imagination': 2236, 'films': 1721, 'relatively': 3600, 'small': 4033, 'country': 1014, 'certainly': 738, 'has': 2043, 'produced': 3414, 'more': 2904, 'than': 4420, 'its': 2370, 'share': 3920, 'superb': 4296, 'entertainment': 1500, 'best': 469, 'movies': 2927, 'have': 2052, 'seen': 3865, 'are': 285, 'dark': 1115, 'blue': 518, 'world': 4946, 'if': 2222, 'you': 4986, 'see': 3855, 'these': 4441, 'cinema': 816, 'ok': 3098, 'maybe': 2776, '13': 4, 'year': 4978, 'old': 3100, 'like': 2599, 'me': 2778, 'was': 4805, 'little': 2624, 'about': 67, 'rat': 3525, 'lives': 2628, 'then': 4436, 'him': 2110, 'down': 1335, 'toilet': 4512, 'ends': 1474, 'up': 4683, 'city': 825, 'meets': 2795, 'girl': 1909, 'gem': 1877, 'greedy': 1969, 'wants': 4791, 'anything': 260, 'sends': 3876, 'whole': 4873, 'army': 295, 'after': 143, 'plans': 3292, 'take': 4349, 'cool': 989, 'part': 3193, 'they': 4442, 'all': 187, 'sound': 4081, 'effects': 1431, 'sing': 3992, 'make': 2713, 'awesome': 371, 'also': 199, 'pretty': 3384, 'funny': 1852, 'bottom': 551, 'line': 2610, 'aimed': 162, 'at': 331, 'other': 3135, 'wise': 4903, 'great': 1964, 'younger': 4990, 'family': 1645, 'member': 2800, 'didnt': 1242, 'think': 4452, 'animation': 242, 'real': 3547, 'art': 304, 'though': 4461, 'wallace': 4782, 'on': 3105, 'that': 4424, 'just': 2437, 'decent': 1147, 'worth': 4953, 'spending': 4106, 'sorry': 4076, 'parker': 3191, 'screens': 3832, 'most': 2909, 'unbelievable': 4634, 'couple': 1016, 'since': 3990, 'john': 2409, 'lily': 2605, 'larry': 2520, 'direction': 1261, 'between': 475, 'black': 493, 'farce': 1654, 'roman': 3731, 'tragedy': 4551, 'robert': 3713, 'self': 3869, 'centered': 733, 'performance': 3228, 'minor': 2857, 'role': 3726, 'total': 4531, 'lack': 2502, 'balance': 387, 'chemistry': 782, 'players': 3299, 'film': 1716, 'normally': 3034, 'dont': 1324, 'let': 2579, 'myself': 2953, 'so': 4046, 'bell': 458, 'one': 3107, 'my': 2951, 'favorite': 1671, 'books': 536, 'watch': 4811, 'what': 4858, 'makes': 2716, 'literally': 2622, 'crazy': 1035, 'ive': 2372, 'ever': 1538, 'been': 438, 'over': 3148, 'sheer': 3925, 'entire': 1502, 'as': 311, 'walked': 4776, 'piece': 3272, 'crap': 1031, 'nothing': 3047, 'any': 256, 'sense': 3877, 'none': 3028, 'clever': 841, 'or': 3124, 'well': 4843, 'thought': 4462, 'truly': 4597, 'suspenseful': 4331, 'moments': 2887, 'repeatedly': 3632, 'use': 4692, 'cop': 991, 'trick': 4582, 'where': 4864, 'build': 614, 'music': 2946, 'before': 440, 'character': 758, 'does': 1308, 'something': 4066, 'open': 3112, 'door': 1328, 'push': 3477, 'aside': 315, 'there': 4438, 'thats': 4425, 'once': 3106, 'three': 4469, 'times': 4497, 'things': 4451, 'thrown': 4481, 'no': 3020, 'apparent': 269, 'reason': 3557, 'half': 2007, 'story': 4207, 'lines': 2612, 'werent': 4849, 'developed': 1223, 'ending': 1471, 'bad': 382, 'terrible': 4407, 'im': 2232, 'here': 2086, 'warn': 4797, 'level': 2584, 'drama': 1346, 'romance': 3732, 'comedy': 890, 'action': 100, 'even': 1533, 'sports': 4130, 'la': 2500, 'al': 170, 'banned': 395, 'because': 432, 'content': 966, 'nudity': 3059, 'full': 1846, 'female': 1693, 'kind': 2476, 'saw': 3798, 'felt': 1692, 'fool': 1779, 'nude': 3058, 'actress': 105, 'horror': 2168, 'awful': 372, 'colors': 879, 'dear': 1140, 'friend': 1835, 'wanna': 4786, 'stay': 4166, 'away': 369, 'form': 1798, 'we': 4823, 'actors': 104, 'won': 4925, 'global': 1920, 'wins': 4899, 'sheriff': 3929, 'directors': 1266, 'believe': 454, 'need': 2987, 'finest': 1730, 'pieces': 3273, 'television': 4394, 'last': 2521, 'decade': 1144, 'throughout': 4478, 'five': 1743, 'hours': 2177, 'ones': 3108, 'constantly': 958, 'many': 2732, 'modern': 2882, 'day': 1129, 'british': 589, 'society': 4050, 'david': 1124, 'usual': 4699, 'brilliant': 583, 'first': 1736, 'coming': 896, 'across': 96, 'heavy': 2070, 'handed': 2016, 'conflict': 939, 'heroine': 2091, 'intelligent': 2314, 'caring': 691, 'works': 4945, 'her': 2085, 'truth': 4599, 'jones': 2418, 'she': 3923, 'comes': 891, 'from': 1840, 'magnificent': 2705, 'humour': 2194, 'whilst': 4869, 'trying': 4601, 'demands': 1175, 'case': 707, 'stress': 4220, 'mother': 2911, 'could': 1007, 'go': 1924, 'talk': 4358, 'cast': 710, 'their': 4431, 'efforts': 1433, 'would': 4957, 'mean': 2779, 'such': 4268, 'script': 3834, 'your': 4991, 'faith': 1633, 'same': 3778, 'making': 2718, 'almost': 193, 'impossible': 2249, 'settle': 3902, 'garbage': 1870, 'increasingly': 2268, 'attempt': 340, 'young': 4989, 'tap': 4364, 'least': 2554, 'good': 1937, 'really': 3556, 'sad': 3767, 'hollywood': 2137, 'worst': 4952, 'bunch': 623, 'producers': 3416, 'create': 1036, 'show': 3953, 'kids': 2467, 'can': 665, 'oh': 3096, 'please': 3304, 'humor': 2192, 'hate': 2046, 'stuff': 4243, 'incredibly': 2270, 'talented': 4355, 'artists': 309, 'along': 195, 'help': 2079, 'why': 4878, 'wasnt': 4807, 'gene': 1879, 'simmons': 3981, 'taste': 4369, 'off': 3084, 'own': 3158, 'personal': 3240, 'feelings': 1686, 'way': 4820, 'start': 4156, 'saying': 3800, 'called': 652, 'comedies': 889, 'single': 3996, 'written': 4972, 'played': 3297, 'being': 448, 'theyre': 4445, 'result': 3660, 'now': 3054, 'american': 213, 'pie': 3271, 'amazing': 209, 'id': 2212, 'were': 4848, 'right': 3696, 'masterpieces': 2760, 'compared': 912, 'presents': 3377, 'still': 4188, 'feel': 1684, 'compelled': 915, 'ask': 316, 'hell': 2077, 'thinking': 4453, 'made': 2697, 'few': 1700, 'questions': 3489, 'too': 4522, 'acceptable': 81, 'studio': 4240, 'production': 3419, 'resources': 3651, 'final': 1722, 'person': 3238, 'smoking': 4040, 'anyone': 259, 'deserved': 1200, 'released': 3603, 'theaters': 4428, 'average': 362, 'cost': 1003, '10': 0, '15': 7, 'dollars': 1315, 'live': 2625, 'should': 3951, 'gone': 1935, 'straight': 4210, 'bin': 483, 'blockbuster': 509, 'much': 2934, 'cant': 671, 'write': 4967, 'review': 3676, 'allowed': 190, 'words': 4938, 'ill': 2228, 'touch': 4533, 'biggest': 480, 'plot': 3309, 'generic': 1885, 'uninspired': 4657, 'interesting': 2325, 'watching': 4815, 'paint': 3173, 'dry': 1377, 'minutes': 2859, 'acting': 99, 'probably': 3407, 'forgotten': 1797, 'years': 4979, 'only': 3110, 'big': 478, 'name': 2960, 'spends': 4107, 'screen': 3829, 'knowing': 2490, 'face': 1616, 'says': 3801, 'viewer': 4738, 'know': 2489, 'isnt': 2362, 'wasting': 4810, 'talents': 4356, 'hey': 2095, 'getting': 1901, 'cares': 690, 'doesnt': 1309, 'jokes': 2415, 'deserves': 1201, 'better': 472, 'mentioned': 2811, 'above': 68, 'rest': 3657, 'horrible': 2163, 'them': 4432, 'tv': 4610, 'shows': 3960, 'savage': 3793, 'classic': 835, 'canadian': 667, 'series': 3890, 'wind': 4893, 'back': 378, 'unbearable': 4633, 'irritating': 2359, 'teach': 4374, 'skin': 4015, 'wish': 4904, 'hed': 2072, 'die': 1243, 'slow': 4031, 'painful': 3171, 'death': 1141, 'christopher': 811, 'law': 2538, 'order': 3126, 'around': 297, 'talent': 4354, 'next': 3007, 'soft': 4051, 'core': 995, 'porn': 3336, 'rating': 3529, 'goes': 1930, 'pointless': 3318, 'sexual': 3908, 'gotten': 1947, 'ratings': 3530, 'board': 522, 'must': 2950, 'drunk': 1375, 'drugs': 1374, 'twenty': 4612, 'ago': 154, 'wes': 4851, 'craven': 1034, 'nightmare': 3014, 'elm': 1447, 'street': 4216, 'forced': 1787, 'cut': 1089, 'seconds': 3848, 'footage': 1782, 'scene': 3809, 'had': 2003, 'casting': 711, 'avoid': 363, 'choice': 797, 'wouldnt': 4958, 'offensive': 3086, 'trash': 4565, 'today': 4508, 'done': 1322, 'huge': 2185, 'writing': 4971, 'play': 3296, 'wet': 4855, 'dream': 1354, 'twelve': 4611, 'kid': 2464, 'extremely': 1610, 'quite': 3495, 'juvenile': 2441, 'nearly': 2981, 'supposed': 4306, 'move': 2921, 'corpse': 999, 'calls': 654, 'mile': 2842, 'stereotypes': 4179, 'mind': 2849, 'often': 3095, 'references': 3583, 'constant': 957, 'unnecessary': 4672, 'scenes': 3811, 'behavior': 446, 'feels': 1687, 'incompetent': 2266, 'low': 2676, 'rent': 3626, 'school': 3813, 'class': 833, 'long': 2644, 'short': 3946, 'filled': 1715, 'road': 3709, 'fairly': 1631, 'budget': 610, 'hope': 2155, 'which': 4867, 'somewhat': 4068, 'hurts': 2203, 'believable': 453, 'torn': 4528, 'apart': 264, 'son': 4070, 'whos': 4876, 'searching': 3842, 'himself': 2111, 'white': 4870, 'moment': 2886, 'potential': 3355, 'ruined': 3751, 'excessive': 1560, 'melodrama': 2797, 'sub': 4252, 'plots': 3310, 'obvious': 3071, 'sign': 3970, 'needed': 2988, 'recommend': 3571, 'either': 1438, 'hard': 2033, 'fan': 1648, 'absolutely': 72, 'possibly': 3351, 'unwatchable': 4682, 'said': 3774, 'add': 115, 'close': 853, 'takes': 4351, 'place': 3282, 'loosely': 2651, 'based': 404, 'word': 4937, 'spoken': 4126, 'strikes': 4225, 'hear': 2061, 'god': 1926, 'doomed': 1327, 'eventually': 1537, 'bit': 488, 'work': 4940, 'release': 3602, 'means': 2783, 'accept': 80, 'otherwise': 3137, 'silent': 3975, 'stage': 4139, 'arent': 288, 'problems': 3409, 'major': 2711, 'flaw': 1749, 'pacing': 3163, 'however': 2183, 'dialog': 1232, 'delivered': 1170, 'realistic': 3550, 'speed': 4103, 'running': 3756, 'intended': 2315, 'effect': 1428, 'new': 3003, 'medium': 2792, 'tiresome': 4502, 'structure': 4233, 'illogical': 2231, 'inept': 2281, 'found': 1811, 'certain': 737, 'details': 1219, 'editing': 1421, 'technique': 4383, 'fine': 1729, 'cuts': 1091, 'area': 286, 'ship': 3934, 'another': 250, 'sometimes': 4067, 'although': 201, 'shot': 3949, 'discovered': 1280, 'fact': 1621, 'musical': 2947, 'ships': 3935, 'dance': 1103, 'entertaining': 1499, 'easy': 1410, 'stories': 4205, 'presented': 3376, 'utterly': 4702, 'unconvincing': 4638, 'tiny': 4500, 'damage': 1099, 'clearly': 840, 'staged': 4140, 'presumably': 3380, 'tied': 4489, 'excitement': 1562, 'glorious': 1921, 'miss': 2866, 'sequences': 3888, 'points': 3319, 'near': 2979, 'end': 1468, 'totally': 4532, 'several': 3905, 'power': 3359, 'begin': 442, 'fail': 1625, 'clumsy': 866, 'curiosity': 1082, 'study': 4242, 'wealth': 4826, 'southern': 4088, 'depicted': 1183, 'plane': 3288, 'always': 203, 'finished': 1733, 'college': 875, 'got': 1944, 'wealthy': 4827, 'home': 2142, 'oil': 3097, 'town': 4541, 'dreams': 1355, 'nicely': 3009, 'bacall': 377, 'brings': 587, 'father': 1666, 'how': 2181, 'difficult': 1249, 'gun': 1996, 'under': 4639, 'sister': 4001, 'mary': 2751, 'lee': 2559, 'dorothy': 1330, 'supporting': 4304, 'rock': 3720, 'hudson': 2184, 'faithful': 1634, 'bride': 577, 'told': 4513, 'doctor': 1304, 'children': 792, 'wife': 4884, 'reveals': 3673, 'indeed': 2271, 'pregnant': 3369, 'child': 789, 'drunken': 1376, 'accidentally': 85, 'dead': 1132, 'memorable': 2802, 'loved': 2670, 'pulled': 3462, 'stops': 4203, 'finally': 1724, 'unfortunate': 4653, 'accident': 84, 'oscar': 3133, 'surprisingly': 4316, 'nominated': 3025, 'actor': 103, 'lost': 2660, 'upset': 4687, 'anthony': 253, 'paul': 3214, 'lust': 2689, 'douglas': 1334, 'master': 2757, 'soap': 4047, 'opera': 3116, '1950s': 14, 'exception': 1557, 'edgar': 1417, 'allen': 188, 'pan': 3180, 'psycho': 3457, 'thriller': 4472, 'genre': 1888, 'special': 4097, 'heart': 2064, 'twisted': 4618, 'amazingly': 210, 'hatred': 2049, 'minute': 2858, 'draw': 1349, 'mainstream': 2709, 'hits': 2125, 'silence': 3974, 'cult': 1077, 'classics': 837, 'darkness': 1117, 'tale': 4353, 'drawing': 1350, 'both': 547, 'bible': 477, 'substance': 4258, 'independent': 2272, 'dying': 1393, 'love': 2669, 'check': 777, 'burning': 627, 'bring': 585, 'walk': 4775, 'again': 146, 'granted': 1957, 'theres': 4440, 'spite': 4117, 'week': 4837, 'screenplay': 3831, 'numbers': 3061, 'side': 3965, 'commentary': 899, 'beauty': 430, 'primarily': 3393, 'amongst': 218, 'whats': 4860, 'field': 1704, 'eye': 1611, 'themes': 4434, 'construction': 960, 'surface': 4310, 'deep': 1154, 'beneath': 464, 'those': 4460, 'artistic': 308, 'reviewers': 3678, 'seem': 3861, 'powerful': 3360, 'semi': 3874, 'bodies': 526, 'simply': 3986, 'display': 1291, 'kicking': 2462, 'football': 1783, 'job': 2405, 'strength': 4219, 'whose': 4877, 'look': 2646, 'kick': 2460, 'butt': 638, 'later': 2525, 'working': 4944, 'movement': 2923, 'book': 535, 'gorgeous': 1942, 'creatures': 1046, 'captured': 677, 'lay': 2542, 'claim': 828, 'honesty': 2148, 'un': 4630, 'intelligence': 2313, 'compelling': 916, 'women': 4923, 'enjoy': 1484, 'feeling': 1685, 'devil': 1228, 'relationships': 3598, 'sweet': 4336, 'valley': 4707, 'friends': 1837, 'sisters': 4002, 'perhaps': 3235, 'reduced': 3579, 'homosexual': 2145, 'suggest': 4280, 'nature': 2975, 'pleasure': 3306, 'ultimately': 4628, 'mystery': 2956, 'yes': 4982, 'mention': 2810, 'hilarious': 2106, 'original': 3129, 'rich': 3685, 'leaves': 2556, 'estate': 1525, 'adult': 125, 'losers': 2656, 'creepy': 1052, 'provided': 3449, 'spend': 4105, 'spooky': 4128, 'house': 2178, 'happens': 2029, 'night': 3013, 'surprise': 4312, 'havent': 2053, 'string': 4227, 'murders': 2943, 'victims': 4730, 'restaurant': 3658, 'painfully': 3172, 'twist': 4617, 'desperate': 1208, 'second': 3846, 'rising': 3703, 'episode': 1507, 'give': 1912, 'credit': 1049, 'due': 1382, 'closing': 859, 'amusing': 221, 'youre': 4992, 'awake': 365, 'okay': 3099, 'damn': 1100, 'receives': 3565, 'camera': 659, 'splendid': 4119, 'yet': 4984, 'atmosphere': 333, 'fantastic': 1651, 'costumes': 1006, 'guest': 1992, 'strong': 4229, 'left': 2561, 'change': 749, 'sex': 3907, 'purpose': 3474, 'aliens': 184, 'shown': 3959, 'giving': 1915, 'stars': 4155, 'favorites': 1672, 'holes': 2133, 'bother': 548, 'gonna': 1936, 'ruin': 3750, 'room': 3735, 'zero': 4996, 'elephant': 1444, 'inspired': 2301, 'recent': 3566, 'wave': 4818, 'unlike': 4670, 'focuses': 1768, 'survivors': 4325, 'killed': 2469, 'shooting': 3943, 'less': 2575, 'useful': 4694, 'effort': 1432, 'wasted': 4809, 'asking': 318, 'answers': 252, 'during': 1387, '20': 29, 'set': 3898, 'hill': 2108, 'blues': 519, 'lame': 2510, 'bear': 420, 'length': 2569, 'feature': 1678, 'entirely': 1503, 'jumping': 2431, 'ahead': 159, 'hospital': 2172, 'pick': 3265, 'man': 2721, 'ryan': 3765, 'writer': 4968, 'director': 1264, 'guarantee': 1987, 'usually': 4700, 'execution': 1566, 'lacking': 2504, 'dramatic': 1348, 'features': 1680, 'executed': 1565, 'vision': 4754, 'onto': 3111, 'limits': 2607, 'viewers': 4739, 'runs': 3757, 'edge': 1418, 'against': 147, 'logic': 2638, 'crying': 1074, 'instead': 2307, 'combination': 883, 'audience': 352, 'journey': 2421, 'song': 4071, 'sarah': 3785, 'busy': 635, 'main': 2707, 'protagonists': 3442, 'standard': 4144, 'teen': 4388, 'daughter': 1121, 'intensity': 2317, 'roles': 3727, 'girls': 1911, 'interest': 2323, 'happening': 2028, 'despite': 1211, 'police': 3322, 'detective': 1220, 'wondering': 4930, 'tie': 4488, 'lone': 2642, 're': 3535, 'helping': 2081, 'each': 1395, 'hardly': 2036, 'novel': 3052, 'idea': 2213, 'easily': 1406, 'cliché': 844, 'engaging': 1481, 'fascinating': 1658, 'convincing': 985, 'match': 2762, 'slowly': 4032, 'inside': 2297, 'themselves': 4435, 'tears': 4380, 'desperately': 1209, 'needs': 2990, 'connection': 946, 'progress': 3425, 'keeps': 2451, 'expecting': 1578, 'group': 1980, 'seems': 3864, 'happen': 2026, 'suspense': 4330, 'actresses': 106, 'brought': 600, 'remarkable': 3613, 'sci': 3815, 'fi': 1701, 'incredible': 2269, 'future': 1856, 'perfect': 3224, 'example': 1553, 'fully': 1847, 'realized': 3553, 'explain': 1586, 'killer': 2470, 'texas': 4418, 'massacre': 2754, 'characterization': 759, 'explained': 1587, 'halloween': 2010, 'potentially': 3356, 'unfortunately': 4654, 'creep': 1051, 'fails': 1628, 'craig': 1030, 'capturing': 679, 'essence': 1521, 'motivation': 2914, 'accomplished': 87, 'mostly': 2910, 'performances': 3229, 'necessary': 2984, 'overcome': 3151, 'context': 968, 'empty': 1465, 'drag': 1342, 'used': 4693, 'properly': 3437, 'setting': 3900, 'overall': 3150, 'serious': 3891, 'serve': 3893, 'mindless': 2851, 'silly': 3976, 'intellectual': 2312, 'emotional': 1459, 'sadly': 3769, 'gods': 1928, 'karloff': 2445, 'bela': 450, 'lugosi': 2686, 'lover': 2672, 'particular': 3194, 'invisible': 2344, 'ray': 3533, 'brilliance': 582, 'contemporary': 965, 'starring': 4154, 'frankenstein': 1822, 'mummy': 2937, 'zombie': 4997, 'island': 2361, 'souls': 4080, 'dracula': 1341, 'cat': 713, 'highly': 2105, 'consider': 949, 'missing': 2869, 'universal': 4665, 'pictures': 3270, 'storyline': 4208, 'delightful': 1168, 'manner': 2729, 'course': 1019, 'shine': 3931, 'furthermore': 1854, 'excellent': 1555, 'photography': 3260, 'dr': 1340, 'scientist': 3818, 'past': 3207, 'finds': 1728, 'hit': 2122, 'earth': 1403, 'thousands': 4466, 'french': 1830, 'felix': 1689, 'join': 2412, 'find': 1726, 'africa': 141, 'discovery': 1282, 'capable': 672, 'causing': 726, 'destruction': 1216, 'alike': 185, 'odd': 3080, 'far': 1653, 'concerned': 932, 'filmed': 1717, 'reading': 3544, 'icon': 2211, 'seeing': 3857, 'together': 4511, 'treat': 4572, 'actually': 109, 'beautiful': 428, 'particularly': 3195, 'mentioning': 2812, 'greatest': 1966, 'qualities': 3483, 'settings': 3901, 'wonderfully': 4929, 'cheesy': 781, 'complaint': 920, 'wished': 4905, 'bigger': 479, 'sinister': 3998, 'satisfy': 3790, 'fellow': 1691, 'fans': 1650, 'jonathan': 2417, 'directorial': 1265, 'debut': 1143, 'roger': 3724, 'legendary': 2565, 'exploitation': 1592, 'outfit': 3144, 'chicks': 787, '70s': 56, 'grace': 1950, 'celluloid': 731, 'eric': 1514, 'beyond': 476, 'dolls': 1316, 'gives': 1914, 'winning': 4898, 'fish': 1738, 'fabulous': 1615, 'barbara': 397, 'offers': 3090, 'wicked': 4879, 'portrayal': 3341, 'sexually': 3910, 'frustrated': 1842, 'erotic': 1515, 'doing': 1312, 'front': 1841, 'lady': 2507, 'delivers': 1172, 'hilariously': 2107, 'endearing': 1469, 'turn': 4605, 'forward': 1808, 'foul': 1810, 'tells': 4397, 'dirty': 1268, 'joke': 2414, 'gold': 1932, 'aka': 168, 'eaten': 1412, 'alive': 186, 'curtis': 1087, 'ruby': 3749, 'lively': 2627, 'alice': 182, 'smith': 4038, 'lovely': 2671, 'touching': 4536, 'innocent': 2294, 'supernatural': 4302, 'picture': 3269, 'deliver': 1169, 'expected': 1577, 'amount': 219, 'language': 2516, 'rape': 3521, 'violence': 4747, 'typically': 4624, 'effectively': 1430, 'ways': 4822, 'men': 2805, 'strongly': 4231, 'pro': 3406, 'feminist': 1695, 'notion': 3050, 'band': 391, 'mighty': 2836, 'fighting': 1709, 'force': 1786, 'quirky': 3493, 'human': 2188, 'cinematography': 820, 'score': 3822, '100': 1, 'money': 2888, 'patrick': 3213, 'cheap': 774, 'rubber': 3747, 'monster': 2892, 'suit': 4284, 'creature': 1045, 'track': 4544, 'car': 680, 'stolen': 4195, 'trio': 4587, 'prison': 3401, 'gas': 1874, 'station': 4164, 'bathroom': 412, 'immensely': 2243, 'enjoyable': 1485, 'heat': 2067, 'essential': 1522, 'viewing': 4740, 'drive': 1363, 'tim': 4494, 'superbly': 4297, 'outstanding': 3147, 'fight': 1707, 'our': 3139, 'government': 1948, 'countries': 1013, 'bush': 632, 'number': 3060, 'south': 4087, 'america': 212, 'us': 4690, 'business': 633, 'proves': 3447, 'media': 2789, 'propaganda': 3435, 'exactly': 1551, 'succeed': 4262, '90': 60, 'vote': 4766, 'political': 3324, 'documentary': 1307, 'reviewer': 3677, 'lying': 2690, 'private': 3404, 'anti': 254, 'childrens': 793, 'buried': 624, 'famous': 1647, 'believed': 455, 'western': 4853, 'telling': 4396, 'forest': 1791, 'search': 3841, 'hopes': 2159, 'true': 4596, 'lies': 2591, 'cell': 730, 'bright': 581, 'style': 4249, 'complexity': 924, 'resulting': 3661, 'simplicity': 3984, 'cartoon': 704, 'network': 3000, 'samurai': 3779, 'jack': 2373, 'mark': 2739, 'background': 380, 'depth': 1190, 'secret': 3849, 'creates': 1038, 'consistently': 954, 'living': 2629, 'shadow': 3912, 'invasion': 2340, 'history': 2121, 'may': 2775, 'portrayed': 3342, 'realism': 3549, 'facts': 1624, 'irrelevant': 2358, 'sets': 3899, 'itself': 2371, 'fantasy': 1652, 'wonderful': 4928, 'addition': 118, 'opinion': 3118, 'appearing': 277, 'mysterious': 2955, 'ages': 152, 'expect': 1575, 'pleasantly': 3303, 'fetched': 1698, 'support': 4303, 'existed': 1570, 'mentions': 2813, 'different': 1248, 'investigate': 2342, 'thoroughly': 4459, 'given': 1913, 'credibility': 1047, 'uses': 4697, 'nice': 3008, 'cgi': 740, 'tell': 4395, 'combined': 885, 'popular': 3333, 'flash': 1745, 'scientific': 3817, 'definitely': 1162, 'cases': 708, 'clues': 865, 'fire': 1734, 'reality': 3551, 'pretentious': 3383, 'holy': 2140, 'spanish': 4092, 'four': 1812, 'started': 4157, 'watched': 4813, 'hour': 2176, 'bed': 436, 'intrigued': 2334, 'couldnt': 1008, 'stopped': 4202, 'went': 4847, 'completely': 922, 'downhill': 1336, 'curious': 1083, 'simon': 3982, 'bar': 396, 'picked': 3266, 'opens': 3115, 'reveal': 3670, 'menacing': 2807, 'game': 1864, 'tag': 4348, 'terrorist': 4413, 'playing': 3300, 'industry': 2280, 'behind': 447, 'co': 867, 'previous': 3387, 'scenario': 3808, 'sat': 3786, '40': 48, 'having': 2054, 'borrowed': 545, 'local': 2634, 'library': 2589, 'weeks': 4839, 'originally': 3131, 'days': 1130, 'morning': 2906, 'brando': 566, 'lloyd': 2630, 'raised': 3508, 'japan': 2381, 'girlfriend': 1910, 'leaving': 2557, 'joe': 2407, 'kelly': 2452, 'red': 3576, 'japanese': 2382, 'woman': 4921, 'military': 2844, 'laws': 2540, 'becomes': 434, 'wedding': 4836, 'falls': 1640, 'asian': 314, 'captain': 674, 'mike': 2838, 'james': 2378, 'dating': 1120, 'dancers': 1105, 'san': 3780, 'herself': 2092, 'fancy': 1649, 'performers': 3232, 'stop': 4201, 'concerning': 933, 'relations': 3596, 'beginning': 443, 'embarrassing': 1454, 'touches': 4535, 'head': 2057, 'hitting': 2126, 'top': 4525, 'deserve': 1199, 'oscars': 3134, 'especially': 1520, 'proud': 3444, 'emotions': 1461, 'initial': 2290, 'read': 3543, 'changes': 751, 'imagine': 2238, 'previously': 3388, 'broadway': 592, 'staying': 4168, 'source': 4086, 'inspiration': 2300, 'earlier': 1399, 'educational': 1425, 'experience': 1580, '50s': 52, 'sir': 4000, 'alexander': 180, 'wells': 4845, 'poor': 3328, 'remains': 3611, 'seemingly': 3863, 'moves': 2925, 'stunning': 4244, 'conclusion': 936, 'whether': 4866, 'ralph': 3510, 'space': 4090, 'raymond': 3534, 'center': 732, 'mr': 2929, 'matched': 2763, 'parent': 3187, 'unless': 4669, 'experienced': 1581, 'rather': 3528, 'phony': 3256, 'looks': 2649, 'using': 4698, 'mass': 2753, 'driver': 1366, 'viewed': 4737, 'ridiculous': 3693, 'vs': 4767, 'break': 569, 'million': 2847, 'manage': 2722, 'statement': 4162, 'destiny': 1212, 'doubts': 1333, 'wisdom': 4902, 'animals': 240, 'proper': 3436, 'response': 3654, 'standing': 4146, 'large': 2517, 'hand': 2015, 'sky': 4017, 'universe': 4666, 'chorus': 803, 'breaks': 571, 'shall': 3916, 'star': 4150, 'wars': 4804, 'blade': 495, 'remind': 3618, 'steven': 4182, 'upon': 4684, 'latest': 2526, 'honor': 2150, 'humanity': 2189, 'leave': 2555, 'mood': 2898, 'whatever': 4859, 'breath': 573, 'significant': 3972, 'note': 3044, 'commented': 900, 'surviving': 4323, 'examples': 1554, '80s': 59, 'process': 3412, 'required': 3641, 'clean': 838, 'led': 2558, 'michael': 2829, 'noted': 3045, 'following': 1774, '1980s': 21, 'missed': 2867, 'boat': 523, 'revenge': 3675, 'among': 217, 'disappointing': 1274, 'laurel': 2537, 'hardy': 2037, 'de': 1131, '30': 42, 'eddie': 1416, 'cameos': 658, 'point': 3316, 'pat': 3208, 'priest': 3392, 'relatives': 3601, 'sid': 3964, 'mad': 2696, 'mainly': 2708, 'ironically': 2356, 'partner': 3198, 'reunion': 3669, 'return': 3665, 'strange': 4211, 'represented': 3638, 'figures': 1713, 'museum': 2945, 'typical': 4623, 'monsters': 2893, 'project': 3427, 'featuring': 1681, 'late': 2523, '1990s': 25, 'featured': 1679, 'lewis': 2586, 'cameo': 657, 'harry': 2039, 'inevitable': 2282, 'come': 886, 'looking': 2648, 'thankfully': 4422, 'took': 4523, 'develop': 1222, 'fell': 1690, 'fashion': 1659, 'hanging': 2023, 'nearby': 2980, 'sit': 4003, 'minds': 2852, 'flashbacks': 1747, 'notice': 3048, 'credits': 1050, 'cinematic': 818, 'technical': 4381, 'terms': 4406, 'knew': 2486, 'dialogue': 1234, 'seat': 3845, 'visual': 4757, 'soldiers': 4054, 'towards': 4540, 'singing': 3995, 'hes': 2093, 'wooden': 4934, 'emotion': 1458, 'eyes': 1613, 'listening': 2620, 'performer': 3231, 'waiting': 4772, 'finish': 1732, 'rush': 3759, 'repetitive': 3633, 'central': 735, 'advance': 127, 'general': 1880, 'showcase': 3954, 'skills': 4014, 'put': 3480, 'portrays': 3344, 'people': 3221, 'driven': 1365, 'theme': 4433, 'cultural': 1078, 'clichés': 846, 'grand': 1953, 'glimpse': 1919, 'rarely': 3524, 'west': 4852, 'devoted': 1231, 'negative': 2991, 'centers': 734, 'barry': 401, 'england': 1482, 'wishes': 4906, 'foot': 1781, 'outside': 3146, 'nation': 2969, 'culture': 1079, 'fun': 1848, 'games': 1865, 'songs': 4072, 'highlights': 2104, 'catch': 714, 'haunted': 2050, 'jump': 2429, 'anyways': 262, 'motion': 2913, 'naturally': 2974, 'stretch': 4221, 'horrid': 2165, 'brain': 562, 'nose': 3037, 'thoughtful': 4463, 'whenever': 4863, 'came': 656, 'wonder': 4926, 'grade': 1951, 'candy': 668, 'george': 1893, 'topless': 4527, 'enormous': 1490, 'adults': 126, 'numerous': 3062, 'levels': 2585, 'cake': 648, 'subtle': 4260, 'glenn': 1918, 'call': 651, 'desire': 1205, 'desired': 1206, 'placed': 3283, 'extraordinary': 1607, 'castle': 712, 'extra': 1606, 'hence': 2083, 'complete': 921, 'scheme': 3812, 'round': 3742, 'instantly': 2306, 'appealing': 272, 'hero': 2088, 'dog': 1310, 'titanic': 4503, 'version': 4720, 'expectations': 1576, 'recognize': 3569, 'officer': 3092, 'terribly': 4408, 'surprised': 4313, 'gerard': 1895, 'outrageous': 3145, 'clothing': 861, 'witch': 4909, 'homage': 2141, 'butler': 637, 'bumbling': 622, 'hearted': 2065, 'generally': 1881, 'worn': 4948, 'detailed': 1218, 'worthy': 4956, 'alone': 194, 'nomination': 3026, 'holds': 2131, 'comparing': 913, 'animated': 241, 'suffice': 4279, '1996': 26, 'sight': 3969, 'gags': 1862, 'demon': 1177, 'king': 2479, 'historically': 2120, 'lawyer': 2541, 'joseph': 2419, 'appalling': 268, 'security': 3854, 'became': 431, 'investigation': 2343, 'counter': 1011, 'service': 3896, 'satisfied': 3789, 'passed': 3202, 'decades': 1145, 'scare': 3803, 'essentially': 1523, 'etc': 1527, 'career': 686, 'rights': 3697, 'accused': 91, 'matter': 2769, 'wing': 4896, 'uk': 4626, 'newspaper': 3006, 'named': 2961, 'names': 2963, 'lie': 2590, 'politics': 3326, 'types': 4622, 'arms': 294, 'recently': 3567, 'opened': 3113, 'soviet': 4089, 'scale': 3802, 'public': 3460, 'period': 3236, 'correct': 1000, 'brave': 567, 'soul': 4079, 'murderer': 2941, 'worked': 4941, 'vicious': 4728, 'system': 4345, 'accurate': 90, 'account': 89, 'hold': 2129, 'till': 4493, 'familiar': 1643, 'badly': 383, 'anybody': 257, 'poorly': 3329, 'constructed': 959, 'laugh': 2529, 'starred': 4153, 'represent': 3637, 'experiences': 1582, 'video': 4733, 'store': 4204, 'relevant': 3604, 'kept': 2456, 'appear': 273, 'enjoyed': 1486, 'honestly': 2147, 'raising': 3509, 'victor': 4731, 'worse': 4951, 'attempted': 341, 'suck': 4269, 'waste': 4808, 'dumb': 1385, 'want': 4788, 'parents': 3188, 'ah': 158, 'funniest': 1851, 'slightly': 4029, 'saga': 3773, 'teenage': 4389, 'north': 3036, 'london': 2641, '12': 3, 'favourite': 1673, 'manager': 2724, 'added': 116, 'team': 4378, 'apparently': 270, 'taken': 4350, 'sun': 4292, 'fast': 1661, 'reactions': 3542, 'rare': 3523, 'loud': 2664, 'rural': 3758, 'soldier': 4053, 'wear': 4830, 'mask': 2752, 'poster': 3353, 'others': 3136, 'speaking': 4095, 'speak': 4094, 'walls': 4783, 'bands': 392, 'sounds': 4084, 'talks': 4361, 'listen': 2619, 'bore': 540, 'iran': 2350, 'notch': 3043, 'heres': 2087, 'list': 2617, 'glory': 1922, 'acted': 98, 'falling': 1639, 'asleep': 320, 'deadly': 1133, 'possible': 3350, 'turning': 4608, 'killing': 2472, 'someone': 4064, 'slasher': 4020, 'elaborate': 1439, 'jennifer': 2392, 'whom': 4875, 'richards': 3687, 'glad': 1916, 'spoiler': 4123, 'scream': 3826, 'annoying': 249, 'tales': 4357, 'worthwhile': 4955, 'beautifully': 429, 'parts': 3199, 'fresh': 1833, 'contrast': 975, 'plain': 3286, 'clothes': 860, 'dress': 1357, 'hair': 2005, 'princess': 3397, 'comic': 893, 'timing': 4498, 'suspicious': 4332, 'guard': 1988, 'chasing': 772, 'nicholas': 3010, 'prince': 3396, 'sequence': 3887, 'festival': 1697, 'showing': 3958, 'anyway': 261, 'seemed': 3862, 'struck': 4232, 'caught': 722, 'able': 66, 'figure': 1711, 'plus': 3311, 'recorded': 3574, 'reminds': 3620, 'including': 2264, 'von': 4765, 'dancer': 1104, 'perspective': 3245, 'battle': 414, 'exceptional': 1558, 'wait': 4770, 'weird': 4841, 'rental': 3627, 'exist': 1569, 'excuse': 1564, 'reminiscent': 3621, 'cup': 1080, 'looked': 2647, 'theyd': 4443, 'willing': 4889, 'pain': 3170, 'ears': 1402, 'buy': 640, 'folks': 1771, 'comment': 898, 'positive': 3346, 'save': 3794, 'else': 1448, 'mediocre': 2791, 'saved': 3795, 'authentic': 358, 'color': 877, 'deeply': 1156, 'capture': 676, 'transition': 4561, 'deals': 1137, 'convoluted': 987, 'religious': 3608, 'woods': 4935, 'racist': 3503, 'church': 813, 'include': 2261, 'actual': 108, 'families': 1644, 'shocked': 3939, 'summer': 4291, 'melodramatic': 2798, 'predictable': 3367, 'events': 1536, 'involved': 2346, 'incident': 2260, 'similarly': 3980, 'introduced': 2337, 'solely': 4056, 'provide': 3448, 'mechanical': 2788, 'ties': 4490, 'loose': 2650, 'thinks': 4454, 'care': 684, 'weak': 4824, 'until': 4680, 'wouldve': 4959, 'lots': 2662, 'crappy': 1032, 'seagal': 3839, 'sport': 4129, 'stated': 4161, 'americas': 215, 'defense': 1159, 'occur': 3076, 'post': 3352, 'results': 3662, 'voice': 4761, 'dubbed': 1379, 'starts': 4159, 'youll': 4988, 'da': 1094, 'code': 869, 'steve': 4181, 'checking': 778, 'van': 4713, 'direct': 1258, 'dvd': 1391, 'rip': 3700, 'lifetime': 2594, 'excited': 1561, 'heard': 2062, 'popcorn': 3331, 'knowledge': 2491, '1st': 28, 'issue': 2364, 'regardless': 3590, 'cause': 723, 'understand': 4643, 'embarrassed': 1453, 'admit': 122, 'view': 4736, 'womans': 4922, 'base': 402, 'information': 2288, 'step': 4175, 'finding': 1727, 'learning': 2552, 'theatre': 4429, 'desperation': 1210, 'appeared': 276, 'shoot': 3942, 'become': 433, 'streets': 4217, 'charismatic': 763, 'leader': 2546, 'neo': 2998, 'emotionally': 1460, 'walter': 4784, 'warning': 4800, 'leslie': 2574, 'crew': 1053, 'relief': 3605, 'dare': 1113, 'edward': 1426, 'survivor': 4324, 'planet': 3289, 'married': 2744, 'anne': 246, 'francis': 1818, 'humans': 2190, 'ancient': 225, 'civilization': 827, 'known': 2492, 'unknown': 4668, 'members': 2801, 'party': 3200, 'gruesome': 1986, 'kinds': 2478, 'remake': 3612, 'popularity': 3334, 'trek': 4578, 'flying': 1764, 'enterprise': 1495, '2001': 31, 'science': 3816, 'fiction': 1702, 'generations': 1884, 'forbidden': 1785, 'timeless': 4496, 'beings': 449, 'robot': 3717, 'sixties': 4011, 'earl': 1398, 'cook': 988, 'spirits': 4115, 'ten': 4399, 'sea': 3838, 'luck': 2681, 'run': 3755, 'futuristic': 1857, 'warren': 4801, 'stevens': 4183, 'sacrifice': 3766, 'learn': 2550, 'dealing': 1136, 'broadcast': 591, 'carpenter': 694, 'raise': 3507, 'satan': 3787, 'drags': 1345, 'ron': 3734, 'laughable': 2530, 'baby': 376, 'basically': 407, 'material': 2766, 'costume': 1005, 'mess': 2818, 'destroy': 1213, 'everyone': 1542, 'bloody': 513, 'gory': 1943, 'puts': 3481, 'dick': 1239, 'offering': 3089, 'ford': 1789, 'comedic': 888, 'sidekick': 3966, 'babe': 375, 'nowhere': 3056, 'charming': 768, 'virtually': 4751, 'businessman': 634, 'treasure': 4571, 'hunt': 2198, 'remote': 3622, 'gang': 1867, 'ride': 3692, 'tall': 4362, 'carradine': 695, 'hat': 2045, 'phantom': 3251, 'pursuit': 3476, 'fortune': 1806, 'shadows': 3913, 'tension': 4404, 'forgettable': 1794, 'yesterday': 4983, 'april': 284, 'guess': 1989, 'disney': 1289, 'convince': 983, 'unit': 4663, 'loves': 2674, 'mickey': 2831, 'mouse': 2919, 'disappointment': 1275, 'dozen': 1338, 'trailers': 4555, 'circle': 821, 'claims': 830, 'starting': 4158, 'narration': 2965, 'morgan': 2905, 'freeman': 1829, 'warner': 4799, 'brothers': 599, 'narrative': 2966, 'thin': 4449, 'bought': 552, 'bbc': 417, 'sell': 3871, 'disneys': 1290, 'obsession': 3070, 'ripped': 3701, 'struggles': 4235, 'appeal': 271, 'teenagers': 4391, 'dragged': 1343, 'afraid': 140, 'controversial': 978, 'subject': 4253, 'renting': 3629, 'dvds': 1392, 'attention': 345, 'mst3k': 2932, 'inappropriate': 2259, 'contrived': 976, 'thrill': 4471, 'doom': 1326, 'facing': 1620, 'deaths': 1142, 'struggle': 4234, 'latin': 2527, 'current': 1084, 'luke': 2687, 'warm': 4794, 'omen': 3104, 'ii': 2226, 'iii': 2227, 'harris': 2038, 'jeff': 2390, 'bitter': 491, 'ex': 1549, 'discovers': 1281, 'mayor': 2777, 'achieve': 92, 'goal': 1925, 'martial': 2747, 'artist': 307, 'sexy': 3911, 'tony': 4521, 'burton': 630, 'kurt': 2499, 'pass': 3201, 'arts': 310, 'worlds': 4947, 'traditional': 4550, 'cannot': 670, 'decide': 1148, 'monk': 2889, 'warrior': 4802, 'presence': 3373, 'inner': 2292, 'barely': 399, 'within': 4912, 'development': 1225, 'bored': 541, 'distant': 1295, 'forever': 1792, 'nowadays': 3055, 'scenery': 3810, 'versions': 4721, 'devoid': 1230, 'train': 4556, 'grave': 1962, 'subjects': 4254, 'park': 3190, 'everywhere': 1545, 'fair': 1630, 'distance': 1294, 'social': 4049, 'concerns': 934, 'mixed': 2877, 'chief': 788, 'difference': 1246, 'neither': 2996, 'seek': 3858, 'interested': 2324, 'spielberg': 4110, '24': 39, 'already': 197, 'directed': 1259, 'episodes': 1508, 'psychiatrist': 3455, 'roy': 3745, 'troubled': 4593, 'boy': 557, 'visually': 4758, 'complex': 923, 'creators': 1044, 'richard': 3686, 'william': 4887, 'link': 2613, 'created': 1037, 'columbo': 881, 'season': 3843, 'peter': 3247, 'falk': 1636, 'rank': 3518, 'agreed': 156, 'murder': 2939, 'tried': 4584, 'dollar': 1314, 'stylish': 4251, 'martin': 2748, 'early': 1400, 'light': 2595, 'harvey': 2042, 'hart': 2041, 'hasnt': 2044, 'technically': 4382, 'combat': 882, 'albert': 174, 'doubt': 1332, 'text': 4419, 'laid': 2508, 'comments': 901, 'site': 4005, 'meet': 2793, 'english': 1483, 'blank': 501, 'inspector': 2299, 'gadget': 1860, '1999': 27, 'matthew': 2772, 'fisher': 1739, 'andy': 230, '80': 58, 'rated': 3527, 'pg': 3250, 'blake': 498, 'state': 4160, 'operation': 3117, 'turns': 4609, 'machine': 2693, 'agent': 150, 'sorts': 4078, 'built': 618, 'body': 527, 'common': 906, 'present': 3374, 'uneven': 4649, 'encounter': 1466, 'villain': 4744, 'dreadful': 1353, 'nights': 3016, 'romantic': 3733, 'subplot': 4255, 'amounts': 220, 'involving': 2349, 'wacky': 4769, 'elements': 1443, 'attractive': 351, 'brenda': 575, 'specific': 4099, 'competition': 918, 'voiced': 4762, 'sitcom': 4004, 'target': 4366, 'filmmakers': 1720, 'relative': 3599, 'distinct': 1296, 'flaws': 1752, 'neat': 2982, 'opening': 3114, 'clips': 852, 'design': 1202, 'consists': 955, 'reminded': 3619, 'contained': 963, 'props': 3439, 'energy': 1478, 'lacked': 2503, 'clue': 864, 'device': 1227, 'question': 3487, 'further': 1853, 'fathers': 1667, 'thus': 4486, 'affected': 137, 'violent': 4748, 'productions': 3420, 'bomb': 531, 'message': 2819, 'pure': 3471, 'soundtrack': 4085, 'sentimental': 3882, 'model': 2880, 'spirited': 4114, 'moving': 2928, 'available': 361, 'usa': 4691, 'entry': 1504, 'war': 4792, 'german': 1896, 'spent': 4108, 'seven': 3903, 'nazis': 2978, 'bette': 471, 'davis': 1126, 'understanding': 4645, 'suffering': 4277, 'managed': 2723, 'begins': 444, 'border': 539, 'mexico': 2827, 'problem': 3408, 'noble': 3021, 'scripted': 3835, 'ring': 3698, 'sounded': 4082, 'voices': 4763, 'extended': 1604, 'accent': 78, 'tough': 4537, 'ultra': 4629, 'wrote': 4974, 'basic': 406, 'sue': 4274, 'basement': 405, 'apartment': 265, 'magic': 2703, 'century': 736, 'poverty': 3357, 'channels': 754, 'synopsis': 4344, 'suddenly': 4273, 'realise': 3548, 'provides': 3450, 'adam': 111, 'sandler': 3781, 'don': 1320, 'stranger': 4213, 'hidden': 2096, 'anger': 235, 'considerable': 950, 'weight': 4840, 'fare': 1655, 'punch': 3466, 'alan': 171, 'johnson': 2411, 'charlie': 765, 'suffered': 4276, 'overwhelming': 3157, 'loss': 2659, 'daughters': 1122, 'crash': 1033, 'memories': 2803, 'childish': 791, 'lifestyle': 2593, 'conversation': 980, 'relationship': 3597, 'follows': 1775, 'allow': 189, 'thoughts': 4464, 'individual': 2277, 'shots': 3950, 'awkward': 374, 'digital': 1251, 'limited': 2606, 'lighting': 2596, 'colorful': 878, 'backgrounds': 381, 'york': 4985, 'focus': 1766, 'creating': 1039, 'frequent': 1831, 'resembles': 3646, 'date': 1118, 'act': 97, 'bob': 524, 'considered': 951, 'leading': 2547, 'equally': 1510, 'title': 4504, 'covered': 1023, 'pearl': 3220, 'shut': 3961, 'intense': 2316, 'wow': 4962, 'st': 4137, 'louis': 2665, 'national': 2970, 'follow': 1772, 'animal': 239, 'flicks': 1755, 'boys': 559, 'carry': 700, 'flop': 1760, 'premise': 3370, 'jason': 2383, 'cooper': 990, 'happy': 2032, 'marriage': 2743, 'chases': 771, 'charge': 761, 'leads': 2548, 'losing': 2658, 'sleeping': 4025, 'diane': 1238, 'lane': 2515, 'fate': 1665, 'spoilers': 4124, 'enter': 1494, 'guys': 2001, 'fred': 1825, 'president': 3378, 'united': 4664, 'states': 4163, 'ann': 244, 'bare': 398, 'veteran': 4724, 'stan': 4142, 'widmark': 4882, 'naive': 2958, 'cynical': 1093, 'thousand': 4465, 'watches': 4814, 'protect': 3443, 'intentionally': 2320, 'campy': 664, 'goodness': 1938, 'whatsoever': 4861, 'henry': 2084, 'ashamed': 312, 'ideas': 2215, 'rescue': 3643, 'crisis': 1060, 'removed': 3624, 'longer': 2645, 'classes': 834, 'shelf': 3926, 'pointed': 3317, 'homer': 2144, 'showed': 3956, 'failed': 1626, 'letter': 2581, 'failure': 1629, 'flight': 1757, 'soon': 4074, 'rushed': 3760, 'technology': 4385, 'underlying': 4641, 'sort': 4077, 'hopefully': 2157, 'spot': 4131, 'bits': 490, 'imdb': 2240, 'fox': 1814, 'beloved': 461, 'portraying': 3343, 'smooth': 4041, 'slick': 4026, 'protagonist': 3441, 'attempts': 343, 'steal': 4170, 'fat': 1663, 'criticism': 1063, 'teens': 4392, 'factory': 1623, 'visits': 4756, 'steals': 4172, 'kills': 2474, 'food': 1778, 'chain': 741, 'practically': 3362, 'surely': 4309, 'stayed': 4167, 'annoyed': 248, 'decisions': 1152, 'meanwhile': 2785, 'flat': 1748, 'laughed': 2532, 'twice': 4613, 'specifically': 4100, 'subtlety': 4261, 'portray': 3340, 'streep': 4215, 'bill': 481, 'warmth': 4796, 'talked': 4359, 'reviews': 3679, 'riveting': 3708, 'profound': 3423, 'repeat': 3630, 'disappointed': 1273, 'stellar': 4174, 'scottish': 3825, 'natural': 2973, 'term': 4405, 'creative': 1041, 'ear': 1397, 'performed': 3230, 'noise': 3024, 'ensemble': 1492, 'composed': 926, 'contains': 964, 'birth': 486, 'powell': 3358, 'attorney': 348, 'belief': 451, 'sympathetic': 4342, 'arrogant': 303, 'chair': 742, 'bedroom': 437, 'wound': 4960, 'blunt': 520, 'matters': 2770, 'locked': 2637, 'suicide': 4283, 'escaped': 1518, 'suspects': 4328, 'brother': 598, 'floor': 1759, 'closet': 858, 'complicated': 925, 'logical': 2639, 'nick': 3012, 'charles': 764, 'escape': 1517, 'company': 910, 'moved': 2922, 'status': 4165, 'pleasant': 3302, 'faces': 1618, 'lake': 2509, 'ward': 4793, 'titled': 4505, 'helen': 2075, 'notably': 3042, 'selfish': 3870, 'elderly': 1440, 'medical': 2790, 'taking': 4352, 'secretary': 3850, 'middle': 2833, 'aged': 149, 'suits': 4287, 'ease': 1404, 'boll': 529, 'par': 3184, 'uwe': 4703, 'shouldnt': 3952, 'graphics': 1959, 'ps': 3453, 'beat': 423, 'faced': 1617, 'sequel': 3885, 'ad': 110, 'inventive': 2341, 'definite': 1161, 'gay': 1876, 'nyc': 3065, 'blame': 499, 'utter': 4701, 'obviously': 3072, 'blatant': 502, 'unsettling': 4679, 'chosen': 805, 'education': 1424, 'actions': 101, 'acts': 107, 'topic': 4526, 'quote': 3496, 'died': 1244, 'lynch': 2691, 'turkey': 4604, 'artificial': 306, 'grab': 1949, 'pathetic': 3210, 'maker': 2714, 'rate': 3526, 'dire': 1257, 'surrounding': 4319, 'important': 2247, 'nonsense': 3030, 'fault': 1668, 'mountains': 2918, 'ninja': 3018, 'rubbish': 3748, 'hundreds': 2196, 'nelson': 2997, 'killers': 2471, 'meant': 2784, 'similar': 3978, 'frank': 1821, 'santa': 3783, 'revolution': 3680, 'rebel': 3561, 'homeless': 2143, 'reference': 3582, 'greek': 1970, 'passionate': 3206, 'decided': 1149, 'angel': 231, 'produce': 3413, 'grandfather': 1954, 'che': 773, 'brown': 601, 'americans': 214, 'offer': 3087, 'key': 2458, 'suffers': 4278, 'stiff': 4187, 'delivery': 1173, 'combine': 884, 'honest': 2146, 'climax': 849, 'passion': 3205, 'sincere': 3991, 'continues': 971, 'shower': 3957, 'gag': 1861, 'disgusting': 1286, 'continuity': 972, 'errors': 1516, 'angry': 238, 'warned': 4798, 'cars': 702, 'blown': 516, 'atmospheric': 334, 'considering': 952, 'bang': 393, 'quickly': 3491, 'villains': 4745, 'pit': 3278, '1940s': 13, 'threat': 4467, 'britain': 588, 'third': 4455, 'arthur': 305, 'unfunny': 4655, 'wanted': 4789, 'suppose': 4305, 'succeeded': 4263, 'older': 3101, 'travel': 4567, 'uncomfortable': 4637, 'staff': 4138, 'disagree': 1269, 'fake': 1635, 'california': 650, 'desert': 1198, 'ups': 4686, 'dramas': 1347, 'purely': 3472, 'letting': 2583, 'adds': 119, 'seasons': 3844, 'professional': 3421, 'university': 4667, 'fit': 1740, 'category': 718, 'ready': 3546, 'shame': 3918, 'reporter': 3636, 'international': 2326, 'news': 3005, 'followed': 1773, 'chicago': 785, 'charm': 767, 'goofy': 1939, 'wears': 4832, 'forth': 1804, 'editor': 1423, 'downright': 1337, 'suspend': 4329, 'disbelief': 1277, 'wreck': 4965, '14': 6, 'purchase': 3469, 'free': 1827, 'hadnt': 2004, 'theater': 4427, 'horrendous': 2162, 'multi': 2935, 'thirty': 4456, 'chased': 770, 'smoke': 4039, 'rocket': 3721, 'riding': 3695, 'jet': 2400, 'wild': 4885, 'hype': 2207, 'disaster': 1276, 'masterpiece': 2759, 'spy': 4135, 'conceived': 929, 'recommended': 3572, 'critics': 1064, 'talking': 4360, 'largely': 2518, 'advanced': 128, 'crafted': 1029, 'heads': 2059, 'opposite': 3123, 'underground': 4640, 'flick': 1754, '1984': 23, 'recall': 3562, 'bourne': 554, 'research': 3644, 'hall': 2009, 'fame': 1642, 'hands': 2020, 'academy': 77, 'award': 366, 'winner': 4897, 'husband': 2204, 'expensive': 1579, 'loving': 2675, 'agree': 155, 'attraction': 350, 'attracted': 349, 'likely': 2601, 'slight': 4027, 'seriously': 3892, 'nor': 3032, 'obnoxious': 3067, 'competent': 917, 'clichéd': 845, 'ended': 1470, 'moody': 2899, 'gothic': 1945, 'eccentric': 1414, 'petty': 3249, 'count': 1010, 'toy': 4542, 'mexican': 2826, 'sole': 4055, 'likable': 2598, 'trite': 4589, 'ugly': 4625, 'gross': 1978, 'lousy': 2667, 'mild': 2839, 'gore': 1941, 'dubbing': 1380, 'oddly': 3081, 'cry': 1073, 'adapted': 114, 'pre': 3365, 'stephen': 4176, 'immediately': 2242, 'fighter': 1708, 'connect': 944, 'compare': 911, 'freedom': 1828, 'air': 164, 'except': 1556, 'novels': 3053, 'transfer': 4559, 'directly': 1263, 'via': 4726, 'frankly': 1823, 'blew': 505, 'pull': 3461, 'screenwriter': 3833, 'julia': 2427, 'tracks': 4545, 'striking': 4226, 'displayed': 1292, 'thanks': 4423, 'bat': 410, 'causes': 725, 'occasionally': 3075, 'makeup': 2717, 'senseless': 3878, 'anywhere': 263, 'explanation': 1590, 'satisfying': 3791, 'haunting': 2051, 'filming': 1718, 'locations': 2636, 'opportunity': 3121, 'lesser': 2576, 'domestic': 1318, '20th': 38, 'somebody': 4062, 'canada': 666, 'liked': 2600, 'quotes': 3497, 'remember': 3616, 'consequences': 947, 'choose': 799, 'happiness': 2031, 'racism': 3502, 'superior': 4300, 'position': 3345, 'raw': 3532, 'higher': 2101, 'ground': 1979, 'endings': 1472, 'supposedly': 4307, 'quiet': 3492, 'suitable': 4285, 'chapter': 757, 'jerry': 2396, 'producer': 3415, '60': 53, 'non': 3027, 'wanting': 4790, 'vehicle': 4718, 'cage': 645, 'stealing': 4171, '50': 51, 'exotic': 1574, 'loaded': 2632, 'win': 4892, 'various': 4715, 'aspects': 322, 'student': 4238, 'relate': 3593, 'besides': 468, 'shes': 3930, 'cute': 1090, 'super': 4295, 'cried': 1054, 'overdone': 3152, 'intention': 2319, 'prove': 3445, 'sick': 3963, 'argument': 291, 'moral': 2902, 'courage': 1018, 'fear': 1676, 'dignity': 1252, 'standards': 4145, 'quick': 3490, 'shirt': 3937, 'lovers': 2673, 'mix': 2876, 'diamond': 1236, 'rough': 3741, 'deal': 1135, 'focused': 1767, 'blows': 517, 'mid': 2832, 'department': 1182, 'latter': 2528, 'crack': 1027, 'elizabeth': 1445, 'react': 3540, 'comical': 894, 'burn': 625, 'kate': 2446, 'exciting': 1563, 'fascinated': 1657, 'kinda': 2477, 'stick': 4185, 'pitt': 3280, 'impression': 2252, 'hello': 2078, 'explains': 1589, 'tongue': 4518, 'wearing': 4831, 'wore': 4939, 'forgot': 1796, 'nobody': 3022, 'destroying': 1215, 'european': 1530, 'happened': 2027, 'fill': 1714, 'fictional': 1703, 'bet': 470, 'masters': 2761, 'horrifying': 2167, 'boom': 537, 'scary': 3807, 'burns': 628, 'sleep': 4024, 'bothered': 549, 'subplots': 4256, 'marketing': 2741, 'multiple': 2936, 'double': 1331, 'mistress': 2874, 'broad': 590, 'corrupt': 1001, 'cross': 1066, 'established': 1524, 'hollow': 2135, 'students': 4239, '2nd': 41, '3rd': 47, 'glass': 1917, 'feet': 1688, 'unrealistic': 4677, 'mission': 2870, 'views': 4742, 'trip': 4588, 'union': 4661, 'achieved': 93, 'rise': 3702, 'europe': 1529, 'eight': 1436, 'months': 2897, 'attack': 337, 'ms': 2931, 'adaptation': 113, 'companion': 909, 'received': 3564, 'continue': 969, 'toward': 4539, 'mrs': 2930, 'washington': 4806, 'celebrity': 729, 'realize': 3552, 'germany': 1898, 'jewish': 2401, 'native': 2972, 'land': 2511, 'places': 3284, 'philosophy': 3254, 'nazi': 2977, 'donald': 1321, 'rule': 3753, 'edie': 1419, 'hooked': 2153, 'describe': 1194, 'ladies': 2506, 'grey': 1973, 'jackie': 2374, 'kennedy': 2454, 'keaton': 2448, 'batman': 413, 'loses': 2657, 'author': 359, 'anna': 245, 'caused': 724, 'driving': 1368, 'bugs': 613, 'recording': 3575, 'learned': 2551, 'murdered': 2940, 'lived': 2626, 'send': 3875, 'messages': 2820, 'tape': 4365, 'cameras': 660, 'calling': 653, 'ghosts': 1903, 'paper': 3183, 'knock': 2488, 'decides': 1150, 'serial': 3889, 'demons': 1178, 'cartoons': 705, 'funeral': 1849, 'horrors': 2169, 'dude': 1381, 'dad': 1095, 'someones': 4065, 'phone': 3255, 'dialogs': 1233, 'directing': 1260, 'asked': 317, 'met': 2822, 'ben': 463, 'somehow': 4063, 'oliver': 3102, 'experiment': 1583, 'dolph': 1317, 'wilson': 4891, 'alcoholic': 177, 'dull': 1384, 'alex': 179, 'winter': 4900, 'sent': 3880, 'somewhere': 4069, 'heaven': 2068, 'grim': 1974, 'robots': 3718, 'copy': 994, 'anymore': 258, 'yourself': 4993, 'scarecrow': 3804, 'packed': 3166, 'worthless': 4954, 'notorious': 3051, '60s': 54, 'cutting': 1092, 'techniques': 4384, 'unique': 4662, 'jeffrey': 2391, 'countless': 1012, 'documentaries': 1306, 'gave': 1875, 'appreciation': 281, 'craft': 1028, 'depicts': 1186, 'rival': 3706, 'alfred': 181, 'hitchcock': 2123, 'praise': 3364, 'respect': 3652, 'surprising': 4315, 'waters': 4817, 'gordon': 1940, 'crucial': 1068, 'separate': 3883, 'judge': 2424, 'personally': 3243, 'appreciate': 279, 'audiences': 353, 'hoping': 2160, 'polanski': 3321, 'opportunities': 3120, 'successful': 4266, 'achievement': 94, 'connected': 945, 'picking': 3267, 'collection': 874, 'plenty': 3307, 'audio': 354, 'terry': 4415, 'reflection': 3585, 'weve': 4856, 'radio': 3504, 'portion': 3338, 'overlooked': 3154, 'receive': 3563, 'psychological': 3458, 'sadness': 3770, 'fx': 1858, 'pleased': 3305, 'sam': 3777, 'sullivan': 4288, 'jr': 2423, 'revolves': 3682, 'tom': 4514, 'hanks': 2025, 'serves': 3895, 'blood': 512, 'reads': 3545, 'lets': 2580, 'witnessed': 4915, 'contract': 973, 'sons': 4073, 'pretend': 3381, 'cinematographer': 819, 'rain': 3506, 'doors': 1329, 'tommy': 4516, '75': 57, 'product': 3418, 'tribute': 4581, 'gangster': 1868, '40s': 49, 'heroes': 2089, 'advantage': 129, 'resemblance': 3645, 'guessed': 1990, 'stronger': 4230, 'nonetheless': 3029, 'naked': 2959, 'kissing': 2484, 'jessica': 2398, 'simpson': 3987, 'blond': 510, 'chances': 748, 'ignore': 2224, 'stays': 4169, 'cousin': 1021, 'false': 1641, 'kiss': 2483, 'ie': 2221, 'shock': 3938, 'spare': 4093, 'mom': 2885, 'laughing': 2533, 'pay': 3216, 'personalities': 3241, 'amanda': 205, 'guide': 1993, 'regret': 3591, 'gentle': 1890, 'saving': 3797, 'concept': 930, 'growing': 1983, 'husbands': 2205, 'funnier': 1850, 'market': 2740, 'bucks': 606, 'hot': 2174, 'facial': 1619, 'expressions': 1603, 'viewings': 4741, 'tunes': 4603, 'cold': 872, 'confused': 941, 'afford': 138, 'hood': 2151, 'models': 2881, 'necessarily': 2983, 'situations': 4009, 'victim': 4729, 'stereotype': 4178, 'lose': 2654, 'empathy': 1462, 'dimensional': 1253, 'merely': 2815, 'confusion': 943, 'mildly': 2840, 'hire': 2116, 'restored': 3659, 'stanwyck': 4149, 'proceeds': 3411, 'daddy': 1096, 'terrific': 4409, 'paris': 3189, 'marry': 2745, 'financial': 1725, 'realizes': 3554, 'court': 1020, 'tremendous': 4579, 'sin': 3988, 'ignored': 2225, 'infamous': 2284, 'brooks': 596, 'occurred': 3077, 'winds': 4895, 'chilling': 794, 'directs': 1267, 'marks': 2742, 'age': 148, 'spectacular': 4101, 'poignant': 3315, 'wit': 4908, 'masterful': 2758, 'equal': 1509, 'task': 4368, '2005': 35, 'mothers': 2912, 'chris': 806, 'zone': 4999, 'chose': 804, 'consistent': 953, 'speech': 4102, 'sentence': 3881, 'walking': 4779, 'issues': 2365, 'community': 908, 'turned': 4606, 'punishment': 3467, 'crimes': 1056, 'dave': 1123, 'ethan': 1528, 'angela': 232, 'inducing': 2279, 'bringing': 586, 'sidney': 3968, 'caine': 647, 'solid': 4057, 'overly': 3155, 'hysterical': 2208, 'psychic': 3456, 'youve': 4995, 'delivering': 1171, 'occasional': 3074, 'fourth': 1813, 'rules': 3754, 'ice': 2210, 'block': 508, 'schools': 3814, 'faster': 1662, 'regular': 3592, 'benefit': 465, 'hotel': 2175, 'drop': 1369, 'dozens': 1339, 'witnesses': 4916, 'allowing': 191, 'press': 3379, 'assault': 324, 'assume': 328, 'cops': 993, 'mistakes': 2873, 'safety': 3772, 'window': 4894, 'activities': 102, 'tons': 4520, 'absurd': 73, 'brutal': 603, 'dentist': 1180, 'record': 3573, 'kidnapped': 2466, 'escapes': 1519, 'arrive': 300, 'aware': 368, 'insult': 2309, 'proved': 3446, 'effective': 1429, 'bland': 500, 'poetry': 3314, 'cats': 721, 'rats': 3531, 'hole': 2132, 'mine': 2853, 'drawn': 1351, 'jesus': 2399, 'touched': 4534, 'johnny': 2410, 'cash': 709, 'reasons': 3560, 'france': 1816, 'reflect': 3584, 'jerk': 2395, 'regard': 3588, 'segment': 3867, 'seeking': 3859, 'held': 2074, 'forget': 1793, 'ghost': 1902, 'hearing': 2063, 'inspiring': 2302, 'committed': 905, 'muslim': 2949, 'wake': 4774, 'critic': 1061, 'below': 462, 'mans': 2730, 'brand': 565, 'threw': 4470, 'tends': 4402, 'darker': 1116, 'tend': 4400, 'complain': 919, 'rid': 3690, 'rangers': 3517, 'encounters': 1467, 'comfortable': 892, 'sticks': 4186, 'enemies': 1476, 'fortunately': 1805, 'flawed': 1750, 'stands': 4147, 'appearances': 275, 'owner': 3159, 'report': 3635, 'affair': 135, 'rage': 3505, 'evidence': 1546, 'tone': 4517, 'pace': 3161, 'meaningful': 2781, 'finale': 1723, 'suggests': 4282, 'polished': 3323, 'crocodile': 1065, 'surfing': 4311, 'holiday': 2134, 'stuck': 4237, 'females': 1694, 'millions': 2848, 'event': 1535, 'williams': 4888, 'assumed': 329, 'persona': 3239, 'heroic': 2090, 'daring': 1114, 'laughs': 2534, 'slaughter': 4021, 'clear': 839, 'stereotypical': 4180, 'hunters': 2200, 'snake': 4042, 'incoherent': 2265, 'boyfriend': 558, 'walks': 4780, 'womens': 4924, 'beach': 419, 'jaws': 2385, 'grant': 1956, 'advertising': 132, 'preview': 3386, 'leg': 2562, 'green': 1971, 'sees': 3866, 'drink': 1361, 'beer': 439, 'splatter': 4118, 'anime': 243, 'sleazy': 4023, 'cg': 739, 'lord': 2652, 'failing': 1627, 'appears': 278, 'sophisticated': 4075, 'shed': 3924, 'flesh': 1753, 'exercise': 1568, 'spots': 4132, 'devils': 1229, 'slap': 4018, 'pig': 3274, 'purposes': 3475, 'sucks': 4271, 'guts': 1999, 'merit': 2816, 'shocking': 3940, 'paid': 3169, 'sum': 4289, 'writers': 4969, 'visit': 4755, 'cowboy': 1025, 'chooses': 800, 'horse': 2170, 'camp': 662, 'rocks': 3722, 'tree': 4576, 'greater': 1965, 'struggling': 4236, 'beating': 425, 'odds': 3082, 'passing': 3204, 'jumps': 2432, 'drives': 1367, 'rolling': 3730, 'mountain': 2917, 'fallen': 1638, 'chase': 769, 'helps': 2082, 'crush': 1072, 'blah': 496, 'description': 1197, 'appearance': 274, 'afterwards': 145, 'meaning': 2780, 'rented': 3628, 'precious': 3366, 'torture': 4529, 'images': 2235, 'overrated': 3156, 'giant': 1905, 'idiotic': 2219, 'spiritual': 4116, 'lesson': 2577, 'christmas': 810, 'carol': 693, 'fashioned': 1660, 'conservative': 948, 'westerns': 4854, 'impressive': 2253, 'moore': 2901, 'rob': 3710, 'andrew': 228, 'notable': 3041, 'gundam': 1997, 'joy': 2422, 'grows': 1985, 'extent': 1605, 'hiding': 2099, 'oz': 3160, 'peace': 3219, 'majority': 2712, 'epic': 1506, 'battles': 415, 'opposed': 3122, 'skip': 4016, 'bargain': 400, 'hurt': 2202, 'jay': 2386, 'friday': 1834, 'lights': 2597, 'lucky': 2683, '17': 9, 'changed': 750, 'adorable': 124, 'tonight': 4519, 'smile': 4036, 'sold': 4052, 'grow': 1982, 'treated': 4573, 'mistake': 2871, 'joan': 2404, 'personality': 3242, 'ran': 3513, 'magazine': 2701, 'prior': 3400, 'spell': 4104, 'spoiled': 4122, 'grown': 1984, 'six': 4010, 'noticed': 3049, 'taught': 4370, 'importance': 2246, 'insulting': 2310, '18': 10, 'program': 3424, 'dropped': 1370, 'monkey': 2890, 'retarded': 3663, 'horribly': 2164, 'lessons': 2578, 'genuine': 1891, 'junk': 2436, '45': 50, 'dragon': 1344, 'watchable': 4812, 'lab': 2501, 'critical': 1062, 'wonders': 4931, 'dean': 1139, 'occasion': 3073, '2003': 33, 'host': 2173, 'mafia': 2700, 'surprises': 4314, 'awards': 367, 'trilogy': 4586, 'pretending': 3382, 'norman': 3035, 'jamie': 2379, 'happily': 2030, 'fly': 1763, 'opinions': 3119, 'location': 2635, 'format': 1799, 'sitting': 4007, 'march': 2734, 'becoming': 435, 'clint': 850, 'eastwood': 1409, 'taxi': 4371, 'bull': 619, 'split': 4120, 'friendly': 1836, 'sake': 3775, 'hearts': 2066, 'advise': 134, 'parody': 3192, 'wizard': 4919, 'freddy': 1826, 'territory': 4411, 'water': 4816, 'promise': 3430, 'floating': 1758, 'frightening': 1839, 'ensues': 1493, 'nail': 2957, 'arnold': 296, 'iron': 2354, 'mario': 2738, 'civil': 826, 'cheek': 779, 'understood': 4647, 'atrocious': 335, 'redeeming': 3577, 'factor': 1622, 'cover': 1022, 'adventure': 130, 'legend': 2564, 'hank': 2024, 'gift': 1906, 'aunt': 355, 'knows': 2493, 'lovable': 2668, 'folk': 1770, 'hates': 2048, 'mental': 2808, 'patient': 3211, 'attacked': 338, 'tragic': 4552, 'illness': 2230, 'luckily': 2682, 'depressing': 1188, 'exact': 1550, 'convey': 982, 'guilty': 1995, 'individuals': 2278, 'unoriginal': 4673, 'served': 3894, 'citizen': 824, 'kane': 2442, 'superhero': 4299, 'mini': 2854, 'le': 2544, 'ability': 65, 'path': 3209, 'everyones': 1543, 'flow': 1762, 'con': 928, 'uncle': 4636, 'learns': 2553, 'changing': 752, 'agents': 151, 'replaced': 3634, 'tired': 4501, 'enthusiasm': 1501, 'thru': 4483, 'wishing': 4907, 'youth': 4994, 'figured': 1712, 'chinese': 796, 'tradition': 4549, 'random': 3514, 'wendy': 4846, 'normal': 3033, 'obsessed': 3069, 'shallow': 3917, 'wrapped': 4964, 'values': 4710, 'ironic': 2355, 'frustration': 1843, 'vague': 4705, 'smiling': 4037, 'cable': 644, 'associated': 327, 'indian': 2274, 'nurse': 3063, 'hills': 2109, 'entertain': 1497, '90s': 61, 'lion': 2614, 'sequels': 3886, 'trouble': 4592, 'fitting': 1742, 'pride': 3391, 'max': 2774, 'stiller': 4189, 'comedian': 887, 'undoubtedly': 4648, 'ideal': 2214, 'expressed': 1601, 'chaos': 755, 'brutally': 604, 'climactic': 848, 'shorts': 3948, 'bridge': 578, 'image': 2233, 'poetic': 3313, 'closer': 856, 'jean': 2389, 'exaggerated': 1552, 'neighbors': 2994, 'intimate': 2331, 'shy': 3962, 'misses': 2868, 'ridden': 3691, 'mature': 2773, 'irony': 2357, 'ball': 388, 'moon': 2900, 'piano': 3264, 'broken': 594, 'spin': 4112, 'attached': 336, 'enters': 1496, 'bullet': 620, 'anderson': 227, 'parallel': 3185, 'visuals': 4759, 'meeting': 2794, 'explore': 1594, 'captures': 678, 'larger': 2519, 'accents': 79, 'brian': 576, 'fifteen': 1706, 'repeated': 3631, 'segments': 3868, 'adding': 117, 'disturbing': 1300, 'existence': 1571, 'grinch': 1975, 'stole': 4194, 'whereas': 4865, 'justice': 2438, 'website': 4834, 'danny': 1112, 'exposed': 1598, 'stupidity': 4248, 'brooklyn': 595, 'likes': 2602, 'eat': 1411, 'writes': 4970, 'mob': 2879, 'reached': 3537, 'pacino': 3164, 'cusack': 1088, 'corruption': 1002, 'friendship': 1838, 'underrated': 4642, 'appreciated': 280, 'proceedings': 3410, 'triumph': 4590, 'filmmaker': 1719, 'insight': 2298, 'integrity': 2311, 'kudos': 2497, 'stone': 4197, 'houses': 2180, 'terror': 4412, 'burned': 626, 'yeah': 4977, 'christian': 808, 'plausible': 3295, 'thrilling': 4474, 'minded': 2850, 'whoever': 4872, 'equivalent': 1512, 'headed': 2058, '30s': 44, 'helped': 2080, 'shoots': 3944, 'paltrow': 3178, '70': 55, 'identify': 2216, 'root': 3737, 'visible': 4753, 'interaction': 2322, 'treats': 4575, 'duty': 1390, 'guilt': 1994, 'trust': 4598, 'seventies': 3904, 'catching': 716, 'dislike': 1288, 'confusing': 942, 'christ': 807, 'flawless': 1751, 'australian': 357, 'broke': 593, 'surreal': 4317, 'ordinary': 3128, 'reaction': 3541, 'cinemas': 817, 'conversations': 981, 'sword': 4340, 'born': 544, 'sharp': 3922, 'unreal': 4676, 'everybody': 1540, 'hide': 2097, 'believes': 456, 'wounded': 4961, 'corner': 996, 'trees': 4577, 'helicopter': 2076, 'lonely': 2643, 'cuba': 1075, 'identity': 2217, 'del': 1165, 'screening': 3830, 'chan': 746, 'vhs': 4725, 'kung': 2498, 'fu': 1844, 'choreography': 802, 'value': 4709, 'miscast': 2862, 'lacks': 2505, 'ingredients': 2289, 'lucy': 2684, 'laughter': 2535, 'summary': 4290, 'italian': 2367, 'explored': 1595, 'explosion': 1596, 'allows': 192, 'werewolf': 4850, 'introduction': 2339, 'albeit': 173, 'gradually': 1952, 'stood': 4199, 'beast': 422, 'midnight': 2834, 'countryside': 1015, 'bears': 421, 'basketball': 409, 'howard': 2182, 'cabin': 643, 'twin': 4615, 'shape': 3919, 'ellen': 1446, 'ass': 323, 'experiments': 1584, 'mysteries': 2954, 'scares': 3806, 'uninteresting': 4660, 'maggie': 2702, 'ranks': 3519, 'reputation': 3640, 'pulp': 3465, 'explosions': 1597, 'risk': 3704, 'everyday': 1541, 'dangerous': 1110, 'plant': 3293, 'computer': 927, '3d': 46, 'wolf': 4920, 'involves': 2348, 'environment': 1505, 'unexpected': 4650, 'gratuitous': 1961, 'guns': 1998, 'solo': 4058, 'empire': 1464, 'building': 615, 'powers': 3361, 'witness': 4914, 'showdown': 3955, 'hong': 2149, 'kong': 2494, 'witty': 4917, 'antics': 255, 'storytelling': 4209, 'resist': 3648, 'measure': 2786, 'amateurish': 207, 'todays': 4509, 'rachel': 3500, 'minimal': 2855, 'focusing': 1769, 'neighborhood': 2993, 'intriguing': 2335, 'perfection': 3225, 'returning': 3667, 'billy': 482, 'em': 1452, '1990': 24, '2004': 34, 'installment': 2303, 'franchise': 1817, 'jim': 2402, 'thank': 4421, 'turner': 4607, 'suspect': 4327, 'youd': 4987, 'introduces': 2338, 'decision': 1151, 'dies': 1245, 'instance': 2304, 'depressed': 1187, 'pal': 3177, 'bobby': 525, 'slapstick': 4019, 'physical': 3262, 'box': 555, 'travesty': 4570, 'alien': 183, 'species': 4098, 'scripts': 3836, 'ought': 3138, 'abusive': 75, 'kitchen': 2485, 'prostitute': 3440, 'beats': 426, 'huh': 2187, 'pile': 3275, 'insane': 2296, 'currently': 1085, 'groups': 1981, 'peoples': 3222, 'simplistic': 3985, 'buffs': 612, 'motives': 2916, 'pet': 3246, 'tear': 4379, 'golden': 1934, 'soccer': 4048, 'strictly': 4223, 'male': 2719, 'proof': 3434, 'expression': 1602, 'ticket': 4487, 'bus': 631, 'subsequent': 4257, 'foreign': 1790, 'carrey': 696, 'bound': 553, 'disappoint': 1272, 'lou': 2663, 'kay': 2447, 'performs': 3234, 'ham': 2011, 'boot': 538, 'arrives': 302, 'believing': 457, 'trial': 4580, 'joined': 2413, 'traveling': 4568, 'greatly': 1967, 'forty': 1807, 'jane': 2380, 'frame': 1815, 'domino': 1319, 'carries': 699, 'drug': 1373, 'bath': 411, 'june': 2433, 'sexuality': 3909, 'interview': 2329, 'neil': 2995, 'evident': 1547, 'matthau': 2771, 'lemmon': 2567, 'mixture': 2878, 'divorce': 1301, 'wall': 4781, 'dinner': 1254, 'priceless': 3390, 'shelley': 3928, 'pair': 3176, 'despair': 1207, 'perfectly': 3226, 'began': 441, 'holmes': 2139, 'edited': 1420, 'graphic': 1958, 'shop': 3945, 'admittedly': 123, 'screaming': 3827, 'player': 3298, 'abysmal': 76, 'differences': 1247, 'dancing': 1107, 'aspect': 321, 'nicholson': 3011, 'evening': 1534, 'los': 2653, 'angeles': 233, 'widely': 4881, 'disjointed': 1287, 'abandoned': 62, 'thugs': 4484, 'generous': 1886, 'notes': 3046, 'humorous': 2193, 'revelation': 3674, 'eager': 1396, 'finger': 1731, 'ya': 4976, 'worried': 4949, 'commercial': 902, 'disease': 1285, 'eg': 1434, 'messed': 2821, 'fix': 1744, 'initially': 2291, 'kevin': 2457, 'cards': 683, 'keeping': 2450, 'couldve': 1009, 'machines': 2694, 'matrix': 2767, 'historical': 2119, 'imagery': 2234, 'parties': 3196, 'terrifying': 4410, 'impact': 2244, 'jobs': 2406, 'lazy': 2543, 'destroyed': 1214, 'masses': 2755, 'alongside': 196, 'race': 3499, 'abuse': 74, 'square': 4136, 'breasts': 572, 'designed': 1203, 'develops': 1226, 'east': 1407, 'narrator': 2967, 'trade': 4547, 'nations': 2971, 'eve': 1532, 'resolution': 3649, 'resort': 3650, 'offered': 3088, 'brief': 579, 'condition': 937, 'garbo': 1871, 'mgm': 2828, 'assigned': 325, 'severe': 3906, 'trademark': 4548, 'bank': 394, 'returns': 3668, 'promised': 3431, 'importantly': 2248, 'row': 3744, 'storm': 4206, 'passes': 3203, 'wandering': 4785, 'queen': 3485, 'singer': 3993, 'nasty': 2968, 'tad': 4347, 'print': 3399, 'makers': 2715, 'mtv': 2933, 'convinced': 984, 'liking': 2604, 'saves': 3796, 'eating': 1413, 'gain': 1863, 'orders': 3127, 'irish': 2353, 'vampire': 4711, 'holding': 2130, 'fbi': 1675, 'rose': 3739, 'garden': 1872, 'revealed': 3671, 'asks': 319, 'disturbed': 1299, 'interpretation': 2328, 'psychotic': 3459, 'ourselves': 3140, 'answer': 251, 'matt': 2768, 'rick': 3689, 'amy': 222, 'gary': 1873, 'assistant': 326, 'louise': 2666, 'disappear': 1270, 'killings': 2473, 'survive': 4321, 'attacks': 339, 'spread': 4133, 'picks': 3268, 'menace': 2806, 'distracting': 1297, 'spoil': 4121, 'pity': 3281, 'channel': 753, 'catchy': 717, 'spoof': 4127, 'truck': 4595, 'partly': 3197, 'harder': 2035, 'successfully': 4267, 'birds': 485, 'paulie': 3215, 'bird': 484, 'aging': 153, 'twists': 4619, 'russian': 3762, 'curse': 1086, 'angles': 237, 'breathtaking': 574, 'thumbs': 4485, 'magical': 2704, 'village': 4743, 'carrie': 697, 'danger': 1109, 'price': 3389, 'training': 4558, 'roberts': 3714, 'emma': 1457, 'nancy': 2964, 'drew': 1360, 'blend': 504, 'contain': 962, 'china': 795, 'versus': 4722, 'fights': 1710, 'tender': 4401, 'sensitive': 3879, 'depiction': 1185, 'sutherland': 4333, 'stunts': 4246, 'stunt': 4245, 'sudden': 4272, 'vacation': 4704, 'remembered': 3617, 'misery': 2865, 'detail': 1217, 'studios': 4241, 'theatrical': 4430, 'unable': 4631, 'hammer': 2014, 'card': 681, 'table': 4346, 'choreographed': 801, 'comparison': 914, 'purchased': 3470, 'discover': 1279, 'olivier': 3103, 'superman': 4301, 'manipulative': 2727, 'sadistic': 3768, 'section': 3853, 'needless': 2989, 'blind': 506, 'eyed': 1612, 'photographer': 3259, 'photos': 3261, 'coach': 868, 'elvis': 1451, 'describes': 1196, 'pilot': 3276, 'shirley': 3936, 'lesbian': 2573, 'wed': 4835, 'jesse': 2397, 'daniel': 1111, 'robinson': 3716, 'fears': 1677, 'accepted': 82, 'approach': 282, 'impress': 2250, 'inferior': 2285, 'fest': 1696, '3000': 43, 'miles': 2843, 'russell': 3761, 'era': 1513, 'related': 3594, 'navy': 2976, 'corny': 997, 'retired': 3664, 'club': 863, 'mann': 2728, 'league': 2549, 'remarkably': 3614, 'bleak': 503, 'hunting': 2201, 'trail': 4553, 'meat': 2787, 'dan': 1102, 'mitchell': 2875, 'winters': 4901, 'eastern': 1408, 'claire': 831, 'aint': 163, 'dynamic': 1394, 'duo': 1386, 'waitress': 4773, 'unlikely': 4671, 'vegas': 4717, 'incomprehensible': 2267, 'test': 4416, 'lucas': 2680, 'ultimate': 4627, 'plan': 3287, 'boxing': 556, 'remotely': 3623, 'guessing': 1991, 'sean': 3840, 'treatment': 4574, 'criminal': 1057, 'descent': 1193, 'orange': 3125, 'communist': 907, 'humble': 2191, 'worker': 4942, 'ken': 2453, 'legal': 2563, 'roll': 3728, 'pop': 3330, '11': 2, 'deaf': 1134, 'september': 3884, '1973': 19, 'cia': 814, 'distribution': 1298, 'ballet': 389, 'india': 2273, 'wwii': 4975, 'stomach': 4196, 'trailer': 4554, 'rings': 3699, 'bud': 607, 'ego': 1435, 'recognition': 3568, 'scott': 3824, 'contest': 967, 'unforgettable': 4652, 'enjoyment': 1488, 'dated': 1119, 'swear': 4334, 'dogs': 1311, 'size': 4012, 'scope': 3821, 'blow': 514, 'forgive': 1795, 'godfather': 1927, 'briefly': 580, 'cruise': 1071, 'criminals': 1058, 'demand': 1174, 'jaw': 2384, 'chest': 784, 'adequate': 120, 'calm': 655, 'throws': 4482, 'throw': 4479, 'spirit': 4113, 'revolutionary': 3681, 'page': 3167, 'blowing': 515, 'steps': 4177, 'stilted': 4190, 'express': 1600, 'painting': 3175, 'useless': 4695, 'ha': 2002, 'solve': 4060, 'paying': 3217, 'carried': 698, 'bag': 384, 'represents': 3639, 'childhood': 790, 'snow': 4045, 'cave': 727, 'defend': 1158, 'belong': 459, 'adventures': 131, 'challenging': 744, 'challenge': 743, 'hideous': 2098, 'cannibal': 669, 'attempting': 342, 'routine': 3743, 'reasonably': 3559, 'includes': 2263, 'acid': 95, 'loads': 2633, 'variety': 4714, 'endless': 1473, 'bruce': 602, 'hundred': 2195, 'interviews': 2330, 'designs': 1204, 'dawn': 1127, 'prevent': 3385, 'generation': 1883, '1960s': 15, 'hamilton': 2012, 'berlin': 467, 'favor': 1670, 'included': 2262, 'object': 3066, 'trap': 4563, 'julie': 2428, 'cary': 706, 'prime': 3395, 'monkeys': 2891, 'pulling': 3463, 'originality': 3130, 'willis': 4890, 'pulls': 3464, 'brad': 560, 'captivating': 675, 'element': 1442, 'madness': 2698, 'backdrop': 379, 'plight': 3308, 'tricks': 4583, 'drops': 1372, 'brazil': 568, 'promising': 3433, 'unhappy': 4656, 'toys': 4543, 'sounding': 4083, 'cliche': 843, 'overlook': 3153, 'choices': 798, 'unfolds': 4651, 'minimum': 2856, 'weapon': 4828, 'greed': 1968, 'attitudes': 347, 'improvement': 2256, '1970s': 17, 'unusual': 4681, 'closely': 855, 'tea': 4373, 'taylor': 4372, 'jungle': 2434, 'elegant': 1441, 'memory': 2804, 'fury': 1855, 'boredom': 542, 'andrews': 229, 'eyre': 1614, 'mansion': 2731, 'wide': 4880, 'dances': 1106, 'analysis': 224, 'refuses': 3587, 'cities': 823, 'bottle': 550, 'bizarre': 492, 'chuck': 812, 'dressed': 1358, 'tight': 4492, 'commercials': 903, 'jon': 2416, 'stewart': 4184, 'daily': 1097, 'theyll': 4444, 'eva': 1531, 'twins': 4616, 'contrary': 974, 'sucked': 4270, 'user': 4696, 'argue': 290, 'isolated': 2363, 'sappy': 3784, 'surrounded': 4318, 'theory': 4437, 'discuss': 1283, 'heavily': 2069, 'firstly': 1737, 'teachers': 4376, 'professor': 3422, 'deeper': 1155, 'engage': 1479, 'discussion': 1284, 'abilities': 64, 'definition': 1163, 'explaining': 1588, 'avoided': 364, 'scientists': 3819, 'signed': 3971, 'warming': 4795, 'workers': 4943, 'expert': 1585, 'journalist': 2420, 'terrorists': 4414, 'chess': 783, 'neighbor': 2992, 'blob': 507, 'lyrics': 2692, 'blair': 497, 'doctors': 1305, 'office': 3091, 'redemption': 3578, 'thief': 4448, 'seeks': 3860, 'pot': 3354, 'religion': 3607, 'handled': 2019, 'philosophical': 3253, 'hippie': 2115, 'determined': 1221, 'upper': 4685, 'mere': 2814, 'kidding': 2465, 'provoking': 3452, 'photographed': 3258, 'laughably': 2531, 'crude': 1069, 'jackson': 2375, 'sunday': 4293, 'comics': 895, 'admire': 121, 'loyal': 2679, 'leo': 2571, 'chaplin': 756, 'titles': 4506, 'physically': 3263, 'myers': 2952, 'dealt': 1138, 'respected': 3653, 'wannabe': 4787, 'plastic': 3294, 'ted': 4386, 'laura': 2536, 'susan': 4326, 'silver': 3977, 'mars': 2746, 'disappeared': 1271, 'judy': 2426, 'stock': 4193, 'spring': 4134, 'fay': 1674, 'handsome': 2021, '1933': 12, 'tame': 4363, 'swim': 4337, 'extreme': 1609, 'symbolism': 4341, 'covers': 1024, 'throwing': 4480, 'strip': 4228, 'performing': 3233, 'perform': 3227, 'concert': 935, 'intrigue': 2333, 'knife': 2487, 'tiger': 4491, 'dub': 1378, 'heck': 2071, 'existent': 1572, 'formulaic': 1803, 'emphasis': 1463, 'range': 3516, 'todd': 4510, 'trained': 4557, 'realizing': 3555, 'rambo': 3511, 'ramones': 3512, 'nostalgia': 3038, 'principal': 3398, 'punk': 3468, 'airplane': 166, 'miller': 2846, 'sinatra': 3989, 'fond': 1776, 'amazed': 208, 'francisco': 1819, 'bay': 416, 'nervous': 2999, 'officers': 3093, 'hired': 2117, 'aforementioned': 139, 'persons': 3244, 'suffer': 4275, 'threatening': 4468, 'patients': 3212, 'awfully': 373, 'buildings': 616, 'vice': 4727, 'staring': 4152, 'pool': 3327, 'freak': 1824, '16': 8, 'fairy': 1632, 'smaller': 4034, 'slightest': 4028, 'jeremy': 2394, 'dreary': 1356, 'letters': 2582, 'matches': 2764, 'involvement': 2347, 'cole': 873, 'plague': 3285, 'couples': 1017, 'tour': 4538, 'thrills': 4475, 'wood': 4933, 'giallo': 1904, 'delight': 1167, 'bonus': 534, 'improved': 2255, 'colour': 880, 'fits': 1741, 'goldberg': 1933, 'glover': 1923, 'margaret': 2735, 'stinker': 4191, 'therefore': 4439, 'altogether': 202, 'literature': 2623, 'welcome': 4842, 'angle': 236, 'italy': 2368, 'closed': 854, 'massive': 2756, 'prepared': 3371, 'conflicts': 940, 'liberal': 2588, 'presentation': 3375, 'equipment': 1511, 'dig': 1250, 'lees': 2560, 'advice': 133, 'murphy': 2944, 'ed': 1415, 'fonda': 1777, 'wondered': 4927, 'loser': 2655, 'thomas': 4458, 'unbelievably': 4635, 'michelle': 2830, 'lower': 2677, 'hbo': 2055, 'ashley': 313, 'wrap': 4963, 'clip': 851, 'ambitious': 211, 'virginia': 4750, 'providing': 3451, 'appropriate': 283, 'instinct': 2308, 'catherine': 719, 'mentally': 2809, 'similarities': 3979, 'explicit': 1591, 'miserable': 2863, 'charlotte': 766, 'cox': 1026, 'theyve': 4446, 'afternoon': 144, 'abc': 63, 'birthday': 487, 'carl': 692, 'feed': 1683, 'cliff': 847, 'chick': 786, 'described': 1195, '2007': 37, 'remarks': 3615, 'outer': 3143, 'ridiculously': 3694, 'kicks': 2463, 'hal': 2006, 'enemy': 1477, 'creator': 1043, 'reaching': 3539, 'property': 3438, 'betty': 474, 'remaining': 3610, 'depression': 1189, 'promises': 3432, 'seed': 3856, 'population': 3335, 'jail': 2376, 'outcome': 3142, 'judging': 2425, 'jimmy': 2403, 'tense': 4403, 'rocky': 3723, 'hoped': 2156, 'thick': 4447, 'embarrassment': 1455, 'copies': 992, 'mill': 2845, 'african': 142, 'baker': 385, 'hugh': 2186, 'jazz': 2387, 'teacher': 4375, 'concern': 931, 'spain': 4091, 'speaks': 4096, 'franco': 1820, 'hopeless': 2158, 'succeeds': 4264, 'edition': 1422, 'awe': 370, 'quest': 3486, 'randomly': 3515, 'blonde': 511, 'gripping': 1976, 'miserably': 2864, 'fatal': 1664, 'ludicrous': 2685, 'vengeance': 4719, 'skill': 4013, 'entertained': 1498, 'nostalgic': 3039, 'careful': 688, 'lowest': 2678, 'costs': 1004, 'davies': 1125, 'primary': 3394, 'pushed': 3478, 'robbery': 3711, 'prisoner': 3402, 'murderous': 2942, 'flashback': 1746, 'progresses': 3426, 'imaginative': 2237, 'occurs': 3078, 'arrival': 299, 'troops': 4591, 'scores': 3823, 'tune': 4602, 'implausible': 2245, 'adams': 112, 'mail': 2706, 'month': 2896, 'intent': 2318, 'sellers': 3872, 'circumstances': 822, 'emily': 1456, 'victoria': 4732, 'bollywood': 530, 'meaningless': 2782, 'innocence': 2293, 'weekend': 4838, 'grew': 1972, 'enjoying': 1487, 'cringe': 1059, 'racial': 3501, 'intentions': 2321, 'dedicated': 1153, 'likewise': 2603, 'gifted': 1907, 'lit': 2621, 'rooms': 3736, 'drinking': 1362, 'hook': 2152, 'hop': 2154, 'putting': 3482, 'musicals': 2948, 'astaire': 330, 'cardboard': 682, 'ginger': 1908, 'rogers': 3725, 'command': 897, 'valuable': 4708, 'switch': 4339, 'contact': 961, 'stretched': 4222, 'amitabh': 216, 'manhattan': 2726, 'kim': 2475, 'witches': 4910, 'gray': 1963, 'exceptionally': 1559, 'justify': 2439, 'river': 3707, 'lawrence': 2539, 'closest': 857, 'subtitles': 4259, 'vampires': 4712, 'zombies': 4998, 'teenager': 4390, 'cheated': 775, 'lasted': 2522, 'colonel': 876, 'mirror': 2861, 'credible': 1048, 'signs': 3973, 'bone': 533, 'strike': 4224, 'revealing': 3672, 'imagined': 2239, 'kings': 2481, 'kingdom': 2480, 'robin': 3715, 'stanley': 4148, 'dialogues': 1235, 'elvira': 1450, 'rotten': 3740, 'joey': 2408, 'damon': 1101, 'spike': 4111, 'satire': 3788, 'amateur': 206, 'hip': 2114, 'pokemon': 3320, 'arguably': 289, 'hunter': 2199, 'attitude': 346, 'fooled': 1780, 'highest': 2102, 'suited': 4286, 'refreshing': 3586, 'roots': 3738, 'saturday': 3792, 'snl': 4044, 'improve': 2254, 'throat': 4476, 'vast': 4716, 'linda': 2609, 'niro': 3019, 'tracy': 4546, 'ian': 2209, 'endure': 1475, 'vaguely': 4706, 'understated': 4646, 'map': 2733, 'reach': 3536, 'airport': 167, 'trapped': 4564, 'serving': 3897, 'weakest': 4825, 'cinderella': 815, 'transformation': 4560, 'carter': 703, 'scared': 3805, 'idiots': 2220, 'aids': 161, 'waited': 4771, 'photo': 3257, 'directions': 1262, 'marie': 2737, 'virgin': 4749, 'sits': 4006, 'pants': 3182, 'fields': 1705, 'horrific': 2166, 'shark': 3921, 'genres': 1889, 'mate': 2765, 'handle': 2018, 'creation': 1040, 'deceased': 1146, 'woody': 4936, 'bond': 532, 'brosnan': 597, 'lol': 2640, 'spider': 4109, 'jealous': 2388, 'cameron': 661, 'hang': 2022, 'temple': 4398, 'unpredictable': 4675, 'responsible': 3656, 'mouth': 2920, 'ruthless': 3764, 'sides': 3967, 'troubles': 4594, 'pages': 3168, 'reasonable': 3558, 'relies': 3606, 'obscure': 3068, 'baseball': 403, 'crowd': 1067, 'elsewhere': 1449, 'tedious': 4387, 'influence': 2286, 'demented': 1176, 'moronic': 2907, 'extras': 1608, 'hints': 2113, 'harsh': 2040, 'introduce': 2336, 'buck': 605, 'breaking': 570, 'pops': 3332, 'grandmother': 1955, 'suggested': 4281, 'bullets': 621, 'worry': 4950, 'teeth': 4393, 'brilliantly': 584, 'leonard': 2572, 'noir': 3023, 'gritty': 1977, 'porno': 3337, 'careers': 687, 'wives': 4918, 'urban': 4688, 'carefully': 689, 'official': 3094, 'attend': 344, 'alas': 172, 'walker': 4778, '2006': 36, '2000': 30, 'steel': 4173, 'bo': 521, 'cd': 728, 'heights': 2073, 'areas': 287, 'requires': 3642, 'per': 3223, 'method': 2824, 'eighties': 1437, 'hated': 2047, 'ignorant': 2223, 'alright': 198, 'faults': 1669, 'weapons': 4829, 'montage': 2894, 'ruins': 3752, 'exists': 1573, 'beatty': 427, 'according': 88, 'wholly': 4874, 'coherent': 871, 'basis': 408, 'frequently': 1832, 'sympathy': 4343, 'hoffman': 2128, 'agrees': 157, 'easier': 1405, 'handful': 2017, 'armed': 293, 'fired': 1735, 'rex': 3683, 'korean': 2495, 'neck': 2985, 'pushing': 3479, 'wayne': 4821, 'forces': 1788, 'listed': 2618, 'claimed': 829, 'defeat': 1157, 'secretly': 3851, 'newly': 3004, 'builds': 617, 'derek': 1192, 'virus': 4752, 'superficial': 4298, 'shell': 3927, 'maintain': 2710, 'blacks': 494, 'carrying': 701, 'reaches': 3538, 'lengthy': 2570, 'flynn': 1765, 'familys': 1646, 'yelling': 4980, 'highlight': 2103, 'absence': 70, 'practice': 3363, 'beaten': 424, 'sink': 3999, 'mildred': 2841, 'prisoners': 3403, 'planning': 3291, 'doc': 1303, 'fed': 1682, 'planned': 3290, '25': 40, 'cleverly': 842, 'web': 4833, 'hollywoods': 2138, 'unintentional': 4658, 'khan': 2459, 'executive': 1567, 'kapoor': 2443, 'akshay': 169, 'engaged': 1480, 'prom': 3429, 'walken': 4777, 'sings': 3997, 'dust': 1388, 'enjoys': 1489, 'arm': 292, 'movements': 2924, 'legs': 2566, 'paced': 3162, 'cruel': 1070, 'prequel': 3372, 'lena': 2568, 'household': 2179, 'relation': 3595, 'illegal': 2229, 'shining': 3933, 'possessed': 3347, 'namely': 2962, '13th': 5, 'unseen': 4678, 'sloppy': 4030, 'aired': 165, 'strangely': 4212, 'streisand': 4218, 'classical': 836, 'shakespeare': 3915, 'purple': 3473, 'dinosaur': 1255, 'involve': 2345, '35': 45, 'jake': 2377, 'twilight': 4614, 'whale': 4857, 'developing': 1224, 'lumet': 2688, 'landscape': 2513, 'pink': 3277, 'timothy': 4499, 'conspiracy': 956, 'quit': 3494, 'nuts': 3064, 'alcohol': 176, 'cared': 685, 'charisma': 762, 'diana': 1237, 'burt': 629, 'nevertheless': 3002, 'depicting': 1184, 'producing': 3417, 'yellow': 4981, 'florida': 1761, 'politically': 3325, 'balls': 390, 'grasp': 1960, 'foster': 1809, 'eerie': 1427, 'formula': 1802, 'cheese': 780, '1930s': 11, 'reed': 3580, 'gotta': 1946, 'catholic': 720, 'vincent': 4746, 'health': 2060, 'portrait': 3339, '1983': 22, 'clark': 832, 'spoke': 4125, 'imitation': 2241, 'pays': 3218, 'indians': 2275, 'unpleasant': 4674, 'widow': 4883, 'internet': 2327, 'reynolds': 3684, 'dennis': 1179, 'orson': 3132, 'welles': 4844, 'philip': 3252, 'rolled': 3729, 'testament': 4417, 'vulnerable': 4768, 'album': 175, 'selling': 3873, 'load': 2631, 'nuclear': 3057, 'nine': 3017, 'capital': 673, 'gangsters': 1869, 'tortured': 4530, 'cagney': 646, 'hyde': 2206, 'stooges': 4200, 'buying': 641, 'access': 83, 'scrooge': 3837, 'dickens': 1240, 'styles': 4250, 'authority': 360, 'beliefs': 452, 'dutch': 1389, 'indie': 2276, 'offended': 3085, 'caliber': 649, 'ho': 2127, 'hardcore': 2034, 'recognized': 3570, 'regarding': 3589, 'remain': 3609, 'alert': 178, 'rochester': 3719, 'dalton': 1098, 'affect': 136, 'sneak': 4043, 'danes': 1108, 'richardson': 3688, 'pitch': 3279, 'rendition': 3625, 'gender': 1878, 'hamlet': 2013, 'cure': 1081, 'exploration': 1593, 'kenneth': 2455, 'branagh': 564, '1980': 20, 'pamela': 3179, 'itll': 2369, 'instant': 2305, 'screams': 3828, 'clown': 862, 'doll': 1313, 'dropping': 1371, 'farm': 1656, 'mel': 2796, 'tomatoes': 4515, 'sandra': 3782, 'defined': 1160, 'iraq': 2351, 'shines': 3932, 'vivid': 4760, 'solution': 4059, 'painted': 3174, 'slave': 4022, 'unaware': 4632, 'conventional': 979, 'dressing': 1359, 'disc': 1278, 'coffee': 870, 'vietnam': 4735, 'fulci': 1845, 'raped': 3522, 'der': 1191, 'et': 1526, 'donna': 1323, 'macy': 2695, 'stale': 4141, 'projects': 3428, 'motivations': 2915, 'maria': 2736, 'trashy': 4566, 'warriors': 4803, 'brady': 561, 'lisa': 2616, 'karen': 2444, 'methods': 2825, 'metal': 2823, 'cube': 1076, 'landscapes': 2514, 'liners': 2611, 'exposure': 1599, 'montana': 2895, 'convincingly': 986, 'creativity': 1042, 'duke': 1383, 'panic': 3181, 'ritter': 3705, 'prize': 3405, 'button': 639, 'ned': 2986, 'campbell': 663, 'prefer': 3368, 'arrived': 301, 'shake': 3914, 'overacting': 3149, 'angels': 234, 'generated': 1882, 'translation': 4562, 'abraham': 69, 'confidence': 938, 'denzel': 1181, 'sunshine': 4294, 'behave': 445, 'halfway': 2008, 'strangers': 4214, 'alternate': 200, 'mistaken': 2872, 'shoes': 3941, 'germans': 1897, 'belongs': 460, 'merits': 2817, 'responsibility': 3655, 'innovative': 2295, 'voight': 4764, 'inevitably': 2283, 'understandable': 4644, 'flies': 1756, 'landing': 2512, 'jumped': 2430, 'lips': 2615, '1972': 18, 'videos': 4734, 'stargate': 4151, '2002': 32, 'resident': 3647, 'returned': 3666, 'ireland': 2352, 'atlantis': 332, 'gandhi': 1866, 'bettie': 473, 'ruth': 3763, 'questionable': 3488, 'morality': 2903, 'pseudo': 3454, 'possibility': 3349, 'hint': 2112, 'earned': 1401, 'possibilities': 3348, 'displays': 1293, 'stinks': 4192, 'horses': 2171, 'madonna': 2699, 'mundane': 2938, 'travels': 4569, 'lincoln': 2608, 'singers': 3994, 'morris': 2908, 'cheating': 776, 'dawson': 1128, 'ape': 266, 'tarzan': 4367, 'wrestling': 4966, 'drivel': 1364, 'influenced': 2287, 'bold': 528, 'fever': 1699, 'mall': 2720, 'accompanied': 86, 'jenny': 2393, 'nonsensical': 3031, 'urge': 4689, 'buddies': 608, 'gabriel': 1859, 'online': 3109, 'survived': 4322, 'swimming': 4338, 'draws': 1352, 'scooby': 3820, 'doo': 1325, 'tooth': 4524, 'buff': 611, 'thrillers': 4473, 'secondly': 3847, 'sally': 3776, 'lately': 2524, 'pack': 3165, 'marvelous': 2750, 'deliberately': 1166, 'unintentionally': 4659, 'forms': 1801, 'junior': 2435, 'paranoia': 3186, 'li': 2587, 'inane': 2258, 'stones': 4198, 'miracle': 2860, 'bergman': 466, 'kubrick': 2496, 'melting': 2799, 'shortly': 3947, 'rabbit': 3498, 'brains': 563, 'continued': 970, 'annie': 247, 'poem': 3312, 'survival': 4320, 'georges': 1894, 'perry': 3237, 'hopper': 2161, 'royal': 3746, 'marty': 2749, 'australia': 356, 'heston': 2094, 'kirk': 2482, 'holly': 2136, 'aid': 160, 'catches': 715, 'hung': 2197, 'teaching': 4377, 'apes': 267, 'reel': 3581, 'ocean': 3079, 'christians': 809, 'corporate': 998, 'swedish': 4335, 'nightmares': 3015, 'championship': 745, 'miike': 2837, 'peters': 3248, 'molly': 2884, 'robbins': 3712, 'kicked': 2461, 'rap': 3520, 'waves': 4819, 'bite': 489, 'godzilla': 1929, 'justin': 2440, '1968': 16, 'modesty': 2883, 'dinosaurs': 1256, 'bakshi': 386}\n"
     ]
    }
   ],
   "source": [
    "print(str(vocabulary))"
   ]
  },
  {
   "cell_type": "markdown",
   "metadata": {},
   "source": [
    "Once you have added the endpoint name to the Lambda function, click on **Save**. Your Lambda function is now up and running. Next we need to create a way for our web app to execute the Lambda function."
   ]
  },
  {
   "cell_type": "markdown",
   "metadata": {},
   "source": [
    "### Setting up API Gateway\n",
    "\n",
    "Now that our Lambda function is set up, it is time to create a new API using API Gateway that will trigger the Lambda function we have just created.\n",
    "\n",
    "Using AWS Console, navigate to **Amazon API Gateway** and then click on **Get started**.\n",
    "\n",
    "On the next page, make sure that **New API** is selected and give the new api a name, for example, `sentiment_analysis_web_app`. Then, click on **Create API**.\n",
    "\n",
    "Now we have created an API, however it doesn't currently do anything. What we want it to do is to trigger the Lambda function that we created earlier.\n",
    "\n",
    "Select the **Actions** dropdown menu and click **Create Method**. A new blank method will be created, select its dropdown menu and select **POST**, then click on the check mark beside it.\n",
    "\n",
    "For the integration point, make sure that **Lambda Function** is selected and click on the **Use Lambda Proxy integration**. This option makes sure that the data that is sent to the API is then sent directly to the Lambda function with no processing. It also means that the return value must be a proper response object as it will also not be processed by API Gateway.\n",
    "\n",
    "Type the name of the Lambda function you created earlier into the **Lambda Function** text entry box and then click on **Save**. Click on **OK** in the pop-up box that then appears, giving permission to API Gateway to invoke the Lambda function you created.\n",
    "\n",
    "The last step in creating the API Gateway is to select the **Actions** dropdown and click on **Deploy API**. You will need to create a new Deployment stage and name it anything you like, for example `prod`.\n",
    "\n",
    "You have now successfully set up a public API to access your SageMaker model. Make sure to copy or write down the URL provided to invoke your newly created public API as this will be needed in the next step. This URL can be found at the top of the page, highlighted in blue next to the text **Invoke URL**."
   ]
  },
  {
   "cell_type": "markdown",
   "metadata": {},
   "source": [
    "## Step 7: Deploying our web app\n",
    "\n",
    "Now that we have a publicly available API, we can start using it in a web app. For our purposes, we have provided a simple static html file which can make use of the public api you created earlier.\n",
    "\n",
    "In the `website` folder there should be a file called `index.html`. Download the file to your computer and open that file up in a text editor of your choice. There should be a line which contains **\\*\\*REPLACE WITH PUBLIC API URL\\*\\***. Replace this string with the url that you wrote down in the last step and then save the file.\n",
    "\n",
    "Now, if you open `index.html` on your local computer, your browser will behave as a local web server and you can use the provided site to interact with your SageMaker model.\n",
    "\n",
    "If you'd like to go further, you can host this html file anywhere you'd like, for example using github or hosting a static site on Amazon's S3. Once you have done this you can share the link with anyone you'd like and have them play with it too!\n",
    "\n",
    "> **Important Note** In order for the web app to communicate with the SageMaker endpoint, the endpoint has to actually be deployed and running. This means that you are paying for it. Make sure that the endpoint is running when you want to use the web app but that you shut it down when you don't need it, otherwise you will end up with a surprisingly large AWS bill."
   ]
  },
  {
   "cell_type": "markdown",
   "metadata": {},
   "source": [
    "### Delete the endpoint\n",
    "\n",
    "Remember to always shut down your endpoint if you are no longer using it. You are charged for the length of time that the endpoint is running so if you forget and leave it on you could end up with an unexpectedly large bill."
   ]
  },
  {
   "cell_type": "code",
   "execution_count": 52,
   "metadata": {},
   "outputs": [],
   "source": [
    "xgb_predictor.delete_endpoint()"
   ]
  },
  {
   "cell_type": "markdown",
   "metadata": {},
   "source": [
    "## Optional: Clean up\n",
    "\n",
    "The default notebook instance on SageMaker doesn't have a lot of excess disk space available. As you continue to complete and execute notebooks you will eventually fill up this disk space, leading to errors which can be difficult to diagnose. Once you are completely finished using a notebook it is a good idea to remove the files that you created along the way. Of course, you can do this from the terminal or from the notebook hub if you would like. The cell below contains some commands to clean up the created files from within the notebook."
   ]
  },
  {
   "cell_type": "code",
   "execution_count": 53,
   "metadata": {},
   "outputs": [
    {
     "ename": "OSError",
     "evalue": "[Errno 12] Cannot allocate memory",
     "output_type": "error",
     "traceback": [
      "\u001b[0;31m---------------------------------------------------------------------------\u001b[0m",
      "\u001b[0;31mOSError\u001b[0m                                   Traceback (most recent call last)",
      "\u001b[0;32m<ipython-input-53-2c87d8eefdf2>\u001b[0m in \u001b[0;36m<module>\u001b[0;34m\u001b[0m\n\u001b[1;32m      1\u001b[0m \u001b[0;31m# First we will remove all of the files contained in the data_dir directory\u001b[0m\u001b[0;34m\u001b[0m\u001b[0;34m\u001b[0m\u001b[0;34m\u001b[0m\u001b[0m\n\u001b[0;32m----> 2\u001b[0;31m \u001b[0mget_ipython\u001b[0m\u001b[0;34m(\u001b[0m\u001b[0;34m)\u001b[0m\u001b[0;34m.\u001b[0m\u001b[0msystem\u001b[0m\u001b[0;34m(\u001b[0m\u001b[0;34m'rm $data_dir/*'\u001b[0m\u001b[0;34m)\u001b[0m\u001b[0;34m\u001b[0m\u001b[0;34m\u001b[0m\u001b[0m\n\u001b[0m\u001b[1;32m      3\u001b[0m \u001b[0;34m\u001b[0m\u001b[0m\n\u001b[1;32m      4\u001b[0m \u001b[0;31m# And then we delete the directory itself\u001b[0m\u001b[0;34m\u001b[0m\u001b[0;34m\u001b[0m\u001b[0;34m\u001b[0m\u001b[0m\n\u001b[1;32m      5\u001b[0m \u001b[0mget_ipython\u001b[0m\u001b[0;34m(\u001b[0m\u001b[0;34m)\u001b[0m\u001b[0;34m.\u001b[0m\u001b[0msystem\u001b[0m\u001b[0;34m(\u001b[0m\u001b[0;34m'rmdir $data_dir'\u001b[0m\u001b[0;34m)\u001b[0m\u001b[0;34m\u001b[0m\u001b[0;34m\u001b[0m\u001b[0m\n",
      "\u001b[0;32m~/anaconda3/envs/python3/lib/python3.6/site-packages/IPython/core/interactiveshell.py\u001b[0m in \u001b[0;36msystem_piped\u001b[0;34m(self, cmd)\u001b[0m\n\u001b[1;32m   2454\u001b[0m         \u001b[0;31m# a non-None value would trigger :func:`sys.displayhook` calls.\u001b[0m\u001b[0;34m\u001b[0m\u001b[0;34m\u001b[0m\u001b[0;34m\u001b[0m\u001b[0m\n\u001b[1;32m   2455\u001b[0m         \u001b[0;31m# Instead, we store the exit_code in user_ns.\u001b[0m\u001b[0;34m\u001b[0m\u001b[0;34m\u001b[0m\u001b[0;34m\u001b[0m\u001b[0m\n\u001b[0;32m-> 2456\u001b[0;31m         \u001b[0mself\u001b[0m\u001b[0;34m.\u001b[0m\u001b[0muser_ns\u001b[0m\u001b[0;34m[\u001b[0m\u001b[0;34m'_exit_code'\u001b[0m\u001b[0;34m]\u001b[0m \u001b[0;34m=\u001b[0m \u001b[0msystem\u001b[0m\u001b[0;34m(\u001b[0m\u001b[0mself\u001b[0m\u001b[0;34m.\u001b[0m\u001b[0mvar_expand\u001b[0m\u001b[0;34m(\u001b[0m\u001b[0mcmd\u001b[0m\u001b[0;34m,\u001b[0m \u001b[0mdepth\u001b[0m\u001b[0;34m=\u001b[0m\u001b[0;36m1\u001b[0m\u001b[0;34m)\u001b[0m\u001b[0;34m)\u001b[0m\u001b[0;34m\u001b[0m\u001b[0;34m\u001b[0m\u001b[0m\n\u001b[0m\u001b[1;32m   2457\u001b[0m \u001b[0;34m\u001b[0m\u001b[0m\n\u001b[1;32m   2458\u001b[0m     \u001b[0;32mdef\u001b[0m \u001b[0msystem_raw\u001b[0m\u001b[0;34m(\u001b[0m\u001b[0mself\u001b[0m\u001b[0;34m,\u001b[0m \u001b[0mcmd\u001b[0m\u001b[0;34m)\u001b[0m\u001b[0;34m:\u001b[0m\u001b[0;34m\u001b[0m\u001b[0;34m\u001b[0m\u001b[0m\n",
      "\u001b[0;32m~/anaconda3/envs/python3/lib/python3.6/site-packages/IPython/utils/_process_posix.py\u001b[0m in \u001b[0;36msystem\u001b[0;34m(self, cmd)\u001b[0m\n\u001b[1;32m    154\u001b[0m                 \u001b[0mchild\u001b[0m \u001b[0;34m=\u001b[0m \u001b[0mpexpect\u001b[0m\u001b[0;34m.\u001b[0m\u001b[0mspawnb\u001b[0m\u001b[0;34m(\u001b[0m\u001b[0mself\u001b[0m\u001b[0;34m.\u001b[0m\u001b[0msh\u001b[0m\u001b[0;34m,\u001b[0m \u001b[0margs\u001b[0m\u001b[0;34m=\u001b[0m\u001b[0;34m[\u001b[0m\u001b[0;34m'-c'\u001b[0m\u001b[0;34m,\u001b[0m \u001b[0mcmd\u001b[0m\u001b[0;34m]\u001b[0m\u001b[0;34m)\u001b[0m \u001b[0;31m# Pexpect-U\u001b[0m\u001b[0;34m\u001b[0m\u001b[0;34m\u001b[0m\u001b[0m\n\u001b[1;32m    155\u001b[0m             \u001b[0;32melse\u001b[0m\u001b[0;34m:\u001b[0m\u001b[0;34m\u001b[0m\u001b[0;34m\u001b[0m\u001b[0m\n\u001b[0;32m--> 156\u001b[0;31m                 \u001b[0mchild\u001b[0m \u001b[0;34m=\u001b[0m \u001b[0mpexpect\u001b[0m\u001b[0;34m.\u001b[0m\u001b[0mspawn\u001b[0m\u001b[0;34m(\u001b[0m\u001b[0mself\u001b[0m\u001b[0;34m.\u001b[0m\u001b[0msh\u001b[0m\u001b[0;34m,\u001b[0m \u001b[0margs\u001b[0m\u001b[0;34m=\u001b[0m\u001b[0;34m[\u001b[0m\u001b[0;34m'-c'\u001b[0m\u001b[0;34m,\u001b[0m \u001b[0mcmd\u001b[0m\u001b[0;34m]\u001b[0m\u001b[0;34m)\u001b[0m  \u001b[0;31m# Vanilla Pexpect\u001b[0m\u001b[0;34m\u001b[0m\u001b[0;34m\u001b[0m\u001b[0m\n\u001b[0m\u001b[1;32m    157\u001b[0m             \u001b[0mflush\u001b[0m \u001b[0;34m=\u001b[0m \u001b[0msys\u001b[0m\u001b[0;34m.\u001b[0m\u001b[0mstdout\u001b[0m\u001b[0;34m.\u001b[0m\u001b[0mflush\u001b[0m\u001b[0;34m\u001b[0m\u001b[0;34m\u001b[0m\u001b[0m\n\u001b[1;32m    158\u001b[0m             \u001b[0;32mwhile\u001b[0m \u001b[0;32mTrue\u001b[0m\u001b[0;34m:\u001b[0m\u001b[0;34m\u001b[0m\u001b[0;34m\u001b[0m\u001b[0m\n",
      "\u001b[0;32m~/anaconda3/envs/python3/lib/python3.6/site-packages/pexpect/pty_spawn.py\u001b[0m in \u001b[0;36m__init__\u001b[0;34m(self, command, args, timeout, maxread, searchwindowsize, logfile, cwd, env, ignore_sighup, echo, preexec_fn, encoding, codec_errors, dimensions, use_poll)\u001b[0m\n\u001b[1;32m    203\u001b[0m             \u001b[0mself\u001b[0m\u001b[0;34m.\u001b[0m\u001b[0mname\u001b[0m \u001b[0;34m=\u001b[0m \u001b[0;34m'<pexpect factory incomplete>'\u001b[0m\u001b[0;34m\u001b[0m\u001b[0;34m\u001b[0m\u001b[0m\n\u001b[1;32m    204\u001b[0m         \u001b[0;32melse\u001b[0m\u001b[0;34m:\u001b[0m\u001b[0;34m\u001b[0m\u001b[0;34m\u001b[0m\u001b[0m\n\u001b[0;32m--> 205\u001b[0;31m             \u001b[0mself\u001b[0m\u001b[0;34m.\u001b[0m\u001b[0m_spawn\u001b[0m\u001b[0;34m(\u001b[0m\u001b[0mcommand\u001b[0m\u001b[0;34m,\u001b[0m \u001b[0margs\u001b[0m\u001b[0;34m,\u001b[0m \u001b[0mpreexec_fn\u001b[0m\u001b[0;34m,\u001b[0m \u001b[0mdimensions\u001b[0m\u001b[0;34m)\u001b[0m\u001b[0;34m\u001b[0m\u001b[0;34m\u001b[0m\u001b[0m\n\u001b[0m\u001b[1;32m    206\u001b[0m         \u001b[0mself\u001b[0m\u001b[0;34m.\u001b[0m\u001b[0muse_poll\u001b[0m \u001b[0;34m=\u001b[0m \u001b[0muse_poll\u001b[0m\u001b[0;34m\u001b[0m\u001b[0;34m\u001b[0m\u001b[0m\n\u001b[1;32m    207\u001b[0m \u001b[0;34m\u001b[0m\u001b[0m\n",
      "\u001b[0;32m~/anaconda3/envs/python3/lib/python3.6/site-packages/pexpect/pty_spawn.py\u001b[0m in \u001b[0;36m_spawn\u001b[0;34m(self, command, args, preexec_fn, dimensions)\u001b[0m\n\u001b[1;32m    302\u001b[0m \u001b[0;34m\u001b[0m\u001b[0m\n\u001b[1;32m    303\u001b[0m         self.ptyproc = self._spawnpty(self.args, env=self.env,\n\u001b[0;32m--> 304\u001b[0;31m                                      cwd=self.cwd, **kwargs)\n\u001b[0m\u001b[1;32m    305\u001b[0m \u001b[0;34m\u001b[0m\u001b[0m\n\u001b[1;32m    306\u001b[0m         \u001b[0mself\u001b[0m\u001b[0;34m.\u001b[0m\u001b[0mpid\u001b[0m \u001b[0;34m=\u001b[0m \u001b[0mself\u001b[0m\u001b[0;34m.\u001b[0m\u001b[0mptyproc\u001b[0m\u001b[0;34m.\u001b[0m\u001b[0mpid\u001b[0m\u001b[0;34m\u001b[0m\u001b[0;34m\u001b[0m\u001b[0m\n",
      "\u001b[0;32m~/anaconda3/envs/python3/lib/python3.6/site-packages/pexpect/pty_spawn.py\u001b[0m in \u001b[0;36m_spawnpty\u001b[0;34m(self, args, **kwargs)\u001b[0m\n\u001b[1;32m    313\u001b[0m     \u001b[0;32mdef\u001b[0m \u001b[0m_spawnpty\u001b[0m\u001b[0;34m(\u001b[0m\u001b[0mself\u001b[0m\u001b[0;34m,\u001b[0m \u001b[0margs\u001b[0m\u001b[0;34m,\u001b[0m \u001b[0;34m**\u001b[0m\u001b[0mkwargs\u001b[0m\u001b[0;34m)\u001b[0m\u001b[0;34m:\u001b[0m\u001b[0;34m\u001b[0m\u001b[0;34m\u001b[0m\u001b[0m\n\u001b[1;32m    314\u001b[0m         \u001b[0;34m'''Spawn a pty and return an instance of PtyProcess.'''\u001b[0m\u001b[0;34m\u001b[0m\u001b[0;34m\u001b[0m\u001b[0m\n\u001b[0;32m--> 315\u001b[0;31m         \u001b[0;32mreturn\u001b[0m \u001b[0mptyprocess\u001b[0m\u001b[0;34m.\u001b[0m\u001b[0mPtyProcess\u001b[0m\u001b[0;34m.\u001b[0m\u001b[0mspawn\u001b[0m\u001b[0;34m(\u001b[0m\u001b[0margs\u001b[0m\u001b[0;34m,\u001b[0m \u001b[0;34m**\u001b[0m\u001b[0mkwargs\u001b[0m\u001b[0;34m)\u001b[0m\u001b[0;34m\u001b[0m\u001b[0;34m\u001b[0m\u001b[0m\n\u001b[0m\u001b[1;32m    316\u001b[0m \u001b[0;34m\u001b[0m\u001b[0m\n\u001b[1;32m    317\u001b[0m     \u001b[0;32mdef\u001b[0m \u001b[0mclose\u001b[0m\u001b[0;34m(\u001b[0m\u001b[0mself\u001b[0m\u001b[0;34m,\u001b[0m \u001b[0mforce\u001b[0m\u001b[0;34m=\u001b[0m\u001b[0;32mTrue\u001b[0m\u001b[0;34m)\u001b[0m\u001b[0;34m:\u001b[0m\u001b[0;34m\u001b[0m\u001b[0;34m\u001b[0m\u001b[0m\n",
      "\u001b[0;32m~/anaconda3/envs/python3/lib/python3.6/site-packages/ptyprocess/ptyprocess.py\u001b[0m in \u001b[0;36mspawn\u001b[0;34m(cls, argv, cwd, env, echo, preexec_fn, dimensions)\u001b[0m\n\u001b[1;32m    224\u001b[0m \u001b[0;34m\u001b[0m\u001b[0m\n\u001b[1;32m    225\u001b[0m         \u001b[0;32mif\u001b[0m \u001b[0muse_native_pty_fork\u001b[0m\u001b[0;34m:\u001b[0m\u001b[0;34m\u001b[0m\u001b[0;34m\u001b[0m\u001b[0m\n\u001b[0;32m--> 226\u001b[0;31m             \u001b[0mpid\u001b[0m\u001b[0;34m,\u001b[0m \u001b[0mfd\u001b[0m \u001b[0;34m=\u001b[0m \u001b[0mpty\u001b[0m\u001b[0;34m.\u001b[0m\u001b[0mfork\u001b[0m\u001b[0;34m(\u001b[0m\u001b[0;34m)\u001b[0m\u001b[0;34m\u001b[0m\u001b[0;34m\u001b[0m\u001b[0m\n\u001b[0m\u001b[1;32m    227\u001b[0m         \u001b[0;32melse\u001b[0m\u001b[0;34m:\u001b[0m\u001b[0;34m\u001b[0m\u001b[0;34m\u001b[0m\u001b[0m\n\u001b[1;32m    228\u001b[0m             \u001b[0;31m# Use internal fork_pty, for Solaris\u001b[0m\u001b[0;34m\u001b[0m\u001b[0;34m\u001b[0m\u001b[0;34m\u001b[0m\u001b[0m\n",
      "\u001b[0;32m~/anaconda3/envs/python3/lib/python3.6/pty.py\u001b[0m in \u001b[0;36mfork\u001b[0;34m()\u001b[0m\n\u001b[1;32m     95\u001b[0m \u001b[0;34m\u001b[0m\u001b[0m\n\u001b[1;32m     96\u001b[0m     \u001b[0mmaster_fd\u001b[0m\u001b[0;34m,\u001b[0m \u001b[0mslave_fd\u001b[0m \u001b[0;34m=\u001b[0m \u001b[0mopenpty\u001b[0m\u001b[0;34m(\u001b[0m\u001b[0;34m)\u001b[0m\u001b[0;34m\u001b[0m\u001b[0;34m\u001b[0m\u001b[0m\n\u001b[0;32m---> 97\u001b[0;31m     \u001b[0mpid\u001b[0m \u001b[0;34m=\u001b[0m \u001b[0mos\u001b[0m\u001b[0;34m.\u001b[0m\u001b[0mfork\u001b[0m\u001b[0;34m(\u001b[0m\u001b[0;34m)\u001b[0m\u001b[0;34m\u001b[0m\u001b[0;34m\u001b[0m\u001b[0m\n\u001b[0m\u001b[1;32m     98\u001b[0m     \u001b[0;32mif\u001b[0m \u001b[0mpid\u001b[0m \u001b[0;34m==\u001b[0m \u001b[0mCHILD\u001b[0m\u001b[0;34m:\u001b[0m\u001b[0;34m\u001b[0m\u001b[0;34m\u001b[0m\u001b[0m\n\u001b[1;32m     99\u001b[0m         \u001b[0;31m# Establish a new session.\u001b[0m\u001b[0;34m\u001b[0m\u001b[0;34m\u001b[0m\u001b[0;34m\u001b[0m\u001b[0m\n",
      "\u001b[0;31mOSError\u001b[0m: [Errno 12] Cannot allocate memory"
     ]
    }
   ],
   "source": [
    "# First we will remove all of the files contained in the data_dir directory\n",
    "!rm $data_dir/*\n",
    "\n",
    "# And then we delete the directory itself\n",
    "!rmdir $data_dir\n",
    "\n",
    "# Similarly we remove the files in the cache_dir directory and the directory itself\n",
    "!rm $cache_dir/*\n",
    "!rmdir $cache_dir"
   ]
  },
  {
   "cell_type": "code",
   "execution_count": null,
   "metadata": {},
   "outputs": [],
   "source": [
    " "
   ]
  }
 ],
 "metadata": {
  "kernelspec": {
   "display_name": "conda_python3",
   "language": "python",
   "name": "conda_python3"
  },
  "language_info": {
   "codemirror_mode": {
    "name": "ipython",
    "version": 3
   },
   "file_extension": ".py",
   "mimetype": "text/x-python",
   "name": "python",
   "nbconvert_exporter": "python",
   "pygments_lexer": "ipython3",
   "version": "3.6.10"
  }
 },
 "nbformat": 4,
 "nbformat_minor": 2
}
