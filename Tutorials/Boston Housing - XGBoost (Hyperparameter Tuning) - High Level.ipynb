{
 "cells": [
  {
   "cell_type": "markdown",
   "metadata": {},
   "source": [
    "# Predicting Boston Housing Prices\n",
    "\n",
    "## Using XGBoost in SageMaker (Hyperparameter Tuning)\n",
    "\n",
    "_Deep Learning Nanodegree Program | Deployment_\n",
    "\n",
    "---\n",
    "\n",
    "As an introduction to using SageMaker's High Level Python API for hyperparameter tuning, we will look again at the [Boston Housing Dataset](https://www.cs.toronto.edu/~delve/data/boston/bostonDetail.html) to predict the median value of a home in the area of Boston Mass.\n",
    "\n",
    "The documentation for the high level API can be found on the [ReadTheDocs page](http://sagemaker.readthedocs.io/en/latest/)\n",
    "\n",
    "## General Outline\n",
    "\n",
    "Typically, when using a notebook instance with SageMaker, you will proceed through the following steps. Of course, not every step will need to be done with each project. Also, there is quite a lot of room for variation in many of the steps, as you will see throughout these lessons.\n",
    "\n",
    "1. Download or otherwise retrieve the data.\n",
    "2. Process / Prepare the data.\n",
    "3. Upload the processed data to S3.\n",
    "4. Train a chosen model.\n",
    "5. Test the trained model (typically using a batch transform job).\n",
    "6. Deploy the trained model.\n",
    "7. Use the deployed model.\n",
    "\n",
    "In this notebook we will only be covering steps 1 through 5 as we are only interested in creating a tuned model and testing its performance."
   ]
  },
  {
   "cell_type": "code",
   "execution_count": 1,
   "metadata": {},
   "outputs": [
    {
     "name": "stdout",
     "output_type": "stream",
     "text": [
      "Collecting sagemaker==1.72.0\n",
      "  Downloading sagemaker-1.72.0.tar.gz (297 kB)\n",
      "\u001b[K     |████████████████████████████████| 297 kB 6.0 MB/s eta 0:00:01\n",
      "\u001b[?25hRequirement already satisfied: boto3>=1.14.12 in /home/ec2-user/anaconda3/envs/pytorch_p36/lib/python3.6/site-packages (from sagemaker==1.72.0) (1.16.37)\n",
      "Requirement already satisfied: numpy>=1.9.0 in /home/ec2-user/anaconda3/envs/pytorch_p36/lib/python3.6/site-packages (from sagemaker==1.72.0) (1.19.4)\n",
      "Requirement already satisfied: protobuf>=3.1 in /home/ec2-user/anaconda3/envs/pytorch_p36/lib/python3.6/site-packages (from sagemaker==1.72.0) (3.14.0)\n",
      "Requirement already satisfied: scipy>=0.19.0 in /home/ec2-user/anaconda3/envs/pytorch_p36/lib/python3.6/site-packages (from sagemaker==1.72.0) (1.4.1)\n",
      "Requirement already satisfied: protobuf3-to-dict>=0.1.5 in /home/ec2-user/anaconda3/envs/pytorch_p36/lib/python3.6/site-packages (from sagemaker==1.72.0) (0.1.5)\n",
      "Requirement already satisfied: importlib-metadata>=1.4.0 in /home/ec2-user/anaconda3/envs/pytorch_p36/lib/python3.6/site-packages (from sagemaker==1.72.0) (3.1.0)\n",
      "Requirement already satisfied: packaging>=20.0 in /home/ec2-user/anaconda3/envs/pytorch_p36/lib/python3.6/site-packages (from sagemaker==1.72.0) (20.7)\n",
      "Requirement already satisfied: jmespath<1.0.0,>=0.7.1 in /home/ec2-user/anaconda3/envs/pytorch_p36/lib/python3.6/site-packages (from boto3>=1.14.12->sagemaker==1.72.0) (0.10.0)\n",
      "Requirement already satisfied: s3transfer<0.4.0,>=0.3.0 in /home/ec2-user/anaconda3/envs/pytorch_p36/lib/python3.6/site-packages (from boto3>=1.14.12->sagemaker==1.72.0) (0.3.3)\n",
      "Requirement already satisfied: botocore<1.20.0,>=1.19.37 in /home/ec2-user/anaconda3/envs/pytorch_p36/lib/python3.6/site-packages (from boto3>=1.14.12->sagemaker==1.72.0) (1.19.37)\n",
      "Requirement already satisfied: python-dateutil<3.0.0,>=2.1 in /home/ec2-user/anaconda3/envs/pytorch_p36/lib/python3.6/site-packages (from botocore<1.20.0,>=1.19.37->boto3>=1.14.12->sagemaker==1.72.0) (2.8.1)\n",
      "Requirement already satisfied: jmespath<1.0.0,>=0.7.1 in /home/ec2-user/anaconda3/envs/pytorch_p36/lib/python3.6/site-packages (from boto3>=1.14.12->sagemaker==1.72.0) (0.10.0)\n",
      "Requirement already satisfied: urllib3<1.27,>=1.25.4 in /home/ec2-user/anaconda3/envs/pytorch_p36/lib/python3.6/site-packages (from botocore<1.20.0,>=1.19.37->boto3>=1.14.12->sagemaker==1.72.0) (1.25.11)\n",
      "Requirement already satisfied: zipp>=0.5 in /home/ec2-user/anaconda3/envs/pytorch_p36/lib/python3.6/site-packages (from importlib-metadata>=1.4.0->sagemaker==1.72.0) (3.4.0)\n",
      "Requirement already satisfied: pyparsing>=2.0.2 in /home/ec2-user/anaconda3/envs/pytorch_p36/lib/python3.6/site-packages (from packaging>=20.0->sagemaker==1.72.0) (2.4.7)\n",
      "Requirement already satisfied: six>=1.9 in /home/ec2-user/anaconda3/envs/pytorch_p36/lib/python3.6/site-packages (from protobuf>=3.1->sagemaker==1.72.0) (1.15.0)\n",
      "Requirement already satisfied: six>=1.9 in /home/ec2-user/anaconda3/envs/pytorch_p36/lib/python3.6/site-packages (from protobuf>=3.1->sagemaker==1.72.0) (1.15.0)\n",
      "Requirement already satisfied: protobuf>=3.1 in /home/ec2-user/anaconda3/envs/pytorch_p36/lib/python3.6/site-packages (from sagemaker==1.72.0) (3.14.0)\n",
      "Requirement already satisfied: six>=1.9 in /home/ec2-user/anaconda3/envs/pytorch_p36/lib/python3.6/site-packages (from protobuf>=3.1->sagemaker==1.72.0) (1.15.0)\n",
      "Requirement already satisfied: botocore<1.20.0,>=1.19.37 in /home/ec2-user/anaconda3/envs/pytorch_p36/lib/python3.6/site-packages (from boto3>=1.14.12->sagemaker==1.72.0) (1.19.37)\n",
      "Requirement already satisfied: numpy>=1.9.0 in /home/ec2-user/anaconda3/envs/pytorch_p36/lib/python3.6/site-packages (from sagemaker==1.72.0) (1.19.4)\n",
      "Collecting smdebug-rulesconfig==0.1.4\n",
      "  Downloading smdebug_rulesconfig-0.1.4-py2.py3-none-any.whl (10 kB)\n",
      "Building wheels for collected packages: sagemaker\n",
      "  Building wheel for sagemaker (setup.py) ... \u001b[?25ldone\n",
      "\u001b[?25h  Created wheel for sagemaker: filename=sagemaker-1.72.0-py2.py3-none-any.whl size=386358 sha256=71f4a187bd52e3199f13ec7008bbae0fb20b6c293847224eb1e5f62a50746c84\n",
      "  Stored in directory: /home/ec2-user/.cache/pip/wheels/c3/58/70/85faf4437568bfaa4c419937569ba1fe54d44c5db42406bbd7\n",
      "Successfully built sagemaker\n",
      "Installing collected packages: smdebug-rulesconfig, sagemaker\n",
      "  Attempting uninstall: smdebug-rulesconfig\n",
      "    Found existing installation: smdebug-rulesconfig 1.0.0\n",
      "    Uninstalling smdebug-rulesconfig-1.0.0:\n",
      "      Successfully uninstalled smdebug-rulesconfig-1.0.0\n",
      "  Attempting uninstall: sagemaker\n",
      "    Found existing installation: sagemaker 2.19.0\n",
      "    Uninstalling sagemaker-2.19.0:\n",
      "      Successfully uninstalled sagemaker-2.19.0\n",
      "Successfully installed sagemaker-1.72.0 smdebug-rulesconfig-0.1.4\n",
      "\u001b[33mWARNING: You are using pip version 20.3; however, version 20.3.3 is available.\n",
      "You should consider upgrading via the '/home/ec2-user/anaconda3/envs/pytorch_p36/bin/python -m pip install --upgrade pip' command.\u001b[0m\n"
     ]
    }
   ],
   "source": [
    "# Make sure that we use SageMaker 1.x\n",
    "!pip install sagemaker==1.72.0"
   ]
  },
  {
   "cell_type": "markdown",
   "metadata": {},
   "source": [
    "## Step 0: Setting up the notebook\n",
    "\n",
    "We begin by setting up all of the necessary bits required to run our notebook. To start that means loading all of the Python modules we will need."
   ]
  },
  {
   "cell_type": "code",
   "execution_count": 2,
   "metadata": {},
   "outputs": [],
   "source": [
    "%matplotlib inline\n",
    "\n",
    "import os\n",
    "\n",
    "import numpy as np\n",
    "import pandas as pd\n",
    "\n",
    "import matplotlib.pyplot as plt\n",
    "\n",
    "from sklearn.datasets import load_boston\n",
    "import sklearn.model_selection"
   ]
  },
  {
   "cell_type": "markdown",
   "metadata": {},
   "source": [
    "In addition to the modules above, we need to import the various bits of SageMaker that we will be using. "
   ]
  },
  {
   "cell_type": "code",
   "execution_count": 3,
   "metadata": {},
   "outputs": [],
   "source": [
    "import sagemaker\n",
    "from sagemaker import get_execution_role\n",
    "from sagemaker.amazon.amazon_estimator import get_image_uri\n",
    "from sagemaker.predictor import csv_serializer\n",
    "\n",
    "# This is an object that represents the SageMaker session that we are currently operating in. This\n",
    "# object contains some useful information that we will need to access later such as our region.\n",
    "session = sagemaker.Session()\n",
    "\n",
    "# This is an object that represents the IAM role that we are currently assigned. When we construct\n",
    "# and launch the training job later we will need to tell it what IAM role it should have. Since our\n",
    "# use case is relatively simple we will simply assign the training job the role we currently have.\n",
    "role = get_execution_role()"
   ]
  },
  {
   "cell_type": "markdown",
   "metadata": {},
   "source": [
    "## Step 1: Downloading the data\n",
    "\n",
    "Fortunately, this dataset can be retrieved using sklearn and so this step is relatively straightforward."
   ]
  },
  {
   "cell_type": "code",
   "execution_count": 4,
   "metadata": {},
   "outputs": [],
   "source": [
    "boston = load_boston()"
   ]
  },
  {
   "cell_type": "markdown",
   "metadata": {},
   "source": [
    "## Step 2: Preparing and splitting the data\n",
    "\n",
    "Given that this is clean tabular data, we don't need to do any processing. However, we do need to split the rows in the dataset up into train, test and validation sets."
   ]
  },
  {
   "cell_type": "code",
   "execution_count": 5,
   "metadata": {},
   "outputs": [],
   "source": [
    "# First we package up the input data and the target variable (the median value) as pandas dataframes. This\n",
    "# will make saving the data to a file a little easier later on.\n",
    "\n",
    "X_bos_pd = pd.DataFrame(boston.data, columns=boston.feature_names)\n",
    "Y_bos_pd = pd.DataFrame(boston.target)\n",
    "\n",
    "# We split the dataset into 2/3 training and 1/3 testing sets.\n",
    "X_train, X_test, Y_train, Y_test = sklearn.model_selection.train_test_split(X_bos_pd, Y_bos_pd, test_size=0.33)\n",
    "\n",
    "# Then we split the training set further into 2/3 training and 1/3 validation sets.\n",
    "X_train, X_val, Y_train, Y_val = sklearn.model_selection.train_test_split(X_train, Y_train, test_size=0.33)"
   ]
  },
  {
   "cell_type": "markdown",
   "metadata": {},
   "source": [
    "## Step 3: Uploading the data files to S3\n",
    "\n",
    "When a training job is constructed using SageMaker, a container is executed which performs the training operation. This container is given access to data that is stored in S3. This means that we need to upload the data we want to use for training to S3. In addition, when we perform a batch transform job, SageMaker expects the input data to be stored on S3. We can use the SageMaker API to do this and hide some of the details.\n",
    "\n",
    "### Save the data locally\n",
    "\n",
    "First we need to create the test, train and validation csv files which we will then upload to S3."
   ]
  },
  {
   "cell_type": "code",
   "execution_count": 6,
   "metadata": {},
   "outputs": [],
   "source": [
    "# This is our local data directory. We need to make sure that it exists.\n",
    "data_dir = '../data/boston'\n",
    "if not os.path.exists(data_dir):\n",
    "    os.makedirs(data_dir)"
   ]
  },
  {
   "cell_type": "code",
   "execution_count": 7,
   "metadata": {},
   "outputs": [],
   "source": [
    "# We use pandas to save our test, train and validation data to csv files. Note that we make sure not to include header\n",
    "# information or an index as this is required by the built in algorithms provided by Amazon. Also, for the train and\n",
    "# validation data, it is assumed that the first entry in each row is the target variable.\n",
    "\n",
    "X_test.to_csv(os.path.join(data_dir, 'test.csv'), header=False, index=False)\n",
    "\n",
    "pd.concat([Y_val, X_val], axis=1).to_csv(os.path.join(data_dir, 'validation.csv'), header=False, index=False)\n",
    "pd.concat([Y_train, X_train], axis=1).to_csv(os.path.join(data_dir, 'train.csv'), header=False, index=False)"
   ]
  },
  {
   "cell_type": "markdown",
   "metadata": {},
   "source": [
    "### Upload to S3\n",
    "\n",
    "Since we are currently running inside of a SageMaker session, we can use the object which represents this session to upload our data to the 'default' S3 bucket. Note that it is good practice to provide a custom prefix (essentially an S3 folder) to make sure that you don't accidentally interfere with data uploaded from some other notebook or project."
   ]
  },
  {
   "cell_type": "code",
   "execution_count": 8,
   "metadata": {},
   "outputs": [],
   "source": [
    "prefix = 'boston-xgboost-tuning-HL'\n",
    "\n",
    "test_location = session.upload_data(os.path.join(data_dir, 'test.csv'), key_prefix=prefix)\n",
    "val_location = session.upload_data(os.path.join(data_dir, 'validation.csv'), key_prefix=prefix)\n",
    "train_location = session.upload_data(os.path.join(data_dir, 'train.csv'), key_prefix=prefix)"
   ]
  },
  {
   "cell_type": "markdown",
   "metadata": {},
   "source": [
    "## Step 4: Train the XGBoost model\n",
    "\n",
    "Now that we have the training and validation data uploaded to S3, we can construct our XGBoost model and train it. Unlike in the previous notebooks, instead of training a single model, we will use SageMaker's hyperparameter tuning functionality to train multiple models and use the one that performs the best on the validation set.\n",
    "\n",
    "To begin with, as in the previous approaches, we will need to construct an estimator object."
   ]
  },
  {
   "cell_type": "code",
   "execution_count": 9,
   "metadata": {},
   "outputs": [
    {
     "name": "stderr",
     "output_type": "stream",
     "text": [
      "'get_image_uri' method will be deprecated in favor of 'ImageURIProvider' class in SageMaker Python SDK v2.\n",
      "There is a more up to date SageMaker XGBoost image. To use the newer image, please set 'repo_version'='1.0-1'. For example:\n",
      "\tget_image_uri(region, 'xgboost', '1.0-1').\n",
      "Parameter image_name will be renamed to image_uri in SageMaker Python SDK v2.\n"
     ]
    }
   ],
   "source": [
    "# As stated above, we use this utility method to construct the image name for the training container.\n",
    "container = get_image_uri(session.boto_region_name, 'xgboost')\n",
    "\n",
    "# Now that we know which container to use, we can construct the estimator object.\n",
    "xgb = sagemaker.estimator.Estimator(container, # The name of the training container\n",
    "                                    role,      # The IAM role to use (our current role in this case)\n",
    "                                    train_instance_count=1, # The number of instances to use for training\n",
    "                                    train_instance_type='ml.m4.xlarge', # The type of instance ot use for training\n",
    "                                    output_path='s3://{}/{}/output'.format(session.default_bucket(), prefix),\n",
    "                                                                        # Where to save the output (the model artifacts)\n",
    "                                    sagemaker_session=session) # The current SageMaker session"
   ]
  },
  {
   "cell_type": "markdown",
   "metadata": {},
   "source": [
    "Before beginning the hyperparameter tuning, we should make sure to set any model specific hyperparameters that we wish to have default values. There are quite a few that can be set when using the XGBoost algorithm, below are just a few of them. If you would like to change the hyperparameters below or modify additional ones you can find additional information on the [XGBoost hyperparameter page](https://docs.aws.amazon.com/sagemaker/latest/dg/xgboost_hyperparameters.html)"
   ]
  },
  {
   "cell_type": "code",
   "execution_count": 10,
   "metadata": {},
   "outputs": [],
   "source": [
    "xgb.set_hyperparameters(max_depth=5,\n",
    "                        eta=0.2,\n",
    "                        gamma=4,\n",
    "                        min_child_weight=6,\n",
    "                        subsample=0.8,\n",
    "                        objective='reg:linear',\n",
    "                        early_stopping_rounds=10,\n",
    "                        num_round=200)"
   ]
  },
  {
   "cell_type": "markdown",
   "metadata": {},
   "source": [
    "Now that we have our estimator object completely set up, it is time to create the hyperparameter tuner. To do this we need to construct a new object which contains each of the parameters we want SageMaker to tune. In this case, we wish to find the best values for the `max_depth`, `eta`, `min_child_weight`, `subsample`, and `gamma` parameters. Note that for each parameter that we want SageMaker to tune we need to specify both the *type* of the parameter and the *range* of values that parameter may take on.\n",
    "\n",
    "In addition, we specify the *number* of models to construct (`max_jobs`) and the number of those that can be trained in parallel (`max_parallel_jobs`). In the cell below we have chosen to train `20` models, of which we ask that SageMaker train `3` at a time in parallel. Note that this results in a total of `20` training jobs being executed which can take some time, in this case almost a half hour. With more complicated models this can take even longer so be aware!"
   ]
  },
  {
   "cell_type": "code",
   "execution_count": 11,
   "metadata": {},
   "outputs": [],
   "source": [
    "from sagemaker.tuner import IntegerParameter, ContinuousParameter, HyperparameterTuner\n",
    "\n",
    "xgb_hyperparameter_tuner = HyperparameterTuner(estimator = xgb, # The estimator object to use as the basis for the training jobs.\n",
    "                                               objective_metric_name = 'validation:rmse', # The metric used to compare trained models.\n",
    "                                               objective_type = 'Minimize', # Whether we wish to minimize or maximize the metric.\n",
    "                                               max_jobs = 20, # The total number of models to train\n",
    "                                               max_parallel_jobs = 3, # The number of models to train in parallel\n",
    "                                               hyperparameter_ranges = {\n",
    "                                                    'max_depth': IntegerParameter(3, 12),\n",
    "                                                    'eta'      : ContinuousParameter(0.05, 0.5),\n",
    "                                                    'min_child_weight': IntegerParameter(2, 8),\n",
    "                                                    'subsample': ContinuousParameter(0.5, 0.9),\n",
    "                                                    'gamma': ContinuousParameter(0, 10),\n",
    "                                               })"
   ]
  },
  {
   "cell_type": "markdown",
   "metadata": {},
   "source": [
    "Now that we have our hyperparameter tuner object completely set up, it is time to train it. To do this we make sure that SageMaker knows our input data is in csv format and then execute the `fit` method."
   ]
  },
  {
   "cell_type": "code",
   "execution_count": 12,
   "metadata": {},
   "outputs": [
    {
     "name": "stderr",
     "output_type": "stream",
     "text": [
      "'s3_input' class will be renamed to 'TrainingInput' in SageMaker Python SDK v2.\n",
      "'s3_input' class will be renamed to 'TrainingInput' in SageMaker Python SDK v2.\n"
     ]
    }
   ],
   "source": [
    "# This is a wrapper around the location of our train and validation data, to make sure that SageMaker\n",
    "# knows our data is in csv format.\n",
    "s3_input_train = sagemaker.s3_input(s3_data=train_location, content_type='csv')\n",
    "s3_input_validation = sagemaker.s3_input(s3_data=val_location, content_type='csv')\n",
    "\n",
    "xgb_hyperparameter_tuner.fit({'train': s3_input_train, 'validation': s3_input_validation})"
   ]
  },
  {
   "cell_type": "markdown",
   "metadata": {},
   "source": [
    "As in many of the examples we have seen so far, the `fit()` method takes care of setting up and fitting a number of different models, each with different hyperparameters. If we wish to wait for this process to finish, we can call the `wait()` method."
   ]
  },
  {
   "cell_type": "code",
   "execution_count": 13,
   "metadata": {},
   "outputs": [
    {
     "name": "stdout",
     "output_type": "stream",
     "text": [
      "...............................................................................................................................................................................................................................................................................................................!\n"
     ]
    }
   ],
   "source": [
    "xgb_hyperparameter_tuner.wait()"
   ]
  },
  {
   "cell_type": "markdown",
   "metadata": {},
   "source": [
    "Once the hyperamater tuner has finished, we can retrieve information about the best performing model. "
   ]
  },
  {
   "cell_type": "code",
   "execution_count": 14,
   "metadata": {},
   "outputs": [
    {
     "data": {
      "text/plain": [
       "'xgboost-210106-1711-018-5b0d2a80'"
      ]
     },
     "execution_count": 14,
     "metadata": {},
     "output_type": "execute_result"
    }
   ],
   "source": [
    "xgb_hyperparameter_tuner.best_training_job()"
   ]
  },
  {
   "cell_type": "markdown",
   "metadata": {},
   "source": [
    "In addition, since we'd like to set up a batch transform job to test the best model, we can construct a new estimator object from the results of the best training job. The `xgb_attached` object below can now be used as though we constructed an estimator with the best performing hyperparameters and then fit it to our training data."
   ]
  },
  {
   "cell_type": "code",
   "execution_count": 15,
   "metadata": {},
   "outputs": [
    {
     "name": "stderr",
     "output_type": "stream",
     "text": [
      "Parameter image_name will be renamed to image_uri in SageMaker Python SDK v2.\n"
     ]
    },
    {
     "name": "stdout",
     "output_type": "stream",
     "text": [
      "2021-01-06 17:33:53 Starting - Preparing the instances for training\n",
      "2021-01-06 17:33:53 Downloading - Downloading input data\n",
      "2021-01-06 17:33:53 Training - Training image download completed. Training in progress.\n",
      "2021-01-06 17:33:53 Uploading - Uploading generated training model\n",
      "2021-01-06 17:33:53 Completed - Training job completed\u001b[34mArguments: train\u001b[0m\n",
      "\u001b[34m[2021-01-06:17:33:41:INFO] Running standalone xgboost training.\u001b[0m\n",
      "\u001b[34m[2021-01-06:17:33:41:INFO] Setting up HPO optimized metric to be : rmse\u001b[0m\n",
      "\u001b[34m[2021-01-06:17:33:41:INFO] File size need to be processed in the node: 0.02mb. Available memory size in the node: 8453.16mb\u001b[0m\n",
      "\u001b[34m[2021-01-06:17:33:41:INFO] Determined delimiter of CSV input is ','\u001b[0m\n",
      "\u001b[34m[17:33:41] S3DistributionType set as FullyReplicated\u001b[0m\n",
      "\u001b[34m[17:33:41] 227x13 matrix with 2951 entries loaded from /opt/ml/input/data/train?format=csv&label_column=0&delimiter=,\u001b[0m\n",
      "\u001b[34m[2021-01-06:17:33:41:INFO] Determined delimiter of CSV input is ','\u001b[0m\n",
      "\u001b[34m[17:33:41] S3DistributionType set as FullyReplicated\u001b[0m\n",
      "\u001b[34m[17:33:41] 112x13 matrix with 1456 entries loaded from /opt/ml/input/data/validation?format=csv&label_column=0&delimiter=,\u001b[0m\n",
      "\u001b[34m[17:33:41] src/tree/updater_prune.cc:74: tree pruning end, 1 roots, 6 extra nodes, 0 pruned nodes, max_depth=3\u001b[0m\n",
      "\u001b[34m[0]#011train-rmse:22.1571#011validation-rmse:22.783\u001b[0m\n",
      "\u001b[34mMultiple eval metrics have been passed: 'validation-rmse' will be used for early stopping.\n",
      "\u001b[0m\n",
      "\u001b[34mWill train until validation-rmse hasn't improved in 10 rounds.\u001b[0m\n",
      "\u001b[34m[17:33:41] src/tree/updater_prune.cc:74: tree pruning end, 1 roots, 8 extra nodes, 0 pruned nodes, max_depth=4\u001b[0m\n",
      "\u001b[34m[1]#011train-rmse:21.1171#011validation-rmse:21.7808\u001b[0m\n",
      "\u001b[34m[17:33:41] src/tree/updater_prune.cc:74: tree pruning end, 1 roots, 8 extra nodes, 0 pruned nodes, max_depth=3\u001b[0m\n",
      "\u001b[34m[2]#011train-rmse:20.1421#011validation-rmse:20.8306\u001b[0m\n",
      "\u001b[34m[17:33:41] src/tree/updater_prune.cc:74: tree pruning end, 1 roots, 8 extra nodes, 0 pruned nodes, max_depth=3\u001b[0m\n",
      "\u001b[34m[3]#011train-rmse:19.169#011validation-rmse:19.8928\u001b[0m\n",
      "\u001b[34m[17:33:41] src/tree/updater_prune.cc:74: tree pruning end, 1 roots, 8 extra nodes, 2 pruned nodes, max_depth=3\u001b[0m\n",
      "\u001b[34m[4]#011train-rmse:18.247#011validation-rmse:19.0267\u001b[0m\n",
      "\u001b[34m[17:33:41] src/tree/updater_prune.cc:74: tree pruning end, 1 roots, 8 extra nodes, 0 pruned nodes, max_depth=3\u001b[0m\n",
      "\u001b[34m[5]#011train-rmse:17.413#011validation-rmse:18.2579\u001b[0m\n",
      "\u001b[34m[17:33:41] src/tree/updater_prune.cc:74: tree pruning end, 1 roots, 10 extra nodes, 0 pruned nodes, max_depth=3\u001b[0m\n",
      "\u001b[34m[6]#011train-rmse:16.6062#011validation-rmse:17.5093\u001b[0m\n",
      "\u001b[34m[17:33:41] src/tree/updater_prune.cc:74: tree pruning end, 1 roots, 12 extra nodes, 0 pruned nodes, max_depth=4\u001b[0m\n",
      "\u001b[34m[7]#011train-rmse:15.8741#011validation-rmse:16.8319\u001b[0m\n",
      "\u001b[34m[17:33:41] src/tree/updater_prune.cc:74: tree pruning end, 1 roots, 8 extra nodes, 0 pruned nodes, max_depth=4\u001b[0m\n",
      "\u001b[34m[8]#011train-rmse:15.1196#011validation-rmse:16.1301\u001b[0m\n",
      "\u001b[34m[17:33:41] src/tree/updater_prune.cc:74: tree pruning end, 1 roots, 6 extra nodes, 2 pruned nodes, max_depth=3\u001b[0m\n",
      "\u001b[34m[9]#011train-rmse:14.4187#011validation-rmse:15.4784\u001b[0m\n",
      "\u001b[34m[17:33:41] src/tree/updater_prune.cc:74: tree pruning end, 1 roots, 10 extra nodes, 0 pruned nodes, max_depth=4\u001b[0m\n",
      "\u001b[34m[10]#011train-rmse:13.7391#011validation-rmse:14.8336\u001b[0m\n",
      "\u001b[34m[17:33:41] src/tree/updater_prune.cc:74: tree pruning end, 1 roots, 10 extra nodes, 0 pruned nodes, max_depth=4\u001b[0m\n",
      "\u001b[34m[11]#011train-rmse:13.1301#011validation-rmse:14.2629\u001b[0m\n",
      "\u001b[34m[17:33:41] src/tree/updater_prune.cc:74: tree pruning end, 1 roots, 12 extra nodes, 0 pruned nodes, max_depth=4\u001b[0m\n",
      "\u001b[34m[12]#011train-rmse:12.5418#011validation-rmse:13.7289\u001b[0m\n",
      "\u001b[34m[17:33:41] src/tree/updater_prune.cc:74: tree pruning end, 1 roots, 14 extra nodes, 4 pruned nodes, max_depth=4\u001b[0m\n",
      "\u001b[34m[13]#011train-rmse:11.9808#011validation-rmse:13.2166\u001b[0m\n",
      "\u001b[34m[17:33:41] src/tree/updater_prune.cc:74: tree pruning end, 1 roots, 12 extra nodes, 6 pruned nodes, max_depth=3\u001b[0m\n",
      "\u001b[34m[14]#011train-rmse:11.4625#011validation-rmse:12.7454\u001b[0m\n",
      "\u001b[34m[17:33:41] src/tree/updater_prune.cc:74: tree pruning end, 1 roots, 10 extra nodes, 4 pruned nodes, max_depth=3\u001b[0m\n",
      "\u001b[34m[15]#011train-rmse:10.9525#011validation-rmse:12.3131\u001b[0m\n",
      "\u001b[34m[17:33:41] src/tree/updater_prune.cc:74: tree pruning end, 1 roots, 8 extra nodes, 4 pruned nodes, max_depth=3\u001b[0m\n",
      "\u001b[34m[16]#011train-rmse:10.4783#011validation-rmse:11.8737\u001b[0m\n",
      "\u001b[34m[17:33:41] src/tree/updater_prune.cc:74: tree pruning end, 1 roots, 12 extra nodes, 2 pruned nodes, max_depth=4\u001b[0m\n",
      "\u001b[34m[17]#011train-rmse:10.0432#011validation-rmse:11.5005\u001b[0m\n",
      "\u001b[34m[17:33:41] src/tree/updater_prune.cc:74: tree pruning end, 1 roots, 18 extra nodes, 2 pruned nodes, max_depth=6\u001b[0m\n",
      "\u001b[34m[18]#011train-rmse:9.60962#011validation-rmse:11.1171\u001b[0m\n",
      "\u001b[34m[17:33:41] src/tree/updater_prune.cc:74: tree pruning end, 1 roots, 18 extra nodes, 10 pruned nodes, max_depth=6\u001b[0m\n",
      "\u001b[34m[19]#011train-rmse:9.1779#011validation-rmse:10.7416\u001b[0m\n",
      "\u001b[34m[17:33:41] src/tree/updater_prune.cc:74: tree pruning end, 1 roots, 16 extra nodes, 8 pruned nodes, max_depth=5\u001b[0m\n",
      "\u001b[34m[20]#011train-rmse:8.77986#011validation-rmse:10.4088\u001b[0m\n",
      "\u001b[34m[17:33:41] src/tree/updater_prune.cc:74: tree pruning end, 1 roots, 16 extra nodes, 6 pruned nodes, max_depth=4\u001b[0m\n",
      "\u001b[34m[21]#011train-rmse:8.44094#011validation-rmse:10.1185\u001b[0m\n",
      "\u001b[34m[17:33:41] src/tree/updater_prune.cc:74: tree pruning end, 1 roots, 10 extra nodes, 8 pruned nodes, max_depth=4\u001b[0m\n",
      "\u001b[34m[22]#011train-rmse:8.09938#011validation-rmse:9.83224\u001b[0m\n",
      "\u001b[34m[17:33:41] src/tree/updater_prune.cc:74: tree pruning end, 1 roots, 16 extra nodes, 18 pruned nodes, max_depth=4\u001b[0m\n",
      "\u001b[34m[23]#011train-rmse:7.74752#011validation-rmse:9.52639\u001b[0m\n",
      "\u001b[34m[17:33:41] src/tree/updater_prune.cc:74: tree pruning end, 1 roots, 16 extra nodes, 8 pruned nodes, max_depth=5\u001b[0m\n",
      "\u001b[34m[24]#011train-rmse:7.45571#011validation-rmse:9.26589\u001b[0m\n",
      "\u001b[34m[17:33:41] src/tree/updater_prune.cc:74: tree pruning end, 1 roots, 20 extra nodes, 10 pruned nodes, max_depth=6\u001b[0m\n",
      "\u001b[34m[25]#011train-rmse:7.15545#011validation-rmse:9.02023\u001b[0m\n",
      "\u001b[34m[17:33:41] src/tree/updater_prune.cc:74: tree pruning end, 1 roots, 22 extra nodes, 16 pruned nodes, max_depth=7\u001b[0m\n",
      "\u001b[34m[26]#011train-rmse:6.85099#011validation-rmse:8.78098\u001b[0m\n",
      "\u001b[34m[17:33:41] src/tree/updater_prune.cc:74: tree pruning end, 1 roots, 12 extra nodes, 14 pruned nodes, max_depth=5\u001b[0m\n",
      "\u001b[34m[27]#011train-rmse:6.57224#011validation-rmse:8.54384\u001b[0m\n",
      "\u001b[34m[17:33:41] src/tree/updater_prune.cc:74: tree pruning end, 1 roots, 22 extra nodes, 20 pruned nodes, max_depth=6\u001b[0m\n",
      "\u001b[34m[28]#011train-rmse:6.30406#011validation-rmse:8.37205\u001b[0m\n",
      "\u001b[34m[17:33:41] src/tree/updater_prune.cc:74: tree pruning end, 1 roots, 10 extra nodes, 10 pruned nodes, max_depth=4\u001b[0m\n",
      "\u001b[34m[29]#011train-rmse:6.05464#011validation-rmse:8.16637\u001b[0m\n",
      "\u001b[34m[17:33:41] src/tree/updater_prune.cc:74: tree pruning end, 1 roots, 24 extra nodes, 14 pruned nodes, max_depth=5\u001b[0m\n",
      "\u001b[34m[30]#011train-rmse:5.83432#011validation-rmse:7.99056\u001b[0m\n",
      "\u001b[34m[17:33:41] src/tree/updater_prune.cc:74: tree pruning end, 1 roots, 22 extra nodes, 16 pruned nodes, max_depth=6\u001b[0m\n",
      "\u001b[34m[31]#011train-rmse:5.62434#011validation-rmse:7.81249\u001b[0m\n",
      "\u001b[34m[17:33:41] src/tree/updater_prune.cc:74: tree pruning end, 1 roots, 20 extra nodes, 12 pruned nodes, max_depth=7\u001b[0m\n",
      "\u001b[34m[32]#011train-rmse:5.40564#011validation-rmse:7.66379\u001b[0m\n",
      "\u001b[34m[17:33:41] src/tree/updater_prune.cc:74: tree pruning end, 1 roots, 18 extra nodes, 18 pruned nodes, max_depth=5\u001b[0m\n",
      "\u001b[34m[33]#011train-rmse:5.23002#011validation-rmse:7.54893\u001b[0m\n",
      "\u001b[34m[17:33:41] src/tree/updater_prune.cc:74: tree pruning end, 1 roots, 18 extra nodes, 16 pruned nodes, max_depth=5\u001b[0m\n",
      "\u001b[34m[34]#011train-rmse:5.04762#011validation-rmse:7.41311\u001b[0m\n",
      "\u001b[34m[17:33:41] src/tree/updater_prune.cc:74: tree pruning end, 1 roots, 14 extra nodes, 16 pruned nodes, max_depth=4\u001b[0m\n",
      "\u001b[34m[35]#011train-rmse:4.88075#011validation-rmse:7.27348\u001b[0m\n",
      "\u001b[34m[17:33:41] src/tree/updater_prune.cc:74: tree pruning end, 1 roots, 28 extra nodes, 20 pruned nodes, max_depth=6\u001b[0m\n",
      "\u001b[34m[36]#011train-rmse:4.68841#011validation-rmse:7.1482\u001b[0m\n",
      "\u001b[34m[17:33:41] src/tree/updater_prune.cc:74: tree pruning end, 1 roots, 30 extra nodes, 14 pruned nodes, max_depth=8\u001b[0m\n",
      "\u001b[34m[37]#011train-rmse:4.53149#011validation-rmse:7.0391\u001b[0m\n",
      "\u001b[34m[17:33:41] src/tree/updater_prune.cc:74: tree pruning end, 1 roots, 16 extra nodes, 24 pruned nodes, max_depth=6\u001b[0m\n",
      "\u001b[34m[38]#011train-rmse:4.35923#011validation-rmse:6.93024\u001b[0m\n",
      "\u001b[34m[17:33:41] src/tree/updater_prune.cc:74: tree pruning end, 1 roots, 12 extra nodes, 30 pruned nodes, max_depth=4\u001b[0m\n",
      "\u001b[34m[39]#011train-rmse:4.24172#011validation-rmse:6.83694\u001b[0m\n",
      "\u001b[34m[17:33:41] src/tree/updater_prune.cc:74: tree pruning end, 1 roots, 26 extra nodes, 24 pruned nodes, max_depth=9\u001b[0m\n",
      "\u001b[34m[40]#011train-rmse:4.10973#011validation-rmse:6.74453\u001b[0m\n",
      "\u001b[34m[17:33:41] src/tree/updater_prune.cc:74: tree pruning end, 1 roots, 24 extra nodes, 16 pruned nodes, max_depth=9\u001b[0m\n",
      "\u001b[34m[41]#011train-rmse:3.99125#011validation-rmse:6.6595\u001b[0m\n",
      "\u001b[34m[17:33:41] src/tree/updater_prune.cc:74: tree pruning end, 1 roots, 30 extra nodes, 32 pruned nodes, max_depth=7\u001b[0m\n",
      "\u001b[34m[42]#011train-rmse:3.88363#011validation-rmse:6.59828\u001b[0m\n",
      "\u001b[34m[17:33:41] src/tree/updater_prune.cc:74: tree pruning end, 1 roots, 24 extra nodes, 16 pruned nodes, max_depth=9\u001b[0m\n",
      "\u001b[34m[43]#011train-rmse:3.7704#011validation-rmse:6.52655\u001b[0m\n",
      "\u001b[34m[17:33:41] src/tree/updater_prune.cc:74: tree pruning end, 1 roots, 18 extra nodes, 40 pruned nodes, max_depth=6\u001b[0m\n",
      "\u001b[34m[44]#011train-rmse:3.67761#011validation-rmse:6.47079\u001b[0m\n",
      "\u001b[34m[17:33:41] src/tree/updater_prune.cc:74: tree pruning end, 1 roots, 22 extra nodes, 42 pruned nodes, max_depth=5\u001b[0m\n",
      "\u001b[34m[45]#011train-rmse:3.58372#011validation-rmse:6.41212\u001b[0m\n",
      "\u001b[34m[17:33:41] src/tree/updater_prune.cc:74: tree pruning end, 1 roots, 28 extra nodes, 38 pruned nodes, max_depth=8\u001b[0m\n",
      "\u001b[34m[46]#011train-rmse:3.46104#011validation-rmse:6.34916\u001b[0m\n",
      "\u001b[34m[17:33:41] src/tree/updater_prune.cc:74: tree pruning end, 1 roots, 16 extra nodes, 34 pruned nodes, max_depth=4\u001b[0m\n",
      "\u001b[34m[47]#011train-rmse:3.37175#011validation-rmse:6.27885\u001b[0m\n",
      "\u001b[34m[17:33:41] src/tree/updater_prune.cc:74: tree pruning end, 1 roots, 26 extra nodes, 16 pruned nodes, max_depth=9\u001b[0m\n",
      "\u001b[34m[48]#011train-rmse:3.26155#011validation-rmse:6.219\u001b[0m\n",
      "\u001b[34m[17:33:41] src/tree/updater_prune.cc:74: tree pruning end, 1 roots, 16 extra nodes, 34 pruned nodes, max_depth=6\u001b[0m\n",
      "\u001b[34m[49]#011train-rmse:3.17445#011validation-rmse:6.15745\u001b[0m\n",
      "\u001b[34m[17:33:41] src/tree/updater_prune.cc:74: tree pruning end, 1 roots, 22 extra nodes, 44 pruned nodes, max_depth=8\u001b[0m\n",
      "\u001b[34m[50]#011train-rmse:3.11193#011validation-rmse:6.11641\u001b[0m\n",
      "\u001b[34m[17:33:41] src/tree/updater_prune.cc:74: tree pruning end, 1 roots, 14 extra nodes, 52 pruned nodes, max_depth=5\u001b[0m\n",
      "\u001b[34m[51]#011train-rmse:3.0444#011validation-rmse:6.06591\u001b[0m\n",
      "\u001b[34m[17:33:41] src/tree/updater_prune.cc:74: tree pruning end, 1 roots, 18 extra nodes, 30 pruned nodes, max_depth=5\u001b[0m\n",
      "\u001b[34m[52]#011train-rmse:2.95695#011validation-rmse:6.03045\u001b[0m\n",
      "\u001b[34m[17:33:41] src/tree/updater_prune.cc:74: tree pruning end, 1 roots, 18 extra nodes, 38 pruned nodes, max_depth=6\u001b[0m\n",
      "\u001b[34m[53]#011train-rmse:2.87869#011validation-rmse:6.00349\u001b[0m\n",
      "\u001b[34m[17:33:41] src/tree/updater_prune.cc:74: tree pruning end, 1 roots, 26 extra nodes, 38 pruned nodes, max_depth=6\u001b[0m\n",
      "\u001b[34m[17:33:41] src/tree/updater_prune.cc:74: tree pruning end, 1 roots, 18 extra nodes, 52 pruned nodes, max_depth=5\u001b[0m\n",
      "\u001b[34m[17:33:41] src/tree/updater_prune.cc:74: tree pruning end, 1 roots, 18 extra nodes, 46 pruned nodes, max_depth=6\u001b[0m\n",
      "\u001b[34m[54]#011train-rmse:2.81011#011validation-rmse:5.96638\u001b[0m\n",
      "\u001b[34m[55]#011train-rmse:2.73414#011validation-rmse:5.93262\u001b[0m\n",
      "\u001b[34m[56]#011train-rmse:2.68959#011validation-rmse:5.89019\u001b[0m\n",
      "\u001b[34m[17:33:41] src/tree/updater_prune.cc:74: tree pruning end, 1 roots, 22 extra nodes, 48 pruned nodes, max_depth=5\u001b[0m\n",
      "\u001b[34m[57]#011train-rmse:2.64592#011validation-rmse:5.86105\u001b[0m\n",
      "\u001b[34m[17:33:41] src/tree/updater_prune.cc:74: tree pruning end, 1 roots, 10 extra nodes, 62 pruned nodes, max_depth=5\u001b[0m\n",
      "\u001b[34m[58]#011train-rmse:2.60244#011validation-rmse:5.82726\u001b[0m\n",
      "\u001b[34m[17:33:41] src/tree/updater_prune.cc:74: tree pruning end, 1 roots, 18 extra nodes, 38 pruned nodes, max_depth=7\u001b[0m\n",
      "\u001b[34m[59]#011train-rmse:2.53812#011validation-rmse:5.81495\u001b[0m\n",
      "\u001b[34m[17:33:41] src/tree/updater_prune.cc:74: tree pruning end, 1 roots, 10 extra nodes, 44 pruned nodes, max_depth=4\u001b[0m\n",
      "\u001b[34m[60]#011train-rmse:2.50778#011validation-rmse:5.79297\u001b[0m\n",
      "\u001b[34m[17:33:41] src/tree/updater_prune.cc:74: tree pruning end, 1 roots, 22 extra nodes, 56 pruned nodes, max_depth=5\u001b[0m\n",
      "\u001b[34m[61]#011train-rmse:2.46443#011validation-rmse:5.7578\u001b[0m\n",
      "\u001b[34m[17:33:41] src/tree/updater_prune.cc:74: tree pruning end, 1 roots, 20 extra nodes, 56 pruned nodes, max_depth=5\u001b[0m\n",
      "\u001b[34m[62]#011train-rmse:2.42993#011validation-rmse:5.74288\u001b[0m\n",
      "\u001b[34m[17:33:41] src/tree/updater_prune.cc:74: tree pruning end, 1 roots, 22 extra nodes, 28 pruned nodes, max_depth=9\u001b[0m\n",
      "\u001b[34m[63]#011train-rmse:2.37716#011validation-rmse:5.71661\u001b[0m\n",
      "\u001b[34m[17:33:41] src/tree/updater_prune.cc:74: tree pruning end, 1 roots, 22 extra nodes, 34 pruned nodes, max_depth=8\u001b[0m\n",
      "\u001b[34m[64]#011train-rmse:2.34796#011validation-rmse:5.70632\u001b[0m\n",
      "\u001b[34m[17:33:41] src/tree/updater_prune.cc:74: tree pruning end, 1 roots, 20 extra nodes, 34 pruned nodes, max_depth=8\u001b[0m\n",
      "\u001b[34m[65]#011train-rmse:2.3048#011validation-rmse:5.65079\u001b[0m\n",
      "\u001b[34m[17:33:41] src/tree/updater_prune.cc:74: tree pruning end, 1 roots, 24 extra nodes, 32 pruned nodes, max_depth=9\u001b[0m\n",
      "\u001b[34m[66]#011train-rmse:2.27903#011validation-rmse:5.63335\u001b[0m\n",
      "\u001b[34m[17:33:41] src/tree/updater_prune.cc:74: tree pruning end, 1 roots, 20 extra nodes, 52 pruned nodes, max_depth=6\u001b[0m\n",
      "\u001b[34m[67]#011train-rmse:2.23029#011validation-rmse:5.60201\u001b[0m\n",
      "\u001b[34m[17:33:41] src/tree/updater_prune.cc:74: tree pruning end, 1 roots, 18 extra nodes, 42 pruned nodes, max_depth=8\u001b[0m\n",
      "\u001b[34m[68]#011train-rmse:2.19792#011validation-rmse:5.56991\u001b[0m\n",
      "\u001b[34m[17:33:41] src/tree/updater_prune.cc:74: tree pruning end, 1 roots, 18 extra nodes, 22 pruned nodes, max_depth=6\u001b[0m\n",
      "\u001b[34m[69]#011train-rmse:2.15201#011validation-rmse:5.5098\u001b[0m\n",
      "\u001b[34m[17:33:41] src/tree/updater_prune.cc:74: tree pruning end, 1 roots, 22 extra nodes, 34 pruned nodes, max_depth=8\u001b[0m\n",
      "\u001b[34m[70]#011train-rmse:2.11292#011validation-rmse:5.4715\u001b[0m\n",
      "\u001b[34m[17:33:41] src/tree/updater_prune.cc:74: tree pruning end, 1 roots, 20 extra nodes, 56 pruned nodes, max_depth=6\u001b[0m\n",
      "\u001b[34m[71]#011train-rmse:2.07728#011validation-rmse:5.44476\u001b[0m\n",
      "\u001b[34m[17:33:41] src/tree/updater_prune.cc:74: tree pruning end, 1 roots, 16 extra nodes, 24 pruned nodes, max_depth=8\u001b[0m\n",
      "\u001b[34m[72]#011train-rmse:2.03986#011validation-rmse:5.39288\u001b[0m\n",
      "\u001b[34m[17:33:41] src/tree/updater_prune.cc:74: tree pruning end, 1 roots, 16 extra nodes, 52 pruned nodes, max_depth=6\u001b[0m\n",
      "\u001b[34m[73]#011train-rmse:2.02023#011validation-rmse:5.38467\u001b[0m\n",
      "\u001b[34m[17:33:41] src/tree/updater_prune.cc:74: tree pruning end, 1 roots, 12 extra nodes, 60 pruned nodes, max_depth=4\u001b[0m\n",
      "\u001b[34m[74]#011train-rmse:1.99282#011validation-rmse:5.37981\u001b[0m\n",
      "\u001b[34m[17:33:41] src/tree/updater_prune.cc:74: tree pruning end, 1 roots, 16 extra nodes, 48 pruned nodes, max_depth=6\u001b[0m\n",
      "\u001b[34m[75]#011train-rmse:1.96442#011validation-rmse:5.36037\u001b[0m\n",
      "\u001b[34m[17:33:41] src/tree/updater_prune.cc:74: tree pruning end, 1 roots, 18 extra nodes, 34 pruned nodes, max_depth=8\u001b[0m\n",
      "\u001b[34m[76]#011train-rmse:1.93999#011validation-rmse:5.32742\u001b[0m\n",
      "\u001b[34m[17:33:41] src/tree/updater_prune.cc:74: tree pruning end, 1 roots, 14 extra nodes, 30 pruned nodes, max_depth=5\u001b[0m\n",
      "\u001b[34m[77]#011train-rmse:1.9222#011validation-rmse:5.31641\u001b[0m\n",
      "\u001b[34m[17:33:41] src/tree/updater_prune.cc:74: tree pruning end, 1 roots, 12 extra nodes, 50 pruned nodes, max_depth=6\u001b[0m\n",
      "\u001b[34m[78]#011train-rmse:1.91245#011validation-rmse:5.30579\u001b[0m\n",
      "\u001b[34m[17:33:41] src/tree/updater_prune.cc:74: tree pruning end, 1 roots, 14 extra nodes, 38 pruned nodes, max_depth=5\u001b[0m\n",
      "\u001b[34m[79]#011train-rmse:1.89546#011validation-rmse:5.28568\u001b[0m\n",
      "\u001b[34m[17:33:41] src/tree/updater_prune.cc:74: tree pruning end, 1 roots, 14 extra nodes, 66 pruned nodes, max_depth=5\u001b[0m\n",
      "\u001b[34m[80]#011train-rmse:1.88152#011validation-rmse:5.28104\u001b[0m\n",
      "\u001b[34m[17:33:41] src/tree/updater_prune.cc:74: tree pruning end, 1 roots, 10 extra nodes, 46 pruned nodes, max_depth=5\u001b[0m\n",
      "\u001b[34m[81]#011train-rmse:1.85936#011validation-rmse:5.2764\u001b[0m\n",
      "\u001b[34m[17:33:41] src/tree/updater_prune.cc:74: tree pruning end, 1 roots, 10 extra nodes, 52 pruned nodes, max_depth=4\u001b[0m\n",
      "\u001b[34m[82]#011train-rmse:1.84196#011validation-rmse:5.24581\u001b[0m\n",
      "\u001b[34m[17:33:41] src/tree/updater_prune.cc:74: tree pruning end, 1 roots, 12 extra nodes, 36 pruned nodes, max_depth=6\u001b[0m\n",
      "\u001b[34m[83]#011train-rmse:1.82209#011validation-rmse:5.24186\u001b[0m\n",
      "\u001b[34m[17:33:41] src/tree/updater_prune.cc:74: tree pruning end, 1 roots, 12 extra nodes, 52 pruned nodes, max_depth=4\u001b[0m\n",
      "\u001b[34m[84]#011train-rmse:1.81223#011validation-rmse:5.23416\u001b[0m\n",
      "\u001b[34m[17:33:41] src/tree/updater_prune.cc:74: tree pruning end, 1 roots, 14 extra nodes, 56 pruned nodes, max_depth=5\u001b[0m\n",
      "\u001b[34m[85]#011train-rmse:1.80471#011validation-rmse:5.22175\u001b[0m\n",
      "\u001b[34m[17:33:41] src/tree/updater_prune.cc:74: tree pruning end, 1 roots, 2 extra nodes, 58 pruned nodes, max_depth=1\u001b[0m\n",
      "\u001b[34m[86]#011train-rmse:1.79966#011validation-rmse:5.21709\u001b[0m\n",
      "\u001b[34m[17:33:41] src/tree/updater_prune.cc:74: tree pruning end, 1 roots, 16 extra nodes, 34 pruned nodes, max_depth=7\u001b[0m\n",
      "\u001b[34m[87]#011train-rmse:1.77878#011validation-rmse:5.18315\u001b[0m\n",
      "\u001b[34m[17:33:41] src/tree/updater_prune.cc:74: tree pruning end, 1 roots, 8 extra nodes, 30 pruned nodes, max_depth=4\u001b[0m\n",
      "\u001b[34m[88]#011train-rmse:1.76308#011validation-rmse:5.18568\u001b[0m\n",
      "\u001b[34m[17:33:41] src/tree/updater_prune.cc:74: tree pruning end, 1 roots, 16 extra nodes, 48 pruned nodes, max_depth=6\u001b[0m\n",
      "\u001b[34m[89]#011train-rmse:1.74761#011validation-rmse:5.17636\u001b[0m\n",
      "\u001b[34m[17:33:41] src/tree/updater_prune.cc:74: tree pruning end, 1 roots, 10 extra nodes, 64 pruned nodes, max_depth=5\u001b[0m\n",
      "\u001b[34m[90]#011train-rmse:1.73844#011validation-rmse:5.16926\u001b[0m\n",
      "\u001b[34m[17:33:41] src/tree/updater_prune.cc:74: tree pruning end, 1 roots, 22 extra nodes, 30 pruned nodes, max_depth=9\u001b[0m\n",
      "\u001b[34m[91]#011train-rmse:1.7154#011validation-rmse:5.13314\u001b[0m\n",
      "\u001b[34m[17:33:41] src/tree/updater_prune.cc:74: tree pruning end, 1 roots, 10 extra nodes, 54 pruned nodes, max_depth=3\u001b[0m\n",
      "\u001b[34m[92]#011train-rmse:1.70774#011validation-rmse:5.13008\u001b[0m\n",
      "\u001b[34m[17:33:41] src/tree/updater_prune.cc:74: tree pruning end, 1 roots, 6 extra nodes, 42 pruned nodes, max_depth=3\u001b[0m\n",
      "\u001b[34m[93]#011train-rmse:1.70683#011validation-rmse:5.1257\u001b[0m\n",
      "\u001b[34m[17:33:41] src/tree/updater_prune.cc:74: tree pruning end, 1 roots, 16 extra nodes, 38 pruned nodes, max_depth=5\u001b[0m\n",
      "\u001b[34m[94]#011train-rmse:1.68659#011validation-rmse:5.08881\u001b[0m\n",
      "\u001b[34m[17:33:41] src/tree/updater_prune.cc:74: tree pruning end, 1 roots, 10 extra nodes, 32 pruned nodes, max_depth=5\u001b[0m\n",
      "\u001b[34m[95]#011train-rmse:1.67134#011validation-rmse:5.06576\u001b[0m\n",
      "\u001b[34m[17:33:41] src/tree/updater_prune.cc:74: tree pruning end, 1 roots, 12 extra nodes, 28 pruned nodes, max_depth=6\u001b[0m\n",
      "\u001b[34m[96]#011train-rmse:1.66384#011validation-rmse:5.05772\u001b[0m\n",
      "\u001b[34m[17:33:41] src/tree/updater_prune.cc:74: tree pruning end, 1 roots, 16 extra nodes, 48 pruned nodes, max_depth=5\u001b[0m\n",
      "\u001b[34m[97]#011train-rmse:1.6608#011validation-rmse:5.06463\u001b[0m\n",
      "\u001b[34m[17:33:41] src/tree/updater_prune.cc:74: tree pruning end, 1 roots, 20 extra nodes, 34 pruned nodes, max_depth=9\u001b[0m\n",
      "\u001b[34m[98]#011train-rmse:1.64232#011validation-rmse:5.06836\u001b[0m\n",
      "\u001b[34m[17:33:41] src/tree/updater_prune.cc:74: tree pruning end, 1 roots, 8 extra nodes, 54 pruned nodes, max_depth=3\u001b[0m\n",
      "\u001b[34m[99]#011train-rmse:1.63408#011validation-rmse:5.06848\u001b[0m\n",
      "\u001b[34m[17:33:41] src/tree/updater_prune.cc:74: tree pruning end, 1 roots, 14 extra nodes, 58 pruned nodes, max_depth=6\u001b[0m\n",
      "\u001b[34m[100]#011train-rmse:1.62716#011validation-rmse:5.07113\u001b[0m\n",
      "\u001b[34m[17:33:41] src/tree/updater_prune.cc:74: tree pruning end, 1 roots, 14 extra nodes, 42 pruned nodes, max_depth=7\u001b[0m\n",
      "\u001b[34m[101]#011train-rmse:1.61239#011validation-rmse:5.0427\u001b[0m\n",
      "\u001b[34m[17:33:41] src/tree/updater_prune.cc:74: tree pruning end, 1 roots, 12 extra nodes, 32 pruned nodes, max_depth=6\u001b[0m\n",
      "\u001b[34m[102]#011train-rmse:1.60834#011validation-rmse:5.04158\u001b[0m\n",
      "\u001b[34m[17:33:41] src/tree/updater_prune.cc:74: tree pruning end, 1 roots, 4 extra nodes, 66 pruned nodes, max_depth=2\u001b[0m\n",
      "\u001b[34m[103]#011train-rmse:1.60758#011validation-rmse:5.04811\u001b[0m\n",
      "\u001b[34m[17:33:41] src/tree/updater_prune.cc:74: tree pruning end, 1 roots, 12 extra nodes, 38 pruned nodes, max_depth=5\u001b[0m\n",
      "\u001b[34m[104]#011train-rmse:1.59295#011validation-rmse:5.01934\u001b[0m\n",
      "\u001b[34m[17:33:41] src/tree/updater_prune.cc:74: tree pruning end, 1 roots, 12 extra nodes, 56 pruned nodes, max_depth=5\u001b[0m\n",
      "\u001b[34m[105]#011train-rmse:1.58416#011validation-rmse:5.00828\u001b[0m\n",
      "\u001b[34m[17:33:41] src/tree/updater_prune.cc:74: tree pruning end, 1 roots, 2 extra nodes, 62 pruned nodes, max_depth=1\u001b[0m\n",
      "\u001b[34m[106]#011train-rmse:1.57915#011validation-rmse:4.98745\u001b[0m\n",
      "\u001b[34m[17:33:41] src/tree/updater_prune.cc:74: tree pruning end, 1 roots, 4 extra nodes, 60 pruned nodes, max_depth=2\u001b[0m\n",
      "\u001b[34m[107]#011train-rmse:1.57581#011validation-rmse:4.98711\u001b[0m\n",
      "\u001b[34m[17:33:41] src/tree/updater_prune.cc:74: tree pruning end, 1 roots, 18 extra nodes, 46 pruned nodes, max_depth=7\u001b[0m\n",
      "\u001b[34m[108]#011train-rmse:1.56598#011validation-rmse:4.98303\u001b[0m\n",
      "\u001b[34m[17:33:41] src/tree/updater_prune.cc:74: tree pruning end, 1 roots, 6 extra nodes, 64 pruned nodes, max_depth=3\u001b[0m\n",
      "\u001b[34m[109]#011train-rmse:1.5625#011validation-rmse:4.98556\u001b[0m\n",
      "\u001b[34m[17:33:41] src/tree/updater_prune.cc:74: tree pruning end, 1 roots, 10 extra nodes, 52 pruned nodes, max_depth=4\u001b[0m\n",
      "\u001b[34m[110]#011train-rmse:1.55029#011validation-rmse:4.95178\u001b[0m\n",
      "\u001b[34m[17:33:41] src/tree/updater_prune.cc:74: tree pruning end, 1 roots, 18 extra nodes, 20 pruned nodes, max_depth=9\u001b[0m\n",
      "\u001b[34m[111]#011train-rmse:1.54318#011validation-rmse:4.95571\u001b[0m\n",
      "\u001b[34m[17:33:41] src/tree/updater_prune.cc:74: tree pruning end, 1 roots, 12 extra nodes, 48 pruned nodes, max_depth=5\u001b[0m\n",
      "\u001b[34m[112]#011train-rmse:1.52721#011validation-rmse:4.95029\u001b[0m\n",
      "\u001b[34m[17:33:41] src/tree/updater_prune.cc:74: tree pruning end, 1 roots, 6 extra nodes, 42 pruned nodes, max_depth=2\u001b[0m\n",
      "\u001b[34m[113]#011train-rmse:1.51519#011validation-rmse:4.9466\u001b[0m\n",
      "\u001b[34m[17:33:41] src/tree/updater_prune.cc:74: tree pruning end, 1 roots, 14 extra nodes, 50 pruned nodes, max_depth=5\u001b[0m\n",
      "\u001b[34m[114]#011train-rmse:1.50836#011validation-rmse:4.94984\u001b[0m\n",
      "\u001b[34m[17:33:41] src/tree/updater_prune.cc:74: tree pruning end, 1 roots, 12 extra nodes, 56 pruned nodes, max_depth=6\u001b[0m\n",
      "\u001b[34m[115]#011train-rmse:1.50459#011validation-rmse:4.94487\u001b[0m\n",
      "\u001b[34m[17:33:41] src/tree/updater_prune.cc:74: tree pruning end, 1 roots, 4 extra nodes, 76 pruned nodes, max_depth=2\u001b[0m\n",
      "\u001b[34m[116]#011train-rmse:1.50225#011validation-rmse:4.94186\u001b[0m\n",
      "\u001b[34m[17:33:41] src/tree/updater_prune.cc:74: tree pruning end, 1 roots, 10 extra nodes, 56 pruned nodes, max_depth=5\u001b[0m\n",
      "\u001b[34m[117]#011train-rmse:1.4949#011validation-rmse:4.91812\u001b[0m\n",
      "\u001b[34m[17:33:41] src/tree/updater_prune.cc:74: tree pruning end, 1 roots, 16 extra nodes, 34 pruned nodes, max_depth=6\u001b[0m\n",
      "\u001b[34m[118]#011train-rmse:1.47818#011validation-rmse:4.92969\u001b[0m\n",
      "\u001b[34m[17:33:41] src/tree/updater_prune.cc:74: tree pruning end, 1 roots, 12 extra nodes, 56 pruned nodes, max_depth=5\u001b[0m\n",
      "\u001b[34m[119]#011train-rmse:1.47344#011validation-rmse:4.92992\u001b[0m\n",
      "\u001b[34m[17:33:41] src/tree/updater_prune.cc:74: tree pruning end, 1 roots, 6 extra nodes, 52 pruned nodes, max_depth=3\u001b[0m\n",
      "\u001b[34m[120]#011train-rmse:1.47062#011validation-rmse:4.9295\u001b[0m\n",
      "\u001b[34m[17:33:41] src/tree/updater_prune.cc:74: tree pruning end, 1 roots, 10 extra nodes, 34 pruned nodes, max_depth=4\u001b[0m\n",
      "\u001b[34m[121]#011train-rmse:1.46635#011validation-rmse:4.9403\u001b[0m\n",
      "\u001b[34m[17:33:41] src/tree/updater_prune.cc:74: tree pruning end, 1 roots, 4 extra nodes, 66 pruned nodes, max_depth=2\u001b[0m\n",
      "\u001b[34m[122]#011train-rmse:1.46122#011validation-rmse:4.93695\u001b[0m\n",
      "\u001b[34m[17:33:41] src/tree/updater_prune.cc:74: tree pruning end, 1 roots, 10 extra nodes, 52 pruned nodes, max_depth=4\u001b[0m\n",
      "\u001b[34m[123]#011train-rmse:1.45434#011validation-rmse:4.9448\u001b[0m\n",
      "\u001b[34m[17:33:41] src/tree/updater_prune.cc:74: tree pruning end, 1 roots, 2 extra nodes, 60 pruned nodes, max_depth=1\u001b[0m\n",
      "\u001b[34m[124]#011train-rmse:1.45305#011validation-rmse:4.94289\u001b[0m\n",
      "\u001b[34m[17:33:41] src/tree/updater_prune.cc:74: tree pruning end, 1 roots, 10 extra nodes, 64 pruned nodes, max_depth=5\u001b[0m\n",
      "\u001b[34m[125]#011train-rmse:1.44619#011validation-rmse:4.91874\u001b[0m\n",
      "\u001b[34m[17:33:41] src/tree/updater_prune.cc:74: tree pruning end, 1 roots, 16 extra nodes, 36 pruned nodes, max_depth=7\u001b[0m\n",
      "\u001b[34m[126]#011train-rmse:1.43369#011validation-rmse:4.91496\u001b[0m\n",
      "\u001b[34m[17:33:41] src/tree/updater_prune.cc:74: tree pruning end, 1 roots, 8 extra nodes, 52 pruned nodes, max_depth=4\u001b[0m\n",
      "\u001b[34m[127]#011train-rmse:1.4322#011validation-rmse:4.92835\u001b[0m\n",
      "\u001b[34m[17:33:41] src/tree/updater_prune.cc:74: tree pruning end, 1 roots, 0 extra nodes, 66 pruned nodes, max_depth=0\u001b[0m\n",
      "\u001b[34m[128]#011train-rmse:1.43201#011validation-rmse:4.92687\u001b[0m\n",
      "\u001b[34m[17:33:41] src/tree/updater_prune.cc:74: tree pruning end, 1 roots, 12 extra nodes, 46 pruned nodes, max_depth=4\u001b[0m\n",
      "\u001b[34m[129]#011train-rmse:1.4187#011validation-rmse:4.92711\u001b[0m\n",
      "\u001b[34m[17:33:41] src/tree/updater_prune.cc:74: tree pruning end, 1 roots, 2 extra nodes, 74 pruned nodes, max_depth=1\u001b[0m\n",
      "\u001b[34m[130]#011train-rmse:1.41573#011validation-rmse:4.90667\u001b[0m\n",
      "\u001b[34m[17:33:41] src/tree/updater_prune.cc:74: tree pruning end, 1 roots, 6 extra nodes, 34 pruned nodes, max_depth=3\u001b[0m\n",
      "\u001b[34m[131]#011train-rmse:1.41#011validation-rmse:4.91185\u001b[0m\n",
      "\u001b[34m[17:33:41] src/tree/updater_prune.cc:74: tree pruning end, 1 roots, 4 extra nodes, 58 pruned nodes, max_depth=2\u001b[0m\n",
      "\u001b[34m[132]#011train-rmse:1.40625#011validation-rmse:4.92009\u001b[0m\n",
      "\u001b[34m[17:33:41] src/tree/updater_prune.cc:74: tree pruning end, 1 roots, 4 extra nodes, 60 pruned nodes, max_depth=2\u001b[0m\n",
      "\u001b[34m[133]#011train-rmse:1.40542#011validation-rmse:4.92426\u001b[0m\n",
      "\u001b[34m[17:33:41] src/tree/updater_prune.cc:74: tree pruning end, 1 roots, 8 extra nodes, 62 pruned nodes, max_depth=4\u001b[0m\n",
      "\u001b[34m[134]#011train-rmse:1.40107#011validation-rmse:4.91666\u001b[0m\n",
      "\u001b[34m[17:33:41] src/tree/updater_prune.cc:74: tree pruning end, 1 roots, 0 extra nodes, 44 pruned nodes, max_depth=0\u001b[0m\n",
      "\u001b[34m[135]#011train-rmse:1.40116#011validation-rmse:4.91817\u001b[0m\n",
      "\u001b[34m[17:33:41] src/tree/updater_prune.cc:74: tree pruning end, 1 roots, 2 extra nodes, 74 pruned nodes, max_depth=1\u001b[0m\n",
      "\u001b[34m[136]#011train-rmse:1.39862#011validation-rmse:4.89931\u001b[0m\n",
      "\u001b[34m[17:33:41] src/tree/updater_prune.cc:74: tree pruning end, 1 roots, 0 extra nodes, 76 pruned nodes, max_depth=0\u001b[0m\n",
      "\u001b[34m[137]#011train-rmse:1.39856#011validation-rmse:4.89822\u001b[0m\n",
      "\u001b[34m[17:33:41] src/tree/updater_prune.cc:74: tree pruning end, 1 roots, 6 extra nodes, 60 pruned nodes, max_depth=2\u001b[0m\n",
      "\u001b[34m[138]#011train-rmse:1.39045#011validation-rmse:4.88454\u001b[0m\n",
      "\u001b[34m[17:33:41] src/tree/updater_prune.cc:74: tree pruning end, 1 roots, 6 extra nodes, 38 pruned nodes, max_depth=3\u001b[0m\n",
      "\u001b[34m[139]#011train-rmse:1.38293#011validation-rmse:4.86934\u001b[0m\n",
      "\u001b[34m[17:33:41] src/tree/updater_prune.cc:74: tree pruning end, 1 roots, 0 extra nodes, 62 pruned nodes, max_depth=0\u001b[0m\n",
      "\u001b[34m[140]#011train-rmse:1.38291#011validation-rmse:4.86883\u001b[0m\n",
      "\u001b[34m[17:33:41] src/tree/updater_prune.cc:74: tree pruning end, 1 roots, 12 extra nodes, 64 pruned nodes, max_depth=6\u001b[0m\n",
      "\u001b[34m[141]#011train-rmse:1.37942#011validation-rmse:4.87204\u001b[0m\n",
      "\u001b[34m[17:33:41] src/tree/updater_prune.cc:74: tree pruning end, 1 roots, 4 extra nodes, 68 pruned nodes, max_depth=2\u001b[0m\n",
      "\u001b[34m[142]#011train-rmse:1.37252#011validation-rmse:4.87113\u001b[0m\n",
      "\u001b[34m[17:33:41] src/tree/updater_prune.cc:74: tree pruning end, 1 roots, 10 extra nodes, 60 pruned nodes, max_depth=5\u001b[0m\n",
      "\u001b[34m[143]#011train-rmse:1.37061#011validation-rmse:4.86028\u001b[0m\n",
      "\u001b[34m[17:33:41] src/tree/updater_prune.cc:74: tree pruning end, 1 roots, 8 extra nodes, 48 pruned nodes, max_depth=4\u001b[0m\n",
      "\u001b[34m[144]#011train-rmse:1.36875#011validation-rmse:4.86008\u001b[0m\n",
      "\u001b[34m[17:33:41] src/tree/updater_prune.cc:74: tree pruning end, 1 roots, 4 extra nodes, 44 pruned nodes, max_depth=2\u001b[0m\n",
      "\u001b[34m[145]#011train-rmse:1.36374#011validation-rmse:4.85716\u001b[0m\n",
      "\u001b[34m[17:33:41] src/tree/updater_prune.cc:74: tree pruning end, 1 roots, 0 extra nodes, 60 pruned nodes, max_depth=0\u001b[0m\n",
      "\u001b[34m[146]#011train-rmse:1.36375#011validation-rmse:4.85757\u001b[0m\n",
      "\u001b[34m[17:33:41] src/tree/updater_prune.cc:74: tree pruning end, 1 roots, 4 extra nodes, 66 pruned nodes, max_depth=2\u001b[0m\n",
      "\u001b[34m[147]#011train-rmse:1.36155#011validation-rmse:4.85383\u001b[0m\n",
      "\u001b[34m[17:33:41] src/tree/updater_prune.cc:74: tree pruning end, 1 roots, 10 extra nodes, 64 pruned nodes, max_depth=5\u001b[0m\n",
      "\u001b[34m[148]#011train-rmse:1.35526#011validation-rmse:4.83546\u001b[0m\n",
      "\u001b[34m[17:33:41] src/tree/updater_prune.cc:74: tree pruning end, 1 roots, 16 extra nodes, 20 pruned nodes, max_depth=7\u001b[0m\n",
      "\u001b[34m[149]#011train-rmse:1.34858#011validation-rmse:4.84846\u001b[0m\n",
      "\u001b[34m[17:33:41] src/tree/updater_prune.cc:74: tree pruning end, 1 roots, 2 extra nodes, 56 pruned nodes, max_depth=1\u001b[0m\n",
      "\u001b[34m[150]#011train-rmse:1.34709#011validation-rmse:4.83337\u001b[0m\n",
      "\u001b[34m[17:33:41] src/tree/updater_prune.cc:74: tree pruning end, 1 roots, 4 extra nodes, 38 pruned nodes, max_depth=2\u001b[0m\n",
      "\u001b[34m[151]#011train-rmse:1.34546#011validation-rmse:4.83654\u001b[0m\n",
      "\u001b[34m[17:33:41] src/tree/updater_prune.cc:74: tree pruning end, 1 roots, 2 extra nodes, 44 pruned nodes, max_depth=1\u001b[0m\n",
      "\u001b[34m[152]#011train-rmse:1.3451#011validation-rmse:4.83729\u001b[0m\n",
      "\u001b[34m[17:33:41] src/tree/updater_prune.cc:74: tree pruning end, 1 roots, 0 extra nodes, 52 pruned nodes, max_depth=0\u001b[0m\n",
      "\u001b[34m[153]#011train-rmse:1.3451#011validation-rmse:4.83713\u001b[0m\n",
      "\u001b[34m[17:33:41] src/tree/updater_prune.cc:74: tree pruning end, 1 roots, 0 extra nodes, 88 pruned nodes, max_depth=0\u001b[0m\n",
      "\u001b[34m[154]#011train-rmse:1.3451#011validation-rmse:4.83775\u001b[0m\n",
      "\u001b[34m[17:33:41] src/tree/updater_prune.cc:74: tree pruning end, 1 roots, 4 extra nodes, 34 pruned nodes, max_depth=2\u001b[0m\n",
      "\u001b[34m[155]#011train-rmse:1.34178#011validation-rmse:4.83325\u001b[0m\n",
      "\u001b[34m[17:33:41] src/tree/updater_prune.cc:74: tree pruning end, 1 roots, 2 extra nodes, 74 pruned nodes, max_depth=1\u001b[0m\n",
      "\u001b[34m[156]#011train-rmse:1.34091#011validation-rmse:4.82584\u001b[0m\n",
      "\u001b[34m[17:33:41] src/tree/updater_prune.cc:74: tree pruning end, 1 roots, 16 extra nodes, 36 pruned nodes, max_depth=8\u001b[0m\n",
      "\u001b[34m[157]#011train-rmse:1.33136#011validation-rmse:4.83588\u001b[0m\n",
      "\u001b[34m[17:33:41] src/tree/updater_prune.cc:74: tree pruning end, 1 roots, 2 extra nodes, 72 pruned nodes, max_depth=1\u001b[0m\n",
      "\u001b[34m[158]#011train-rmse:1.33076#011validation-rmse:4.84137\u001b[0m\n",
      "\u001b[34m[17:33:41] src/tree/updater_prune.cc:74: tree pruning end, 1 roots, 12 extra nodes, 22 pruned nodes, max_depth=5\u001b[0m\n",
      "\u001b[34m[159]#011train-rmse:1.32099#011validation-rmse:4.84911\u001b[0m\n",
      "\u001b[34m[17:33:41] src/tree/updater_prune.cc:74: tree pruning end, 1 roots, 12 extra nodes, 56 pruned nodes, max_depth=5\u001b[0m\n",
      "\u001b[34m[160]#011train-rmse:1.3145#011validation-rmse:4.8522\u001b[0m\n",
      "\u001b[34m[17:33:41] src/tree/updater_prune.cc:74: tree pruning end, 1 roots, 2 extra nodes, 50 pruned nodes, max_depth=1\u001b[0m\n",
      "\u001b[34m[161]#011train-rmse:1.3148#011validation-rmse:4.85566\u001b[0m\n",
      "\u001b[34m[17:33:41] src/tree/updater_prune.cc:74: tree pruning end, 1 roots, 10 extra nodes, 40 pruned nodes, max_depth=4\u001b[0m\n",
      "\u001b[34m[162]#011train-rmse:1.31192#011validation-rmse:4.86284\u001b[0m\n",
      "\u001b[34m[17:33:41] src/tree/updater_prune.cc:74: tree pruning end, 1 roots, 8 extra nodes, 74 pruned nodes, max_depth=3\u001b[0m\n",
      "\u001b[34m[163]#011train-rmse:1.30825#011validation-rmse:4.86868\u001b[0m\n",
      "\u001b[34m[17:33:41] src/tree/updater_prune.cc:74: tree pruning end, 1 roots, 0 extra nodes, 52 pruned nodes, max_depth=0\u001b[0m\n",
      "\u001b[34m[164]#011train-rmse:1.30821#011validation-rmse:4.86777\u001b[0m\n",
      "\u001b[34m[17:33:41] src/tree/updater_prune.cc:74: tree pruning end, 1 roots, 0 extra nodes, 70 pruned nodes, max_depth=0\u001b[0m\n",
      "\u001b[34m[165]#011train-rmse:1.30823#011validation-rmse:4.86823\u001b[0m\n",
      "\u001b[34m[17:33:41] src/tree/updater_prune.cc:74: tree pruning end, 1 roots, 2 extra nodes, 42 pruned nodes, max_depth=1\u001b[0m\n",
      "\u001b[34m[166]#011train-rmse:1.30886#011validation-rmse:4.87042\u001b[0m\n",
      "\u001b[34mStopping. Best iteration:\u001b[0m\n",
      "\u001b[34m[156]#011train-rmse:1.34091#011validation-rmse:4.82584\n",
      "\u001b[0m\n",
      "Training seconds: 68\n",
      "Billable seconds: 68\n"
     ]
    }
   ],
   "source": [
    "xgb_attached = sagemaker.estimator.Estimator.attach(xgb_hyperparameter_tuner.best_training_job())"
   ]
  },
  {
   "cell_type": "markdown",
   "metadata": {},
   "source": [
    "## Step 5: Test the model\n",
    "\n",
    "Now that we have our best performing model, we can test it. To do this we will use the batch transform functionality. To start with, we need to build a transformer object from our fit model."
   ]
  },
  {
   "cell_type": "code",
   "execution_count": 16,
   "metadata": {},
   "outputs": [
    {
     "name": "stderr",
     "output_type": "stream",
     "text": [
      "Parameter image will be renamed to image_uri in SageMaker Python SDK v2.\n"
     ]
    }
   ],
   "source": [
    "xgb_transformer = xgb_attached.transformer(instance_count = 1, instance_type = 'ml.m4.xlarge')"
   ]
  },
  {
   "cell_type": "markdown",
   "metadata": {},
   "source": [
    "Next we ask SageMaker to begin a batch transform job using our trained model and applying it to the test data we previous stored in S3. We need to make sure to provide SageMaker with the type of data that we are providing to our model, in our case `text/csv`, so that it knows how to serialize our data. In addition, we need to make sure to let SageMaker know how to split our data up into chunks if the entire data set happens to be too large to send to our model all at once.\n",
    "\n",
    "Note that when we ask SageMaker to do this it will execute the batch transform job in the background. Since we need to wait for the results of this job before we can continue, we use the `wait()` method. An added benefit of this is that we get some output from our batch transform job which lets us know if anything went wrong."
   ]
  },
  {
   "cell_type": "code",
   "execution_count": 17,
   "metadata": {},
   "outputs": [],
   "source": [
    "xgb_transformer.transform(test_location, content_type='text/csv', split_type='Line')"
   ]
  },
  {
   "cell_type": "code",
   "execution_count": 18,
   "metadata": {},
   "outputs": [
    {
     "name": "stdout",
     "output_type": "stream",
     "text": [
      "..............................\n",
      ".\u001b[32m2021-01-06T17:41:41.581:[sagemaker logs]: MaxConcurrentTransforms=4, MaxPayloadInMB=6, BatchStrategy=MULTI_RECORD\u001b[0m\n",
      "\u001b[34mArguments: serve\u001b[0m\n",
      "\u001b[34m[2021-01-06 17:41:41 +0000] [1] [INFO] Starting gunicorn 19.7.1\u001b[0m\n",
      "\u001b[34m[2021-01-06 17:41:41 +0000] [1] [INFO] Listening at: http://0.0.0.0:8080 (1)\u001b[0m\n",
      "\u001b[34m[2021-01-06 17:41:41 +0000] [1] [INFO] Using worker: gevent\u001b[0m\n",
      "\u001b[34m[2021-01-06 17:41:41 +0000] [36] [INFO] Booting worker with pid: 36\u001b[0m\n",
      "\u001b[34m[2021-01-06:17:41:41:INFO] Model loaded successfully for worker : 36\u001b[0m\n",
      "\u001b[34m[2021-01-06 17:41:41 +0000] [37] [INFO] Booting worker with pid: 37\u001b[0m\n",
      "\u001b[34m[2021-01-06:17:41:41:INFO] Sniff delimiter as ','\u001b[0m\n",
      "\u001b[34m[2021-01-06:17:41:41:INFO] Determined delimiter of CSV input is ','\u001b[0m\n",
      "\u001b[34m[2021-01-06 17:41:41 +0000] [38] [INFO] Booting worker with pid: 38\u001b[0m\n",
      "\u001b[34m[2021-01-06:17:41:41:INFO] Model loaded successfully for worker : 37\u001b[0m\n",
      "\u001b[34m[2021-01-06 17:41:41 +0000] [39] [INFO] Booting worker with pid: 39\u001b[0m\n",
      "\u001b[34m[2021-01-06:17:41:41:INFO] Model loaded successfully for worker : 38\u001b[0m\n",
      "\u001b[34m[2021-01-06:17:41:41:INFO] Model loaded successfully for worker : 39\u001b[0m\n",
      "\u001b[35mArguments: serve\u001b[0m\n",
      "\u001b[35m[2021-01-06 17:41:41 +0000] [1] [INFO] Starting gunicorn 19.7.1\u001b[0m\n",
      "\u001b[35m[2021-01-06 17:41:41 +0000] [1] [INFO] Listening at: http://0.0.0.0:8080 (1)\u001b[0m\n",
      "\u001b[35m[2021-01-06 17:41:41 +0000] [1] [INFO] Using worker: gevent\u001b[0m\n",
      "\u001b[35m[2021-01-06 17:41:41 +0000] [36] [INFO] Booting worker with pid: 36\u001b[0m\n",
      "\u001b[35m[2021-01-06:17:41:41:INFO] Model loaded successfully for worker : 36\u001b[0m\n",
      "\u001b[35m[2021-01-06 17:41:41 +0000] [37] [INFO] Booting worker with pid: 37\u001b[0m\n",
      "\u001b[35m[2021-01-06:17:41:41:INFO] Sniff delimiter as ','\u001b[0m\n",
      "\u001b[35m[2021-01-06:17:41:41:INFO] Determined delimiter of CSV input is ','\u001b[0m\n",
      "\u001b[35m[2021-01-06 17:41:41 +0000] [38] [INFO] Booting worker with pid: 38\u001b[0m\n",
      "\u001b[35m[2021-01-06:17:41:41:INFO] Model loaded successfully for worker : 37\u001b[0m\n",
      "\u001b[35m[2021-01-06 17:41:41 +0000] [39] [INFO] Booting worker with pid: 39\u001b[0m\n",
      "\u001b[35m[2021-01-06:17:41:41:INFO] Model loaded successfully for worker : 38\u001b[0m\n",
      "\u001b[35m[2021-01-06:17:41:41:INFO] Model loaded successfully for worker : 39\u001b[0m\n"
     ]
    }
   ],
   "source": [
    "xgb_transformer.wait()"
   ]
  },
  {
   "cell_type": "markdown",
   "metadata": {},
   "source": [
    "Now that the batch transform job has finished, the resulting output is stored on S3. Since we wish to analyze the output inside of our notebook we can use a bit of notebook magic to copy the output file from its S3 location and save it locally."
   ]
  },
  {
   "cell_type": "code",
   "execution_count": 19,
   "metadata": {},
   "outputs": [
    {
     "name": "stdout",
     "output_type": "stream",
     "text": [
      "Completed 2.3 KiB/2.3 KiB (34.6 KiB/s) with 1 file(s) remaining\r",
      "download: s3://sagemaker-us-east-2-606098096513/xgboost-210106-1711-018-5b0d2a80-2021-01-06-17-36-47-116/test.csv.out to ../data/boston/test.csv.out\r\n"
     ]
    }
   ],
   "source": [
    "!aws s3 cp --recursive $xgb_transformer.output_path $data_dir"
   ]
  },
  {
   "cell_type": "markdown",
   "metadata": {},
   "source": [
    "To see how well our model works we can create a simple scatter plot between the predicted and actual values. If the model was completely accurate the resulting scatter plot would look like the line $x=y$. As we can see, our model seems to have done okay but there is room for improvement."
   ]
  },
  {
   "cell_type": "code",
   "execution_count": 20,
   "metadata": {},
   "outputs": [],
   "source": [
    "Y_pred = pd.read_csv(os.path.join(data_dir, 'test.csv.out'), header=None)"
   ]
  },
  {
   "cell_type": "code",
   "execution_count": 21,
   "metadata": {},
   "outputs": [
    {
     "data": {
      "text/plain": [
       "Text(0.5, 1.0, 'Median Price vs Predicted Price')"
      ]
     },
     "execution_count": 21,
     "metadata": {},
     "output_type": "execute_result"
    },
    {
     "data": {
      "image/png": "[encoded data removed]",
      "text/plain": [
       "<Figure size 432x288 with 1 Axes>"
      ]
     },
     "metadata": {
      "needs_background": "light"
     },
     "output_type": "display_data"
    }
   ],
   "source": [
    "plt.scatter(Y_test, Y_pred)\n",
    "plt.xlabel(\"Median Price\")\n",
    "plt.ylabel(\"Predicted Price\")\n",
    "plt.title(\"Median Price vs Predicted Price\")"
   ]
  },
  {
   "cell_type": "markdown",
   "metadata": {},
   "source": [
    "## Optional: Clean up\n",
    "\n",
    "The default notebook instance on SageMaker doesn't have a lot of excess disk space available. As you continue to complete and execute notebooks you will eventually fill up this disk space, leading to errors which can be difficult to diagnose. Once you are completely finished using a notebook it is a good idea to remove the files that you created along the way. Of course, you can do this from the terminal or from the notebook hub if you would like. The cell below contains some commands to clean up the created files from within the notebook."
   ]
  },
  {
   "cell_type": "code",
   "execution_count": 22,
   "metadata": {},
   "outputs": [],
   "source": [
    "# First we will remove all of the files contained in the data_dir directory\n",
    "!rm $data_dir/*\n",
    "\n",
    "# And then we delete the directory itself\n",
    "!rmdir $data_dir"
   ]
  },
  {
   "cell_type": "code",
   "execution_count": null,
   "metadata": {},
   "outputs": [],
   "source": []
  }
 ],
 "metadata": {
  "kernelspec": {
   "display_name": "conda_pytorch_p36",
   "language": "python",
   "name": "conda_pytorch_p36"
  },
  "language_info": {
   "codemirror_mode": {
    "name": "ipython",
    "version": 3
   },
   "file_extension": ".py",
   "mimetype": "text/x-python",
   "name": "python",
   "nbconvert_exporter": "python",
   "pygments_lexer": "ipython3",
   "version": "3.6.10"
  }
 },
 "nbformat": 4,
 "nbformat_minor": 2
}
